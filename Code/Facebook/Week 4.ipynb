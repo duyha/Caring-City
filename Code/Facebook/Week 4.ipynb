{
 "metadata": {
  "name": "",
  "signature": "sha256:940d682123fba51df1b38fe1bd35bb9f30d8e61a74305248f8c470c978a112e7"
 },
 "nbformat": 3,
 "nbformat_minor": 0,
 "worksheets": [
  {
   "cells": [
    {
     "cell_type": "code",
     "collapsed": false,
     "input": [
      "# Create one example of getting transportation data from FB\n",
      "import requests\n",
      "import sqlite3\n",
      "import os\n",
      "from datetime import datetime\n",
      "import facebook\n",
      "import json\n",
      "from facebook_api import *\n",
      "import numpy as np\n",
      "from pattern.en import sentiment\n",
      "from textblob import TextBlob\n",
      "from uclassify import uclassify\n",
      "import time\n",
      "import numpy as np\n",
      "import matplotlib.pyplot as plt"
     ],
     "language": "python",
     "metadata": {},
     "outputs": [],
     "prompt_number": 1
    },
    {
     "cell_type": "code",
     "collapsed": false,
     "input": [
      "BOS_POPULATION = 645966\n",
      "NYC_POPULATION = 8406000\n",
      "SFO_POPULATION = 837442\n",
      "LA_POPULATION = 3884000\n",
      "OKL_POPULATION = 3.851*10**6\n",
      "DET_POPULATION = 688701  # Detroit\n",
      "DEN_POPULATION = 649495  # Denver\n",
      "POR_POPULATION = 609456  # Portland, Oregon\n",
      "SLK_POPULATION = 191180  # Salt Lake City\n",
      "SEA_POPULATION = 652405  # Seattle\n",
      "RMD_POPULATION = 214114  # Richmond\n",
      "KNV_POPULATION = 183270  # Knoxville\n",
      "\n",
      "Cities = [\"Boston\", \"New York\", \"San Francisco\", \"Detroit\", \"Oklahoma City\"]\n",
      "Locations = {\n",
      "\"Boston\":        {\"city\": \"Boston\", \"state\": \"MA\", \"country\": \"United States\"},\n",
      "\"New York\":      {\"city\": \"New York\", \"state\": \"NY\", \"country\": \"United States\"},\n",
      "\"San Francisco\": {\"city\": \"San Francisco\", \"state\": \"CA\", \"country\": \"United States\"},\n",
      "\"Detroit\":       {\"city\": \"Detroit\", \"state\": \"MI\", \"country\": \"United States\"},\n",
      "\"Oklahoma City\": {\"city\": \"Oklahoma City\", \"state\": \"OK\", \"country\": \"United States\"},\n",
      "}\n",
      "Categories = [\"transportation\", \"transit stop\", \"public transportation\"]\n",
      "\n",
      "# Different queries\n",
      "Transportation = [\"transportation\", \"public transportation\"]\n",
      "Driving = [\"Car\", \"Drive\", \"Driving\", \"Bus\", \"Uber\", \"Lyft\"]\n",
      "Walking = [\"Walking\"]\n",
      "Biking = [\"Biking\", \"hubway\", \"citybike\", \"Bike\"]\n",
      "Subway = [\"MBTA\", \"MTA\", \"SFMTA\", \"subway\", \"train\", \"metro\"]\n",
      "Ship = [\"ferry\", \"boat\", \"ship\"]\n",
      "Airplane = [\"airport\", \"plane\"]"
     ],
     "language": "python",
     "metadata": {},
     "outputs": [],
     "prompt_number": 2
    },
    {
     "cell_type": "code",
     "collapsed": false,
     "input": [
      "# Get access token first\n",
      "# I have created a FB account\n",
      "#     email: urop.caring.city@gmail.com\n",
      "#     password: urop.caring.city\n",
      "# Then go to https://developers.facebook.com/tools/explorer/ to get access token.\n",
      "ACCESS_TOKEN = 'CAACEdEose0cBAKjjjRbegDvh8xDVzFHO9WqYFGjLe40xuZBEZB0hauIEqX7yjwmQdmpyuxjAHQtP4CRqDI7DwYxjWZAi9ftlytNALcjpJsyHL12wXdn7xhVoCIrlIr7ceb8RvnfeFJrGAss34YR1N3FGnHg6LYcZCBqZCVPb67TnpGdZBp8XOp7iyqrZBqN2WA3PRnJMJHa0Ynj4sdV6Lrp'\n",
      "args = {\"access_token\": ACCESS_TOKEN}\n",
      "graph = facebook.GraphAPI(ACCESS_TOKEN)"
     ],
     "language": "python",
     "metadata": {},
     "outputs": [],
     "prompt_number": 31
    },
    {
     "cell_type": "code",
     "collapsed": false,
     "input": [
      "# A general search function\n",
      "# Execute a search given a query and an object type\n",
      "# query: string, object_type in {\"user\", \"page\", \"event\", \"group\", \"place\", \"plactopic\", \"ad_*\"}\n",
      "# Return a list of datum containing {object-name, id}\n",
      "def search_objects(query, object_type, limit=None):\n",
      "    # Search\n",
      "    print \"* query = %s, type = %s\" % (query, object_type)\n",
      "    url = \"https://graph.facebook.com/search?q=%s&type=%s\" % (query, object_type)\n",
      "    if limit:\n",
      "        url += \"&limit=%d\" % (int(limit))\n",
      "\n",
      "    print \"  url = %s\" % (url)\n",
      "    response = requests.request(\"GET\", url, params=args)\n",
      "\n",
      "    # Get all nodes of the search\n",
      "    data = response.json()[\"data\"]\n",
      "    print \"* The number of results is %d\" % len(data)\n",
      "    return data\n",
      "\n",
      "def textblob_sentiment(text):\n",
      "    blob = TextBlob(text)\n",
      "    return blob.sentiment.polarity\n",
      "\n",
      "def pattern_sentiment(text):\n",
      "    return sentiment(text)[0]\n",
      "\n",
      "# age\n",
      "def isMillennial(text, threshold=0.5):\n",
      "    results = clas.classify([text],\"Ageanalyzer\",\"uClassify\")\n",
      "    ages = results[0][2]\n",
      "    prob1 = float(ages[1][1])  # 18-25\n",
      "    prob2 = float(ages[2][1])  # 26-35\n",
      "    prob = prob1 + prob2\n",
      "    if (prob >= threshold):\n",
      "        return True\n",
      "    else:\n",
      "        return False\n",
      "    pass"
     ],
     "language": "python",
     "metadata": {},
     "outputs": [],
     "prompt_number": 22
    },
    {
     "cell_type": "code",
     "collapsed": false,
     "input": [
      "print textblob_sentiment(\"Oh man. That's bad.\")"
     ],
     "language": "python",
     "metadata": {},
     "outputs": [
      {
       "output_type": "stream",
       "stream": "stdout",
       "text": [
        "-0.7\n"
       ]
      }
     ],
     "prompt_number": 35
    },
    {
     "cell_type": "code",
     "collapsed": false,
     "input": [
      "# Check if a profile is in a specific category\n",
      "def is_in_category(profile, category, strict=False):\n",
      "    if (\"category\" in profile) \\\n",
      "    and (profile[\"category\"].lower() in category):\n",
      "        return True\n",
      "    if (strict) or not(\"category_list\" in profile):\n",
      "        return False\n",
      "    # Check category list -- higher level\n",
      "    for _category in profile[\"category_list\"]:\n",
      "        if _category[\"name\"].lower() in category:\n",
      "            return True\n",
      "    return False\n",
      "\n",
      "# Check if a profile is in a specific location\n",
      "def is_in_location(profile, location):\n",
      "    if not(\"location\" in profile):\n",
      "        return False\n",
      "    object_location = profile[\"location\"]\n",
      "    for field in location:\n",
      "        if not(field in object_location) \\\n",
      "        or (object_location[field] != location[field]):\n",
      "            return False\n",
      "    return True\n",
      "\n",
      "def check_fn(profile, location=None, category=None):\n",
      "    # Location\n",
      "    if (location) and not(is_in_location(profile, location)):\n",
      "        return False\n",
      "    return True\n",
      "    # Category\n",
      "    if (category) and not(is_in_category(profile, category)):\n",
      "        return False\n",
      "    return True\n",
      "\n",
      "def search_objects_in_city(queries, city_name, object_type):\n",
      "    data = []\n",
      "    all_node_ids = set([])\n",
      "    for q in queries:\n",
      "        query = \"%s %s\" % (city_name, q)\n",
      "        print \"* query = %s, type = %s\" % (query, object_type)\n",
      "        url = \"https://graph.facebook.com/search?q=%s&type=%s\" % (query, object_type)\n",
      "        response = requests.request(\"GET\", url, params=args)\n",
      "        datum = response.json()[\"data\"]\n",
      "        # Filter ID\n",
      "        for node in datum:\n",
      "            if not(node['id'] in all_node_ids):\n",
      "                data.append(node)\n",
      "                all_node_ids.add(node['id'])\n",
      "    return data"
     ],
     "language": "python",
     "metadata": {},
     "outputs": [],
     "prompt_number": 24
    },
    {
     "cell_type": "code",
     "collapsed": false,
     "input": [
      "# Get all feeds in pages\n",
      "def get_feeds(page_id):\n",
      "    feeds = graph.get_connections(page_id, \"feed\")\n",
      "    return feeds[\"data\"]\n",
      "\n",
      "# Get messages from a feed\n",
      "def get_messages_from_feed(feed):\n",
      "    field = \"comments\"\n",
      "    if field in feed:\n",
      "        comments = feed[\"comments\"][\"data\"]\n",
      "        messages = [comment[\"message\"] for comment in comments]\n",
      "    else:\n",
      "        messages = []\n",
      "    return messages\n",
      "\n",
      "# page_id -> feeds -> messages\n",
      "def get_messages(page_id):\n",
      "    feeds = get_feeds(page_id)\n",
      "    all_messages = []\n",
      "    for feed in feeds:\n",
      "        messages = get_messages_from_feed(feed)\n",
      "        all_messages.extend(messages)\n",
      "    return all_messages\n",
      "\n",
      "def get_sentiment(node_id, sentiment_fn=pattern_sentiment):\n",
      "    # Get all feeds\n",
      "    messages = get_messages(node_id)\n",
      "    # Get sentiments\n",
      "    sentiments = [(node_id, msg, sentiment_fn(msg)) for msg in messages]\n",
      "    return sentiments\n",
      "\n",
      "def get_sentiment_in_city(queries, city_name, \\\n",
      "                          sentiment_fn=pattern_sentiment, \\\n",
      "                          check_fn=check_fn):\n",
      "    # Get all IDs\n",
      "    print \"***\"\n",
      "    data = search_objects_in_city(queries, city_name, \"page\")\n",
      "    print \"- There are %d nodes\" % len(data)\n",
      "    sentiments = []\n",
      "    num_nodes = 0\n",
      "    for i, node in enumerate(data):\n",
      "        # get node id\n",
      "        if (i % 10 == 0):\n",
      "            print i,\n",
      "        node_id = str(node[\"id\"])\n",
      "        # Filter\n",
      "        if is_in_category(node, Categories):\n",
      "            continue\n",
      "        profile = graph.get_object(node_id)\n",
      "        if not('location' in profile) or is_in_location(profile['location'], location=Locations[city_name]):\n",
      "            continue\n",
      "\n",
      "        num_nodes += 1\n",
      "        # Get sentiments\n",
      "        sentiments.extend(get_sentiment(node_id, sentiment_fn))\n",
      "    print\n",
      "    print \"Filtered. Considered %d nodes\" % num_nodes\n",
      "\n",
      "    return sentiments\n",
      "\n",
      "def analyze(raw_sentiments, threshold=0.1):\n",
      "    neu, pos, neg = 0, 0, 0\n",
      "    sentiments = np.array([s[2] for s in raw_sentiments])\n",
      "    neutral = sum(np.abs(sentiments) <threshold)\n",
      "    possitive = sum(sentiments >= threshold)\n",
      "    negative = sum(sentiments <= -threshold)\n",
      "    total = len(sentiments) + 0.0000001\n",
      "    print\n",
      "    print \"total = \", total\n",
      "    print \"neutral = \", round(float(neutral)/total*100,1)\n",
      "    print \"positive = \", round(float(possitive)/total*100,1)\n",
      "    print \"negative = \", round(float(negative)/total*100,1)\n",
      "    return neutral, possitive, negative\n"
     ],
     "language": "python",
     "metadata": {},
     "outputs": [],
     "prompt_number": 25
    },
    {
     "cell_type": "code",
     "collapsed": false,
     "input": [
      "a = get_feeds(\"TheBikeStopArlington\")"
     ],
     "language": "python",
     "metadata": {},
     "outputs": [],
     "prompt_number": 27
    },
    {
     "cell_type": "code",
     "collapsed": false,
     "input": [
      "print len(a)\n",
      "s = a[0]\n",
      "print s.keys()\n",
      "print s['updated_time']\n",
      "#print s['shares']\n",
      "print s['created_time']"
     ],
     "language": "python",
     "metadata": {},
     "outputs": [
      {
       "output_type": "stream",
       "stream": "stdout",
       "text": [
        "25\n",
        "['picture', 'likes', 'from', 'comments', 'privacy', 'actions', 'updated_time', 'link', 'object_id', 'created_time', 'message', 'type', 'id', 'status_type', 'icon']\n",
        "2015-03-07T20:52:44+0000\n",
        "2015-03-06T16:13:31+0000\n"
       ]
      }
     ],
     "prompt_number": 11
    },
    {
     "cell_type": "code",
     "collapsed": false,
     "input": [],
     "language": "python",
     "metadata": {},
     "outputs": [],
     "prompt_number": 25
    },
    {
     "cell_type": "markdown",
     "metadata": {},
     "source": [
      "Boston\n",
      "***\n",
      "* query = Boston Car, type = page\n",
      "* query = Boston Drive, type = page\n",
      "* query = Boston Driving, type = page\n",
      "* query = Boston Bus, type = page\n",
      "* query = Boston Uber, type = page\n",
      "* query = Boston Lyft, type = page\n",
      "- There are 1086 nodes\n",
      "0 10 20 30 40 50 60 70 80 90 100 110 120 130 140 150 160 170 180 190 200 210 220 230 240 250 260 270 280 290 300 310 320 330 340 350 360 370 380 390 400 410 420 430 440 450 460 470 480 490 500 510 520 530 540 550 560 570 580 590 600 610 620 630 640 650 660 670 680 690 700 710 720 730 740 750 760 770 780 790 800 810 820 830 840 850 860 870 880 890 900 910 920 930 940 950 960 970 980 990 1000 1010 1020 1030 1040 1050 1060 1070 1080\n",
      "Filtered. Considered 845 nodes\n",
      "\n",
      "total =  5733.0000001\n",
      "neutral =  51.1\n",
      "positive =  43.3\n",
      "negative =  5.5\n",
      "\n",
      " New York\n",
      "***\n",
      "* query = New York Car, type = page\n",
      "* query = New York Drive, type = page\n",
      "* query = New York Driving, type = page\n",
      "* query = New York Bus, type = page\n",
      "* query = New York Uber, type = page\n",
      "* query = New York Lyft, type = page\n",
      "- There are 1346 nodes\n",
      "0 10 20 30 40 50 60 70 80 90 100 110 120 130 140 150 160 170 180 190 200 210 220 230 240 250 260 270 280 290 300 310 320 330 340 350 360 370 380 390 400 410 420 430 440 450 460 470 480 490 500 510 520 530 540 550 560 570 580 590 600 610 620 630 640 650 660 670 680 690 700 710 720 730 740 750 760 770 780 790 800 810 820 830 840 850 860 870 880 890 900 910 920 930 940 950 960 970 980 990 1000 1010 1020 1030 1040 1050 1060 1070 1080 1090 1100 1110 1120 1130 1140 1150 1160 1170 1180 1190 1200 1210 1220 1230 1240 1250 1260 1270 1280 1290 1300 1310 1320 1330 1340\n",
      "Filtered. Considered 1111 nodes\n",
      "\n",
      "total =  13185.0000001\n",
      "neutral =  57.8\n",
      "positive =  36.3\n",
      "negative =  5.9"
     ]
    },
    {
     "cell_type": "code",
     "collapsed": false,
     "input": [
      "driving_results = {}\n",
      "for city in Cities[4:]:\n",
      "    print city\n",
      "    sentiments = get_sentiment_in_city(Driving, city)\n",
      "    driving_results[city] = sentiments\n",
      "    analyze(sentiments)\n",
      "    print \"*\"*20"
     ],
     "language": "python",
     "metadata": {},
     "outputs": [
      {
       "output_type": "stream",
       "stream": "stdout",
       "text": [
        "Oklahoma City\n",
        "***\n",
        "* query = Oklahoma City Car, type = page\n",
        "* query = Oklahoma City Drive, type = page"
       ]
      },
      {
       "output_type": "stream",
       "stream": "stdout",
       "text": [
        "\n",
        "* query = Oklahoma City Driving, type = page"
       ]
      },
      {
       "output_type": "stream",
       "stream": "stdout",
       "text": [
        "\n",
        "* query = Oklahoma City Bus, type = page"
       ]
      },
      {
       "output_type": "stream",
       "stream": "stdout",
       "text": [
        "\n",
        "* query = Oklahoma City Uber, type = page"
       ]
      },
      {
       "output_type": "stream",
       "stream": "stdout",
       "text": [
        "\n",
        "* query = Oklahoma City Lyft, type = page"
       ]
      },
      {
       "output_type": "stream",
       "stream": "stdout",
       "text": [
        "\n",
        "- There are 544 nodes"
       ]
      },
      {
       "output_type": "stream",
       "stream": "stdout",
       "text": [
        "\n",
        "0 "
       ]
      },
      {
       "output_type": "stream",
       "stream": "stdout",
       "text": [
        "10 "
       ]
      },
      {
       "output_type": "stream",
       "stream": "stdout",
       "text": [
        "20 "
       ]
      },
      {
       "output_type": "stream",
       "stream": "stdout",
       "text": [
        "30 "
       ]
      },
      {
       "output_type": "stream",
       "stream": "stdout",
       "text": [
        "40 "
       ]
      },
      {
       "output_type": "stream",
       "stream": "stdout",
       "text": [
        "50 "
       ]
      },
      {
       "output_type": "stream",
       "stream": "stdout",
       "text": [
        "60 "
       ]
      },
      {
       "output_type": "stream",
       "stream": "stdout",
       "text": [
        "70 "
       ]
      },
      {
       "output_type": "stream",
       "stream": "stdout",
       "text": [
        "80 "
       ]
      },
      {
       "output_type": "stream",
       "stream": "stdout",
       "text": [
        "90 "
       ]
      },
      {
       "output_type": "stream",
       "stream": "stdout",
       "text": [
        "100 "
       ]
      },
      {
       "output_type": "stream",
       "stream": "stdout",
       "text": [
        "110 "
       ]
      },
      {
       "output_type": "stream",
       "stream": "stdout",
       "text": [
        "120 "
       ]
      },
      {
       "output_type": "stream",
       "stream": "stdout",
       "text": [
        "130 "
       ]
      },
      {
       "output_type": "stream",
       "stream": "stdout",
       "text": [
        "140 "
       ]
      },
      {
       "output_type": "stream",
       "stream": "stdout",
       "text": [
        "150 "
       ]
      },
      {
       "output_type": "stream",
       "stream": "stdout",
       "text": [
        "160 "
       ]
      },
      {
       "output_type": "stream",
       "stream": "stdout",
       "text": [
        "170 "
       ]
      },
      {
       "output_type": "stream",
       "stream": "stdout",
       "text": [
        "180 "
       ]
      },
      {
       "output_type": "stream",
       "stream": "stdout",
       "text": [
        "190 "
       ]
      },
      {
       "output_type": "stream",
       "stream": "stdout",
       "text": [
        "200 "
       ]
      },
      {
       "output_type": "stream",
       "stream": "stdout",
       "text": [
        "210 "
       ]
      },
      {
       "output_type": "stream",
       "stream": "stdout",
       "text": [
        "220 "
       ]
      },
      {
       "output_type": "stream",
       "stream": "stdout",
       "text": [
        "230 "
       ]
      },
      {
       "output_type": "stream",
       "stream": "stdout",
       "text": [
        "240 "
       ]
      },
      {
       "output_type": "stream",
       "stream": "stdout",
       "text": [
        "250 "
       ]
      },
      {
       "output_type": "stream",
       "stream": "stdout",
       "text": [
        "260 "
       ]
      },
      {
       "output_type": "stream",
       "stream": "stdout",
       "text": [
        "270 "
       ]
      },
      {
       "output_type": "stream",
       "stream": "stdout",
       "text": [
        "280 "
       ]
      },
      {
       "output_type": "stream",
       "stream": "stdout",
       "text": [
        "290 "
       ]
      },
      {
       "output_type": "stream",
       "stream": "stdout",
       "text": [
        "300 "
       ]
      },
      {
       "output_type": "stream",
       "stream": "stdout",
       "text": [
        "310 "
       ]
      },
      {
       "output_type": "stream",
       "stream": "stdout",
       "text": [
        "320 "
       ]
      },
      {
       "output_type": "stream",
       "stream": "stdout",
       "text": [
        "330 "
       ]
      },
      {
       "output_type": "stream",
       "stream": "stdout",
       "text": [
        "340 "
       ]
      },
      {
       "output_type": "stream",
       "stream": "stdout",
       "text": [
        "350 "
       ]
      },
      {
       "output_type": "stream",
       "stream": "stdout",
       "text": [
        "360 "
       ]
      },
      {
       "output_type": "stream",
       "stream": "stdout",
       "text": [
        "370 "
       ]
      },
      {
       "output_type": "stream",
       "stream": "stdout",
       "text": [
        "380 "
       ]
      },
      {
       "output_type": "stream",
       "stream": "stdout",
       "text": [
        "390 "
       ]
      },
      {
       "output_type": "stream",
       "stream": "stdout",
       "text": [
        "400 "
       ]
      },
      {
       "output_type": "stream",
       "stream": "stdout",
       "text": [
        "410 "
       ]
      },
      {
       "output_type": "stream",
       "stream": "stdout",
       "text": [
        "420 "
       ]
      },
      {
       "output_type": "stream",
       "stream": "stdout",
       "text": [
        "430 "
       ]
      },
      {
       "output_type": "stream",
       "stream": "stdout",
       "text": [
        "440 "
       ]
      },
      {
       "output_type": "stream",
       "stream": "stdout",
       "text": [
        "450 "
       ]
      },
      {
       "output_type": "stream",
       "stream": "stdout",
       "text": [
        "460 "
       ]
      },
      {
       "output_type": "stream",
       "stream": "stdout",
       "text": [
        "470 "
       ]
      },
      {
       "output_type": "stream",
       "stream": "stdout",
       "text": [
        "480 "
       ]
      },
      {
       "output_type": "stream",
       "stream": "stdout",
       "text": [
        "490 "
       ]
      },
      {
       "output_type": "stream",
       "stream": "stdout",
       "text": [
        "500 "
       ]
      },
      {
       "output_type": "stream",
       "stream": "stdout",
       "text": [
        "510 "
       ]
      },
      {
       "output_type": "stream",
       "stream": "stdout",
       "text": [
        "520 "
       ]
      },
      {
       "output_type": "stream",
       "stream": "stdout",
       "text": [
        "530 "
       ]
      },
      {
       "output_type": "stream",
       "stream": "stdout",
       "text": [
        "540\n"
       ]
      },
      {
       "output_type": "stream",
       "stream": "stdout",
       "text": [
        "Filtered. Considered 514 nodes\n",
        "\n"
       ]
      },
      {
       "output_type": "stream",
       "stream": "stdout",
       "text": [
        "total =  4591.0000001\n",
        "neutral =  55.4\n",
        "positive =  40.3\n",
        "negative =  4.3\n",
        "********************\n"
       ]
      }
     ],
     "prompt_number": 32
    },
    {
     "cell_type": "code",
     "collapsed": false,
     "input": [
      "subway_results = {}\n",
      "for city in Cities:\n",
      "    print city\n",
      "    sentiments = get_sentiment_in_city(Subway, city)\n",
      "    subway_results[city] = sentiments\n",
      "    analyze(sentiments)\n",
      "    print \"*\"*20"
     ],
     "language": "python",
     "metadata": {},
     "outputs": []
    },
    {
     "cell_type": "code",
     "collapsed": false,
     "input": [],
     "language": "python",
     "metadata": {},
     "outputs": []
    },
    {
     "cell_type": "code",
     "collapsed": false,
     "input": [
      "bike_results = {}\n",
      "for city in Cities:\n",
      "    print city\n",
      "    sentiments = get_sentiment_in_city(Biking, city)\n",
      "    bike_results[city] = sentiments\n",
      "    analyze(sentiments)\n",
      "# Result: http://nces.ed.gov/nceskids/createagraph/default.aspx?ID=dead912691b84abebd07e0c5d7fe41e8"
     ],
     "language": "python",
     "metadata": {},
     "outputs": [
      {
       "output_type": "stream",
       "stream": "stdout",
       "text": [
        "Boston\n",
        "***\n",
        "* query = Boston Biking, type = page\n",
        "* query = Boston hubway, type = page"
       ]
      },
      {
       "output_type": "stream",
       "stream": "stdout",
       "text": [
        "\n",
        "* query = Boston citybike, type = page"
       ]
      },
      {
       "output_type": "stream",
       "stream": "stdout",
       "text": [
        "\n",
        "* query = Boston Bike, type = page"
       ]
      },
      {
       "output_type": "stream",
       "stream": "stdout",
       "text": [
        "\n",
        "- There are 102 nodes"
       ]
      },
      {
       "output_type": "stream",
       "stream": "stdout",
       "text": [
        "\n",
        "0 "
       ]
      },
      {
       "output_type": "stream",
       "stream": "stdout",
       "text": [
        "10 "
       ]
      },
      {
       "output_type": "stream",
       "stream": "stdout",
       "text": [
        "20 "
       ]
      },
      {
       "output_type": "stream",
       "stream": "stdout",
       "text": [
        "30 "
       ]
      },
      {
       "output_type": "stream",
       "stream": "stdout",
       "text": [
        "40 "
       ]
      },
      {
       "output_type": "stream",
       "stream": "stdout",
       "text": [
        "50 "
       ]
      },
      {
       "output_type": "stream",
       "stream": "stdout",
       "text": [
        "60 "
       ]
      },
      {
       "output_type": "stream",
       "stream": "stdout",
       "text": [
        "70 "
       ]
      },
      {
       "output_type": "stream",
       "stream": "stdout",
       "text": [
        "80 "
       ]
      },
      {
       "output_type": "stream",
       "stream": "stdout",
       "text": [
        "90 "
       ]
      },
      {
       "output_type": "stream",
       "stream": "stdout",
       "text": [
        "100\n"
       ]
      },
      {
       "output_type": "stream",
       "stream": "stdout",
       "text": [
        "Filtered. Considered 81 nodes\n",
        "\n",
        "total =  391.0000001\n",
        "neutral =  49.6\n",
        "positive =  43.7\n",
        "negative =  6.6\n",
        "New York\n",
        "***\n",
        "* query = New York Biking, type = page\n",
        "* query = New York hubway, type = page"
       ]
      },
      {
       "output_type": "stream",
       "stream": "stdout",
       "text": [
        "\n",
        "* query = New York citybike, type = page"
       ]
      },
      {
       "output_type": "stream",
       "stream": "stdout",
       "text": [
        "\n",
        "* query = New York Bike, type = page"
       ]
      },
      {
       "output_type": "stream",
       "stream": "stdout",
       "text": [
        "\n",
        "- There are 217 nodes"
       ]
      },
      {
       "output_type": "stream",
       "stream": "stdout",
       "text": [
        "\n",
        "0 "
       ]
      },
      {
       "output_type": "stream",
       "stream": "stdout",
       "text": [
        "10 "
       ]
      },
      {
       "output_type": "stream",
       "stream": "stdout",
       "text": [
        "20 "
       ]
      },
      {
       "output_type": "stream",
       "stream": "stdout",
       "text": [
        "30 "
       ]
      },
      {
       "output_type": "stream",
       "stream": "stdout",
       "text": [
        "40 "
       ]
      },
      {
       "output_type": "stream",
       "stream": "stdout",
       "text": [
        "50 "
       ]
      },
      {
       "output_type": "stream",
       "stream": "stdout",
       "text": [
        "60 "
       ]
      },
      {
       "output_type": "stream",
       "stream": "stdout",
       "text": [
        "70 "
       ]
      },
      {
       "output_type": "stream",
       "stream": "stdout",
       "text": [
        "80 "
       ]
      },
      {
       "output_type": "stream",
       "stream": "stdout",
       "text": [
        "90 "
       ]
      },
      {
       "output_type": "stream",
       "stream": "stdout",
       "text": [
        "100 "
       ]
      },
      {
       "output_type": "stream",
       "stream": "stdout",
       "text": [
        "110 "
       ]
      },
      {
       "output_type": "stream",
       "stream": "stdout",
       "text": [
        "120 "
       ]
      },
      {
       "output_type": "stream",
       "stream": "stdout",
       "text": [
        "130 "
       ]
      },
      {
       "output_type": "stream",
       "stream": "stdout",
       "text": [
        "140 "
       ]
      },
      {
       "output_type": "stream",
       "stream": "stdout",
       "text": [
        "150 "
       ]
      },
      {
       "output_type": "stream",
       "stream": "stdout",
       "text": [
        "160 "
       ]
      },
      {
       "output_type": "stream",
       "stream": "stdout",
       "text": [
        "170 "
       ]
      },
      {
       "output_type": "stream",
       "stream": "stdout",
       "text": [
        "180 "
       ]
      },
      {
       "output_type": "stream",
       "stream": "stdout",
       "text": [
        "190 "
       ]
      },
      {
       "output_type": "stream",
       "stream": "stdout",
       "text": [
        "200 "
       ]
      },
      {
       "output_type": "stream",
       "stream": "stdout",
       "text": [
        "210\n"
       ]
      },
      {
       "output_type": "stream",
       "stream": "stdout",
       "text": [
        "Filtered. Considered 193 nodes\n",
        "\n",
        "total =  1916.0000001\n",
        "neutral =  52.5\n",
        "positive =  40.3\n",
        "negative =  7.2\n",
        "San Francisco\n",
        "***\n",
        "* query = San Francisco Biking, type = page\n",
        "* query = San Francisco hubway, type = page"
       ]
      },
      {
       "output_type": "stream",
       "stream": "stdout",
       "text": [
        "\n",
        "* query = San Francisco citybike, type = page"
       ]
      },
      {
       "output_type": "stream",
       "stream": "stdout",
       "text": [
        "\n",
        "* query = San Francisco Bike, type = page"
       ]
      },
      {
       "output_type": "stream",
       "stream": "stdout",
       "text": [
        "\n",
        "- There are 142 nodes"
       ]
      },
      {
       "output_type": "stream",
       "stream": "stdout",
       "text": [
        "\n",
        "0 "
       ]
      },
      {
       "output_type": "stream",
       "stream": "stdout",
       "text": [
        "10 "
       ]
      },
      {
       "output_type": "stream",
       "stream": "stdout",
       "text": [
        "20 "
       ]
      },
      {
       "output_type": "stream",
       "stream": "stdout",
       "text": [
        "30 "
       ]
      },
      {
       "output_type": "stream",
       "stream": "stdout",
       "text": [
        "40 "
       ]
      },
      {
       "output_type": "stream",
       "stream": "stdout",
       "text": [
        "50 "
       ]
      },
      {
       "output_type": "stream",
       "stream": "stdout",
       "text": [
        "60 "
       ]
      },
      {
       "output_type": "stream",
       "stream": "stdout",
       "text": [
        "70 "
       ]
      },
      {
       "output_type": "stream",
       "stream": "stdout",
       "text": [
        "80 "
       ]
      },
      {
       "output_type": "stream",
       "stream": "stdout",
       "text": [
        "90 "
       ]
      },
      {
       "output_type": "stream",
       "stream": "stdout",
       "text": [
        "100 "
       ]
      },
      {
       "output_type": "stream",
       "stream": "stdout",
       "text": [
        "110 "
       ]
      },
      {
       "output_type": "stream",
       "stream": "stdout",
       "text": [
        "120 "
       ]
      },
      {
       "output_type": "stream",
       "stream": "stdout",
       "text": [
        "130 "
       ]
      },
      {
       "output_type": "stream",
       "stream": "stdout",
       "text": [
        "140\n"
       ]
      },
      {
       "output_type": "stream",
       "stream": "stdout",
       "text": [
        "Filtered. Considered 132 nodes\n",
        "\n",
        "total =  583.0000001\n",
        "neutral =  65.7\n",
        "positive =  30.0\n",
        "negative =  4.3\n",
        "Detroit\n",
        "***\n",
        "* query = Detroit Biking, type = page\n",
        "* query = Detroit hubway, type = page"
       ]
      },
      {
       "output_type": "stream",
       "stream": "stdout",
       "text": [
        "\n",
        "* query = Detroit citybike, type = page"
       ]
      },
      {
       "output_type": "stream",
       "stream": "stdout",
       "text": [
        "\n",
        "* query = Detroit Bike, type = page"
       ]
      },
      {
       "output_type": "stream",
       "stream": "stdout",
       "text": [
        "\n",
        "- There are 76 nodes"
       ]
      },
      {
       "output_type": "stream",
       "stream": "stdout",
       "text": [
        "\n",
        "0 "
       ]
      },
      {
       "output_type": "stream",
       "stream": "stdout",
       "text": [
        "10 "
       ]
      },
      {
       "output_type": "stream",
       "stream": "stdout",
       "text": [
        "20 "
       ]
      },
      {
       "output_type": "stream",
       "stream": "stdout",
       "text": [
        "30 "
       ]
      },
      {
       "output_type": "stream",
       "stream": "stdout",
       "text": [
        "40 "
       ]
      },
      {
       "output_type": "stream",
       "stream": "stdout",
       "text": [
        "50 "
       ]
      },
      {
       "output_type": "stream",
       "stream": "stdout",
       "text": [
        "60 "
       ]
      },
      {
       "output_type": "stream",
       "stream": "stdout",
       "text": [
        "70\n"
       ]
      },
      {
       "output_type": "stream",
       "stream": "stdout",
       "text": [
        "Filtered. Considered 61 nodes\n",
        "\n",
        "total =  241.0000001\n",
        "neutral =  44.8\n",
        "positive =  49.4\n",
        "negative =  5.8\n",
        "Oklahoma City\n",
        "***\n",
        "* query = Oklahoma City Biking, type = page\n",
        "* query = Oklahoma City hubway, type = page"
       ]
      },
      {
       "output_type": "stream",
       "stream": "stdout",
       "text": [
        "\n",
        "* query = Oklahoma City citybike, type = page"
       ]
      },
      {
       "output_type": "stream",
       "stream": "stdout",
       "text": [
        "\n",
        "* query = Oklahoma City Bike, type = page"
       ]
      },
      {
       "output_type": "stream",
       "stream": "stdout",
       "text": [
        "\n",
        "- There are 72 nodes"
       ]
      },
      {
       "output_type": "stream",
       "stream": "stdout",
       "text": [
        "\n",
        "0 "
       ]
      },
      {
       "output_type": "stream",
       "stream": "stdout",
       "text": [
        "10 "
       ]
      },
      {
       "output_type": "stream",
       "stream": "stdout",
       "text": [
        "20 "
       ]
      },
      {
       "output_type": "stream",
       "stream": "stdout",
       "text": [
        "30 "
       ]
      },
      {
       "output_type": "stream",
       "stream": "stdout",
       "text": [
        "40 "
       ]
      },
      {
       "output_type": "stream",
       "stream": "stdout",
       "text": [
        "50 "
       ]
      },
      {
       "output_type": "stream",
       "stream": "stdout",
       "text": [
        "60 "
       ]
      },
      {
       "output_type": "stream",
       "stream": "stdout",
       "text": [
        "70\n"
       ]
      },
      {
       "output_type": "stream",
       "stream": "stdout",
       "text": [
        "Filtered. Considered 69 nodes\n",
        "\n",
        "total =  268.0000001\n",
        "neutral =  53.0\n",
        "positive =  43.3\n",
        "negative =  3.7\n"
       ]
      }
     ],
     "prompt_number": 23
    },
    {
     "cell_type": "code",
     "collapsed": false,
     "input": [
      "walking_results = {}\n",
      "for city in Cities:\n",
      "    print city\n",
      "    sentiments = get_sentiment_in_city(Walking, city)\n",
      "    walking_results[city] = sentiments\n",
      "    analyze(sentiments)"
     ],
     "language": "python",
     "metadata": {},
     "outputs": [
      {
       "output_type": "stream",
       "stream": "stdout",
       "text": [
        "Boston\n",
        "***\n",
        "* query = Boston Walking, type = page\n",
        "- There are 90 nodes"
       ]
      },
      {
       "output_type": "stream",
       "stream": "stdout",
       "text": [
        "\n",
        "0 "
       ]
      },
      {
       "output_type": "stream",
       "stream": "stdout",
       "text": [
        "10 "
       ]
      },
      {
       "output_type": "stream",
       "stream": "stdout",
       "text": [
        "20 "
       ]
      },
      {
       "output_type": "stream",
       "stream": "stdout",
       "text": [
        "30 "
       ]
      },
      {
       "output_type": "stream",
       "stream": "stdout",
       "text": [
        "40 "
       ]
      },
      {
       "output_type": "stream",
       "stream": "stdout",
       "text": [
        "50 "
       ]
      },
      {
       "output_type": "stream",
       "stream": "stdout",
       "text": [
        "60 "
       ]
      },
      {
       "output_type": "stream",
       "stream": "stdout",
       "text": [
        "70 "
       ]
      },
      {
       "output_type": "stream",
       "stream": "stdout",
       "text": [
        "80\n"
       ]
      },
      {
       "output_type": "stream",
       "stream": "stdout",
       "text": [
        "Filtered. Considered 54 nodes\n",
        "\n",
        "total =  284.0001\n",
        "neutral =  39.4\n",
        "positive =  55.6\n",
        "negative =  4.9\n",
        "New York\n",
        "***\n",
        "* query = New York Walking, type = page\n",
        "- There are 156 nodes"
       ]
      },
      {
       "output_type": "stream",
       "stream": "stdout",
       "text": [
        "\n",
        "0 "
       ]
      },
      {
       "output_type": "stream",
       "stream": "stdout",
       "text": [
        "10 "
       ]
      },
      {
       "output_type": "stream",
       "stream": "stdout",
       "text": [
        "20 "
       ]
      },
      {
       "output_type": "stream",
       "stream": "stdout",
       "text": [
        "30 "
       ]
      },
      {
       "output_type": "stream",
       "stream": "stdout",
       "text": [
        "40 "
       ]
      },
      {
       "output_type": "stream",
       "stream": "stdout",
       "text": [
        "50 "
       ]
      },
      {
       "output_type": "stream",
       "stream": "stdout",
       "text": [
        "60 "
       ]
      },
      {
       "output_type": "stream",
       "stream": "stdout",
       "text": [
        "70 "
       ]
      },
      {
       "output_type": "stream",
       "stream": "stdout",
       "text": [
        "80 "
       ]
      },
      {
       "output_type": "stream",
       "stream": "stdout",
       "text": [
        "90 "
       ]
      },
      {
       "output_type": "stream",
       "stream": "stdout",
       "text": [
        "100 "
       ]
      },
      {
       "output_type": "stream",
       "stream": "stdout",
       "text": [
        "110 "
       ]
      },
      {
       "output_type": "stream",
       "stream": "stdout",
       "text": [
        "120 "
       ]
      },
      {
       "output_type": "stream",
       "stream": "stdout",
       "text": [
        "130 "
       ]
      },
      {
       "output_type": "stream",
       "stream": "stdout",
       "text": [
        "140 "
       ]
      },
      {
       "output_type": "stream",
       "stream": "stdout",
       "text": [
        "150\n"
       ]
      },
      {
       "output_type": "stream",
       "stream": "stdout",
       "text": [
        "Filtered. Considered 112 nodes\n",
        "\n",
        "total =  1539.0001\n",
        "neutral =  51.7\n",
        "positive =  39.6\n",
        "negative =  8.7\n",
        "San Francisco\n",
        "***\n",
        "* query = San Francisco Walking, type = page\n",
        "- There are 118 nodes"
       ]
      },
      {
       "output_type": "stream",
       "stream": "stdout",
       "text": [
        "\n",
        "0 "
       ]
      },
      {
       "output_type": "stream",
       "stream": "stdout",
       "text": [
        "10 "
       ]
      },
      {
       "output_type": "stream",
       "stream": "stdout",
       "text": [
        "20 "
       ]
      },
      {
       "output_type": "stream",
       "stream": "stdout",
       "text": [
        "30 "
       ]
      },
      {
       "output_type": "stream",
       "stream": "stdout",
       "text": [
        "40 "
       ]
      },
      {
       "output_type": "stream",
       "stream": "stdout",
       "text": [
        "50 "
       ]
      },
      {
       "output_type": "stream",
       "stream": "stdout",
       "text": [
        "60 "
       ]
      },
      {
       "output_type": "stream",
       "stream": "stdout",
       "text": [
        "70 "
       ]
      },
      {
       "output_type": "stream",
       "stream": "stdout",
       "text": [
        "80 "
       ]
      },
      {
       "output_type": "stream",
       "stream": "stdout",
       "text": [
        "90 "
       ]
      },
      {
       "output_type": "stream",
       "stream": "stdout",
       "text": [
        "100 "
       ]
      },
      {
       "output_type": "stream",
       "stream": "stdout",
       "text": [
        "110\n"
       ]
      },
      {
       "output_type": "stream",
       "stream": "stdout",
       "text": [
        "Filtered. Considered 96 nodes\n",
        "\n",
        "total =  504.0001\n",
        "neutral =  44.6\n",
        "positive =  51.0\n",
        "negative =  4.4\n",
        "Detroit\n",
        "***\n",
        "* query = Detroit Walking, type = page\n",
        "- There are 54 nodes"
       ]
      },
      {
       "output_type": "stream",
       "stream": "stdout",
       "text": [
        "\n",
        "0 "
       ]
      },
      {
       "output_type": "stream",
       "stream": "stdout",
       "text": [
        "10 "
       ]
      },
      {
       "output_type": "stream",
       "stream": "stdout",
       "text": [
        "20 "
       ]
      },
      {
       "output_type": "stream",
       "stream": "stdout",
       "text": [
        "30 "
       ]
      },
      {
       "output_type": "stream",
       "stream": "stdout",
       "text": [
        "40 "
       ]
      },
      {
       "output_type": "stream",
       "stream": "stdout",
       "text": [
        "50\n"
       ]
      },
      {
       "output_type": "stream",
       "stream": "stdout",
       "text": [
        "Filtered. Considered 35 nodes\n",
        "\n",
        "total =  109.0001\n",
        "neutral =  45.9\n",
        "positive =  49.5\n",
        "negative =  4.6\n",
        "Oklahoma City\n",
        "***\n",
        "* query = Oklahoma City Walking, type = page\n",
        "- There are 44 nodes"
       ]
      },
      {
       "output_type": "stream",
       "stream": "stdout",
       "text": [
        "\n",
        "0 "
       ]
      },
      {
       "output_type": "stream",
       "stream": "stdout",
       "text": [
        "10 "
       ]
      },
      {
       "output_type": "stream",
       "stream": "stdout",
       "text": [
        "20 "
       ]
      },
      {
       "output_type": "stream",
       "stream": "stdout",
       "text": [
        "30 "
       ]
      },
      {
       "output_type": "stream",
       "stream": "stdout",
       "text": [
        "40\n"
       ]
      },
      {
       "output_type": "stream",
       "stream": "stdout",
       "text": [
        "Filtered. Considered 38 nodes\n",
        "\n",
        "total =  188.0001\n",
        "neutral =  56.4\n",
        "positive =  33.0\n",
        "negative =  10.6\n"
       ]
      }
     ],
     "prompt_number": 9
    },
    {
     "cell_type": "code",
     "collapsed": false,
     "input": [],
     "language": "python",
     "metadata": {},
     "outputs": [],
     "prompt_number": 47
    },
    {
     "cell_type": "code",
     "collapsed": false,
     "input": [],
     "language": "python",
     "metadata": {},
     "outputs": [
      {
       "output_type": "stream",
       "stream": "stdout",
       "text": [
        "['Boston', 'Oklahoma City', 'New York', 'Detroit', 'San Francisco']\n"
       ]
      }
     ],
     "prompt_number": 35
    },
    {
     "cell_type": "code",
     "collapsed": false,
     "input": [],
     "language": "python",
     "metadata": {},
     "outputs": [],
     "prompt_number": 33
    },
    {
     "cell_type": "code",
     "collapsed": false,
     "input": [],
     "language": "python",
     "metadata": {},
     "outputs": [],
     "prompt_number": 30
    },
    {
     "cell_type": "code",
     "collapsed": false,
     "input": [],
     "language": "python",
     "metadata": {},
     "outputs": [],
     "prompt_number": 13
    },
    {
     "cell_type": "code",
     "collapsed": false,
     "input": [],
     "language": "python",
     "metadata": {},
     "outputs": [],
     "prompt_number": 37
    },
    {
     "cell_type": "code",
     "collapsed": false,
     "input": [],
     "language": "python",
     "metadata": {},
     "outputs": [],
     "prompt_number": 13
    },
    {
     "cell_type": "code",
     "collapsed": false,
     "input": [],
     "language": "python",
     "metadata": {},
     "outputs": []
    }
   ],
   "metadata": {}
  }
 ]
}