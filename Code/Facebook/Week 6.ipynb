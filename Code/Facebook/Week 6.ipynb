{
 "metadata": {
  "name": "",
  "signature": "sha256:1dffb5273e597b029ad95c724b915405af2cedfaa28d53ae8d6056527042d07b"
 },
 "nbformat": 3,
 "nbformat_minor": 0,
 "worksheets": [
  {
   "cells": [
    {
     "cell_type": "markdown",
     "metadata": {},
     "source": [
      "Things to focus on this week:\n",
      "    - Get comments from FB, Twitter, and social media sites to get the most concerning problems.\n",
      "    - Make documentation: How did you do it.\n",
      "    - Twitter: Get location from the content - not only from geotag\n",
      "\n",
      "Some ideas:\n",
      "    - Separate Uber and Taxi\n",
      "    - Trending Uber?"
     ]
    },
    {
     "cell_type": "code",
     "collapsed": false,
     "input": [],
     "language": "python",
     "metadata": {},
     "outputs": [],
     "prompt_number": 97
    },
    {
     "cell_type": "heading",
     "level": 2,
     "metadata": {},
     "source": [
      "Get comments from FB, Twitter, social media sites to get the most concerning problems."
     ]
    },
    {
     "cell_type": "code",
     "collapsed": false,
     "input": [
      "# Create one example of getting transportation data from FB\n",
      "import requests\n",
      "import sqlite3\n",
      "import os\n",
      "from datetime import datetime\n",
      "import facebook\n",
      "import json\n",
      "from facebook_api import *\n",
      "import numpy as np\n",
      "from pattern.en import sentiment\n",
      "from textblob import TextBlob\n",
      "from uclassify import uclassify\n",
      "import time\n",
      "import numpy as np\n",
      "import matplotlib.pyplot as plt\n",
      "import csv"
     ],
     "language": "python",
     "metadata": {},
     "outputs": [],
     "prompt_number": 2
    },
    {
     "cell_type": "code",
     "collapsed": false,
     "input": [
      "BOS_POPULATION = 645966\n",
      "NYC_POPULATION = 8406000\n",
      "SFO_POPULATION = 837442\n",
      "LA_POPULATION = 3884000\n",
      "OKL_POPULATION = 3.851*10**6\n",
      "DET_POPULATION = 688701  # Detroit\n",
      "DEN_POPULATION = 649495  # Denver\n",
      "POR_POPULATION = 609456  # Portland, Oregon\n",
      "SLK_POPULATION = 191180  # Salt Lake City\n",
      "SEA_POPULATION = 652405  # Seattle\n",
      "RMD_POPULATION = 214114  # Richmond\n",
      "KNV_POPULATION = 183270  # Knoxville\n",
      "\n",
      "Cities = [\"Boston\", \"New York\", \"San Francisco\", \"Detroit\", \"Oklahoma City\"]\n",
      "Locations = {\n",
      "\"Boston\":        {\"city\": \"Boston\", \"state\": \"MA\", \"country\": \"United States\"},\n",
      "\"New York\":      {\"city\": \"New York\", \"state\": \"NY\", \"country\": \"United States\"},\n",
      "\"San Francisco\": {\"city\": \"San Francisco\", \"state\": \"CA\", \"country\": \"United States\"},\n",
      "\"Detroit\":       {\"city\": \"Detroit\", \"state\": \"MI\", \"country\": \"United States\"},\n",
      "\"Oklahoma City\": {\"city\": \"Oklahoma City\", \"state\": \"OK\", \"country\": \"United States\"},\n",
      "}\n",
      "Categories = [\"transportation\", \"transit stop\", \"public transportation\"]\n",
      "\n",
      "# Different queries\n",
      "Transportation = [\"transportation\", \"public transportation\"]\n",
      "Driving = [\"Car\", \"Drive\", \"Driving\", \"Bus\", \"Uber\", \"Lyft\"]\n",
      "Taxi = [\"Cab\", \"Taxi\"]\n",
      "ShareDriving = [\"Uber\", \"Lyft\"]\n",
      "Walking = [\"Walking\"]\n",
      "Biking = [\"Biking\", \"hubway\", \"citybike\", \"Bike\"]\n",
      "Subway = [\"MBTA\", \"MTA\", \"SFMTA\", \"subway\", \"train\", \"metro\"]\n",
      "Ship = [\"ferry\", \"boat\", \"ship\"]\n",
      "Airplane = [\"airport\", \"plane\"]"
     ],
     "language": "python",
     "metadata": {},
     "outputs": [],
     "prompt_number": 5
    },
    {
     "cell_type": "code",
     "collapsed": false,
     "input": [
      "# Get access token first\n",
      "# I have created a FB account\n",
      "#     email: urop.caring.city@gmail.com\n",
      "#     password: urop.caring.city\n",
      "# Then go to https://developers.facebook.com/tools/explorer/ to get access token.\n",
      "ACCESS_TOKEN = 'CAACEdEose0cBANO9WDlVKmHrBVy3u6nDXvSdtmJxDLPJkMeeYJrQzlwaDdUMkd654WyKaCUp7ZAvnjtGxXzZCePkG26PXDHES7gR6LU7pGryNDMH7f4ZArg0cg7t9uQT15nCCtAaEblQhZCVf4c136Kyr2k6GCdBgivFvrfCwXbDhk53CFYTtL9BYRg7qJ70u3VPbbR5wSG5oQf9LsLC'\n",
      "args = {\"access_token\": ACCESS_TOKEN}\n",
      "graph = facebook.GraphAPI(ACCESS_TOKEN)"
     ],
     "language": "python",
     "metadata": {},
     "outputs": [],
     "prompt_number": 4
    },
    {
     "cell_type": "code",
     "collapsed": false,
     "input": [],
     "language": "python",
     "metadata": {},
     "outputs": [],
     "prompt_number": 4
    },
    {
     "cell_type": "code",
     "collapsed": false,
     "input": [
      "# A general search function\n",
      "# Execute a search given a query and an object type\n",
      "# query: string, object_type in {\"user\", \"page\", \"event\", \"group\", \"place\", \"plactopic\", \"ad_*\"}\n",
      "# Return a list of datum containing {object-name, id}\n",
      "def search_objects(query, object_type, limit=None):\n",
      "    # Search\n",
      "    print \"* query = %s, type = %s\" % (query, object_type)\n",
      "    url = \"https://graph.facebook.com/search?q=%s&type=%s\" % (query, object_type)\n",
      "    if limit:\n",
      "        url += \"&limit=%d\" % (int(limit))\n",
      "\n",
      "    print \"  url = %s\" % (url)\n",
      "    response = requests.request(\"GET\", url, params=args)\n",
      "\n",
      "    # Get all nodes of the search\n",
      "    data = response.json()[\"data\"]\n",
      "    print \"* The number of results is %d\" % len(data)\n",
      "    return data\n",
      "\n",
      "def textblob_sentiment(text):\n",
      "    blob = TextBlob(text)\n",
      "    return blob.sentiment.polarity\n",
      "\n",
      "def pattern_sentiment(text):\n",
      "    return sentiment(text)[0]\n",
      "\n",
      "# Check if a profile is in a specific category\n",
      "def is_in_category(profile, category, strict=False):\n",
      "    if (\"category\" in profile) \\\n",
      "    and (profile[\"category\"].lower() in category):\n",
      "        return True\n",
      "    if (strict) or not(\"category_list\" in profile):\n",
      "        return False\n",
      "    # Check category list -- higher level\n",
      "    for _category in profile[\"category_list\"]:\n",
      "        if _category[\"name\"].lower() in category:\n",
      "            return True\n",
      "    return False\n",
      "\n",
      "# Check if a profile is in a specific location\n",
      "def is_in_location(profile, location):\n",
      "    if not(\"location\" in profile):\n",
      "        return False\n",
      "    object_location = profile[\"location\"]\n",
      "    for field in location:\n",
      "        if not(field in object_location) \\\n",
      "        or (object_location[field] != location[field]):\n",
      "            return False\n",
      "    return True\n",
      "\n",
      "def check_fn(profile, location=None, category=None):\n",
      "    # Location\n",
      "    if (location) and not(is_in_location(profile, location)):\n",
      "        return False\n",
      "    return True\n",
      "    # Category\n",
      "    if (category) and not(is_in_category(profile, category)):\n",
      "        return False\n",
      "    return True\n",
      "\n",
      "def search_objects_in_city(queries, city_name, object_type):\n",
      "    data = []\n",
      "    all_node_ids = set([])\n",
      "    for q in queries:\n",
      "        query = \"%s %s\" % (city_name, q)\n",
      "        print \"* query = %s, type = %s\" % (query, object_type)\n",
      "        url = \"https://graph.facebook.com/search?q=%s&type=%s\" % (query, object_type)\n",
      "        response = requests.request(\"GET\", url, params=args)\n",
      "        datum = response.json()[\"data\"]\n",
      "        # Filter ID\n",
      "        for node in datum:\n",
      "            if not(node['id'] in all_node_ids):  # No overlapped nodes\n",
      "                data.append(node)\n",
      "                all_node_ids.add(node['id'])\n",
      "    return data"
     ],
     "language": "python",
     "metadata": {},
     "outputs": [],
     "prompt_number": 102
    },
    {
     "cell_type": "code",
     "collapsed": false,
     "input": [
      "# Get all feeds in a FB page.\n",
      "# Return a list of feeds in a given node id.\n",
      "# Each element is a hash table (js format) containing all information.\n",
      "def get_feeds(page_id):\n",
      "    feeds = graph.get_connections(page_id, \"feed\")\n",
      "    return feeds[\"data\"]\n",
      "\n",
      "# Get messages from a feed\n",
      "def get_messages_from_feed(feed):\n",
      "    field = \"comments\"\n",
      "    if field in feed:  # If there is any comments\n",
      "        comments = feed[\"comments\"][\"data\"]\n",
      "        messages = [(feed[\"id\"], comment[\"message\"]) for comment in comments]\n",
      "    else:\n",
      "        messages = []\n",
      "    return messages\n",
      "\n",
      "# page_id -> feeds -> messages\n",
      "def get_messages(page_id):\n",
      "    feeds = get_feeds(page_id)\n",
      "    all_messages = []\n",
      "    for feed in feeds:\n",
      "        messages = get_messages_from_feed(feed)\n",
      "        all_messages.extend(messages)\n",
      "    return all_messages\n",
      "\n",
      "def get_sentiment(node_id, sentiment_fn=pattern_sentiment):\n",
      "    # Get all feeds\n",
      "    messages = get_messages(node_id)\n",
      "    # Get sentiments\n",
      "    sentiments = [(msg[0], msg[1], sentiment_fn(msg[1])) for msg in messages]\n",
      "    return sentiments\n",
      "\n",
      "def get_sentiment_in_city(queries, city_name, \\\n",
      "                          sentiment_fn=pattern_sentiment, \\\n",
      "                          check_fn=check_fn):\n",
      "    # Get all IDs\n",
      "    print \"***\"\n",
      "    data = search_objects_in_city(queries, city_name, \"page\")\n",
      "    print \"- There are %d nodes\" % len(data)\n",
      "    sentiments = []\n",
      "    num_nodes = 0\n",
      "    for i, node in enumerate(data):\n",
      "        # get node id\n",
      "        if (i % 10 == 0):\n",
      "            print i,\n",
      "        node_id = str(node[\"id\"])\n",
      "        # Filter\n",
      "        if is_in_category(node, Categories):\n",
      "            continue\n",
      "        profile = graph.get_object(node_id)\n",
      "        if not('location' in profile) or is_in_location(profile['location'], location=Locations[city_name]):\n",
      "            continue\n",
      "\n",
      "        num_nodes += 1\n",
      "        # Get sentiments\n",
      "        sentiments.extend(get_sentiment(node_id, sentiment_fn))\n",
      "    print\n",
      "    print \"Filtered. Considered %d nodes\" % num_nodes\n",
      "    return sentiments\n",
      "\n",
      "def analyze(raw_sentiments, threshold=0.1):\n",
      "    neu, pos, neg = 0, 0, 0\n",
      "    sentiments = np.array([s[2] for s in raw_sentiments])\n",
      "    neutral = sum(np.abs(sentiments) <threshold)\n",
      "    possitive = sum(sentiments >= threshold)\n",
      "    negative = sum(sentiments <= -threshold)\n",
      "    total = len(sentiments) + 0.0000001\n",
      "    print\n",
      "    print \"total = \", total\n",
      "    print \"neutral = \", round(float(neutral)/total*100,1)\n",
      "    print \"positive = \", round(float(possitive)/total*100,1)\n",
      "    print \"negative = \", round(float(negative)/total*100,1)\n",
      "    return neutral, possitive, negative\n",
      "\n",
      "# Sentiments is an list of (comment_id, comment_text, comment_sentiment_score)\n",
      "def getExtremeComments(sentiments, k = 20):\n",
      "    sorted_sentiments = sorted(sentiments, key = lambda x: x[2])\n",
      "    if (k > len(sorted_sentiments)/2):\n",
      "        k = len(sorted_sentiments)/2\n",
      "    most_positive = sorted_sentiments[-1:-(k+1):-1]\n",
      "    most_negative = sorted_sentiments[:k]\n",
      "    return most_positive, most_negative\n",
      "\n",
      "def saveCSV(sentiments, filename, title=\"\"):\n",
      "    with open('comments/' + filename, 'a') as csvfile:\n",
      "        writer = csv.writer(csvfile, delimiter=',')\n",
      "        pos, neg = getExtremeComments(sentiments, 50)\n",
      "        writer.writerow(\"\")\n",
      "        writer.writerow([title])\n",
      "        writer.writerow(\"\")\n",
      "        # Positive comments\n",
      "        writer.writerow([\"Positive Comments\"])\n",
      "        for element in pos:\n",
      "            Id, comment, score = element\n",
      "            writer.writerow([\"https://www.facebook.com/\" + str(Id), str(score), unicode(comment).encode(\"utf-8\")])\n",
      "\n",
      "        # Negative comments\n",
      "        writer.writerow([\"Negative Comments\"])\n",
      "        for element in neg:\n",
      "            Id, comment, score = element\n",
      "            writer.writerow([\"https://www.facebook.com/\" + str(Id), score, unicode(comment).encode(\"utf-8\")])\n",
      "    pass\n"
     ],
     "language": "python",
     "metadata": {},
     "outputs": []
    },
    {
     "cell_type": "code",
     "collapsed": false,
     "input": [],
     "language": "python",
     "metadata": {},
     "outputs": [],
     "prompt_number": 118
    },
    {
     "cell_type": "code",
     "collapsed": false,
     "input": [
      "print sentiments[0]"
     ],
     "language": "python",
     "metadata": {},
     "outputs": [
      {
       "output_type": "stream",
       "stream": "stdout",
       "text": [
        "('146006742086450_568969836456803', 'One of the best families to be part of....xoxo.', 1.0)\n"
       ]
      }
     ],
     "prompt_number": 119
    },
    {
     "cell_type": "code",
     "collapsed": false,
     "input": [
      "taxi_results = {}\n",
      "city = \"Boston\"\n",
      "if True:\n",
      "    print city\n",
      "    #sentiments = get_sentiment_in_city(Taxi, city)\n",
      "    taxi_results[city] = sentiments\n",
      "    analyze(sentiments)\n"
     ],
     "language": "python",
     "metadata": {},
     "outputs": [
      {
       "output_type": "stream",
       "stream": "stdout",
       "text": [
        "Boston\n",
        "\n",
        "total =  572.0000001\n",
        "neutral =  48.6\n",
        "positive =  45.5\n",
        "negative =  5.9\n"
       ]
      }
     ],
     "prompt_number": 106
    },
    {
     "cell_type": "code",
     "collapsed": false,
     "input": [
      "# Different queries\n",
      "Transportation = [\"transportation\", \"public transportation\"]\n",
      "Driving = [\"Car\", \"Drive\", \"Driving\", \"Bus\", \"Uber\", \"Lyft\"]\n",
      "Taxi = [\"Cab\", \"Taxi\"]\n",
      "ShareDriving = [\"Uber\", \"Lyft\"]\n",
      "Walking = [\"Walking\"]\n",
      "Biking = [\"Biking\", \"hubway\", \"citybike\", \"Bike\"]\n",
      "Subway = [\"MBTA\", \"MTA\", \"SFMTA\", \"subway\", \"train\", \"metro\"]\n",
      "Ship = [\"ferry\", \"boat\", \"ship\"]\n",
      "Airplane = [\"airport\", \"plane\"]"
     ],
     "language": "python",
     "metadata": {},
     "outputs": [],
     "prompt_number": 84
    },
    {
     "cell_type": "code",
     "collapsed": false,
     "input": [],
     "language": "python",
     "metadata": {},
     "outputs": [],
     "prompt_number": 120
    },
    {
     "cell_type": "code",
     "collapsed": false,
     "input": [
      "transportation_results = {}\n",
      "filename = \"Transporation.csv\"\n",
      "open('comments/' + filename, 'w').close()\n",
      "with open('comments/' + filename, 'w') as csvfile:\n",
      "    writer = csv.writer(csvfile, delimiter=',')\n",
      "    writer.writerow([\"Link\", \"Score\", \"Comment\"])\n",
      "\n",
      "for city in Cities:\n",
      "    print city\n",
      "    sentiments = get_sentiment_in_city(Transportation, city)\n",
      "    transportation_results[city] = sentiments\n",
      "    analyze(sentiments)\n",
      "    saveCSV(sentiments, filename, \"Transportation in \" + city)\n"
     ],
     "language": "python",
     "metadata": {},
     "outputs": [
      {
       "output_type": "stream",
       "stream": "stdout",
       "text": [
        "Boston\n",
        "***\n",
        "* query = Boston transportation, type = page\n",
        "* query = Boston public transportation, type = page"
       ]
      },
      {
       "output_type": "stream",
       "stream": "stdout",
       "text": [
        "\n",
        "- There are 181 nodes"
       ]
      },
      {
       "output_type": "stream",
       "stream": "stdout",
       "text": [
        "\n",
        "0 "
       ]
      },
      {
       "output_type": "stream",
       "stream": "stdout",
       "text": [
        "10 "
       ]
      },
      {
       "output_type": "stream",
       "stream": "stdout",
       "text": [
        "20 "
       ]
      },
      {
       "output_type": "stream",
       "stream": "stdout",
       "text": [
        "30 "
       ]
      },
      {
       "output_type": "stream",
       "stream": "stdout",
       "text": [
        "40 "
       ]
      },
      {
       "output_type": "stream",
       "stream": "stdout",
       "text": [
        "50 "
       ]
      },
      {
       "output_type": "stream",
       "stream": "stdout",
       "text": [
        "60 "
       ]
      },
      {
       "output_type": "stream",
       "stream": "stdout",
       "text": [
        "70 "
       ]
      },
      {
       "output_type": "stream",
       "stream": "stdout",
       "text": [
        "80 "
       ]
      },
      {
       "output_type": "stream",
       "stream": "stdout",
       "text": [
        "90 "
       ]
      },
      {
       "output_type": "stream",
       "stream": "stdout",
       "text": [
        "100 "
       ]
      },
      {
       "output_type": "stream",
       "stream": "stdout",
       "text": [
        "110 "
       ]
      },
      {
       "output_type": "stream",
       "stream": "stdout",
       "text": [
        "120 "
       ]
      },
      {
       "output_type": "stream",
       "stream": "stdout",
       "text": [
        "130 "
       ]
      },
      {
       "output_type": "stream",
       "stream": "stdout",
       "text": [
        "140 150 160 170 180\n"
       ]
      },
      {
       "output_type": "stream",
       "stream": "stdout",
       "text": [
        "Filtered. Considered 66 nodes\n",
        "\n",
        "total =  189.0000001\n",
        "neutral =  53.4\n",
        "positive =  39.7\n",
        "negative =  6.9\n",
        "New York\n",
        "***\n",
        "* query = New York transportation, type = page\n",
        "* query = New York public transportation, type = page"
       ]
      },
      {
       "output_type": "stream",
       "stream": "stdout",
       "text": [
        "\n",
        "- There are 389 nodes"
       ]
      },
      {
       "output_type": "stream",
       "stream": "stdout",
       "text": [
        "\n",
        "0 "
       ]
      },
      {
       "output_type": "stream",
       "stream": "stdout",
       "text": [
        "10 "
       ]
      },
      {
       "output_type": "stream",
       "stream": "stdout",
       "text": [
        "20 "
       ]
      },
      {
       "output_type": "stream",
       "stream": "stdout",
       "text": [
        "30 "
       ]
      },
      {
       "output_type": "stream",
       "stream": "stdout",
       "text": [
        "40 "
       ]
      },
      {
       "output_type": "stream",
       "stream": "stdout",
       "text": [
        "50 "
       ]
      },
      {
       "output_type": "stream",
       "stream": "stdout",
       "text": [
        "60 "
       ]
      },
      {
       "output_type": "stream",
       "stream": "stdout",
       "text": [
        "70 "
       ]
      },
      {
       "output_type": "stream",
       "stream": "stdout",
       "text": [
        "80 "
       ]
      },
      {
       "output_type": "stream",
       "stream": "stdout",
       "text": [
        "90 "
       ]
      },
      {
       "output_type": "stream",
       "stream": "stdout",
       "text": [
        "100 "
       ]
      },
      {
       "output_type": "stream",
       "stream": "stdout",
       "text": [
        "110 "
       ]
      },
      {
       "output_type": "stream",
       "stream": "stdout",
       "text": [
        "120 "
       ]
      },
      {
       "output_type": "stream",
       "stream": "stdout",
       "text": [
        "130 "
       ]
      },
      {
       "output_type": "stream",
       "stream": "stdout",
       "text": [
        "140 "
       ]
      },
      {
       "output_type": "stream",
       "stream": "stdout",
       "text": [
        "150 "
       ]
      },
      {
       "output_type": "stream",
       "stream": "stdout",
       "text": [
        "160 "
       ]
      },
      {
       "output_type": "stream",
       "stream": "stdout",
       "text": [
        "170 "
       ]
      },
      {
       "output_type": "stream",
       "stream": "stdout",
       "text": [
        "180 "
       ]
      },
      {
       "output_type": "stream",
       "stream": "stdout",
       "text": [
        "190 "
       ]
      },
      {
       "output_type": "stream",
       "stream": "stdout",
       "text": [
        "200 "
       ]
      },
      {
       "output_type": "stream",
       "stream": "stdout",
       "text": [
        "210 "
       ]
      },
      {
       "output_type": "stream",
       "stream": "stdout",
       "text": [
        "220 "
       ]
      },
      {
       "output_type": "stream",
       "stream": "stdout",
       "text": [
        "230 "
       ]
      },
      {
       "output_type": "stream",
       "stream": "stdout",
       "text": [
        "240 "
       ]
      },
      {
       "output_type": "stream",
       "stream": "stdout",
       "text": [
        "250 "
       ]
      },
      {
       "output_type": "stream",
       "stream": "stdout",
       "text": [
        "260 "
       ]
      },
      {
       "output_type": "stream",
       "stream": "stdout",
       "text": [
        "270 "
       ]
      },
      {
       "output_type": "stream",
       "stream": "stdout",
       "text": [
        "280 290 300 310 320 330 340 350 360 370 380\n",
        "Filtered. Considered 172 nodes\n",
        "\n",
        "total =  1065.0000001\n",
        "neutral =  46.3\n",
        "positive =  46.5\n",
        "negative =  7.2\n",
        "San Francisco\n",
        "***\n",
        "* query = San Francisco transportation, type = page\n",
        "* query = San Francisco public transportation, type = page"
       ]
      },
      {
       "output_type": "stream",
       "stream": "stdout",
       "text": [
        "\n",
        "- There are 197 nodes"
       ]
      },
      {
       "output_type": "stream",
       "stream": "stdout",
       "text": [
        "\n",
        "0 "
       ]
      },
      {
       "output_type": "stream",
       "stream": "stdout",
       "text": [
        "10 "
       ]
      },
      {
       "output_type": "stream",
       "stream": "stdout",
       "text": [
        "20 "
       ]
      },
      {
       "output_type": "stream",
       "stream": "stdout",
       "text": [
        "30 "
       ]
      },
      {
       "output_type": "stream",
       "stream": "stdout",
       "text": [
        "40 "
       ]
      },
      {
       "output_type": "stream",
       "stream": "stdout",
       "text": [
        "50 "
       ]
      },
      {
       "output_type": "stream",
       "stream": "stdout",
       "text": [
        "60 "
       ]
      },
      {
       "output_type": "stream",
       "stream": "stdout",
       "text": [
        "70 "
       ]
      },
      {
       "output_type": "stream",
       "stream": "stdout",
       "text": [
        "80 "
       ]
      },
      {
       "output_type": "stream",
       "stream": "stdout",
       "text": [
        "90 "
       ]
      },
      {
       "output_type": "stream",
       "stream": "stdout",
       "text": [
        "100 "
       ]
      },
      {
       "output_type": "stream",
       "stream": "stdout",
       "text": [
        "110 "
       ]
      },
      {
       "output_type": "stream",
       "stream": "stdout",
       "text": [
        "120 "
       ]
      },
      {
       "output_type": "stream",
       "stream": "stdout",
       "text": [
        "130 140 150 160 "
       ]
      },
      {
       "output_type": "stream",
       "stream": "stdout",
       "text": [
        "170 180 190\n"
       ]
      },
      {
       "output_type": "stream",
       "stream": "stdout",
       "text": [
        "Filtered. Considered 86 nodes\n",
        "\n",
        "total =  322.0000001\n",
        "neutral =  62.1\n",
        "positive =  35.7\n",
        "negative =  2.2\n",
        "Detroit\n",
        "***\n",
        "* query = Detroit transportation, type = page\n",
        "* query = Detroit public transportation, type = page"
       ]
      },
      {
       "output_type": "stream",
       "stream": "stdout",
       "text": [
        "\n",
        "- There are 130 nodes"
       ]
      },
      {
       "output_type": "stream",
       "stream": "stdout",
       "text": [
        "\n",
        "0 "
       ]
      },
      {
       "output_type": "stream",
       "stream": "stdout",
       "text": [
        "10 "
       ]
      },
      {
       "output_type": "stream",
       "stream": "stdout",
       "text": [
        "20 "
       ]
      },
      {
       "output_type": "stream",
       "stream": "stdout",
       "text": [
        "30 "
       ]
      },
      {
       "output_type": "stream",
       "stream": "stdout",
       "text": [
        "40 "
       ]
      },
      {
       "output_type": "stream",
       "stream": "stdout",
       "text": [
        "50 "
       ]
      },
      {
       "output_type": "stream",
       "stream": "stdout",
       "text": [
        "60 "
       ]
      },
      {
       "output_type": "stream",
       "stream": "stdout",
       "text": [
        "70 "
       ]
      },
      {
       "output_type": "stream",
       "stream": "stdout",
       "text": [
        "80 "
       ]
      },
      {
       "output_type": "stream",
       "stream": "stdout",
       "text": [
        "90 "
       ]
      },
      {
       "output_type": "stream",
       "stream": "stdout",
       "text": [
        "100 "
       ]
      },
      {
       "output_type": "stream",
       "stream": "stdout",
       "text": [
        "110 "
       ]
      },
      {
       "output_type": "stream",
       "stream": "stdout",
       "text": [
        "120\n",
        "Filtered. Considered 61 nodes\n",
        "\n",
        "total =  48.0000001\n",
        "neutral =  50.0\n",
        "positive =  39.6\n",
        "negative =  10.4\n",
        "Oklahoma City\n",
        "***\n",
        "* query = Oklahoma City transportation, type = page\n",
        "* query = Oklahoma City public transportation, type = page"
       ]
      },
      {
       "output_type": "stream",
       "stream": "stdout",
       "text": [
        "\n",
        "- There are 117 nodes"
       ]
      },
      {
       "output_type": "stream",
       "stream": "stdout",
       "text": [
        "\n",
        "0 "
       ]
      },
      {
       "output_type": "stream",
       "stream": "stdout",
       "text": [
        "10 "
       ]
      },
      {
       "output_type": "stream",
       "stream": "stdout",
       "text": [
        "20 "
       ]
      },
      {
       "output_type": "stream",
       "stream": "stdout",
       "text": [
        "30 "
       ]
      },
      {
       "output_type": "stream",
       "stream": "stdout",
       "text": [
        "40 "
       ]
      },
      {
       "output_type": "stream",
       "stream": "stdout",
       "text": [
        "50 "
       ]
      },
      {
       "output_type": "stream",
       "stream": "stdout",
       "text": [
        "60 "
       ]
      },
      {
       "output_type": "stream",
       "stream": "stdout",
       "text": [
        "70 "
       ]
      },
      {
       "output_type": "stream",
       "stream": "stdout",
       "text": [
        "80 "
       ]
      },
      {
       "output_type": "stream",
       "stream": "stdout",
       "text": [
        "90 "
       ]
      },
      {
       "output_type": "stream",
       "stream": "stdout",
       "text": [
        "100 "
       ]
      },
      {
       "output_type": "stream",
       "stream": "stdout",
       "text": [
        "110\n"
       ]
      },
      {
       "output_type": "stream",
       "stream": "stdout",
       "text": [
        "Filtered. Considered 64 nodes\n",
        "\n",
        "total =  567.0000001\n",
        "neutral =  49.6\n",
        "positive =  44.3\n",
        "negative =  6.2\n"
       ]
      }
     ],
     "prompt_number": 120
    },
    {
     "cell_type": "code",
     "collapsed": false,
     "input": [
      "uber_results = {}\n",
      "filename = \"Uber.csv\"\n",
      "open(\"comments/\" + filename, 'w').close()\n",
      "with open('comments/' + filename, 'w') as csvfile:\n",
      "    writer = csv.writer(csvfile, delimiter=',')\n",
      "    writer.writerow([\"Link\", \"Score\", \"Comment\"])\n",
      "    pass\n",
      "\n",
      "for city in Cities:\n",
      "    print city\n",
      "    sentiments = get_sentiment_in_city([\"Uber\"], city)\n",
      "    uber_results[city] = sentiments\n",
      "    analyze(sentiments)\n",
      "    saveCSV(sentiments, filename, \"Uber in \" + city)"
     ],
     "language": "python",
     "metadata": {},
     "outputs": [
      {
       "output_type": "stream",
       "stream": "stdout",
       "text": [
        "Boston\n",
        "***\n",
        "* query = Boston Uber, type = page\n",
        "- There are 17 nodes"
       ]
      },
      {
       "output_type": "stream",
       "stream": "stdout",
       "text": [
        "\n",
        "0 "
       ]
      },
      {
       "output_type": "stream",
       "stream": "stdout",
       "text": [
        "10\n"
       ]
      },
      {
       "output_type": "stream",
       "stream": "stdout",
       "text": [
        "Filtered. Considered 9 nodes\n",
        "\n",
        "total =  6.0000001\n",
        "neutral =  83.3\n",
        "positive =  16.7\n",
        "negative =  0.0\n",
        "New York\n",
        "***\n",
        "* query = New York Uber, type = page\n",
        "- There are 50 nodes"
       ]
      },
      {
       "output_type": "stream",
       "stream": "stdout",
       "text": [
        "\n",
        "0 "
       ]
      },
      {
       "output_type": "stream",
       "stream": "stdout",
       "text": [
        "10 "
       ]
      },
      {
       "output_type": "stream",
       "stream": "stdout",
       "text": [
        "20 "
       ]
      },
      {
       "output_type": "stream",
       "stream": "stdout",
       "text": [
        "30 "
       ]
      },
      {
       "output_type": "stream",
       "stream": "stdout",
       "text": [
        "40\n"
       ]
      },
      {
       "output_type": "stream",
       "stream": "stdout",
       "text": [
        "Filtered. Considered 43 nodes\n",
        "\n",
        "total =  63.0000001\n",
        "neutral =  66.7\n",
        "positive =  33.3\n",
        "negative =  0.0\n",
        "San Francisco\n",
        "***\n",
        "* query = San Francisco Uber, type = page\n",
        "- There are 27 nodes"
       ]
      },
      {
       "output_type": "stream",
       "stream": "stdout",
       "text": [
        "\n",
        "0 "
       ]
      },
      {
       "output_type": "stream",
       "stream": "stdout",
       "text": [
        "10 "
       ]
      },
      {
       "output_type": "stream",
       "stream": "stdout",
       "text": [
        "20\n"
       ]
      },
      {
       "output_type": "stream",
       "stream": "stdout",
       "text": [
        "Filtered. Considered 20 nodes\n",
        "\n",
        "total =  57.0000001\n",
        "neutral =  68.4\n",
        "positive =  15.8\n",
        "negative =  15.8\n",
        "Detroit\n",
        "***\n",
        "* query = Detroit Uber, type = page\n",
        "- There are 2 nodes"
       ]
      },
      {
       "output_type": "stream",
       "stream": "stdout",
       "text": [
        "\n",
        "0\n"
       ]
      },
      {
       "output_type": "stream",
       "stream": "stdout",
       "text": [
        "Filtered. Considered 0 nodes\n",
        "\n",
        "total =  1e-07\n",
        "neutral =  0.0\n",
        "positive =  0.0\n",
        "negative =  0.0\n",
        "Oklahoma City\n",
        "***\n",
        "* query = Oklahoma City Uber, type = page\n",
        "- There are 2 nodes"
       ]
      },
      {
       "output_type": "stream",
       "stream": "stdout",
       "text": [
        "\n",
        "0\n"
       ]
      },
      {
       "output_type": "stream",
       "stream": "stdout",
       "text": [
        "Filtered. Considered 1 nodes\n",
        "\n",
        "total =  1e-07\n",
        "neutral =  0.0\n",
        "positive =  0.0\n",
        "negative =  0.0\n"
       ]
      }
     ]
    },
    {
     "cell_type": "code",
     "collapsed": false,
     "input": [],
     "language": "python",
     "metadata": {},
     "outputs": [],
     "prompt_number": 131
    },
    {
     "cell_type": "code",
     "collapsed": false,
     "input": [],
     "language": "python",
     "metadata": {},
     "outputs": [],
     "prompt_number": 31
    },
    {
     "cell_type": "code",
     "collapsed": false,
     "input": [
      "filename = \"Taxi.csv\"\n",
      "open(\"comments/\" + filename, 'w').close()\n",
      "with open('comments/' + filename, 'w') as csvfile:\n",
      "    writer = csv.writer(csvfile, delimiter=',')\n",
      "    writer.writerow([\"Link\", \"Score\", \"Comment\"])\n",
      "    pass\n",
      "\n",
      "for city in Cities:\n",
      "    print city\n",
      "    sentiments = get_sentiment_in_city(Taxi, city)\n",
      "    uber_results[city] = sentiments\n",
      "    analyze(sentiments)\n",
      "    saveCSV(sentiments, filename, \"Taxi in \" + city)"
     ],
     "language": "python",
     "metadata": {},
     "outputs": [
      {
       "output_type": "stream",
       "stream": "stdout",
       "text": [
        "Boston\n",
        "***\n",
        "* query = Boston Cab, type = page\n",
        "* query = Boston Taxi, type = page"
       ]
      },
      {
       "output_type": "stream",
       "stream": "stdout",
       "text": [
        "\n",
        "- There are 200 nodes"
       ]
      },
      {
       "output_type": "stream",
       "stream": "stdout",
       "text": [
        "\n",
        "0 "
       ]
      },
      {
       "output_type": "stream",
       "stream": "stdout",
       "text": [
        "10 "
       ]
      },
      {
       "output_type": "stream",
       "stream": "stdout",
       "text": [
        "20 "
       ]
      },
      {
       "output_type": "stream",
       "stream": "stdout",
       "text": [
        "30 "
       ]
      },
      {
       "output_type": "stream",
       "stream": "stdout",
       "text": [
        "40 "
       ]
      },
      {
       "output_type": "stream",
       "stream": "stdout",
       "text": [
        "50 "
       ]
      },
      {
       "output_type": "stream",
       "stream": "stdout",
       "text": [
        "60 "
       ]
      },
      {
       "output_type": "stream",
       "stream": "stdout",
       "text": [
        "70 "
       ]
      },
      {
       "output_type": "stream",
       "stream": "stdout",
       "text": [
        "80 "
       ]
      },
      {
       "output_type": "stream",
       "stream": "stdout",
       "text": [
        "90 "
       ]
      },
      {
       "output_type": "stream",
       "stream": "stdout",
       "text": [
        "100 "
       ]
      },
      {
       "output_type": "stream",
       "stream": "stdout",
       "text": [
        "110 "
       ]
      },
      {
       "output_type": "stream",
       "stream": "stdout",
       "text": [
        "120 "
       ]
      },
      {
       "output_type": "stream",
       "stream": "stdout",
       "text": [
        "130 "
       ]
      },
      {
       "output_type": "stream",
       "stream": "stdout",
       "text": [
        "140 "
       ]
      },
      {
       "output_type": "stream",
       "stream": "stdout",
       "text": [
        "150 "
       ]
      },
      {
       "output_type": "stream",
       "stream": "stdout",
       "text": [
        "160 "
       ]
      },
      {
       "output_type": "stream",
       "stream": "stdout",
       "text": [
        "170 "
       ]
      },
      {
       "output_type": "stream",
       "stream": "stdout",
       "text": [
        "180 "
       ]
      },
      {
       "output_type": "stream",
       "stream": "stdout",
       "text": [
        "190\n"
       ]
      },
      {
       "output_type": "stream",
       "stream": "stdout",
       "text": [
        "Filtered. Considered 155 nodes\n",
        "\n",
        "total =  651.0000001\n",
        "neutral =  45.6\n",
        "positive =  52.4\n",
        "negative =  2.0\n",
        "New York\n",
        "***\n",
        "* query = New York Cab, type = page\n",
        "* query = New York Taxi, type = page"
       ]
      },
      {
       "output_type": "stream",
       "stream": "stdout",
       "text": [
        "\n",
        "- There are 494 nodes"
       ]
      },
      {
       "output_type": "stream",
       "stream": "stdout",
       "text": [
        "\n",
        "0 "
       ]
      },
      {
       "output_type": "stream",
       "stream": "stdout",
       "text": [
        "10 "
       ]
      },
      {
       "output_type": "stream",
       "stream": "stdout",
       "text": [
        "20 "
       ]
      },
      {
       "output_type": "stream",
       "stream": "stdout",
       "text": [
        "30 "
       ]
      },
      {
       "output_type": "stream",
       "stream": "stdout",
       "text": [
        "40 "
       ]
      },
      {
       "output_type": "stream",
       "stream": "stdout",
       "text": [
        "50 "
       ]
      },
      {
       "output_type": "stream",
       "stream": "stdout",
       "text": [
        "60 "
       ]
      },
      {
       "output_type": "stream",
       "stream": "stdout",
       "text": [
        "70 "
       ]
      },
      {
       "output_type": "stream",
       "stream": "stdout",
       "text": [
        "80 "
       ]
      },
      {
       "output_type": "stream",
       "stream": "stdout",
       "text": [
        "90 "
       ]
      },
      {
       "output_type": "stream",
       "stream": "stdout",
       "text": [
        "100 "
       ]
      },
      {
       "output_type": "stream",
       "stream": "stdout",
       "text": [
        "110 "
       ]
      },
      {
       "output_type": "stream",
       "stream": "stdout",
       "text": [
        "120 "
       ]
      },
      {
       "output_type": "stream",
       "stream": "stdout",
       "text": [
        "130 "
       ]
      },
      {
       "output_type": "stream",
       "stream": "stdout",
       "text": [
        "140 "
       ]
      },
      {
       "output_type": "stream",
       "stream": "stdout",
       "text": [
        "150 "
       ]
      },
      {
       "output_type": "stream",
       "stream": "stdout",
       "text": [
        "160 "
       ]
      },
      {
       "output_type": "stream",
       "stream": "stdout",
       "text": [
        "170 "
       ]
      },
      {
       "output_type": "stream",
       "stream": "stdout",
       "text": [
        "180 "
       ]
      },
      {
       "output_type": "stream",
       "stream": "stdout",
       "text": [
        "190 "
       ]
      },
      {
       "output_type": "stream",
       "stream": "stdout",
       "text": [
        "200 "
       ]
      },
      {
       "output_type": "stream",
       "stream": "stdout",
       "text": [
        "210 "
       ]
      },
      {
       "output_type": "stream",
       "stream": "stdout",
       "text": [
        "220 "
       ]
      },
      {
       "output_type": "stream",
       "stream": "stdout",
       "text": [
        "230 "
       ]
      },
      {
       "output_type": "stream",
       "stream": "stdout",
       "text": [
        "240 "
       ]
      },
      {
       "output_type": "stream",
       "stream": "stdout",
       "text": [
        "250 "
       ]
      },
      {
       "output_type": "stream",
       "stream": "stdout",
       "text": [
        "260 "
       ]
      },
      {
       "output_type": "stream",
       "stream": "stdout",
       "text": [
        "270 "
       ]
      },
      {
       "output_type": "stream",
       "stream": "stdout",
       "text": [
        "280 "
       ]
      },
      {
       "output_type": "stream",
       "stream": "stdout",
       "text": [
        "290 "
       ]
      },
      {
       "output_type": "stream",
       "stream": "stdout",
       "text": [
        "300 "
       ]
      },
      {
       "output_type": "stream",
       "stream": "stdout",
       "text": [
        "310 "
       ]
      },
      {
       "output_type": "stream",
       "stream": "stdout",
       "text": [
        "320 "
       ]
      },
      {
       "output_type": "stream",
       "stream": "stdout",
       "text": [
        "330 "
       ]
      },
      {
       "output_type": "stream",
       "stream": "stdout",
       "text": [
        "340 "
       ]
      },
      {
       "output_type": "stream",
       "stream": "stdout",
       "text": [
        "350 "
       ]
      },
      {
       "output_type": "stream",
       "stream": "stdout",
       "text": [
        "360 "
       ]
      },
      {
       "output_type": "stream",
       "stream": "stdout",
       "text": [
        "370 "
       ]
      },
      {
       "output_type": "stream",
       "stream": "stdout",
       "text": [
        "380 "
       ]
      },
      {
       "output_type": "stream",
       "stream": "stdout",
       "text": [
        "390 "
       ]
      },
      {
       "output_type": "stream",
       "stream": "stdout",
       "text": [
        "400 "
       ]
      },
      {
       "output_type": "stream",
       "stream": "stdout",
       "text": [
        "410 "
       ]
      },
      {
       "output_type": "stream",
       "stream": "stdout",
       "text": [
        "420 "
       ]
      },
      {
       "output_type": "stream",
       "stream": "stdout",
       "text": [
        "430 "
       ]
      },
      {
       "output_type": "stream",
       "stream": "stdout",
       "text": [
        "440 "
       ]
      },
      {
       "output_type": "stream",
       "stream": "stdout",
       "text": [
        "450 "
       ]
      },
      {
       "output_type": "stream",
       "stream": "stdout",
       "text": [
        "460 "
       ]
      },
      {
       "output_type": "stream",
       "stream": "stdout",
       "text": [
        "470 "
       ]
      },
      {
       "output_type": "stream",
       "stream": "stdout",
       "text": [
        "480 "
       ]
      },
      {
       "output_type": "stream",
       "stream": "stdout",
       "text": [
        "490\n"
       ]
      },
      {
       "output_type": "stream",
       "stream": "stdout",
       "text": [
        "Filtered. Considered 357 nodes\n",
        "\n",
        "total =  2275.0000001\n",
        "neutral =  48.5\n",
        "positive =  48.2\n",
        "negative =  3.3\n",
        "San Francisco\n",
        "***\n",
        "* query = San Francisco Cab, type = page\n",
        "* query = San Francisco Taxi, type = page"
       ]
      },
      {
       "output_type": "stream",
       "stream": "stdout",
       "text": [
        "\n",
        "- There are 304 nodes"
       ]
      },
      {
       "output_type": "stream",
       "stream": "stdout",
       "text": [
        "\n",
        "0 "
       ]
      },
      {
       "output_type": "stream",
       "stream": "stdout",
       "text": [
        "10 "
       ]
      },
      {
       "output_type": "stream",
       "stream": "stdout",
       "text": [
        "20 "
       ]
      },
      {
       "output_type": "stream",
       "stream": "stdout",
       "text": [
        "30 "
       ]
      },
      {
       "output_type": "stream",
       "stream": "stdout",
       "text": [
        "40 "
       ]
      },
      {
       "output_type": "stream",
       "stream": "stdout",
       "text": [
        "50 "
       ]
      },
      {
       "output_type": "stream",
       "stream": "stdout",
       "text": [
        "60 "
       ]
      },
      {
       "output_type": "stream",
       "stream": "stdout",
       "text": [
        "70 "
       ]
      },
      {
       "output_type": "stream",
       "stream": "stdout",
       "text": [
        "80 "
       ]
      },
      {
       "output_type": "stream",
       "stream": "stdout",
       "text": [
        "90 "
       ]
      }
     ]
    },
    {
     "cell_type": "code",
     "collapsed": false,
     "input": [],
     "language": "python",
     "metadata": {},
     "outputs": []
    },
    {
     "cell_type": "code",
     "collapsed": false,
     "input": [
      "biking_results = {}\n",
      "city = \"Boston\"\n",
      "if True:\n",
      "    print city\n",
      "    sentiments = get_sentiment_in_city(Biking, city)\n",
      "    biking_results[city] = sentiments\n",
      "    analyze(sentiments)"
     ],
     "language": "python",
     "metadata": {},
     "outputs": [],
     "prompt_number": 67
    },
    {
     "cell_type": "code",
     "collapsed": false,
     "input": [
      "pos, neg = getExtremeComments(sentiments, 40)"
     ],
     "language": "python",
     "metadata": {},
     "outputs": [],
     "prompt_number": 68
    },
    {
     "cell_type": "code",
     "collapsed": false,
     "input": [
      "for message in pos:\n",
      "    print message[2], message[1]"
     ],
     "language": "python",
     "metadata": {},
     "outputs": [
      {
       "output_type": "stream",
       "stream": "stdout",
       "text": [
        "0.7 \"Good day, where may I park?\"\n",
        "0.7 That is a good color combo\n",
        "0.716666666667 Oh damn!!! My prayers go out to the family. I never met him, talked to him on the phone a lot. Great guy!!! Ride easy brother\n",
        "0.75 Nice to hear from you Claire & Peter, look forward to seeing you!\n",
        "0.75 Convert your own bike to electric???\n",
        "Yes you can!\n",
        "0.78125 god knows, they need more money!!\n",
        "0.8 Happy to be of service \ud83d\ude09\n",
        "0.8 That sounds like cracker. Great guy\n",
        "0.8 congrats you two; dont know you but happy for ya;\n",
        "0.8 Looking great\n",
        "0.8 Great advice\n",
        "0.8 Great job Elise Mimmo  thank you\n",
        "0.833333333333 Looks awesome! Especially love the video on the homepage :)\n",
        "0.875 Good for Tyler!\n",
        "0.875 Good looking frame!\n",
        "0.890625 Love it!! Looks great!\n",
        "0.9375 What a perfect picture! Looks good!\n",
        "0.9375 Good job mike! Y'all are a great couple!  I wish we could have came but I will be there to Congratulate you at the smoke out!\n",
        "0.975 Very nice bike!\n",
        "0.9765625 LOVE!!!\n",
        "1.0 Awesome \"logo\" dudes!\n",
        "1.0 Great photo!\n",
        "1.0 Awesome!!\n",
        "1.0 Superb Vivace framesets 30% off\n",
        "1.0 I will be up there in the 19th will the sale still be on? LOL!!\n",
        "1.0 These guys make awesome bikes.\n",
        "1.0 Very beautiful  picture\n",
        "1.0 The best. 1400 kawasaki\n",
        "1.0 Slalom. Awesome!\n",
        "1.0 So happy to join!\n",
        "1.0 ah, my neighbourhood. great.\n",
        "\n",
        "-jay was here!\n",
        "1.0 Awesome!\n",
        "1.0 Awesome Bikeyface!\n",
        "1.0 The best kinda ladies\n",
        "1.0 Was an awesome weekend indeed ..\n",
        "1.0 Awesome! Congrats!\n",
        "1.0 Congratulations Mike and awesome Boston autumn\n",
        "1.0 NICE!! Want! \n",
        "1.0 That's some excellent color flavoring.\n",
        "1.0 looks awesome Marty!\n"
       ]
      }
     ],
     "prompt_number": 34
    },
    {
     "cell_type": "code",
     "collapsed": false,
     "input": [
      "for message in neg:\n",
      "    print round(message[2], 3), message[1]"
     ],
     "language": "python",
     "metadata": {},
     "outputs": [
      {
       "output_type": "stream",
       "stream": "stdout",
       "text": [
        "-1.0 Thank you Jenn for the cold lavender towels this morning! What a treat!!\n",
        "-0.75 ahhh. i'm going to be out of town friday-monday : ( bummed i'm going to miss you.\n",
        "-0.75 anyway to extend this :(\n",
        "-0.714 Sick\n",
        "-0.625 Jennifer Agamie I'm sorry I missed you!\n",
        "-0.6 Cheers Martyn Wilson I thought you'd appreciate it living in a cold climate and having Ebike.\n",
        "-0.5 Don't sell any scooters, sorry.\n",
        "-0.5 Sorry man.\n",
        "-0.5 sorry, Ronald, we don't have one\n",
        "-0.475 This is usually called trespassing.  Don't be riding on track w shiny rails though.  Could be bad.\n",
        "-0.409 I don't live in Boston :(\n",
        "-0.4 Holy fuck\n",
        "-0.357 Such a sick bike\n",
        "-0.313 Pro in this case just mean cash prize and a pro team for filming it no?\n",
        "-0.313 You mean the bike lane buried somewhere under all that snow?\n",
        "-0.3 Parents are stupid should be shot letting that kid ride without a helmet and coverage on his body ...i dont see any talent at all really the stupidity overoad that...\n",
        "-0.25 I'd rather ride these streets than wish I was dead sitting in traffic!\n",
        "-0.247 wow,it sounds very cold there ,right ?\n",
        "-0.2 Does it come in green?\n",
        "-0.2 Don't recall dudes name skinny guy dreads and a limp I think\n",
        "-0.195 Get,more. Bike paths.........with parking there are path. ,but how people can get if their are not lives closed by!!!\n",
        "-0.167 I got these last winter and I'm a believer. You can bike all winter with regular thin gloves with these babies!\n",
        "-0.156 Lookin' sharp!\n",
        "-0.156 Sharp!\n",
        "-0.15 It is likely. A few folks are heading out of town, but if polo is happening we'll post here and it will happen on Sunday around 1:30 at Smith Playground in Allston, our usual place.\n",
        "-0.15 Thanks Keith, we are 100% behind Neighbourhood Planning encouraging cycling. Give us a shout ifyou ever need any bikerepairs/ maintenance!\n",
        "-0.137 Sorry Taz, didn't read your post correctly!! Thanks for the add, I'll put a new flyer up nearer the time!\n",
        "-0.1 Its an abandoned rail line so its not really trespassing\n",
        "-0.1 I am curious about the dimensions and the weight as well.\n",
        "-0.075 I can think of a couple of places in Seattle where these would be handy - HILLS like crazy there!\n",
        "-0.063 This my little nightmare I gotta see everyday with sun in my face, getting ready to get son spray paint to give me a heads up\n",
        "-0.05 Yes we are. Closed Sunday & Monday.   Open tue- fri 9-7. Sat 9-5 \n",
        "-0.028 I ride this every day.  Lately I ride in the middle of the street and too bad if I'm not going fast enough for you.\n",
        "\n",
        "Really though, the way to make this an \"everyone\" issue instead of a bikes vs parking issue is pointing out that the bicycle lane on Beacon St provides a \"buffer\" of sorts for cars to move into in order to clear space for emergency services.  Without the bicycle lane available for this function, there's no way a firetruck/ambulance/police/etc are going to get down Beacon St during rush hour.\n",
        "-0.025 :o carefully bro\n",
        "-0.008 $25 for your lunch or $35 if you would like a lobster, lunch includes the salad bar witch has over 60 iteams, your entr\u00e9e , a dessert and a soda, other drinks are to be paid to the bar directly, please bring the cash with you to the sign up in the morning so we can give the restaurant a total.... Thankyou and look forward to seeing u all there!\n",
        "0.0 Price ? I've got a friend looking for a fat tire bike\n",
        "0.0 Just under $1,000.  You back in MA now?\n",
        "0.0 That is the base model from KHS.  They have few more better ones too\n",
        "0.0 Try Intuit or Square!\n",
        "0.0 Thank you guys for getting me involved! Wish I could make the trip over!\n"
       ]
      }
     ],
     "prompt_number": 35
    },
    {
     "cell_type": "code",
     "collapsed": false,
     "input": [],
     "language": "python",
     "metadata": {},
     "outputs": [],
     "prompt_number": 38
    },
    {
     "cell_type": "code",
     "collapsed": false,
     "input": [],
     "language": "python",
     "metadata": {},
     "outputs": [],
     "prompt_number": 39
    },
    {
     "cell_type": "code",
     "collapsed": false,
     "input": [],
     "language": "python",
     "metadata": {},
     "outputs": []
    },
    {
     "cell_type": "code",
     "collapsed": false,
     "input": [],
     "language": "python",
     "metadata": {},
     "outputs": []
    }
   ],
   "metadata": {}
  }
 ]
}