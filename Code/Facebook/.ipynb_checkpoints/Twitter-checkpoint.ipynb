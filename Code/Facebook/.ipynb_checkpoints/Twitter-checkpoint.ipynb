{
 "metadata": {
  "name": "",
  "signature": "sha256:2c3768d9e14a017ba2adb9771dc5d1cf7c2fe0ae5232059d45d7e756101155f7"
 },
 "nbformat": 3,
 "nbformat_minor": 0,
 "worksheets": [
  {
   "cells": [
    {
     "cell_type": "code",
     "collapsed": false,
     "input": [
      "# -*- coding: cp1252 -*-\n",
      "# extract transportation tweets\n",
      "import os\n",
      "import tweepy\n",
      "import csv\n",
      "import urllib\n",
      "from pattern.en import sentiment\n",
      "from uclassify import uclassify\n",
      "import nltk\n",
      "from nltk import word_tokenize"
     ],
     "language": "python",
     "metadata": {},
     "outputs": [],
     "prompt_number": 4
    },
    {
     "cell_type": "code",
     "collapsed": false,
     "input": [
      "consumer_key = \"eeLPYMXIHSpExEAn4BjF9R2az\"\n",
      "consumer_secret = \"hDbwzPF6YH7W65b1TELE8ZCHLDCHcyGwlcXPVSJZo6clxp3J8d\"\n",
      "access_token = \"348066972-BpmsWQwr3zlOt4m2j65RSPpYvriPkc14UUTjliiz\"\n",
      "access_token_secret = \"Qq7YHdDXH7dV9Rvev5uRKXdFmCPy3ET7EK4adVyUTguUk\"\n",
      "\n",
      "auth = tweepy.OAuthHandler(consumer_key, consumer_secret)\n",
      "auth.set_access_token(access_token, access_token_secret)\n",
      "api = tweepy.API(auth)\n",
      "\n",
      "clas = uclassify()\n",
      "#clas.setWriteApiKey('GB0iOukHYYa1EmtZHX4h5LbZmIc')\n",
      "#clas.setReadApiKey('uSVp9BChjp3zdMqt1HgfzTX7qo')\n",
      "clas.setWriteApiKey('7R0ehEfBFl2l3SOVMYNb5bhT1RM')\n",
      "clas.setReadApiKey('MIiBlCjWet8POhC4mOuIu9EFUCI')"
     ],
     "language": "python",
     "metadata": {},
     "outputs": [],
     "prompt_number": 15
    },
    {
     "cell_type": "code",
     "collapsed": false,
     "input": [],
     "language": "python",
     "metadata": {},
     "outputs": []
    },
    {
     "cell_type": "code",
     "collapsed": false,
     "input": [
      "directory = ''\n",
      "texts = []\n",
      "\n",
      "'''\n",
      "testWriter = csv.writer(open('testTweets.csv', 'wb'))\n",
      "testWriter.writerow(['timeStamp', 'language', 'country', 'city', 'coordinates', 'favorites',\n",
      "                 'retweets', 'user', 'user desc', 'user location', 'text'])\n",
      "'''\n",
      "# search for historical tweets and store them\n",
      "'''\n",
      "testTweets = tweepy.Cursor(api.search,\n",
      "        q = \"Acton\",\n",
      "        # specifies search location: latitude, longitude, search radius. West is -, South is -\n",
      "        geocode = \"42.4850,-71.4333,10mi\",\n",
      "        since = \"2015-01-02\",\n",
      "        until = \"2015-01-08\",\n",
      "        ).items()\n",
      "'''\n",
      "\n",
      "\n",
      "# dictionary of city to geocode string\n",
      "codeDict = {\"paris\" : \"48.8567,2.3508,20mi\",\n",
      "            \"glasgow\" : \"55.8580,-4.2590,20mi\",\n",
      "            \"sf\" : \"37.7833,-122.4167,40mi\",\n",
      "            \"nyc\" : \"40.7127,-74.0059,20mi\",\n",
      "            \"boston\" : \"42.3581,-71.0636,20mi\"}\n",
      "\n",
      "# dictionary of user to age\n",
      "ageDict = {}\n",
      "\n",
      "# initializes everything, given a string specifying the city and the search query\n",
      "def initialize(city, query, since = \"2015-03-05\", until = \"2015-03-08\"):\n",
      "    texts = []\n",
      "    fileName = city + query + \".csv\"\n",
      "    fileWriter = csv.writer(open(fileName, 'wb'))\n",
      "    fileWriter.writerow(['timeStamp', 'language', 'country', 'city', 'coordinates', 'favorites',\n",
      "                 'retweets', 'user', 'user desc', 'user location', 'text','age','sentiment','sign'])\n",
      "\n",
      "    if city != \"\":\n",
      "        code = codeDict[city]\n",
      "        searchResults = tweepy.Cursor(api.search,\n",
      "                    q = query,\n",
      "                    geocode = code,\n",
      "                    lang = \"en\",\n",
      "                    since = since,\n",
      "                    until = until,\n",
      "                    ).items()\n",
      "    else:   # search without specifying the geocode\n",
      "        searchResults = tweepy.Cursor(api.search,\n",
      "                    q = query,\n",
      "                    lang = \"en\",\n",
      "                    since = since,\n",
      "                    until = until,\n",
      "                    ).items()\n",
      "\n",
      "    directory = os.path.expanduser('~/Desktop/UROP/images/' + city + query + '/')\n",
      "    if not os.path.exists(directory):\n",
      "        os.makedirs(directory)\n",
      "    \n",
      "    for tweet in searchResults:\n",
      "        if tweet.text[:2] != \"RT\":    # don't store retweets\n",
      "            scrape(tweet, fileWriter)\n",
      "\n",
      "    # perform text analysis\n",
      "    fd = nltk.FreqDist(texts)\n",
      "    print fd.items()[:69]\n",
      "\n",
      "# checks age of individual tweet\n",
      "def checkTweetAge(text, user):\n",
      "    results = clas.classify([text],\"Ageanalyzer\",\"uClassify\")\n",
      "    age = \"\"\n",
      "    maxProb = 0\n",
      "    for item in results[0][2]:\n",
      "        prob = float(item[1])\n",
      "        if prob > maxProb:\n",
      "            maxProb = prob\n",
      "            age = item[0]\n",
      "    #print results\n",
      "    ageDict[user] = age\n",
      "    print age\n",
      "    return age\n",
      "\n",
      "# goes through the user's tweets and checks for age, returns most likely age\n",
      "def checkAge(user):\n",
      "    tweets = api.user_timeline(screen_name = user, count = 200)\n",
      "    texts = []\n",
      "    for tweet in tweets:\n",
      "        text = tweet.text.encode('utf-8')\n",
      "        if text[:2] != \"RT\":    # don't store retweets\n",
      "            text = checkEncode(text)\n",
      "            texts.append(text)\n",
      "    string = \"\"\n",
      "    for text in texts:\n",
      "        string = string + text\n",
      "        string = string + \" \"\n",
      "\n",
      "    results = clas.classify([string],\"Ageanalyzer\",\"uClassify\")\n",
      "    age = \"\"\n",
      "    maxProb = 0\n",
      "    for item in results[0][2]:\n",
      "        prob = float(item[1])\n",
      "        if prob > maxProb:\n",
      "            maxProb = prob\n",
      "            age = item[0]\n",
      "    #print results\n",
      "    ageDict[user] = age\n",
      "    print age\n",
      "    return age\n",
      "\n",
      "# removes non-encodeable charcters from the element\n",
      "def checkEncode(element):\n",
      "    newElement = element\n",
      "    try:\n",
      "        element.decode('ascii')\n",
      "    except:\n",
      "        newElement = \"\"\n",
      "        for char in element:\n",
      "            try:\n",
      "                char.decode('ascii')\n",
      "                newElement = newElement + char\n",
      "            except:\n",
      "                pass\n",
      "    return newElement\n",
      "\n",
      "# stores image of the tweet\n",
      "def storeImage(tweet, text, user):\n",
      "    \n",
      "    #print tweet.text\n",
      "    try:\n",
      "        for media in tweet.extended_entities['media']:\n",
      "            if media['type'] == 'photo':\n",
      "                url = media['media_url'] + ':large'\n",
      "                print \"image found\"\n",
      "                filename = user + text[:10]\n",
      "                filepath = directory + filename\n",
      "                # stores image from url\n",
      "                urllib.urlretrieve(url, filepath)\n",
      "                newfilepath = filepath + \".jpg\"\n",
      "                #newfilepath = filepath + \".png\"\n",
      "                os.rename(filepath, newfilepath)\n",
      "    except:\n",
      "        a = 1\n",
      "\n",
      "# scrapes data from the tweet\n",
      "def scrape(tweet, writer):\n",
      "    timeStamp = tweet.created_at\n",
      "    language = tweet.lang\n",
      "    country = \"\"\n",
      "    city = \"\"\n",
      "    if tweet.place != None:\n",
      "        country = tweet.place.country\n",
      "        city = tweet.place.full_name\n",
      "    coordinates = \"\"\n",
      "    if tweet.coordinates != None:\n",
      "        coordinates = tweet.coordinates['coordinates']\n",
      "        \n",
      "    favorites = tweet.favorite_count\n",
      "    retweets = tweet.retweet_count\n",
      "    user = tweet.user.screen_name\n",
      "    userDesc = tweet.user.description\n",
      "    userLoc = tweet.user.location\n",
      "    text = tweet.text.encode('utf-8')\n",
      "    \n",
      "    text = checkEncode(text)\n",
      "    user = checkEncode(user)\n",
      "    userDesc = checkEncode(userDesc)\n",
      "    userLoc = checkEncode(userLoc)\n",
      "    country = checkEncode(country)\n",
      "    city = checkEncode(city)\n",
      "    sent = sentiment(text)[0]\n",
      "\n",
      "    if user in ageDict.keys():\n",
      "        age = ageDict[user]\n",
      "    else:   # checks age of this user's tweet\n",
      "        #age = checkAge(user)\n",
      "        age = checkTweetAge(text, user)\n",
      "    \n",
      "    if age == \"18-25\" or age == \"26-35\" or age == \"13-17\":    #only store tweet data from millenials        \n",
      "        # stores image, if any\n",
      "        # storeImage(tweet, text, user)\n",
      "\n",
      "        # stores the text (to use for text analysis)\n",
      "        tokens = word_tokenize(text)\n",
      "        texts.extend(tokens)\n",
      "        \n",
      "        try:\n",
      "            writer.writerow([timeStamp, language, country, city, coordinates, favorites,\n",
      "                         retweets, user, userDesc, userLoc, text, age, sent])\n",
      " \n",
      "        # handles non-encodeable characters\n",
      "        except:\n",
      "            print \"HERE\"\n",
      "            newText = \"\"\n",
      "            for char in text:\n",
      "                try:\n",
      "                    char.decode('ascii')\n",
      "                    newText = newText + char\n",
      "                except:\n",
      "                    pass\n",
      "            try:\n",
      "                writer.writerow([timeStamp, language, country, city, coordinates, favorites,\n",
      "                         retweets, user, userDesc, userLoc, newText, age, sent])\n",
      "            except:\n",
      "                print \"non-encodeable character in non-text part of tweet: \" + newText\n",
      "                writer.writerow([timeStamp, language, \"\", \"\", coordinates, favorites,\n",
      "                         retweets, \"\", \"\", \"\", newText, age, sent])\n",
      "\n",
      "\n",
      "    \n",
      "'''\n",
      "# TESTING\n",
      "\n",
      "api.update_status('test')\n",
      "\n",
      "user = api.get_user('stariat1')\n",
      "print user.screen_name\n",
      "print user.followers_count\n",
      "for friend in user.friends():\n",
      "   print friend.screen_name\n",
      "\n",
      "results = api.search(q='DWAI')\n",
      "len(results)\n",
      "for result in results:\n",
      "    print result.text\n",
      "\n",
      "public_tweets = api.home_timeline()\n",
      "for tweet in public_tweets:\n",
      "    print tweet.text\n",
      "'''\n"
     ],
     "language": "python",
     "metadata": {},
     "outputs": [
      {
       "metadata": {},
       "output_type": "pyout",
       "prompt_number": 26,
       "text": [
        "\"\\n# TESTING\\n\\napi.update_status('test')\\n\\nuser = api.get_user('stariat1')\\nprint user.screen_name\\nprint user.followers_count\\nfor friend in user.friends():\\n   print friend.screen_name\\n\\nresults = api.search(q='DWAI')\\nlen(results)\\nfor result in results:\\n    print result.text\\n\\npublic_tweets = api.home_timeline()\\nfor tweet in public_tweets:\\n    print tweet.text\\n\""
       ]
      }
     ],
     "prompt_number": 26
    },
    {
     "cell_type": "code",
     "collapsed": false,
     "input": [
      "initialize(\"boston\", \"Car\", since = \"2015-03-01\", until = \"2015-03-10\")\n",
      "# 22 + 23 + 16 + 17 + 17 + 19 + 10 + 8"
     ],
     "language": "python",
     "metadata": {},
     "outputs": [
      {
       "output_type": "stream",
       "stream": "stdout",
       "text": [
        "65-100\n",
        "13-17"
       ]
      },
      {
       "output_type": "stream",
       "stream": "stdout",
       "text": [
        "\n",
        "13-17"
       ]
      },
      {
       "output_type": "stream",
       "stream": "stdout",
       "text": [
        "\n",
        "65-100"
       ]
      },
      {
       "output_type": "stream",
       "stream": "stdout",
       "text": [
        "\n",
        "65-100"
       ]
      },
      {
       "output_type": "stream",
       "stream": "stdout",
       "text": [
        "\n",
        "36-50"
       ]
      },
      {
       "output_type": "stream",
       "stream": "stdout",
       "text": [
        "\n",
        "13-17"
       ]
      },
      {
       "output_type": "stream",
       "stream": "stdout",
       "text": [
        "\n",
        "36-50"
       ]
      },
      {
       "output_type": "stream",
       "stream": "stdout",
       "text": [
        "\n",
        "13-17"
       ]
      },
      {
       "output_type": "stream",
       "stream": "stdout",
       "text": [
        "\n",
        "13-17"
       ]
      },
      {
       "output_type": "stream",
       "stream": "stdout",
       "text": [
        "\n",
        "13-17"
       ]
      },
      {
       "output_type": "stream",
       "stream": "stdout",
       "text": [
        "\n",
        "13-17"
       ]
      },
      {
       "output_type": "stream",
       "stream": "stdout",
       "text": [
        "\n",
        "65-100"
       ]
      },
      {
       "output_type": "stream",
       "stream": "stdout",
       "text": [
        "\n",
        "18-25"
       ]
      },
      {
       "output_type": "stream",
       "stream": "stdout",
       "text": [
        "\n",
        "36-50"
       ]
      },
      {
       "output_type": "stream",
       "stream": "stdout",
       "text": [
        "\n",
        "36-50"
       ]
      },
      {
       "output_type": "stream",
       "stream": "stdout",
       "text": [
        "\n",
        "51-65"
       ]
      },
      {
       "output_type": "stream",
       "stream": "stdout",
       "text": [
        "\n",
        "36-50"
       ]
      },
      {
       "output_type": "stream",
       "stream": "stdout",
       "text": [
        "\n",
        "36-50"
       ]
      },
      {
       "output_type": "stream",
       "stream": "stdout",
       "text": [
        "\n",
        "13-17"
       ]
      },
      {
       "output_type": "stream",
       "stream": "stdout",
       "text": [
        "\n",
        "36-50"
       ]
      },
      {
       "output_type": "stream",
       "stream": "stdout",
       "text": [
        "\n",
        "65-100"
       ]
      },
      {
       "output_type": "stream",
       "stream": "stdout",
       "text": [
        "\n",
        "13-17"
       ]
      },
      {
       "output_type": "stream",
       "stream": "stdout",
       "text": [
        "\n",
        "18-25"
       ]
      },
      {
       "output_type": "stream",
       "stream": "stdout",
       "text": [
        "\n",
        "18-25"
       ]
      },
      {
       "output_type": "stream",
       "stream": "stdout",
       "text": [
        "\n",
        "13-17"
       ]
      },
      {
       "output_type": "stream",
       "stream": "stdout",
       "text": [
        "\n",
        "13-17"
       ]
      },
      {
       "output_type": "stream",
       "stream": "stdout",
       "text": [
        "\n",
        "26-35"
       ]
      },
      {
       "output_type": "stream",
       "stream": "stdout",
       "text": [
        "\n",
        "51-65"
       ]
      },
      {
       "output_type": "stream",
       "stream": "stdout",
       "text": [
        "\n",
        "36-50"
       ]
      },
      {
       "output_type": "stream",
       "stream": "stdout",
       "text": [
        "\n",
        "36-50"
       ]
      },
      {
       "output_type": "stream",
       "stream": "stdout",
       "text": [
        "\n",
        "13-17"
       ]
      },
      {
       "output_type": "stream",
       "stream": "stdout",
       "text": [
        "\n",
        "36-50"
       ]
      },
      {
       "output_type": "stream",
       "stream": "stdout",
       "text": [
        "\n",
        "26-35"
       ]
      },
      {
       "output_type": "stream",
       "stream": "stdout",
       "text": [
        "\n",
        "51-65"
       ]
      },
      {
       "output_type": "stream",
       "stream": "stdout",
       "text": [
        "\n",
        "13-17"
       ]
      },
      {
       "output_type": "stream",
       "stream": "stdout",
       "text": [
        "\n",
        "65-100"
       ]
      },
      {
       "output_type": "stream",
       "stream": "stdout",
       "text": [
        "\n",
        "65-100"
       ]
      },
      {
       "output_type": "stream",
       "stream": "stdout",
       "text": [
        "\n",
        "36-50"
       ]
      },
      {
       "output_type": "stream",
       "stream": "stdout",
       "text": [
        "\n",
        "36-50"
       ]
      },
      {
       "output_type": "stream",
       "stream": "stdout",
       "text": [
        "\n",
        "51-65"
       ]
      },
      {
       "output_type": "stream",
       "stream": "stdout",
       "text": [
        "\n",
        "51-65"
       ]
      },
      {
       "output_type": "stream",
       "stream": "stdout",
       "text": [
        "\n",
        "13-17"
       ]
      },
      {
       "output_type": "stream",
       "stream": "stdout",
       "text": [
        "\n",
        "51-65"
       ]
      },
      {
       "output_type": "stream",
       "stream": "stdout",
       "text": [
        "\n",
        "13-17"
       ]
      },
      {
       "output_type": "stream",
       "stream": "stdout",
       "text": [
        "\n",
        "[]"
       ]
      },
      {
       "output_type": "stream",
       "stream": "stdout",
       "text": [
        "\n"
       ]
      }
     ],
     "prompt_number": 44
    },
    {
     "cell_type": "code",
     "collapsed": false,
     "input": [],
     "language": "python",
     "metadata": {},
     "outputs": [],
     "prompt_number": 43
    },
    {
     "cell_type": "code",
     "collapsed": false,
     "input": [],
     "language": "python",
     "metadata": {},
     "outputs": []
    }
   ],
   "metadata": {}
  }
 ]
}