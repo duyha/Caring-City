{
 "metadata": {
  "name": "",
  "signature": "sha256:ff152ece14e789153b77ee476a33108e160b5e850518c3abf97148871b714a14"
 },
 "nbformat": 3,
 "nbformat_minor": 0,
 "worksheets": [
  {
   "cells": [
    {
     "cell_type": "code",
     "collapsed": false,
     "input": [
      "# Create one example of getting transportation data from FB\n",
      "import requests\n",
      "import sqlite3\n",
      "import os\n",
      "from datetime import datetime\n",
      "import facebook\n",
      "import json\n",
      "from facebook_api import *"
     ],
     "language": "python",
     "metadata": {},
     "outputs": [],
     "prompt_number": 13
    },
    {
     "cell_type": "code",
     "collapsed": false,
     "input": [
      "BOS_POPULATION = 645966\n",
      "NYC_POPULATION = 8406000\n",
      "SFO_POPULATION = 837442\n",
      "LA_POPULATION = 3884000\n",
      "OKL_POPULATION = 3.851*10**6\n",
      "DET_POPULATION = 688701  # Detroit\n",
      "DEN_POPULATION = 649495  # Denver\n",
      "POR_POPULATION = 609456  # Portland, Oregon\n",
      "SLK_POPULATION = 191180  # Salt Lake City\n",
      "SEA_POPULATION = 652405  # Seattle\n",
      "RMD_POPULATION = 214114  # Richmond\n",
      "KNV_POPULATION = 183270  # Knoxville"
     ],
     "language": "python",
     "metadata": {},
     "outputs": [],
     "prompt_number": 13
    },
    {
     "cell_type": "code",
     "collapsed": false,
     "input": [
      "# Get access token first\n",
      "# I have created a FB account\n",
      "#     email: urop.caring.city@gmail.com\n",
      "#     password: urop.caring.city\n",
      "# Then go to https://developers.facebook.com/tools/explorer/ to get access token.\n",
      "ACCESS_TOKEN = 'CAACEdEose0cBAFIV3304nT2xM0yOGottoAWAvn83vUdTjxlazYmzBns3o7pAzmNZAbAorqFn60iIfBwSFGg5eFz00wSAHlt2ZAZCZB3PtvrfS5S5rTAEgEeVP4O4fZCt39IUOLoVZCgpqYFLsW5k5o8uQa5H4zswbGpFJFY2HCjTqZC5r5oGRrjdtVZCmgQKiXNmWtw2uA37X2VlL4ADhFxD'\n",
      "args = {\"access_token\": ACCESS_TOKEN}"
     ],
     "language": "python",
     "metadata": {},
     "outputs": [],
     "prompt_number": 15
    },
    {
     "cell_type": "code",
     "collapsed": false,
     "input": [
      "# Count the number of likes of an object\n",
      "def get_object_likes(object_id):\n",
      "    graph = facebook.GraphAPI(ACCESS_TOKEN)\n",
      "    profile = graph.get_object(str(object_id))\n",
      "\n",
      "    # Get the number of likes and the number of talking about\n",
      "    likes = profile[\"likes\"]\n",
      "    talking_about_count = profile[\"talking_about_count\"]\n",
      "    return likes, talking_about_count\n",
      "   \n",
      "def get_topic_likes(querry, object_type):\n",
      "    \n",
      "    # Search\n",
      "    print \"* querry = %s, type = %s\" % (querry, object_type)\n",
      "    response = requests.request(\"GET\",                  # Get information\n",
      "                            \"https://graph.facebook.com/\" +  # Send request to graph FB\n",
      "                            \"/search?\" +                # search operation\n",
      "                            \"q=%s&\" % querry +          # querry\n",
      "                            \"type=%s&\" % object_type,   # object-type\n",
      "                            params=args)\n",
      "    \n",
      "    # Get all nodes of the search\n",
      "    data = response.json()[\"data\"]\n",
      "    print \"* The number of pages is %d\" % len(data)\n",
      "    \n",
      "    # Compute the number of likes\n",
      "    total_likes, total_talking_about_count = 0, 0\n",
      "    for i, node in enumerate(data):\n",
      "        # get its id\n",
      "        node_id = str(node[\"id\"])\n",
      "        if (i % 10 == 0):\n",
      "            print i,  # track\n",
      "        # Get like count\n",
      "        likes, talking_about_count = get_object_likes(node_id)\n",
      "        total_likes += likes\n",
      "        total_talking_about_count += talking_about_count\n",
      "    print \n",
      "    print \"* The number of likes, talking about = %d, %d\" % (total_likes, total_talking_about_count)\n",
      "    print \"* Ratio likes/talks = %f\" % (float(total_likes)/(total_talking_about_count+0.01))\n",
      "    return total_likes, total_talking_about_count\n",
      "    "
     ],
     "language": "python",
     "metadata": {},
     "outputs": [],
     "prompt_number": 16
    },
    {
     "cell_type": "code",
     "collapsed": false,
     "input": [
      "total_likes, total_talking_about_count = get_topic_likes(\"Transportation Boston\", \"page\")\n",
      "print \"* Average likes/person = %f\" % (float(total_likes)/BOS_POPULATION)\n",
      "print \"* Average talks/person = %f\" % (float(total_talking_about_count)/BOS_POPULATION)"
     ],
     "language": "python",
     "metadata": {},
     "outputs": [
      {
       "output_type": "stream",
       "stream": "stdout",
       "text": [
        "* querry = Transportation Boston, type = page\n",
        "* The number of pages is 195"
       ]
      },
      {
       "output_type": "stream",
       "stream": "stdout",
       "text": [
        "\n",
        "0 "
       ]
      },
      {
       "output_type": "stream",
       "stream": "stdout",
       "text": [
        "10 "
       ]
      },
      {
       "output_type": "stream",
       "stream": "stdout",
       "text": [
        "20 "
       ]
      },
      {
       "output_type": "stream",
       "stream": "stdout",
       "text": [
        "30 "
       ]
      },
      {
       "output_type": "stream",
       "stream": "stdout",
       "text": [
        "40 "
       ]
      },
      {
       "output_type": "stream",
       "stream": "stdout",
       "text": [
        "50 "
       ]
      },
      {
       "output_type": "stream",
       "stream": "stdout",
       "text": [
        "60 "
       ]
      },
      {
       "output_type": "stream",
       "stream": "stdout",
       "text": [
        "70 "
       ]
      },
      {
       "output_type": "stream",
       "stream": "stdout",
       "text": [
        "80 "
       ]
      },
      {
       "output_type": "stream",
       "stream": "stdout",
       "text": [
        "90 "
       ]
      },
      {
       "output_type": "stream",
       "stream": "stdout",
       "text": [
        "100 "
       ]
      },
      {
       "output_type": "stream",
       "stream": "stdout",
       "text": [
        "110 "
       ]
      },
      {
       "output_type": "stream",
       "stream": "stdout",
       "text": [
        "120 "
       ]
      },
      {
       "output_type": "stream",
       "stream": "stdout",
       "text": [
        "130 "
       ]
      },
      {
       "output_type": "stream",
       "stream": "stdout",
       "text": [
        "140 "
       ]
      },
      {
       "output_type": "stream",
       "stream": "stdout",
       "text": [
        "150 "
       ]
      },
      {
       "output_type": "stream",
       "stream": "stdout",
       "text": [
        "160 "
       ]
      },
      {
       "output_type": "stream",
       "stream": "stdout",
       "text": [
        "170 "
       ]
      },
      {
       "output_type": "stream",
       "stream": "stdout",
       "text": [
        "180 "
       ]
      },
      {
       "output_type": "stream",
       "stream": "stdout",
       "text": [
        "190\n"
       ]
      },
      {
       "output_type": "stream",
       "stream": "stdout",
       "text": [
        "* The number of likes, talking about = 109314, 3448\n",
        "* Ratio likes/talks = 31.703504\n",
        "* Average likes/person = 0.169226\n",
        "* Average talks/person = 0.005338\n"
       ]
      }
     ],
     "prompt_number": 17
    },
    {
     "cell_type": "code",
     "collapsed": false,
     "input": [
      "total_likes, total_talking_about_count = get_topic_likes(\"Transportation Seattle\", \"page\")\n",
      "print \"* Average likes/person = %f\" % (float(total_likes)/SEA_POPULATION)\n",
      "print \"* Average talks/person = %f\" % (float(total_talking_about_count)/SEA_POPULATION)"
     ],
     "language": "python",
     "metadata": {},
     "outputs": [
      {
       "output_type": "stream",
       "stream": "stdout",
       "text": [
        "* querry = Transportation Seattle, type = page\n",
        "* The number of pages is 151"
       ]
      },
      {
       "output_type": "stream",
       "stream": "stdout",
       "text": [
        "\n",
        "0 "
       ]
      },
      {
       "output_type": "stream",
       "stream": "stdout",
       "text": [
        "10 "
       ]
      },
      {
       "output_type": "stream",
       "stream": "stdout",
       "text": [
        "20 "
       ]
      },
      {
       "output_type": "stream",
       "stream": "stdout",
       "text": [
        "30 "
       ]
      },
      {
       "output_type": "stream",
       "stream": "stdout",
       "text": [
        "40 "
       ]
      },
      {
       "output_type": "stream",
       "stream": "stdout",
       "text": [
        "50 "
       ]
      },
      {
       "output_type": "stream",
       "stream": "stdout",
       "text": [
        "60 "
       ]
      },
      {
       "output_type": "stream",
       "stream": "stdout",
       "text": [
        "70 "
       ]
      },
      {
       "output_type": "stream",
       "stream": "stdout",
       "text": [
        "80 "
       ]
      },
      {
       "output_type": "stream",
       "stream": "stdout",
       "text": [
        "90 "
       ]
      },
      {
       "output_type": "stream",
       "stream": "stdout",
       "text": [
        "100 "
       ]
      },
      {
       "output_type": "stream",
       "stream": "stdout",
       "text": [
        "110 "
       ]
      },
      {
       "output_type": "stream",
       "stream": "stdout",
       "text": [
        "120 "
       ]
      },
      {
       "output_type": "stream",
       "stream": "stdout",
       "text": [
        "130 "
       ]
      },
      {
       "output_type": "stream",
       "stream": "stdout",
       "text": [
        "140 "
       ]
      },
      {
       "output_type": "stream",
       "stream": "stdout",
       "text": [
        "150\n"
       ]
      },
      {
       "output_type": "stream",
       "stream": "stdout",
       "text": [
        "* The number of likes, talking about = 192209, 3892\n",
        "* Ratio likes/talks = 49.385536\n",
        "* Average likes/person = 0.294616\n",
        "* Average talks/person = 0.005966\n"
       ]
      }
     ],
     "prompt_number": 11
    },
    {
     "cell_type": "code",
     "collapsed": false,
     "input": [
      "total_likes, total_talking_about_count = get_topic_likes(\"Transportation New York\", \"page\")\n",
      "print \"* Average likes/person = %f\" % (float(total_likes)/NYC_POPULATION)\n",
      "print \"* Average talks/person = %f\" % (float(total_talking_about_count)/NYC_POPULATION)"
     ],
     "language": "python",
     "metadata": {},
     "outputs": [
      {
       "output_type": "stream",
       "stream": "stdout",
       "text": [
        "* querry = Transportation New York, type = page\n",
        "* The number of pages is 339"
       ]
      },
      {
       "output_type": "stream",
       "stream": "stdout",
       "text": [
        "\n",
        "0 "
       ]
      },
      {
       "output_type": "stream",
       "stream": "stdout",
       "text": [
        "10 "
       ]
      },
      {
       "output_type": "stream",
       "stream": "stdout",
       "text": [
        "20 "
       ]
      },
      {
       "output_type": "stream",
       "stream": "stdout",
       "text": [
        "30 "
       ]
      },
      {
       "output_type": "stream",
       "stream": "stdout",
       "text": [
        "40 "
       ]
      },
      {
       "output_type": "stream",
       "stream": "stdout",
       "text": [
        "50 "
       ]
      },
      {
       "output_type": "stream",
       "stream": "stdout",
       "text": [
        "60 "
       ]
      },
      {
       "output_type": "stream",
       "stream": "stdout",
       "text": [
        "70 "
       ]
      },
      {
       "output_type": "stream",
       "stream": "stdout",
       "text": [
        "80 "
       ]
      },
      {
       "output_type": "stream",
       "stream": "stdout",
       "text": [
        "90 "
       ]
      },
      {
       "output_type": "stream",
       "stream": "stdout",
       "text": [
        "100 "
       ]
      },
      {
       "output_type": "stream",
       "stream": "stdout",
       "text": [
        "110 "
       ]
      },
      {
       "output_type": "stream",
       "stream": "stdout",
       "text": [
        "120 "
       ]
      },
      {
       "output_type": "stream",
       "stream": "stdout",
       "text": [
        "130 "
       ]
      },
      {
       "output_type": "stream",
       "stream": "stdout",
       "text": [
        "140 "
       ]
      },
      {
       "output_type": "stream",
       "stream": "stdout",
       "text": [
        "150 "
       ]
      },
      {
       "output_type": "stream",
       "stream": "stdout",
       "text": [
        "160 "
       ]
      },
      {
       "output_type": "stream",
       "stream": "stdout",
       "text": [
        "170 "
       ]
      },
      {
       "output_type": "stream",
       "stream": "stdout",
       "text": [
        "180 "
       ]
      },
      {
       "output_type": "stream",
       "stream": "stdout",
       "text": [
        "190 "
       ]
      },
      {
       "output_type": "stream",
       "stream": "stdout",
       "text": [
        "200 "
       ]
      },
      {
       "output_type": "stream",
       "stream": "stdout",
       "text": [
        "210 "
       ]
      },
      {
       "output_type": "stream",
       "stream": "stdout",
       "text": [
        "220 "
       ]
      },
      {
       "output_type": "stream",
       "stream": "stdout",
       "text": [
        "230 "
       ]
      },
      {
       "output_type": "stream",
       "stream": "stdout",
       "text": [
        "240 "
       ]
      },
      {
       "output_type": "stream",
       "stream": "stdout",
       "text": [
        "250 "
       ]
      },
      {
       "output_type": "stream",
       "stream": "stdout",
       "text": [
        "260 "
       ]
      },
      {
       "output_type": "stream",
       "stream": "stdout",
       "text": [
        "270 "
       ]
      },
      {
       "output_type": "stream",
       "stream": "stdout",
       "text": [
        "280 "
       ]
      },
      {
       "output_type": "stream",
       "stream": "stdout",
       "text": [
        "290 "
       ]
      },
      {
       "output_type": "stream",
       "stream": "stdout",
       "text": [
        "300 "
       ]
      },
      {
       "output_type": "stream",
       "stream": "stdout",
       "text": [
        "310 "
       ]
      },
      {
       "output_type": "stream",
       "stream": "stdout",
       "text": [
        "320 "
       ]
      },
      {
       "output_type": "stream",
       "stream": "stdout",
       "text": [
        "330\n"
       ]
      },
      {
       "output_type": "stream",
       "stream": "stdout",
       "text": [
        "* The number of likes, talking about = 2006608, 112132\n",
        "* Ratio likes/talks = 17.895051\n",
        "* Average likes/person = 0.238711\n",
        "* Average talks/person = 0.013340\n"
       ]
      }
     ],
     "prompt_number": 117
    },
    {
     "cell_type": "code",
     "collapsed": false,
     "input": [
      "total_likes, total_talking_about_count = get_topic_likes(\"Transportation San Francisco\", \"page\")\n",
      "print \"* Average likes/person = %f\" % (float(total_likes)/SFO_POPULATION)\n",
      "print \"* Average talks/person = %f\" % (float(total_talking_about_count)/SFO_POPULATION)"
     ],
     "language": "python",
     "metadata": {},
     "outputs": [
      {
       "output_type": "stream",
       "stream": "stdout",
       "text": [
        "* querry = Transportation San Francisco, type = page\n",
        "* The number of pages is 149"
       ]
      },
      {
       "output_type": "stream",
       "stream": "stdout",
       "text": [
        "\n",
        "0 "
       ]
      },
      {
       "output_type": "stream",
       "stream": "stdout",
       "text": [
        "10 "
       ]
      },
      {
       "output_type": "stream",
       "stream": "stdout",
       "text": [
        "20 "
       ]
      },
      {
       "output_type": "stream",
       "stream": "stdout",
       "text": [
        "30 "
       ]
      },
      {
       "output_type": "stream",
       "stream": "stdout",
       "text": [
        "40 "
       ]
      },
      {
       "output_type": "stream",
       "stream": "stdout",
       "text": [
        "50 "
       ]
      },
      {
       "output_type": "stream",
       "stream": "stdout",
       "text": [
        "60 "
       ]
      },
      {
       "output_type": "stream",
       "stream": "stdout",
       "text": [
        "70 "
       ]
      },
      {
       "output_type": "stream",
       "stream": "stdout",
       "text": [
        "80 "
       ]
      },
      {
       "output_type": "stream",
       "stream": "stdout",
       "text": [
        "90 "
       ]
      },
      {
       "output_type": "stream",
       "stream": "stdout",
       "text": [
        "100 "
       ]
      },
      {
       "output_type": "stream",
       "stream": "stdout",
       "text": [
        "110 "
       ]
      },
      {
       "output_type": "stream",
       "stream": "stdout",
       "text": [
        "120 "
       ]
      },
      {
       "output_type": "stream",
       "stream": "stdout",
       "text": [
        "130 "
       ]
      },
      {
       "output_type": "stream",
       "stream": "stdout",
       "text": [
        "140\n"
       ]
      },
      {
       "output_type": "stream",
       "stream": "stdout",
       "text": [
        "* The number of likes, talking about = 182132, 3802\n",
        "* Ratio likes/talks = 47.904135\n",
        "* Average likes/person = 0.217486\n",
        "* Average talks/person = 0.004540\n"
       ]
      }
     ],
     "prompt_number": 107
    },
    {
     "cell_type": "code",
     "collapsed": false,
     "input": [
      "total_likes, total_talking_about_count = get_topic_likes(\"Transportation Los Angeles\", \"page\")\n",
      "print \"* Average likes/person = %f\" % (float(total_likes)/LA_POPULATION)\n",
      "print \"* Average talks/person = %f\" % (float(total_talking_about_count)/LA_POPULATION)"
     ],
     "language": "python",
     "metadata": {},
     "outputs": [
      {
       "output_type": "stream",
       "stream": "stdout",
       "text": [
        "* querry = Transportation Los Angeles, type = page\n",
        "* The number of pages is 236"
       ]
      },
      {
       "output_type": "stream",
       "stream": "stdout",
       "text": [
        "\n",
        "0 "
       ]
      },
      {
       "output_type": "stream",
       "stream": "stdout",
       "text": [
        "10 "
       ]
      },
      {
       "output_type": "stream",
       "stream": "stdout",
       "text": [
        "20 "
       ]
      },
      {
       "output_type": "stream",
       "stream": "stdout",
       "text": [
        "30 "
       ]
      },
      {
       "output_type": "stream",
       "stream": "stdout",
       "text": [
        "40 "
       ]
      },
      {
       "output_type": "stream",
       "stream": "stdout",
       "text": [
        "50 "
       ]
      },
      {
       "output_type": "stream",
       "stream": "stdout",
       "text": [
        "60 "
       ]
      },
      {
       "output_type": "stream",
       "stream": "stdout",
       "text": [
        "70 "
       ]
      },
      {
       "output_type": "stream",
       "stream": "stdout",
       "text": [
        "80 "
       ]
      },
      {
       "output_type": "stream",
       "stream": "stdout",
       "text": [
        "90 "
       ]
      },
      {
       "output_type": "stream",
       "stream": "stdout",
       "text": [
        "100 "
       ]
      },
      {
       "output_type": "stream",
       "stream": "stdout",
       "text": [
        "110 "
       ]
      },
      {
       "output_type": "stream",
       "stream": "stdout",
       "text": [
        "120 "
       ]
      },
      {
       "output_type": "stream",
       "stream": "stdout",
       "text": [
        "130 "
       ]
      },
      {
       "output_type": "stream",
       "stream": "stdout",
       "text": [
        "140 "
       ]
      },
      {
       "output_type": "stream",
       "stream": "stdout",
       "text": [
        "150 "
       ]
      },
      {
       "output_type": "stream",
       "stream": "stdout",
       "text": [
        "160 "
       ]
      },
      {
       "output_type": "stream",
       "stream": "stdout",
       "text": [
        "170 "
       ]
      },
      {
       "output_type": "stream",
       "stream": "stdout",
       "text": [
        "180 "
       ]
      },
      {
       "output_type": "stream",
       "stream": "stdout",
       "text": [
        "190 "
       ]
      },
      {
       "output_type": "stream",
       "stream": "stdout",
       "text": [
        "200 "
       ]
      },
      {
       "output_type": "stream",
       "stream": "stdout",
       "text": [
        "210 "
       ]
      },
      {
       "output_type": "stream",
       "stream": "stdout",
       "text": [
        "220 "
       ]
      },
      {
       "output_type": "stream",
       "stream": "stdout",
       "text": [
        "230\n"
       ]
      },
      {
       "output_type": "stream",
       "stream": "stdout",
       "text": [
        "* The number of likes, talking about = 430475, 8529\n",
        "* Ratio likes/talks = 50.471860\n",
        "* Average likes/person = 0.110833\n",
        "* Average talks/person = 0.002196\n"
       ]
      }
     ],
     "prompt_number": 108
    },
    {
     "cell_type": "code",
     "collapsed": false,
     "input": [
      "total_likes, total_talking_about_count = get_topic_likes(\"Transportation Oklahoma\", \"page\")\n",
      "print \"* Average likes/person = %f\" % (float(total_likes)/OKL_POPULATION)\n",
      "print \"* Average talks/person = %f\" % (float(total_talking_about_count)/OKL_POPULATION)"
     ],
     "language": "python",
     "metadata": {},
     "outputs": [
      {
       "output_type": "stream",
       "stream": "stdout",
       "text": [
        "* querry = Transportation Oklahoma, type = page\n",
        "* The number of pages is 147"
       ]
      },
      {
       "output_type": "stream",
       "stream": "stdout",
       "text": [
        "\n",
        "0 "
       ]
      },
      {
       "output_type": "stream",
       "stream": "stdout",
       "text": [
        "10 "
       ]
      },
      {
       "output_type": "stream",
       "stream": "stdout",
       "text": [
        "20 "
       ]
      },
      {
       "output_type": "stream",
       "stream": "stdout",
       "text": [
        "30 "
       ]
      },
      {
       "output_type": "stream",
       "stream": "stdout",
       "text": [
        "40 "
       ]
      },
      {
       "output_type": "stream",
       "stream": "stdout",
       "text": [
        "50 "
       ]
      },
      {
       "output_type": "stream",
       "stream": "stdout",
       "text": [
        "60 "
       ]
      },
      {
       "output_type": "stream",
       "stream": "stdout",
       "text": [
        "70 "
       ]
      },
      {
       "output_type": "stream",
       "stream": "stdout",
       "text": [
        "80 "
       ]
      },
      {
       "output_type": "stream",
       "stream": "stdout",
       "text": [
        "90 "
       ]
      },
      {
       "output_type": "stream",
       "stream": "stdout",
       "text": [
        "100 "
       ]
      },
      {
       "output_type": "stream",
       "stream": "stdout",
       "text": [
        "110 "
       ]
      },
      {
       "output_type": "stream",
       "stream": "stdout",
       "text": [
        "120 "
       ]
      },
      {
       "output_type": "stream",
       "stream": "stdout",
       "text": [
        "130 "
       ]
      },
      {
       "output_type": "stream",
       "stream": "stdout",
       "text": [
        "140\n"
       ]
      },
      {
       "output_type": "stream",
       "stream": "stdout",
       "text": [
        "* The number of likes, talking about = 291605, 30335\n",
        "* Ratio likes/talks = 9.612820\n",
        "* Average likes/person = 0.075722\n",
        "* Average talks/person = 0.007877\n"
       ]
      }
     ],
     "prompt_number": 109
    },
    {
     "cell_type": "code",
     "collapsed": false,
     "input": [
      "total_likes, total_talking_about_count = get_topic_likes(\"Transportation Detroit\", \"page\")\n",
      "print \"* Average likes/person = %f\" % (float(total_likes)/DET_POPULATION)\n",
      "print \"* Average talks/person = %f\" % (float(total_talking_about_count)/DET_POPULATION)"
     ],
     "language": "python",
     "metadata": {},
     "outputs": [
      {
       "output_type": "stream",
       "stream": "stdout",
       "text": [
        "* querry = Transportation Detroit, type = page\n",
        "* The number of pages is 118"
       ]
      },
      {
       "output_type": "stream",
       "stream": "stdout",
       "text": [
        "\n",
        "0 "
       ]
      },
      {
       "output_type": "stream",
       "stream": "stdout",
       "text": [
        "10 "
       ]
      },
      {
       "output_type": "stream",
       "stream": "stdout",
       "text": [
        "20 "
       ]
      },
      {
       "output_type": "stream",
       "stream": "stdout",
       "text": [
        "30 "
       ]
      },
      {
       "output_type": "stream",
       "stream": "stdout",
       "text": [
        "40 "
       ]
      },
      {
       "output_type": "stream",
       "stream": "stdout",
       "text": [
        "50 "
       ]
      },
      {
       "output_type": "stream",
       "stream": "stdout",
       "text": [
        "60 "
       ]
      },
      {
       "output_type": "stream",
       "stream": "stdout",
       "text": [
        "70 "
       ]
      },
      {
       "output_type": "stream",
       "stream": "stdout",
       "text": [
        "80 "
       ]
      },
      {
       "output_type": "stream",
       "stream": "stdout",
       "text": [
        "90 "
       ]
      },
      {
       "output_type": "stream",
       "stream": "stdout",
       "text": [
        "100 "
       ]
      },
      {
       "output_type": "stream",
       "stream": "stdout",
       "text": [
        "110\n"
       ]
      },
      {
       "output_type": "stream",
       "stream": "stdout",
       "text": [
        "* The number of likes, talking about = 50956, 2116\n",
        "* Ratio likes/talks = 24.081172\n",
        "* Average likes/person = 0.073989\n",
        "* Average talks/person = 0.003072\n"
       ]
      }
     ],
     "prompt_number": 110
    },
    {
     "cell_type": "code",
     "collapsed": false,
     "input": [
      "# Richmond - bad\n",
      "total_likes, total_talking_about_count = get_topic_likes(\"Transportation Richmond\", \"page\")\n",
      "print \"* Average likes/person = %f\" % (float(total_likes)/RMD_POPULATION)\n",
      "print \"* Average talks/person = %f\" % (float(total_talking_about_count)/RMD_POPULATION)"
     ],
     "language": "python",
     "metadata": {},
     "outputs": [
      {
       "output_type": "stream",
       "stream": "stdout",
       "text": [
        "* querry = Transportation Richmond, type = page\n",
        "* The number of pages is 94"
       ]
      },
      {
       "output_type": "stream",
       "stream": "stdout",
       "text": [
        "\n",
        "0 "
       ]
      },
      {
       "output_type": "stream",
       "stream": "stdout",
       "text": [
        "10 "
       ]
      },
      {
       "output_type": "stream",
       "stream": "stdout",
       "text": [
        "20 "
       ]
      },
      {
       "output_type": "stream",
       "stream": "stdout",
       "text": [
        "30 "
       ]
      },
      {
       "output_type": "stream",
       "stream": "stdout",
       "text": [
        "40 "
       ]
      },
      {
       "output_type": "stream",
       "stream": "stdout",
       "text": [
        "50 "
       ]
      },
      {
       "output_type": "stream",
       "stream": "stdout",
       "text": [
        "60 "
       ]
      },
      {
       "output_type": "stream",
       "stream": "stdout",
       "text": [
        "70 "
       ]
      },
      {
       "output_type": "stream",
       "stream": "stdout",
       "text": [
        "80 "
       ]
      },
      {
       "output_type": "stream",
       "stream": "stdout",
       "text": [
        "90\n"
       ]
      },
      {
       "output_type": "stream",
       "stream": "stdout",
       "text": [
        "* The number of likes, talking about = 83732, 3642\n",
        "* Ratio likes/talks = 22.990601\n",
        "* Average likes/person = 0.391063\n",
        "* Average talks/person = 0.017010\n"
       ]
      }
     ],
     "prompt_number": 111
    },
    {
     "cell_type": "code",
     "collapsed": false,
     "input": [
      "# Knoxville - bad\n",
      "total_likes, total_talking_about_count = get_topic_likes(\"Transportation Knoxville\", \"page\")\n",
      "print \"* Average likes/person = %f\" % (float(total_likes)/KNV_POPULATION)\n",
      "print \"* Average talks/person = %f\" % (float(total_talking_about_count)/KNV_POPULATION)"
     ],
     "language": "python",
     "metadata": {},
     "outputs": [
      {
       "output_type": "stream",
       "stream": "stdout",
       "text": [
        "* querry = Transportation Knoxville, type = page\n",
        "* The number of pages is 98"
       ]
      },
      {
       "output_type": "stream",
       "stream": "stdout",
       "text": [
        "\n",
        "0 "
       ]
      },
      {
       "output_type": "stream",
       "stream": "stdout",
       "text": [
        "10 "
       ]
      },
      {
       "output_type": "stream",
       "stream": "stdout",
       "text": [
        "20 "
       ]
      },
      {
       "output_type": "stream",
       "stream": "stdout",
       "text": [
        "30 "
       ]
      },
      {
       "output_type": "stream",
       "stream": "stdout",
       "text": [
        "40 "
       ]
      },
      {
       "output_type": "stream",
       "stream": "stdout",
       "text": [
        "50 "
       ]
      },
      {
       "output_type": "stream",
       "stream": "stdout",
       "text": [
        "60 "
       ]
      },
      {
       "output_type": "stream",
       "stream": "stdout",
       "text": [
        "70 "
       ]
      },
      {
       "output_type": "stream",
       "stream": "stdout",
       "text": [
        "80 "
       ]
      },
      {
       "output_type": "stream",
       "stream": "stdout",
       "text": [
        "90\n"
       ]
      },
      {
       "output_type": "stream",
       "stream": "stdout",
       "text": [
        "* The number of likes, talking about = 16052, 272\n",
        "* Ratio likes/talks = 59.012536\n",
        "* Average likes/person = 0.087587\n",
        "* Average talks/person = 0.001484\n"
       ]
      }
     ],
     "prompt_number": 112
    },
    {
     "cell_type": "code",
     "collapsed": false,
     "input": [],
     "language": "python",
     "metadata": {},
     "outputs": []
    },
    {
     "cell_type": "code",
     "collapsed": false,
     "input": [
      "total_likes, total_talking_about_count = get_topic_likes(\"Transportation Denver\", \"page\")\n",
      "print \"* Average likes/person = %f\" % (float(total_likes)/DEN_POPULATION)\n",
      "print \"* Average talks/person = %f\" % (float(total_talking_about_count)/DEN_POPULATION)"
     ],
     "language": "python",
     "metadata": {},
     "outputs": [
      {
       "output_type": "stream",
       "stream": "stdout",
       "text": [
        "* querry = Transportation Denver, type = page\n",
        "* The number of pages is 198"
       ]
      },
      {
       "output_type": "stream",
       "stream": "stdout",
       "text": [
        "\n",
        "0 "
       ]
      },
      {
       "output_type": "stream",
       "stream": "stdout",
       "text": [
        "10 "
       ]
      },
      {
       "output_type": "stream",
       "stream": "stdout",
       "text": [
        "20 "
       ]
      },
      {
       "output_type": "stream",
       "stream": "stdout",
       "text": [
        "30 "
       ]
      },
      {
       "output_type": "stream",
       "stream": "stdout",
       "text": [
        "40 "
       ]
      },
      {
       "output_type": "stream",
       "stream": "stdout",
       "text": [
        "50 "
       ]
      },
      {
       "output_type": "stream",
       "stream": "stdout",
       "text": [
        "60 "
       ]
      },
      {
       "output_type": "stream",
       "stream": "stdout",
       "text": [
        "70 "
       ]
      },
      {
       "output_type": "stream",
       "stream": "stdout",
       "text": [
        "80 "
       ]
      },
      {
       "output_type": "stream",
       "stream": "stdout",
       "text": [
        "90 "
       ]
      },
      {
       "output_type": "stream",
       "stream": "stdout",
       "text": [
        "100 "
       ]
      },
      {
       "output_type": "stream",
       "stream": "stdout",
       "text": [
        "110 "
       ]
      },
      {
       "output_type": "stream",
       "stream": "stdout",
       "text": [
        "120 "
       ]
      },
      {
       "output_type": "stream",
       "stream": "stdout",
       "text": [
        "130 "
       ]
      },
      {
       "output_type": "stream",
       "stream": "stdout",
       "text": [
        "140 "
       ]
      },
      {
       "output_type": "stream",
       "stream": "stdout",
       "text": [
        "150 "
       ]
      },
      {
       "output_type": "stream",
       "stream": "stdout",
       "text": [
        "160 "
       ]
      },
      {
       "output_type": "stream",
       "stream": "stdout",
       "text": [
        "170 "
       ]
      },
      {
       "output_type": "stream",
       "stream": "stdout",
       "text": [
        "180 "
       ]
      },
      {
       "output_type": "stream",
       "stream": "stdout",
       "text": [
        "190\n"
       ]
      },
      {
       "output_type": "stream",
       "stream": "stdout",
       "text": [
        "* The number of likes, talking about = 187028, 8167\n",
        "* Ratio likes/talks = 22.900425\n",
        "* Average likes/person = 0.287959\n",
        "* Average talks/person = 0.012574\n"
       ]
      }
     ],
     "prompt_number": 113
    },
    {
     "cell_type": "code",
     "collapsed": false,
     "input": [
      "total_likes, total_talking_about_count = get_topic_likes(\"Transportation Portland\", \"page\")\n",
      "print \"* Average likes/person = %f\" % (float(total_likes)/POR_POPULATION)\n",
      "print \"* Average talks/person = %f\" % (float(total_talking_about_count)/POR_POPULATION)"
     ],
     "language": "python",
     "metadata": {},
     "outputs": [
      {
       "output_type": "stream",
       "stream": "stdout",
       "text": [
        "* querry = Transportation Portland, type = page\n",
        "* The number of pages is 127"
       ]
      },
      {
       "output_type": "stream",
       "stream": "stdout",
       "text": [
        "\n",
        "0 "
       ]
      },
      {
       "output_type": "stream",
       "stream": "stdout",
       "text": [
        "10 "
       ]
      },
      {
       "output_type": "stream",
       "stream": "stdout",
       "text": [
        "20 "
       ]
      },
      {
       "output_type": "stream",
       "stream": "stdout",
       "text": [
        "30 "
       ]
      },
      {
       "output_type": "stream",
       "stream": "stdout",
       "text": [
        "40 "
       ]
      },
      {
       "output_type": "stream",
       "stream": "stdout",
       "text": [
        "50 "
       ]
      },
      {
       "output_type": "stream",
       "stream": "stdout",
       "text": [
        "60 "
       ]
      },
      {
       "output_type": "stream",
       "stream": "stdout",
       "text": [
        "70 "
       ]
      },
      {
       "output_type": "stream",
       "stream": "stdout",
       "text": [
        "80 "
       ]
      },
      {
       "output_type": "stream",
       "stream": "stdout",
       "text": [
        "90 "
       ]
      },
      {
       "output_type": "stream",
       "stream": "stdout",
       "text": [
        "100 "
       ]
      },
      {
       "output_type": "stream",
       "stream": "stdout",
       "text": [
        "110 "
       ]
      },
      {
       "output_type": "stream",
       "stream": "stdout",
       "text": [
        "120\n"
       ]
      },
      {
       "output_type": "stream",
       "stream": "stdout",
       "text": [
        "* The number of likes, talking about = 129473, 8787\n",
        "* Ratio likes/talks = 14.734591\n",
        "* Average likes/person = 0.212440\n",
        "* Average talks/person = 0.014418\n"
       ]
      }
     ],
     "prompt_number": 114
    },
    {
     "cell_type": "code",
     "collapsed": false,
     "input": [
      "total_likes, total_talking_about_count = get_topic_likes(\"Transportation Salt Lake\", \"page\")\n",
      "print \"* Average likes/person = %f\" % (float(total_likes)/SLK_POPULATION)\n",
      "print \"* Average talks/person = %f\" % (float(total_talking_about_count)/SLK_POPULATION)"
     ],
     "language": "python",
     "metadata": {},
     "outputs": [
      {
       "output_type": "stream",
       "stream": "stdout",
       "text": [
        "* querry = Transportation Salt Lake, type = page\n",
        "* The number of pages is 118"
       ]
      },
      {
       "output_type": "stream",
       "stream": "stdout",
       "text": [
        "\n",
        "0 "
       ]
      },
      {
       "output_type": "stream",
       "stream": "stdout",
       "text": [
        "10 "
       ]
      },
      {
       "output_type": "stream",
       "stream": "stdout",
       "text": [
        "20 "
       ]
      },
      {
       "output_type": "stream",
       "stream": "stdout",
       "text": [
        "30 "
       ]
      },
      {
       "output_type": "stream",
       "stream": "stdout",
       "text": [
        "40 "
       ]
      },
      {
       "output_type": "stream",
       "stream": "stdout",
       "text": [
        "50 "
       ]
      },
      {
       "output_type": "stream",
       "stream": "stdout",
       "text": [
        "60 "
       ]
      },
      {
       "output_type": "stream",
       "stream": "stdout",
       "text": [
        "70 "
       ]
      },
      {
       "output_type": "stream",
       "stream": "stdout",
       "text": [
        "80 "
       ]
      },
      {
       "output_type": "stream",
       "stream": "stdout",
       "text": [
        "90 "
       ]
      },
      {
       "output_type": "stream",
       "stream": "stdout",
       "text": [
        "100 "
       ]
      },
      {
       "output_type": "stream",
       "stream": "stdout",
       "text": [
        "110\n"
       ]
      },
      {
       "output_type": "stream",
       "stream": "stdout",
       "text": [
        "* The number of likes, talking about = 56429, 1356\n",
        "* Ratio likes/talks = 41.614000\n",
        "* Average likes/person = 0.295162\n",
        "* Average talks/person = 0.007093\n"
       ]
      }
     ],
     "prompt_number": 115
    },
    {
     "cell_type": "code",
     "collapsed": false,
     "input": [],
     "language": "python",
     "metadata": {},
     "outputs": []
    },
    {
     "cell_type": "code",
     "collapsed": false,
     "input": [
      "# HTML request\n",
      "args = {\"access_token\": ACCESS_TOKEN}\n",
      "base_url = \"https://graph.facebook.com/\"\n",
      "operation = \"search\"\n",
      "querry = \"transportation&\"\n",
      "object_type = \"place\"\n",
      "\n",
      "\n",
      "response = requests.request(\"GET\",                      # Get information\n",
      "                            base_url +                  # Send request to graph FB\n",
      "                            \"/search?\" +                # search operation\n",
      "                            \"querry=abc&\" +  # querry\n",
      "                            \"type=place&\" +             # object-type\n",
      "                            \"center=42.3581,-71.0636&\" +  # lattitude, longtitude -- Boston \n",
      "                            \"distance=10&\" +              # Distance (unit: meters)\n",
      "                            \"limit=20\",                   # Number of results\n",
      "                            params=args)\n",
      "\n",
      "response = requests.request(\"GET\",                      # Get information\n",
      "                            base_url +                  # Send request to graph FB\n",
      "                            \"/search?\" +                # search operation\n",
      "                            \"q=Boston Transportation&\" +  # querry\n",
      "                            \"type=page&\" +           # object-type\n",
      "                            \"limit=2000\",\n",
      "                            params=args)\n",
      "\n",
      "print len(response.json()[\"data\"])\n",
      "pretty_print(response.json()[\"data\"])"
     ],
     "language": "python",
     "metadata": {},
     "outputs": [
      {
       "output_type": "stream",
       "stream": "stdout",
       "text": [
        "151\n",
        "[\n",
        " {\n",
        "  \"category\": \"Interest\", \n",
        "  \"name\": \"Boston transportation\", \n",
        "  \"id\": \"133637883343513\"\n",
        " }, \n",
        " {\n",
        "  \"category\": \"Transportation\", \n",
        "  \"name\": \"Boston Towing & Transportation Company\", \n",
        "  \"category_list\": [\n",
        "   {\n",
        "    \"id\": \"2526\", \n",
        "    \"name\": \"Transportation\"\n",
        "   }\n",
        "  ], \n",
        "  \"id\": \"150505814999859\"\n",
        " }, \n",
        " {\n",
        "  \"category\": \"Non-profit organization\", \n",
        "  \"name\": \"On The Move (OTM): The Greater Boston Transportation Justice Coalition\", \n",
        "  \"id\": \"123197097759736\"\n",
        " }, \n",
        " {\n",
        "  \"category\": \"Transportation\", \n",
        "  \"name\": \"Boston construction Transportation\", \n",
        "  \"category_list\": [\n",
        "   {\n",
        "    \"id\": \"152367304818850\", \n",
        "    \"name\": \"Transportation Service\"\n",
        "   }\n",
        "  ], \n",
        "  \"id\": \"1462867590660785\"\n",
        " }, \n",
        " {\n",
        "  \"category\": \"Transportation\", \n",
        "  \"name\": \"Provincetown Fast Ferry from Boston\", \n",
        "  \"category_list\": [\n",
        "   {\n",
        "    \"id\": \"199830500030940\", \n",
        "    \"name\": \"Ferry & Boat\"\n",
        "   }\n",
        "  ], \n",
        "  \"id\": \"114869142919\"\n",
        " }, \n",
        " {\n",
        "  \"category\": \"Transportation\", \n",
        "  \"name\": \"Manchester-Boston Regional Airport\", \n",
        "  \"category_list\": [\n",
        "   {\n",
        "    \"id\": \"161811347201528\", \n",
        "    \"name\": \"Lodging\"\n",
        "   }, \n",
        "   {\n",
        "    \"id\": \"128966563840349\", \n",
        "    \"name\": \"Airport\"\n",
        "   }\n",
        "  ], \n",
        "  \"id\": \"138251249522794\"\n",
        " }, \n",
        " {\n",
        "  \"category\": \"Transportation\", \n",
        "  \"name\": \"BTG Inc - Boston Limo\", \n",
        "  \"category_list\": [\n",
        "   {\n",
        "    \"id\": \"196941987012177\", \n",
        "    \"name\": \"Limo Service\"\n",
        "   }\n",
        "  ], \n",
        "  \"id\": \"222763574535454\"\n",
        " }, \n",
        " {\n",
        "  \"category\": \"Non-profit organization\", \n",
        "  \"name\": \"Young Professionals in Transportation (YPT) - Boston Chapter\", \n",
        "  \"category_list\": [\n",
        "   {\n",
        "    \"id\": \"2603\", \n",
        "    \"name\": \"Non-Profit Organization\"\n",
        "   }\n",
        "  ], \n",
        "  \"id\": \"133474736707031\"\n",
        " }, \n",
        " {\n",
        "  \"category\": \"Travel/leisure\", \n",
        "  \"name\": \"Boston's Best Transportation Inc.\", \n",
        "  \"category_list\": [\n",
        "   {\n",
        "    \"id\": \"333158986749730\", \n",
        "    \"name\": \"Private Transportation\"\n",
        "   }, \n",
        "   {\n",
        "    \"id\": \"170817119631096\", \n",
        "    \"name\": \"Airport Shuttle\"\n",
        "   }\n",
        "  ], \n",
        "  \"id\": \"1440252626259327\"\n",
        " }, \n",
        " {\n",
        "  \"category\": \"Community\", \n",
        "  \"name\": \"South Boston Waterfront Sustainable Transportation Plan\", \n",
        "  \"id\": \"266938750157951\"\n",
        " }, \n",
        " {\n",
        "  \"category\": \"Non-profit organization\", \n",
        "  \"name\": \"Independent Transportation Network - ITNGreaterBoston\", \n",
        "  \"category_list\": [\n",
        "   {\n",
        "    \"id\": \"2603\", \n",
        "    \"name\": \"Non-Profit Organization\"\n",
        "   }\n",
        "  ], \n",
        "  \"id\": \"406073802741161\"\n",
        " }, \n",
        " {\n",
        "  \"category\": \"Interest\", \n",
        "  \"name\": \"Boston Transportation Planning Review\", \n",
        "  \"id\": \"132308316807206\"\n",
        " }, \n",
        " {\n",
        "  \"category\": \"Education\", \n",
        "  \"name\": \"Transportation Children's Center\", \n",
        "  \"category_list\": [\n",
        "   {\n",
        "    \"id\": \"151676848220295\", \n",
        "    \"name\": \"Education\"\n",
        "   }\n",
        "  ], \n",
        "  \"id\": \"146006742086450\"\n",
        " }, \n",
        " {\n",
        "  \"category\": \"Local business\", \n",
        "  \"name\": \"Marina Bay Boston\", \n",
        "  \"category_list\": [\n",
        "   {\n",
        "    \"id\": \"176831012360626\", \n",
        "    \"name\": \"Professional Services\"\n",
        "   }, \n",
        "   {\n",
        "    \"id\": \"197251360301109\", \n",
        "    \"name\": \"Marina\"\n",
        "   }, \n",
        "   {\n",
        "    \"id\": \"128232937246338\", \n",
        "    \"name\": \"Travel & Transportation\"\n",
        "   }\n",
        "  ], \n",
        "  \"id\": \"121384321448\"\n",
        " }, \n",
        " {\n",
        "  \"category\": \"Local business\", \n",
        "  \"name\": \"Boston Masachusets\", \n",
        "  \"category_list\": [\n",
        "   {\n",
        "    \"id\": \"224455390913969\", \n",
        "    \"name\": \"City\"\n",
        "   }, \n",
        "   {\n",
        "    \"id\": \"128232937246338\", \n",
        "    \"name\": \"Travel & Transportation\"\n",
        "   }\n",
        "  ], \n",
        "  \"id\": \"127414320683947\"\n",
        " }, \n",
        " {\n",
        "  \"category\": \"Organization\", \n",
        "  \"name\": \"Metropolitan Transportation Authority (Boston)\", \n",
        "  \"id\": \"110810405613586\"\n",
        " }, \n",
        " {\n",
        "  \"category\": \"Transportation\", \n",
        "  \"name\": \"Boston and Providence Railroad and Transportation Company\", \n",
        "  \"id\": \"106444752724916\"\n",
        " }, \n",
        " {\n",
        "  \"category\": \"Transportation\", \n",
        "  \"name\": \"Transport Motorway Peterborough Stamford Spalding Boston Lincoln i inne\", \n",
        "  \"category_list\": [\n",
        "   {\n",
        "    \"id\": \"170817119631096\", \n",
        "    \"name\": \"Airport Shuttle\"\n",
        "   }, \n",
        "   {\n",
        "    \"id\": \"152367304818850\", \n",
        "    \"name\": \"Transportation Service\"\n",
        "   }, \n",
        "   {\n",
        "    \"id\": \"333158986749730\", \n",
        "    \"name\": \"Private Transportation\"\n",
        "   }\n",
        "  ], \n",
        "  \"id\": \"647453712019177\"\n",
        " }, \n",
        " {\n",
        "  \"category\": \"Professional services\", \n",
        "  \"name\": \"Selita Transportation North Shore of Boston\", \n",
        "  \"id\": \"343655122502665\"\n",
        " }, \n",
        " {\n",
        "  \"category\": \"Company\", \n",
        "  \"name\": \"Transdev Services, Inc. Boston Public School Transportation\", \n",
        "  \"id\": \"902558049765023\"\n",
        " }, \n",
        " {\n",
        "  \"category\": \"Transit stop\", \n",
        "  \"name\": \"Wellington (Massachusetts Bay Transportation Authority)\", \n",
        "  \"category_list\": [\n",
        "   {\n",
        "    \"id\": \"209889829023118\", \n",
        "    \"name\": \"Landmark\"\n",
        "   }\n",
        "  ], \n",
        "  \"id\": \"103251499730706\"\n",
        " }, \n",
        " {\n",
        "  \"category\": \"Transportation\", \n",
        "  \"name\": \"Red Line (Massachusetts Bay Transportation Authority)\", \n",
        "  \"id\": \"119811888065134\"\n",
        " }, \n",
        " {\n",
        "  \"category\": \"Transit stop\", \n",
        "  \"name\": \"Airport Station (Massachusetts Bay Transportation Authority)\", \n",
        "  \"category_list\": [\n",
        "   {\n",
        "    \"id\": \"209889829023118\", \n",
        "    \"name\": \"Landmark\"\n",
        "   }, \n",
        "   {\n",
        "    \"id\": \"177950465654024\", \n",
        "    \"name\": \"Airport Terminal\"\n",
        "   }\n",
        "  ], \n",
        "  \"id\": \"140119916014492\"\n",
        " }, \n",
        " {\n",
        "  \"category\": \"Transportation\", \n",
        "  \"name\": \"Silver Line (Massachusetts Bay Transportation Authority)\", \n",
        "  \"id\": \"108169645882306\"\n",
        " }, \n",
        " {\n",
        "  \"category\": \"Transportation\", \n",
        "  \"name\": \"Blue Line (Massachusetts Bay Transportation Authority)\", \n",
        "  \"id\": \"141884539161178\"\n",
        " }, \n",
        " {\n",
        "  \"category\": \"Transportation\", \n",
        "  \"name\": \"Orange Line (Massachusetts Bay Transportation Authority)\", \n",
        "  \"id\": \"132071406828513\"\n",
        " }, \n",
        " {\n",
        "  \"category\": \"Transportation\", \n",
        "  \"name\": \"Green Line (Massachusetts Bay Transportation Authority)\", \n",
        "  \"id\": \"116626761718482\"\n",
        " }, \n",
        " {\n",
        "  \"category\": \"Transit stop\", \n",
        "  \"name\": \"South Station (Massachusetts Bay Transportation Authority)\", \n",
        "  \"category_list\": [\n",
        "   {\n",
        "    \"id\": \"2505\", \n",
        "    \"name\": \"Transit Stop\"\n",
        "   }\n",
        "  ], \n",
        "  \"id\": \"110192059032382\"\n",
        " }, \n",
        " {\n",
        "  \"category\": \"Transit stop\", \n",
        "  \"name\": \"Davis Station (Massachusetts Bay Transportation Authority)\", \n",
        "  \"category_list\": [\n",
        "   {\n",
        "    \"id\": \"2505\", \n",
        "    \"name\": \"Transit Stop\"\n",
        "   }\n",
        "  ], \n",
        "  \"id\": \"138642489493393\"\n",
        " }, \n",
        " {\n",
        "  \"category\": \"Transit stop\", \n",
        "  \"name\": \"North Station (Massachusetts Bay Transportation Authority)\", \n",
        "  \"category_list\": [\n",
        "   {\n",
        "    \"id\": \"2505\", \n",
        "    \"name\": \"Transit Stop\"\n",
        "   }\n",
        "  ], \n",
        "  \"id\": \"119956624716825\"\n",
        " }, \n",
        " {\n",
        "  \"category\": \"Interest\", \n",
        "  \"name\": \"Trolleybuses of the Massachusetts Bay Transportation Authority\", \n",
        "  \"id\": \"1452840511646763\"\n",
        " }, \n",
        " {\n",
        "  \"category\": \"Interest\", \n",
        "  \"name\": \"Massachusetts Bay Transportation Authority\", \n",
        "  \"id\": \"367965456657120\"\n",
        " }, \n",
        " {\n",
        "  \"category\": \"Transportation\", \n",
        "  \"name\": \"Logan Airport Limo Service\", \n",
        "  \"category_list\": [\n",
        "   {\n",
        "    \"id\": \"196941987012177\", \n",
        "    \"name\": \"Limo Service\"\n",
        "   }, \n",
        "   {\n",
        "    \"id\": \"170817119631096\", \n",
        "    \"name\": \"Airport Shuttle\"\n",
        "   }, \n",
        "   {\n",
        "    \"id\": \"152367304818850\", \n",
        "    \"name\": \"Transportation Service\"\n",
        "   }\n",
        "  ], \n",
        "  \"id\": \"543080209108067\"\n",
        " }, \n",
        " {\n",
        "  \"category\": \"Local business\", \n",
        "  \"name\": \"Boston Harbor- Whale Watch\", \n",
        "  \"category_list\": [\n",
        "   {\n",
        "    \"id\": \"272705352802676\", \n",
        "    \"name\": \"Outdoors\"\n",
        "   }, \n",
        "   {\n",
        "    \"id\": \"128232937246338\", \n",
        "    \"name\": \"Travel & Transportation\"\n",
        "   }\n",
        "  ], \n",
        "  \"id\": \"259764730783785\"\n",
        " }, \n",
        " {\n",
        "  \"category\": \"Transportation\", \n",
        "  \"name\": \"Cruiseport Boston\", \n",
        "  \"category_list\": [\n",
        "   {\n",
        "    \"id\": \"128232937246338\", \n",
        "    \"name\": \"Travel & Transportation\"\n",
        "   }\n",
        "  ], \n",
        "  \"id\": \"345347777009\"\n",
        " }, \n",
        " {\n",
        "  \"category\": \"Local business\", \n",
        "  \"name\": \"Boston Express Bus\", \n",
        "  \"category_list\": [\n",
        "   {\n",
        "    \"id\": \"128232937246338\", \n",
        "    \"name\": \"Travel & Transportation\"\n",
        "   }\n",
        "  ], \n",
        "  \"id\": \"178234564838\"\n",
        " }, \n",
        " {\n",
        "  \"category\": \"Transportation\", \n",
        "  \"name\": \"Indian Motorcycles North Boston\", \n",
        "  \"category_list\": [\n",
        "   {\n",
        "    \"id\": \"150820404974203\", \n",
        "    \"name\": \"Motorcycles\"\n",
        "   }\n",
        "  ], \n",
        "  \"id\": \"277103279112450\"\n",
        " }, \n",
        " {\n",
        "  \"category\": \"Local business\", \n",
        "  \"name\": \"Boston Waterfront\", \n",
        "  \"category_list\": [\n",
        "   {\n",
        "    \"id\": \"128232937246338\", \n",
        "    \"name\": \"Travel & Transportation\"\n",
        "   }, \n",
        "   {\n",
        "    \"id\": \"139141179489281\", \n",
        "    \"name\": \"Boating\"\n",
        "   }, \n",
        "   {\n",
        "    \"id\": \"148932728496725\", \n",
        "    \"name\": \"Public Places & Attractions\"\n",
        "   }\n",
        "  ], \n",
        "  \"id\": \"212183185491433\"\n",
        " }, \n",
        " {\n",
        "  \"category\": \"Transportation\", \n",
        "  \"name\": \"Indian & Slingshot of North Boston\", \n",
        "  \"category_list\": [\n",
        "   {\n",
        "    \"id\": \"150820404974203\", \n",
        "    \"name\": \"Motorcycles\"\n",
        "   }\n",
        "  ], \n",
        "  \"id\": \"710394822347787\"\n",
        " }, \n",
        " {\n",
        "  \"category\": \"Transportation\", \n",
        "  \"name\": \"University Student Movers\", \n",
        "  \"category_list\": [\n",
        "   {\n",
        "    \"id\": \"185880521445708\", \n",
        "    \"name\": \"Mover\"\n",
        "   }\n",
        "  ], \n",
        "  \"id\": \"1487116968225260\"\n",
        " }, \n",
        " {\n",
        "  \"category\": \"Transportation\", \n",
        "  \"name\": \"A Plus Moving\", \n",
        "  \"category_list\": [\n",
        "   {\n",
        "    \"id\": \"185880521445708\", \n",
        "    \"name\": \"Mover\"\n",
        "   }\n",
        "  ], \n",
        "  \"id\": \"544795315626747\"\n",
        " }, \n",
        " {\n",
        "  \"category\": \"Transportation\", \n",
        "  \"name\": \"Boston Limousine\", \n",
        "  \"category_list\": [\n",
        "   {\n",
        "    \"id\": \"196941987012177\", \n",
        "    \"name\": \"Limo Service\"\n",
        "   }\n",
        "  ], \n",
        "  \"id\": \"114345261958501\"\n",
        " }, \n",
        " {\n",
        "  \"category\": \"Transportation\", \n",
        "  \"name\": \"Southie Shuttle\", \n",
        "  \"category_list\": [\n",
        "   {\n",
        "    \"id\": \"333158986749730\", \n",
        "    \"name\": \"Private Transportation\"\n",
        "   }\n",
        "  ], \n",
        "  \"id\": \"357641614349689\"\n",
        " }, \n",
        " {\n",
        "  \"category\": \"Transportation\", \n",
        "  \"name\": \"Boston Suburban Coach\", \n",
        "  \"category_list\": [\n",
        "   {\n",
        "    \"id\": \"196941987012177\", \n",
        "    \"name\": \"Limo Service\"\n",
        "   }\n",
        "  ], \n",
        "  \"id\": \"490830410941729\"\n",
        " }, \n",
        " {\n",
        "  \"category\": \"Local business\", \n",
        "  \"name\": \"Kenmore Square\", \n",
        "  \"category_list\": [\n",
        "   {\n",
        "    \"id\": \"110207655727714\", \n",
        "    \"name\": \"Public Square\"\n",
        "   }, \n",
        "   {\n",
        "    \"id\": \"133749773359552\", \n",
        "    \"name\": \"Public Transportation\"\n",
        "   }\n",
        "  ], \n",
        "  \"id\": \"133618746682058\"\n",
        " }, \n",
        " {\n",
        "  \"category\": \"Transportation\", \n",
        "  \"name\": \"Boston Manor London Underground Station\", \n",
        "  \"category_list\": [\n",
        "   {\n",
        "    \"id\": \"145887745471348\", \n",
        "    \"name\": \"Train Station\"\n",
        "   }, \n",
        "   {\n",
        "    \"id\": \"124947834245370\", \n",
        "    \"name\": \"Tourist Information\"\n",
        "   }\n",
        "  ], \n",
        "  \"id\": \"455121817842547\"\n",
        " }, \n",
        " {\n",
        "  \"category\": \"Local business\", \n",
        "  \"name\": \"Rowes Wharf\", \n",
        "  \"category_list\": [\n",
        "   {\n",
        "    \"id\": \"209889829023118\", \n",
        "    \"name\": \"Landmark\"\n",
        "   }, \n",
        "   {\n",
        "    \"id\": \"128232937246338\", \n",
        "    \"name\": \"Travel & Transportation\"\n",
        "   }\n",
        "  ], \n",
        "  \"id\": \"144561302291752\"\n",
        " }, \n",
        " {\n",
        "  \"category\": \"Local business\", \n",
        "  \"name\": \"Boston, MA.\", \n",
        "  \"category_list\": [\n",
        "   {\n",
        "    \"id\": \"128232937246338\", \n",
        "    \"name\": \"Travel & Transportation\"\n",
        "   }\n",
        "  ], \n",
        "  \"id\": \"148978361904840\"\n",
        " }, \n",
        " {\n",
        "  \"category\": \"Education\", \n",
        "  \"name\": \"Sciencetogo.org\", \n",
        "  \"category_list\": [\n",
        "   {\n",
        "    \"id\": \"133749773359552\", \n",
        "    \"name\": \"Public Transportation\"\n",
        "   }, \n",
        "   {\n",
        "    \"id\": \"215089838505460\", \n",
        "    \"name\": \"Local Education\"\n",
        "   }\n",
        "  ], \n",
        "  \"id\": \"431998346921389\"\n",
        " }, \n",
        " {\n",
        "  \"category\": \"Local business\", \n",
        "  \"name\": \"Boston Massachussets\", \n",
        "  \"category_list\": [\n",
        "   {\n",
        "    \"id\": \"128232937246338\", \n",
        "    \"name\": \"Travel & Transportation\"\n",
        "   }\n",
        "  ], \n",
        "  \"id\": \"372163156175366\"\n",
        " }, \n",
        " {\n",
        "  \"category\": \"Local business\", \n",
        "  \"name\": \"State Transportation Building\", \n",
        "  \"category_list\": [\n",
        "   {\n",
        "    \"id\": \"128232937246338\", \n",
        "    \"name\": \"Travel & Transportation\"\n",
        "   }, \n",
        "   {\n",
        "    \"id\": \"188662441155211\", \n",
        "    \"name\": \"Community & Government\"\n",
        "   }\n",
        "  ], \n",
        "  \"id\": \"157706240920049\"\n",
        " }, \n",
        " {\n",
        "  \"category\": \"Local business\", \n",
        "  \"name\": \"Boston, Mass\", \n",
        "  \"category_list\": [\n",
        "   {\n",
        "    \"id\": \"128232937246338\", \n",
        "    \"name\": \"Travel & Transportation\"\n",
        "   }\n",
        "  ], \n",
        "  \"id\": \"306010076192270\"\n",
        " }, \n",
        " {\n",
        "  \"category\": \"Non-profit organization\", \n",
        "  \"name\": \"Boston Carmen's Union Local 589\", \n",
        "  \"category_list\": [\n",
        "   {\n",
        "    \"id\": \"133749773359552\", \n",
        "    \"name\": \"Public Transportation\"\n",
        "   }, \n",
        "   {\n",
        "    \"id\": \"176831012360626\", \n",
        "    \"name\": \"Professional Services\"\n",
        "   }\n",
        "  ], \n",
        "  \"id\": \"110998988953056\"\n",
        " }, \n",
        " {\n",
        "  \"category\": \"Local business\", \n",
        "  \"name\": \"South Station; Boston, MA\", \n",
        "  \"category_list\": [\n",
        "   {\n",
        "    \"id\": \"133749773359552\", \n",
        "    \"name\": \"Public Transportation\"\n",
        "   }\n",
        "  ], \n",
        "  \"id\": \"113867965336560\"\n",
        " }, \n",
        " {\n",
        "  \"category\": \"Transportation\", \n",
        "  \"name\": \"The Red Line (MBTA)\", \n",
        "  \"category_list\": [\n",
        "   {\n",
        "    \"id\": \"342068002497936\", \n",
        "    \"name\": \"Subway & Light Rail Station\"\n",
        "   }\n",
        "  ], \n",
        "  \"id\": \"233043576715731\"\n",
        " }, \n",
        " {\n",
        "  \"category\": \"Local business\", \n",
        "  \"name\": \"Red Line\", \n",
        "  \"category_list\": [\n",
        "   {\n",
        "    \"id\": \"133749773359552\", \n",
        "    \"name\": \"Public Transportation\"\n",
        "   }\n",
        "  ], \n",
        "  \"id\": \"189761797714796\"\n",
        " }, \n",
        " {\n",
        "  \"category\": \"Local business\", \n",
        "  \"name\": \"Aer Lingus Gold Circle Lounge\", \n",
        "  \"category_list\": [\n",
        "   {\n",
        "    \"id\": \"128232937246338\", \n",
        "    \"name\": \"Travel & Transportation\"\n",
        "   }, \n",
        "   {\n",
        "    \"id\": \"135930436481618\", \n",
        "    \"name\": \"Lounge\"\n",
        "   }\n",
        "  ], \n",
        "  \"id\": \"216923681659652\"\n",
        " }, \n",
        " {\n",
        "  \"category\": \"Local business\", \n",
        "  \"name\": \"Boston, MA\", \n",
        "  \"category_list\": [\n",
        "   {\n",
        "    \"id\": \"128232937246338\", \n",
        "    \"name\": \"Travel & Transportation\"\n",
        "   }\n",
        "  ], \n",
        "  \"id\": \"293284947470672\"\n",
        " }, \n",
        " {\n",
        "  \"category\": \"Tours/sightseeing\", \n",
        "  \"name\": \"Now City Tours - Boston Helicopter Tours\", \n",
        "  \"category_list\": [\n",
        "   {\n",
        "    \"id\": \"128232937246338\", \n",
        "    \"name\": \"Travel & Transportation\"\n",
        "   }\n",
        "  ], \n",
        "  \"id\": \"227717230591649\"\n",
        " }, \n",
        " {\n",
        "  \"category\": \"Local business\", \n",
        "  \"name\": \"Hilton Logan\", \n",
        "  \"category_list\": [\n",
        "   {\n",
        "    \"id\": \"128232937246338\", \n",
        "    \"name\": \"Travel & Transportation\"\n",
        "   }\n",
        "  ], \n",
        "  \"id\": \"399864006737210\"\n",
        " }, \n",
        " {\n",
        "  \"category\": \"Local business\", \n",
        "  \"name\": \"The Original Cheers Bar\", \n",
        "  \"category_list\": [\n",
        "   {\n",
        "    \"id\": \"273819889375819\", \n",
        "    \"name\": \"Restaurant\"\n",
        "   }, \n",
        "   {\n",
        "    \"id\": \"110290705711626\", \n",
        "    \"name\": \"Bar\"\n",
        "   }, \n",
        "   {\n",
        "    \"id\": \"128232937246338\", \n",
        "    \"name\": \"Travel & Transportation\"\n",
        "   }\n",
        "  ], \n",
        "  \"id\": \"265844083477058\"\n",
        " }, \n",
        " {\n",
        "  \"category\": \"Transportation\", \n",
        "  \"name\": \"Boston Truck Center\", \n",
        "  \"category_list\": [\n",
        "   {\n",
        "    \"id\": \"2526\", \n",
        "    \"name\": \"Transportation\"\n",
        "   }\n",
        "  ], \n",
        "  \"id\": \"343145439196916\"\n",
        " }, \n",
        " {\n",
        "  \"category\": \"Transportation\", \n",
        "  \"name\": \"Boston 5 Star Limousine\", \n",
        "  \"category_list\": [\n",
        "   {\n",
        "    \"id\": \"128232937246338\", \n",
        "    \"name\": \"Travel & Transportation\"\n",
        "   }\n",
        "  ], \n",
        "  \"id\": \"121361041266525\"\n",
        " }, \n",
        " {\n",
        "  \"category\": \"Transportation\", \n",
        "  \"name\": \"Boston Rickshaw\", \n",
        "  \"category_list\": [\n",
        "   {\n",
        "    \"id\": \"152367304818850\", \n",
        "    \"name\": \"Transportation Service\"\n",
        "   }\n",
        "  ], \n",
        "  \"id\": \"275120899265503\"\n",
        " }, \n",
        " {\n",
        "  \"category\": \"Local business\", \n",
        "  \"name\": \"Albany St Mbta Garage\", \n",
        "  \"category_list\": [\n",
        "   {\n",
        "    \"id\": \"133749773359552\", \n",
        "    \"name\": \"Public Transportation\"\n",
        "   }\n",
        "  ], \n",
        "  \"id\": \"707445972653885\"\n",
        " }, \n",
        " {\n",
        "  \"category\": \"Event planning/event services\", \n",
        "  \"name\": \"Mass Bay Lines\", \n",
        "  \"category_list\": [\n",
        "   {\n",
        "    \"id\": \"128232937246338\", \n",
        "    \"name\": \"Travel & Transportation\"\n",
        "   }\n",
        "  ], \n",
        "  \"id\": \"91453056346\"\n",
        " }, \n",
        " {\n",
        "  \"category\": \"Local business\", \n",
        "  \"name\": \"Alitalia Airlines\", \n",
        "  \"category_list\": [\n",
        "   {\n",
        "    \"id\": \"128232937246338\", \n",
        "    \"name\": \"Travel & Transportation\"\n",
        "   }\n",
        "  ], \n",
        "  \"id\": \"216762175020722\"\n",
        " }, \n",
        " {\n",
        "  \"category\": \"Local business\", \n",
        "  \"name\": \"L & L Services\", \n",
        "  \"category_list\": [\n",
        "   {\n",
        "    \"id\": \"128232937246338\", \n",
        "    \"name\": \"Travel & Transportation\"\n",
        "   }\n",
        "  ], \n",
        "  \"id\": \"361769553910716\"\n",
        " }, \n",
        " {\n",
        "  \"category\": \"Local business\", \n",
        "  \"name\": \"Boston Bike Night\", \n",
        "  \"category_list\": [\n",
        "   {\n",
        "    \"id\": \"128232937246338\", \n",
        "    \"name\": \"Travel & Transportation\"\n",
        "   }\n",
        "  ], \n",
        "  \"id\": \"261373254054948\"\n",
        " }, \n",
        " {\n",
        "  \"category\": \"Local business\", \n",
        "  \"name\": \"Porter Airlines Gate E2A\", \n",
        "  \"category_list\": [\n",
        "   {\n",
        "    \"id\": \"128232937246338\", \n",
        "    \"name\": \"Travel & Transportation\"\n",
        "   }\n",
        "  ], \n",
        "  \"id\": \"176697299015869\"\n",
        " }, \n",
        " {\n",
        "  \"category\": \"Local business\", \n",
        "  \"name\": \"Haunted Boston Ghost Tours\", \n",
        "  \"category_list\": [\n",
        "   {\n",
        "    \"id\": \"124994474239211\", \n",
        "    \"name\": \"Amusement\"\n",
        "   }, \n",
        "   {\n",
        "    \"id\": \"128232937246338\", \n",
        "    \"name\": \"Travel & Transportation\"\n",
        "   }\n",
        "  ], \n",
        "  \"id\": \"388963361159934\"\n",
        " }, \n",
        " {\n",
        "  \"category\": \"Local business\", \n",
        "  \"name\": \"Peter Pan Bus . South Station\", \n",
        "  \"category_list\": [\n",
        "   {\n",
        "    \"id\": \"108512435893415\", \n",
        "    \"name\": \"Charter Buses\"\n",
        "   }, \n",
        "   {\n",
        "    \"id\": \"133749773359552\", \n",
        "    \"name\": \"Public Transportation\"\n",
        "   }\n",
        "  ], \n",
        "  \"id\": \"138352189572822\"\n",
        " }, \n",
        " {\n",
        "  \"category\": \"Transport/freight\", \n",
        "  \"name\": \"DPV Transportation Worldwide\", \n",
        "  \"category_list\": [\n",
        "   {\n",
        "    \"id\": \"196941987012177\", \n",
        "    \"name\": \"Limo Service\"\n",
        "   }\n",
        "  ], \n",
        "  \"id\": \"104776366223140\"\n",
        " }, \n",
        " {\n",
        "  \"category\": \"Transportation\", \n",
        "  \"name\": \"Optimo Transportation\", \n",
        "  \"category_list\": [\n",
        "   {\n",
        "    \"id\": \"2526\", \n",
        "    \"name\": \"Transportation\"\n",
        "   }\n",
        "  ], \n",
        "  \"id\": \"130437553724566\"\n",
        " }, \n",
        " {\n",
        "  \"category\": \"Local business\", \n",
        "  \"name\": \"Swift Transportation\", \n",
        "  \"category_list\": [\n",
        "   {\n",
        "    \"id\": \"184395321600410\", \n",
        "    \"name\": \"Cargo & Freight\"\n",
        "   }\n",
        "  ], \n",
        "  \"id\": \"143262139052774\"\n",
        " }, \n",
        " {\n",
        "  \"category\": \"Transportation\", \n",
        "  \"name\": \"FIVE STAR Luxury Transportation\", \n",
        "  \"category_list\": [\n",
        "   {\n",
        "    \"id\": \"2526\", \n",
        "    \"name\": \"Transportation\"\n",
        "   }\n",
        "  ], \n",
        "  \"id\": \"147092968695682\"\n",
        " }, \n",
        " {\n",
        "  \"category\": \"Local business\", \n",
        "  \"name\": \"Transportation Building. 10 Park Plaza Boston\", \n",
        "  \"category_list\": [\n",
        "   {\n",
        "    \"id\": \"2500\", \n",
        "    \"name\": \"Local Business\"\n",
        "   }\n",
        "  ], \n",
        "  \"id\": \"424417090903187\"\n",
        " }, \n",
        " {\n",
        "  \"category\": \"Transportation\", \n",
        "  \"name\": \"Transportation of New England\", \n",
        "  \"category_list\": [\n",
        "   {\n",
        "    \"id\": \"170817119631096\", \n",
        "    \"name\": \"Airport Shuttle\"\n",
        "   }, \n",
        "   {\n",
        "    \"id\": \"196941987012177\", \n",
        "    \"name\": \"Limo Service\"\n",
        "   }\n",
        "  ], \n",
        "  \"id\": \"583499191744552\"\n",
        " }, \n",
        " {\n",
        "  \"category\": \"Local business\", \n",
        "  \"name\": \"Daschser Transportation of America\", \n",
        "  \"category_list\": [\n",
        "   {\n",
        "    \"id\": \"184395321600410\", \n",
        "    \"name\": \"Cargo & Freight\"\n",
        "   }, \n",
        "   {\n",
        "    \"id\": \"161516070564222\", \n",
        "    \"name\": \"Financial Services\"\n",
        "   }\n",
        "  ], \n",
        "  \"id\": \"116183128442075\"\n",
        " }, \n",
        " {\n",
        "  \"category\": \"Local business\", \n",
        "  \"name\": \"Boston Transportation Department\", \n",
        "  \"category_list\": [\n",
        "   {\n",
        "    \"id\": \"128232937246338\", \n",
        "    \"name\": \"Travel & Transportation\"\n",
        "   }\n",
        "  ], \n",
        "  \"id\": \"131224640263466\"\n",
        " }, \n",
        " {\n",
        "  \"category\": \"Local business\", \n",
        "  \"name\": \"Massachusetts Department Of Transportation\", \n",
        "  \"category_list\": [\n",
        "   {\n",
        "    \"id\": \"161422927240513\", \n",
        "    \"name\": \"Government Organization\"\n",
        "   }\n",
        "  ], \n",
        "  \"id\": \"209670162417689\"\n",
        " }, \n",
        " {\n",
        "  \"category\": \"Transportation\", \n",
        "  \"name\": \"Red Oak Transportation\", \n",
        "  \"category_list\": [\n",
        "   {\n",
        "    \"id\": \"196941987012177\", \n",
        "    \"name\": \"Limo Service\"\n",
        "   }, \n",
        "   {\n",
        "    \"id\": \"170817119631096\", \n",
        "    \"name\": \"Airport Shuttle\"\n",
        "   }\n",
        "  ], \n",
        "  \"id\": \"103088933113851\"\n",
        " }, \n",
        " {\n",
        "  \"category\": \"Local business\", \n",
        "  \"name\": \"Swift Transportation Co. of Arizona, LLC (New Boston, Michigan)\", \n",
        "  \"category_list\": [\n",
        "   {\n",
        "    \"id\": \"2500\", \n",
        "    \"name\": \"Local Business\"\n",
        "   }\n",
        "  ], \n",
        "  \"id\": \"169357929800024\"\n",
        " }, \n",
        " {\n",
        "  \"category\": \"Local business\", \n",
        "  \"name\": \"Swift Transportation Terminal New Boston Mi\", \n",
        "  \"category_list\": [\n",
        "   {\n",
        "    \"id\": \"2500\", \n",
        "    \"name\": \"Local Business\"\n",
        "   }\n",
        "  ], \n",
        "  \"id\": \"138894726227497\"\n",
        " }, \n",
        " {\n",
        "  \"category\": \"Local business\", \n",
        "  \"name\": \"BWI Airport Transportation\", \n",
        "  \"category_list\": [\n",
        "   {\n",
        "    \"id\": \"177950465654024\", \n",
        "    \"name\": \"Airport Terminal\"\n",
        "   }\n",
        "  ], \n",
        "  \"id\": \"148104295233502\"\n",
        " }, \n",
        " {\n",
        "  \"category\": \"Local business\", \n",
        "  \"name\": \"Webb Transportation in Boston,MA\", \n",
        "  \"category_list\": [\n",
        "   {\n",
        "    \"id\": \"2500\", \n",
        "    \"name\": \"Local Business\"\n",
        "   }\n",
        "  ], \n",
        "  \"id\": \"131408296747\"\n",
        " }, \n",
        " {\n",
        "  \"category\": \"Local business\", \n",
        "  \"name\": \"Boston Fuel Transportation\", \n",
        "  \"category_list\": [\n",
        "   {\n",
        "    \"id\": \"2500\", \n",
        "    \"name\": \"Local Business\"\n",
        "   }\n",
        "  ], \n",
        "  \"id\": \"109039859169294\"\n",
        " }, \n",
        " {\n",
        "  \"category\": \"Transit stop\", \n",
        "  \"name\": \"Back Bay (Massachusetts Bay Transportation Authority)\", \n",
        "  \"category_list\": [\n",
        "   {\n",
        "    \"id\": \"209889829023118\", \n",
        "    \"name\": \"Landmark\"\n",
        "   }\n",
        "  ], \n",
        "  \"id\": \"110095235707818\"\n",
        " }, \n",
        " {\n",
        "  \"category\": \"Local business\", \n",
        "  \"name\": \"Qtx Transportation\", \n",
        "  \"category_list\": [\n",
        "   {\n",
        "    \"id\": \"184395321600410\", \n",
        "    \"name\": \"Cargo & Freight\"\n",
        "   }\n",
        "  ], \n",
        "  \"id\": \"115884995137393\"\n",
        " }, \n",
        " {\n",
        "  \"category\": \"Local business\", \n",
        "  \"name\": \"Ryder Transportation Services\", \n",
        "  \"category_list\": [\n",
        "   {\n",
        "    \"id\": \"139745066094977\", \n",
        "    \"name\": \"Business Center\"\n",
        "   }\n",
        "  ], \n",
        "  \"id\": \"118074945021375\"\n",
        " }, \n",
        " {\n",
        "  \"category\": \"Local business\", \n",
        "  \"name\": \"School of Transportation Boston Connection\", \n",
        "  \"category_list\": [\n",
        "   {\n",
        "    \"id\": \"199405806739848\", \n",
        "    \"name\": \"Public School\"\n",
        "   }\n",
        "  ], \n",
        "  \"id\": \"125147990872604\"\n",
        " }, \n",
        " {\n",
        "  \"category\": \"Transit stop\", \n",
        "  \"name\": \"Park Street Station (Massachusetts Bay Transportation Authority)\", \n",
        "  \"category_list\": [\n",
        "   {\n",
        "    \"id\": \"2505\", \n",
        "    \"name\": \"Transit Stop\"\n",
        "   }\n",
        "  ], \n",
        "  \"id\": \"144693412212009\"\n",
        " }, \n",
        " {\n",
        "  \"category\": \"Local business\", \n",
        "  \"name\": \"gerado's transportation to Boston\", \n",
        "  \"category_list\": [\n",
        "   {\n",
        "    \"id\": \"128232937246338\", \n",
        "    \"name\": \"Travel & Transportation\"\n",
        "   }\n",
        "  ], \n",
        "  \"id\": \"193049857403217\"\n",
        " }, \n",
        " {\n",
        "  \"category\": \"Local business\", \n",
        "  \"name\": \"Veolia Transportation- Boston Public Schools\", \n",
        "  \"category_list\": [\n",
        "   {\n",
        "    \"id\": \"191373470890862\", \n",
        "    \"name\": \"School Transportation\"\n",
        "   }\n",
        "  ], \n",
        "  \"id\": \"358658477593062\"\n",
        " }, \n",
        " {\n",
        "  \"category\": \"Local business\", \n",
        "  \"name\": \"Boston Transportation Disposal\", \n",
        "  \"category_list\": [\n",
        "   {\n",
        "    \"id\": \"2500\", \n",
        "    \"name\": \"Local Business\"\n",
        "   }\n",
        "  ], \n",
        "  \"id\": \"447502458654370\"\n",
        " }, \n",
        " {\n",
        "  \"category\": \"Transportation\", \n",
        "  \"name\": \"Patriots Limousine\", \n",
        "  \"category_list\": [\n",
        "   {\n",
        "    \"id\": \"196941987012177\", \n",
        "    \"name\": \"Limo Service\"\n",
        "   }\n",
        "  ], \n",
        "  \"id\": \"563456747070304\"\n",
        " }, \n",
        " {\n",
        "  \"category\": \"Transportation\", \n",
        "  \"name\": \"Bikestock\", \n",
        "  \"category_list\": [\n",
        "   {\n",
        "    \"id\": \"128003127270269\", \n",
        "    \"name\": \"Bike Shop\"\n",
        "   }, \n",
        "   {\n",
        "    \"id\": \"185259971514191\", \n",
        "    \"name\": \"Vending Machine Service\"\n",
        "   }\n",
        "  ], \n",
        "  \"id\": \"493285644080876\"\n",
        " }, \n",
        " {\n",
        "  \"category\": \"Transportation\", \n",
        "  \"name\": \"Two Men and a Truck Boston\", \n",
        "  \"category_list\": [\n",
        "   {\n",
        "    \"id\": \"185880521445708\", \n",
        "    \"name\": \"Mover\"\n",
        "   }\n",
        "  ], \n",
        "  \"id\": \"462167017254898\"\n",
        " }, \n",
        " {\n",
        "  \"category\": \"Transportation\", \n",
        "  \"name\": \"Victory Motorcycles of North Boston\", \n",
        "  \"category_list\": [\n",
        "   {\n",
        "    \"id\": \"108287585916424\", \n",
        "    \"name\": \"Motorcycle Repair\"\n",
        "   }, \n",
        "   {\n",
        "    \"id\": \"150820404974203\", \n",
        "    \"name\": \"Motorcycles\"\n",
        "   }\n",
        "  ], \n",
        "  \"id\": \"702970089785811\"\n",
        " }, \n",
        " {\n",
        "  \"category\": \"Transportation\", \n",
        "  \"name\": \"Team Starky On Tour\", \n",
        "  \"category_list\": [\n",
        "   {\n",
        "    \"id\": \"2526\", \n",
        "    \"name\": \"Transportation\"\n",
        "   }\n",
        "  ], \n",
        "  \"id\": \"108574945828056\"\n",
        " }, \n",
        " {\n",
        "  \"category\": \"Transportation\", \n",
        "  \"name\": \"The Lift Transportation Service\", \n",
        "  \"category_list\": [\n",
        "   {\n",
        "    \"id\": \"152367304818850\", \n",
        "    \"name\": \"Transportation Service\"\n",
        "   }, \n",
        "   {\n",
        "    \"id\": \"128232937246338\", \n",
        "    \"name\": \"Travel & Transportation\"\n",
        "   }, \n",
        "   {\n",
        "    \"id\": \"270971946329420\", \n",
        "    \"name\": \"Prison & Correctional Facility\"\n",
        "   }\n",
        "  ], \n",
        "  \"id\": \"653608394704729\"\n",
        " }, \n",
        " {\n",
        "  \"category\": \"Transportation\", \n",
        "  \"name\": \"Best Boston Limo\", \n",
        "  \"category_list\": [\n",
        "   {\n",
        "    \"id\": \"196941987012177\", \n",
        "    \"name\": \"Limo Service\"\n",
        "   }, \n",
        "   {\n",
        "    \"id\": \"170817119631096\", \n",
        "    \"name\": \"Airport Shuttle\"\n",
        "   }\n",
        "  ], \n",
        "  \"id\": \"770261269702395\"\n",
        " }, \n",
        " {\n",
        "  \"category\": \"Transportation\", \n",
        "  \"name\": \"Towboat U.S. Boston, Beverly & Newburyport\", \n",
        "  \"category_list\": [\n",
        "   {\n",
        "    \"id\": \"139141179489281\", \n",
        "    \"name\": \"Boating\"\n",
        "   }, \n",
        "   {\n",
        "    \"id\": \"169706939742581\", \n",
        "    \"name\": \"Scuba Diving\"\n",
        "   }, \n",
        "   {\n",
        "    \"id\": \"174972792548177\", \n",
        "    \"name\": \"Towing Service\"\n",
        "   }\n",
        "  ], \n",
        "  \"id\": \"348375591955761\"\n",
        " }, \n",
        " {\n",
        "  \"category\": \"Transportation\", \n",
        "  \"name\": \"Euro Cabs\", \n",
        "  \"category_list\": [\n",
        "   {\n",
        "    \"id\": \"210561295621365\", \n",
        "    \"name\": \"Taxi\"\n",
        "   }, \n",
        "   {\n",
        "    \"id\": \"170817119631096\", \n",
        "    \"name\": \"Airport Shuttle\"\n",
        "   }\n",
        "  ], \n",
        "  \"id\": \"286344374862310\"\n",
        " }, \n",
        " {\n",
        "  \"category\": \"Transportation\", \n",
        "  \"name\": \"Boston Limousines\", \n",
        "  \"category_list\": [\n",
        "   {\n",
        "    \"id\": \"196941987012177\", \n",
        "    \"name\": \"Limo Service\"\n",
        "   }\n",
        "  ], \n",
        "  \"id\": \"105747563064\"\n",
        " }, \n",
        " {\n",
        "  \"category\": \"Transportation\", \n",
        "  \"name\": \"Skyline Coach Lines\", \n",
        "  \"category_list\": [\n",
        "   {\n",
        "    \"id\": \"108512435893415\", \n",
        "    \"name\": \"Charter Buses\"\n",
        "   }\n",
        "  ], \n",
        "  \"id\": \"648536845228790\"\n",
        " }, \n",
        " {\n",
        "  \"category\": \"Transportation\", \n",
        "  \"name\": \"Eco Ride\", \n",
        "  \"category_list\": [\n",
        "   {\n",
        "    \"id\": \"196941987012177\", \n",
        "    \"name\": \"Limo Service\"\n",
        "   }, \n",
        "   {\n",
        "    \"id\": \"108512435893415\", \n",
        "    \"name\": \"Charter Buses\"\n",
        "   }, \n",
        "   {\n",
        "    \"id\": \"152367304818850\", \n",
        "    \"name\": \"Transportation Service\"\n",
        "   }\n",
        "  ], \n",
        "  \"id\": \"207873362565342\"\n",
        " }, \n",
        " {\n",
        "  \"category\": \"Travel/leisure\", \n",
        "  \"name\": \"Ultimate Party Bus of New England   (617) 945-4390  or   (603) 878-4924\", \n",
        "  \"category_list\": [\n",
        "   {\n",
        "    \"id\": \"128232937246338\", \n",
        "    \"name\": \"Travel & Transportation\"\n",
        "   }\n",
        "  ], \n",
        "  \"id\": \"196418800479617\"\n",
        " }, \n",
        " {\n",
        "  \"category\": \"Transportation\", \n",
        "  \"name\": \"617 Limousine Boston\", \n",
        "  \"category_list\": [\n",
        "   {\n",
        "    \"id\": \"152367304818850\", \n",
        "    \"name\": \"Transportation Service\"\n",
        "   }\n",
        "  ], \n",
        "  \"id\": \"581250051944538\"\n",
        " }, \n",
        " {\n",
        "  \"category\": \"Transportation\", \n",
        "  \"name\": \"Pip's Courier Service\", \n",
        "  \"category_list\": [\n",
        "   {\n",
        "    \"id\": \"152367304818850\", \n",
        "    \"name\": \"Transportation Service\"\n",
        "   }\n",
        "  ], \n",
        "  \"id\": \"245263585682806\"\n",
        " }, \n",
        " {\n",
        "  \"category\": \"Transportation\", \n",
        "  \"name\": \"Boston Moving Service\", \n",
        "  \"category_list\": [\n",
        "   {\n",
        "    \"id\": \"185880521445708\", \n",
        "    \"name\": \"Mover\"\n",
        "   }\n",
        "  ], \n",
        "  \"id\": \"473814749418588\"\n",
        " }, \n",
        " {\n",
        "  \"category\": \"Transportation\", \n",
        "  \"name\": \"DeOliveira's Limousine Service\", \n",
        "  \"category_list\": [\n",
        "   {\n",
        "    \"id\": \"196941987012177\", \n",
        "    \"name\": \"Limo Service\"\n",
        "   }, \n",
        "   {\n",
        "    \"id\": \"152367304818850\", \n",
        "    \"name\": \"Transportation Service\"\n",
        "   }, \n",
        "   {\n",
        "    \"id\": \"354275401259620\", \n",
        "    \"name\": \"Nightlife\"\n",
        "   }\n",
        "  ], \n",
        "  \"id\": \"908601645836013\"\n",
        " }, \n",
        " {\n",
        "  \"category\": \"Transportation\", \n",
        "  \"name\": \"Lifts By Luke\", \n",
        "  \"category_list\": [\n",
        "   {\n",
        "    \"id\": \"152367304818850\", \n",
        "    \"name\": \"Transportation Service\"\n",
        "   }\n",
        "  ], \n",
        "  \"id\": \"166236486905010\"\n",
        " }, \n",
        " {\n",
        "  \"category\": \"Transportation\", \n",
        "  \"name\": \"RAA Luxury Services INC.\", \n",
        "  \"category_list\": [\n",
        "   {\n",
        "    \"id\": \"152367304818850\", \n",
        "    \"name\": \"Transportation Service\"\n",
        "   }\n",
        "  ], \n",
        "  \"id\": \"476961765775149\"\n",
        " }, \n",
        " {\n",
        "  \"category\": \"Transportation\", \n",
        "  \"name\": \"Car Service In Boston\", \n",
        "  \"category_list\": [\n",
        "   {\n",
        "    \"id\": \"152367304818850\", \n",
        "    \"name\": \"Transportation Service\"\n",
        "   }, \n",
        "   {\n",
        "    \"id\": \"196941987012177\", \n",
        "    \"name\": \"Limo Service\"\n",
        "   }\n",
        "  ], \n",
        "  \"id\": \"667157950038049\"\n",
        " }, \n",
        " {\n",
        "  \"category\": \"Transportation\", \n",
        "  \"name\": \"Sagitravel\", \n",
        "  \"category_list\": [\n",
        "   {\n",
        "    \"id\": \"128232937246338\", \n",
        "    \"name\": \"Travel & Transportation\"\n",
        "   }\n",
        "  ], \n",
        "  \"id\": \"1375727212664289\"\n",
        " }, \n",
        " {\n",
        "  \"category\": \"Tours/sightseeing\", \n",
        "  \"name\": \"Boston Safari\", \n",
        "  \"category_list\": [\n",
        "   {\n",
        "    \"id\": \"133749773359552\", \n",
        "    \"name\": \"Public Transportation\"\n",
        "   }, \n",
        "   {\n",
        "    \"id\": \"214416301907154\", \n",
        "    \"name\": \"Eco Tours\"\n",
        "   }, \n",
        "   {\n",
        "    \"id\": \"210561295621365\", \n",
        "    \"name\": \"Taxi\"\n",
        "   }\n",
        "  ], \n",
        "  \"id\": \"607391322682040\"\n",
        " }, \n",
        " {\n",
        "  \"category\": \"Transportation\", \n",
        "  \"name\": \"A+ Transportation\", \n",
        "  \"category_list\": [\n",
        "   {\n",
        "    \"id\": \"2526\", \n",
        "    \"name\": \"Transportation\"\n",
        "   }\n",
        "  ], \n",
        "  \"id\": \"527111990637585\"\n",
        " }, \n",
        " {\n",
        "  \"category\": \"Transportation\", \n",
        "  \"name\": \"Sober Chauffeur\", \n",
        "  \"category_list\": [\n",
        "   {\n",
        "    \"id\": \"152367304818850\", \n",
        "    \"name\": \"Transportation Service\"\n",
        "   }\n",
        "  ], \n",
        "  \"id\": \"1533910153518747\"\n",
        " }, \n",
        " {\n",
        "  \"category\": \"Transportation\", \n",
        "  \"name\": \"Excel Transportation\", \n",
        "  \"category_list\": [\n",
        "   {\n",
        "    \"id\": \"2526\", \n",
        "    \"name\": \"Transportation\"\n",
        "   }\n",
        "  ], \n",
        "  \"id\": \"1571614899733251\"\n",
        " }, \n",
        " {\n",
        "  \"category\": \"Transportation\", \n",
        "  \"name\": \"Sema Transportation\", \n",
        "  \"category_list\": [\n",
        "   {\n",
        "    \"id\": \"128232937246338\", \n",
        "    \"name\": \"Travel & Transportation\"\n",
        "   }\n",
        "  ], \n",
        "  \"id\": \"507354755991252\"\n",
        " }, \n",
        " {\n",
        "  \"category\": \"Community organization\", \n",
        "  \"name\": \"T Riders Union\", \n",
        "  \"category_list\": [\n",
        "   {\n",
        "    \"id\": \"133749773359552\", \n",
        "    \"name\": \"Public Transportation\"\n",
        "   }\n",
        "  ], \n",
        "  \"id\": \"90913969687\"\n",
        " }, \n",
        " {\n",
        "  \"category\": \"Transportation\", \n",
        "  \"name\": \"ONE Transportation\", \n",
        "  \"category_list\": [\n",
        "   {\n",
        "    \"id\": \"152367304818850\", \n",
        "    \"name\": \"Transportation Service\"\n",
        "   }, \n",
        "   {\n",
        "    \"id\": \"333158986749730\", \n",
        "    \"name\": \"Private Transportation\"\n",
        "   }\n",
        "  ], \n",
        "  \"id\": \"1379186828970020\"\n",
        " }, \n",
        " {\n",
        "  \"category\": \"Transport/freight\", \n",
        "  \"name\": \"Velocity Transportation\", \n",
        "  \"category_list\": [\n",
        "   {\n",
        "    \"id\": \"2242\", \n",
        "    \"name\": \"Transport/Freight\"\n",
        "   }\n",
        "  ], \n",
        "  \"id\": \"315993915211450\"\n",
        " }, \n",
        " {\n",
        "  \"category\": \"Transportation\", \n",
        "  \"name\": \"Delux Transportation, Inc.\", \n",
        "  \"category_list\": [\n",
        "   {\n",
        "    \"id\": \"152367304818850\", \n",
        "    \"name\": \"Transportation Service\"\n",
        "   }\n",
        "  ], \n",
        "  \"id\": \"489782401142586\"\n",
        " }, \n",
        " {\n",
        "  \"category\": \"Business services\", \n",
        "  \"name\": \"Boston Limo Transportation\", \n",
        "  \"category_list\": [\n",
        "   {\n",
        "    \"id\": \"128232937246338\", \n",
        "    \"name\": \"Travel & Transportation\"\n",
        "   }\n",
        "  ], \n",
        "  \"id\": \"105772979517165\"\n",
        " }, \n",
        " {\n",
        "  \"category\": \"Non-profit organization\", \n",
        "  \"name\": \"Transportation for Massachusetts\", \n",
        "  \"category_list\": [\n",
        "   {\n",
        "    \"id\": \"133749773359552\", \n",
        "    \"name\": \"Public Transportation\"\n",
        "   }, \n",
        "   {\n",
        "    \"id\": \"373543049350668\", \n",
        "    \"name\": \"Political Organization\"\n",
        "   }\n",
        "  ], \n",
        "  \"id\": \"161098773991566\"\n",
        " }, \n",
        " {\n",
        "  \"category\": \"Internet/software\", \n",
        "  \"name\": \"Bridj\", \n",
        "  \"category_list\": [\n",
        "   {\n",
        "    \"id\": \"128232937246338\", \n",
        "    \"name\": \"Travel & Transportation\"\n",
        "   }\n",
        "  ], \n",
        "  \"id\": \"1410662969195717\"\n",
        " }, \n",
        " {\n",
        "  \"category\": \"Transportation\", \n",
        "  \"name\": \"Amtrak - Boston - RTE 128 Station transportation\", \n",
        "  \"category_list\": [\n",
        "   {\n",
        "    \"id\": \"210561295621365\", \n",
        "    \"name\": \"Taxi\"\n",
        "   }, \n",
        "   {\n",
        "    \"id\": \"196941987012177\", \n",
        "    \"name\": \"Limo Service\"\n",
        "   }, \n",
        "   {\n",
        "    \"id\": \"152367304818850\", \n",
        "    \"name\": \"Transportation Service\"\n",
        "   }\n",
        "  ], \n",
        "  \"id\": \"350761391737487\"\n",
        " }, \n",
        " {\n",
        "  \"category\": \"Transportation\", \n",
        "  \"name\": \"Thaxton Enterprises, Inc.\", \n",
        "  \"category_list\": [\n",
        "   {\n",
        "    \"id\": \"128232937246338\", \n",
        "    \"name\": \"Travel & Transportation\"\n",
        "   }, \n",
        "   {\n",
        "    \"id\": \"149998721725634\", \n",
        "    \"name\": \"Automotive Repair\"\n",
        "   }, \n",
        "   {\n",
        "    \"id\": \"196966680314716\", \n",
        "    \"name\": \"Commercial Automotive\"\n",
        "   }\n",
        "  ], \n",
        "  \"id\": \"554162481292232\"\n",
        " }, \n",
        " {\n",
        "  \"category\": \"Local business\", \n",
        "  \"name\": \"Boston Transportation Building Starbucks\", \n",
        "  \"category_list\": [\n",
        "   {\n",
        "    \"id\": \"128673187201735\", \n",
        "    \"name\": \"Coffee Shop\"\n",
        "   }\n",
        "  ], \n",
        "  \"id\": \"228133323957110\"\n",
        " }, \n",
        " {\n",
        "  \"category\": \"Local business\", \n",
        "  \"name\": \"Boston Towing & Transportation(Reinauer North)\", \n",
        "  \"category_list\": [\n",
        "   {\n",
        "    \"id\": \"2500\", \n",
        "    \"name\": \"Local Business\"\n",
        "   }\n",
        "  ], \n",
        "  \"id\": \"182392718459175\"\n",
        " }, \n",
        " {\n",
        "  \"category\": \"Transportation\", \n",
        "  \"name\": \"SkyPlus Limousines\", \n",
        "  \"category_list\": [\n",
        "   {\n",
        "    \"id\": \"196941987012177\", \n",
        "    \"name\": \"Limo Service\"\n",
        "   }, \n",
        "   {\n",
        "    \"id\": \"152367304818850\", \n",
        "    \"name\": \"Transportation Service\"\n",
        "   }, \n",
        "   {\n",
        "    \"id\": \"170817119631096\", \n",
        "    \"name\": \"Airport Shuttle\"\n",
        "   }\n",
        "  ], \n",
        "  \"id\": \"552665468213473\"\n",
        " }, \n",
        " {\n",
        "  \"category\": \"Transport/freight\", \n",
        "  \"name\": \"Wings Transportation Inc\", \n",
        "  \"category_list\": [\n",
        "   {\n",
        "    \"id\": \"152367304818850\", \n",
        "    \"name\": \"Transportation Service\"\n",
        "   }\n",
        "  ], \n",
        "  \"id\": \"359377177521552\"\n",
        " }, \n",
        " {\n",
        "  \"category\": \"Local business\", \n",
        "  \"name\": \"Metropolitan Boston Transportation Authority Train\", \n",
        "  \"category_list\": [\n",
        "   {\n",
        "    \"id\": \"2500\", \n",
        "    \"name\": \"Local Business\"\n",
        "   }\n",
        "  ], \n",
        "  \"id\": \"121000001333442\"\n",
        " }, \n",
        " {\n",
        "  \"category\": \"Local business\", \n",
        "  \"name\": \"Public Transportation\", \n",
        "  \"category_list\": [\n",
        "   {\n",
        "    \"id\": \"2500\", \n",
        "    \"name\": \"Local Business\"\n",
        "   }\n",
        "  ], \n",
        "  \"id\": \"114425938627109\"\n",
        " }, \n",
        " {\n",
        "  \"category\": \"Local business\", \n",
        "  \"name\": \"Ground Transportation Area - Boston Logan International Airport\", \n",
        "  \"category_list\": [\n",
        "   {\n",
        "    \"id\": \"2500\", \n",
        "    \"name\": \"Local Business\"\n",
        "   }\n",
        "  ], \n",
        "  \"id\": \"245119535513222\"\n",
        " }, \n",
        " {\n",
        "  \"category\": \"Local business\", \n",
        "  \"name\": \"City of Boston Transportation Dept\", \n",
        "  \"category_list\": [\n",
        "   {\n",
        "    \"id\": \"161422927240513\", \n",
        "    \"name\": \"Government Organization\"\n",
        "   }\n",
        "  ], \n",
        "  \"id\": \"149849785058016\"\n",
        " }, \n",
        " {\n",
        "  \"category\": \"Transportation\", \n",
        "  \"name\": \"GP Transportation\", \n",
        "  \"category_list\": [\n",
        "   {\n",
        "    \"id\": \"152367304818850\", \n",
        "    \"name\": \"Transportation Service\"\n",
        "   }, \n",
        "   {\n",
        "    \"id\": \"333158986749730\", \n",
        "    \"name\": \"Private Transportation\"\n",
        "   }\n",
        "  ], \n",
        "  \"id\": \"774768112593181\"\n",
        " }, \n",
        " {\n",
        "  \"category\": \"Local business\", \n",
        "  \"name\": \"T.D.S.I CSX Transportation\", \n",
        "  \"category_list\": [\n",
        "   {\n",
        "    \"id\": \"2500\", \n",
        "    \"name\": \"Local Business\"\n",
        "   }\n",
        "  ], \n",
        "  \"id\": \"264705056919836\"\n",
        " }, \n",
        " {\n",
        "  \"category\": \"Local business\", \n",
        "  \"name\": \"Transportation Unlimited\", \n",
        "  \"category_list\": [\n",
        "   {\n",
        "    \"id\": \"196966680314716\", \n",
        "    \"name\": \"Commercial Automotive\"\n",
        "   }\n",
        "  ], \n",
        "  \"id\": \"116926835034374\"\n",
        " }, \n",
        " {\n",
        "  \"category\": \"Non-profit organization\", \n",
        "  \"name\": \"A Better City Transportation Management Association\", \n",
        "  \"category_list\": [\n",
        "   {\n",
        "    \"id\": \"128232937246338\", \n",
        "    \"name\": \"Travel & Transportation\"\n",
        "   }, \n",
        "   {\n",
        "    \"id\": \"188662441155211\", \n",
        "    \"name\": \"Community & Government\"\n",
        "   }\n",
        "  ], \n",
        "  \"id\": \"137833296231267\"\n",
        " }, \n",
        " {\n",
        "  \"category\": \"Consulting/business services\", \n",
        "  \"name\": \"Boston Transportation: Dispatch Training, Truck Insurance, Truck Permits\", \n",
        "  \"category_list\": [\n",
        "   {\n",
        "    \"id\": \"280963708658321\", \n",
        "    \"name\": \"Classes\"\n",
        "   }\n",
        "  ], \n",
        "  \"id\": \"1556085371272623\"\n",
        " }, \n",
        " {\n",
        "  \"category\": \"Local business\", \n",
        "  \"name\": \"Paul Revere Transportation - Green Bus Depot\", \n",
        "  \"category_list\": [\n",
        "   {\n",
        "    \"id\": \"138456929557798\", \n",
        "    \"name\": \"Bus Line\"\n",
        "   }\n",
        "  ], \n",
        "  \"id\": \"659053060831061\"\n",
        " }, \n",
        " {\n",
        "  \"category\": \"Local business\", \n",
        "  \"name\": \"Leslie Transportation Service\", \n",
        "  \"category_list\": [\n",
        "   {\n",
        "    \"id\": \"170817119631096\", \n",
        "    \"name\": \"Airport Shuttle\"\n",
        "   }\n",
        "  ], \n",
        "  \"id\": \"125235537530920\"\n",
        " }, \n",
        " {\n",
        "  \"category\": \"Consulting/business services\", \n",
        "  \"name\": \"Integrated Transportation & Protective Services\", \n",
        "  \"category_list\": [\n",
        "   {\n",
        "    \"id\": \"2248\", \n",
        "    \"name\": \"Consulting/Business Services\"\n",
        "   }\n",
        "  ], \n",
        "  \"id\": \"333711653386453\"\n",
        " }, \n",
        " {\n",
        "  \"category\": \"Local business\", \n",
        "  \"name\": \"Women's Transportation Seminar\", \n",
        "  \"category_list\": [\n",
        "   {\n",
        "    \"id\": \"184395321600410\", \n",
        "    \"name\": \"Cargo & Freight\"\n",
        "   }\n",
        "  ], \n",
        "  \"id\": \"147363225307928\"\n",
        " }, \n",
        " {\n",
        "  \"category\": \"Local business\", \n",
        "  \"name\": \"Easton Massachusetts Transportation Service\", \n",
        "  \"category_list\": [\n",
        "   {\n",
        "    \"id\": \"184395321600410\", \n",
        "    \"name\": \"Cargo & Freight\"\n",
        "   }\n",
        "  ], \n",
        "  \"id\": \"117812984945075\"\n",
        " }, \n",
        " {\n",
        "  \"category\": \"Local business\", \n",
        "  \"name\": \"Southwest Transportation Traders\", \n",
        "  \"category_list\": [\n",
        "   {\n",
        "    \"id\": \"184395321600410\", \n",
        "    \"name\": \"Cargo & Freight\"\n",
        "   }\n",
        "  ], \n",
        "  \"id\": \"141829582530296\"\n",
        " }, \n",
        " {\n",
        "  \"category\": \"Local business\", \n",
        "  \"name\": \"Virginia Department Of Transportation\", \n",
        "  \"category_list\": [\n",
        "   {\n",
        "    \"id\": \"161422927240513\", \n",
        "    \"name\": \"Government Organization\"\n",
        "   }\n",
        "  ], \n",
        "  \"id\": \"125357240860833\"\n",
        " }, \n",
        " {\n",
        "  \"category\": \"Local business\", \n",
        "  \"name\": \"Bowie County School Transportation Dept\", \n",
        "  \"category_list\": [\n",
        "   {\n",
        "    \"id\": \"199405806739848\", \n",
        "    \"name\": \"Public School\"\n",
        "   }\n",
        "  ], \n",
        "  \"id\": \"152614858114058\"\n",
        " }\n",
        "]\n"
       ]
      }
     ],
     "prompt_number": 4
    },
    {
     "cell_type": "code",
     "collapsed": false,
     "input": [
      "data = response.json()[\"data\"]\n",
      "total_likes, total_talking_about_count = 0, 0\n",
      "for node in data[:5]:\n",
      "    # get its id\n",
      "    node_id = str(node[\"id\"])\n",
      "    print node_id\n",
      "    # Get like count\n",
      "    likes, talking_about_count = get_object_likes(node_id)\n",
      "    total_likes += likes\n",
      "    total_talking_about_count += talking_about_count\n",
      "print total_likes, total_talking_about_count\n",
      "    \n",
      "    "
     ],
     "language": "python",
     "metadata": {},
     "outputs": [
      {
       "output_type": "stream",
       "stream": "stdout",
       "text": [
        "133637883343513\n",
        "150505814999859"
       ]
      },
      {
       "output_type": "stream",
       "stream": "stdout",
       "text": [
        "\n",
        "123197097759736"
       ]
      },
      {
       "output_type": "stream",
       "stream": "stdout",
       "text": [
        "\n",
        "1462867590660785"
       ]
      },
      {
       "output_type": "stream",
       "stream": "stdout",
       "text": [
        "\n",
        "114869142919"
       ]
      },
      {
       "output_type": "stream",
       "stream": "stdout",
       "text": [
        "\n",
        "10937"
       ]
      },
      {
       "output_type": "stream",
       "stream": "stdout",
       "text": [
        " 97\n"
       ]
      }
     ],
     "prompt_number": 12
    },
    {
     "cell_type": "code",
     "collapsed": false,
     "input": [],
     "language": "python",
     "metadata": {},
     "outputs": [],
     "prompt_number": 174
    },
    {
     "cell_type": "code",
     "collapsed": false,
     "input": [],
     "language": "python",
     "metadata": {},
     "outputs": [],
     "prompt_number": 82
    },
    {
     "cell_type": "code",
     "collapsed": false,
     "input": [],
     "language": "python",
     "metadata": {},
     "outputs": []
    }
   ],
   "metadata": {}
  }
 ]
}