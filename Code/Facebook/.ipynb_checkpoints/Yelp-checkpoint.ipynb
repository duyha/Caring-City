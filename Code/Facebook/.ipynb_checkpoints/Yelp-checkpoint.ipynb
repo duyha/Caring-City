{
 "metadata": {
  "name": "",
  "signature": "sha256:d67b14271154aa4b52ebd618d21fd166b6d555fc37ef48a29d7a63ef4d567126"
 },
 "nbformat": 3,
 "nbformat_minor": 0,
 "worksheets": [
  {
   "cells": [
    {
     "cell_type": "code",
     "collapsed": false,
     "input": [
      "import argparse\n",
      "import json\n",
      "import pprint\n",
      "import sys\n",
      "import urllib\n",
      "import urllib2\n",
      "\n",
      "import oauth2"
     ],
     "language": "python",
     "metadata": {},
     "outputs": [],
     "prompt_number": 16
    },
    {
     "cell_type": "code",
     "collapsed": false,
     "input": [
      "\"\"\"\n",
      "Consumer Key\tPDVucV_UG765edXRbQibSw\n",
      "Consumer Secret \tt9C1qFTbVyYqa9TAbKIfW9ODSVc\n",
      "Token\tggfX4wXjopYvnGm5CZui2OvjFejkn9gF\n",
      "Token Secret\tXYw-ODuJChTqEUhjDQK6DwUB22A\n",
      "\"\"\"\n",
      "\n",
      "\"\"\"\n",
      "APIs funtions\n",
      "    - request(host, path, url_params=None)\n",
      "    - search(term, location)\n",
      "    - get_business(business_id)\n",
      "    - query_api(term, location)\n",
      "\"\"\""
     ],
     "language": "python",
     "metadata": {},
     "outputs": [
      {
       "metadata": {},
       "output_type": "pyout",
       "prompt_number": 17,
       "text": [
        "'\\nAPIs funtions\\n    - request(host, path, url_params=None)\\n    - search(term, location)\\n    - get_business(business_id)\\n    - query_api(term, location)\\n'"
       ]
      }
     ],
     "prompt_number": 17
    },
    {
     "cell_type": "code",
     "collapsed": false,
     "input": [
      "API_HOST = 'api.yelp.com'\n",
      "DEFAULT_TERM = 'dinner'\n",
      "DEFAULT_LOCATION = 'San Francisco, CA'\n",
      "SEARCH_LIMIT = 3\n",
      "SEARCH_PATH = '/v2/search/'\n",
      "BUSINESS_PATH = '/v2/business/'\n",
      "\n",
      "# OAuth credential placeholders that must be filled in by users.\n",
      "CONSUMER_KEY = \"PDVucV_UG765edXRbQibSw\"\n",
      "CONSUMER_SECRET = \"t9C1qFTbVyYqa9TAbKIfW9ODSVc\"\n",
      "TOKEN = \"ggfX4wXjopYvnGm5CZui2OvjFejkn9gF\"\n",
      "TOKEN_SECRET = \"XYw-ODuJChTqEUhjDQK6DwUB22A\"\n",
      "\n",
      "def request(host, path, url_params=None):\n",
      "    \"\"\"Prepares OAuth authentication and sends the request to the API.\n",
      "\n",
      "    Args:\n",
      "        host (str): The domain host of the API.\n",
      "        path (str): The path of the API after the domain.\n",
      "        url_params (dict): An optional set of query parameters in the request.\n",
      "\n",
      "    Returns:\n",
      "        dict: The JSON response from the request.\n",
      "\n",
      "    Raises:\n",
      "        urllib2.HTTPError: An error occurs from the HTTP request.\n",
      "    \"\"\"\n",
      "    url_params = url_params or {}\n",
      "    url = 'http://{0}{1}?'.format(host, urllib.quote(path.encode('utf8')))\n",
      "\n",
      "    consumer = oauth2.Consumer(CONSUMER_KEY, CONSUMER_SECRET)\n",
      "    oauth_request = oauth2.Request(method=\"GET\", url=url, parameters=url_params)\n",
      "\n",
      "    oauth_request.update(\n",
      "        {\n",
      "            'oauth_nonce': oauth2.generate_nonce(),\n",
      "            'oauth_timestamp': oauth2.generate_timestamp(),\n",
      "            'oauth_token': TOKEN,\n",
      "            'oauth_consumer_key': CONSUMER_KEY\n",
      "        }\n",
      "    )\n",
      "    token = oauth2.Token(TOKEN, TOKEN_SECRET)\n",
      "    oauth_request.sign_request(oauth2.SignatureMethod_HMAC_SHA1(), consumer, token)\n",
      "    signed_url = oauth_request.to_url()\n",
      "\n",
      "    print u'Querying {0} ...'.format(url)\n",
      "\n",
      "    conn = urllib2.urlopen(signed_url, None)\n",
      "    try:\n",
      "        response = json.loads(conn.read())\n",
      "    finally:\n",
      "        conn.close()\n",
      "\n",
      "    return response\n",
      "\n",
      "def search(term, location):\n",
      "    \"\"\"Query the Search API by a search term and location.\n",
      "\n",
      "    Args:\n",
      "        term (str): The search term passed to the API.\n",
      "        location (str): The search location passed to the API.\n",
      "\n",
      "    Returns:\n",
      "        dict: The JSON response from the request.\n",
      "    \"\"\"\n",
      "\n",
      "    url_params = {\n",
      "        'term': term.replace(' ', '+'),\n",
      "        'location': location.replace(' ', '+'),\n",
      "        'limit': SEARCH_LIMIT\n",
      "    }\n",
      "    return request(API_HOST, SEARCH_PATH, url_params=url_params)\n",
      "\n",
      "def get_business(business_id):\n",
      "    \"\"\"Query the Business API by a business ID.\n",
      "\n",
      "    Args:\n",
      "        business_id (str): The ID of the business to query.\n",
      "\n",
      "    Returns:\n",
      "        dict: The JSON response from the request.\n",
      "    \"\"\"\n",
      "    business_path = BUSINESS_PATH + business_id\n",
      "\n",
      "    return request(API_HOST, business_path)\n",
      "\n",
      "def query_api(term, location):\n",
      "    \"\"\"Queries the API by the input values from the user.\n",
      "\n",
      "    Args:\n",
      "        term (str): The search term to query.\n",
      "        location (str): The location of the business to query.\n",
      "    \"\"\"\n",
      "    response = search(term, location)\n",
      "\n",
      "    businesses = response.get('businesses')\n",
      "\n",
      "    if not businesses:\n",
      "        print u'No businesses for {0} in {1} found.'.format(term, location)\n",
      "        return\n",
      "\n",
      "    business_id = businesses[0]['id']\n",
      "\n",
      "    print u'{0} businesses found, querying business info for the top result \"{1}\" ...'.format(\n",
      "        len(businesses),\n",
      "        business_id\n",
      "    )\n",
      "\n",
      "    response = get_business(business_id)\n",
      "\n",
      "    print u'Result for business \"{0}\" found:'.format(business_id)\n",
      "    pprint.pprint(response, indent=2)\n",
      "\n",
      "\n"
     ],
     "language": "python",
     "metadata": {},
     "outputs": [],
     "prompt_number": 5
    },
    {
     "cell_type": "code",
     "collapsed": false,
     "input": [
      "res = search(\"Transportation\", \"Boston, MA\")\n",
      "print type(res[\"businesses\"])\n",
      "print res[\"businesses\"][0].keys()\n",
      "print \"***\"\n",
      "print \"ID = \", res[\"businesses\"][2][\"id\"]\n",
      "b = get_business(res[\"businesses\"][2][\"id\"])\n",
      "#print b.keys()\n",
      "print \"# Reviews = \", b[]\n",
      "print len(b['reviews'])\n",
      "print b['reviews'][0]\n",
      "#print res[\"businesses\"]"
     ],
     "language": "python",
     "metadata": {},
     "outputs": [
      {
       "output_type": "stream",
       "stream": "stdout",
       "text": [
        "Querying http://api.yelp.com/v2/search/? ...\n",
        "<type 'list'>"
       ]
      },
      {
       "output_type": "stream",
       "stream": "stdout",
       "text": [
        "\n",
        "[u'is_claimed', u'rating', u'mobile_url', u'rating_img_url', u'review_count', u'name', u'rating_img_url_small', u'url', u'is_closed', u'phone', u'snippet_text', u'image_url', u'categories', u'display_phone', u'rating_img_url_large', u'id', u'snippet_image_url', u'location']\n",
        "***\n",
        "ID =  chill-out-first-class-transportation-services-cambridge\n",
        "Querying http://api.yelp.com/v2/business/chill-out-first-class-transportation-services-cambridge? ...\n",
        "1"
       ]
      },
      {
       "output_type": "stream",
       "stream": "stdout",
       "text": [
        "\n",
        "{u'rating': 5, u'excerpt': u'The best service ever!\\nI had Japanese friend going back to Japan and their flight was 6 am so they had to be picked up at 4 am!\\nAt 3:32 am I got text that...', u'time_created': 1415657255, u'rating_image_url': u'http://s3-media1.fl.yelpcdn.com/assets/2/www/img/f1def11e4e79/ico/stars/v1/stars_5.png', u'rating_image_small_url': u'http://s3-media1.fl.yelpcdn.com/assets/2/www/img/c7623205d5cd/ico/stars/v1/stars_small_5.png', u'user': {u'image_url': u'http://s3-media4.fl.yelpcdn.com/assets/srv0/yelp_styleguide/cc4afe21892e/assets/img/default_avatars/user_medium_square.png', u'id': u'eZnp46fL67eY2pXFn5yqKg', u'name': u'Panda P.'}, u'rating_image_large_url': u'http://s3-media3.fl.yelpcdn.com/assets/2/www/img/22affc4e6c38/ico/stars/v1/stars_large_5.png', u'id': u'v6l8l7Th7n14AWnt_6mZHw'}\n"
       ]
      }
     ],
     "prompt_number": 48
    },
    {
     "cell_type": "code",
     "collapsed": false,
     "input": [],
     "language": "python",
     "metadata": {},
     "outputs": []
    }
   ],
   "metadata": {}
  }
 ]
}