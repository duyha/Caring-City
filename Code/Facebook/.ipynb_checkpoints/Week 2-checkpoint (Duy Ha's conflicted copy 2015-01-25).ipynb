{
 "metadata": {
  "name": "",
  "signature": "sha256:ec364b728fb1ae50d684be06816be345878d2c911bbe83260a539b2b54e2793d"
 },
 "nbformat": 3,
 "nbformat_minor": 0,
 "worksheets": [
  {
   "cells": [
    {
     "cell_type": "code",
     "collapsed": false,
     "input": [
      "# Create one example of getting transportation data from FB\n",
      "import requests\n",
      "import sqlite3\n",
      "import os\n",
      "from datetime import datetime\n",
      "import facebook\n",
      "import json\n",
      "from facebook_api import *\n",
      "import numpy as np\n",
      "from pattern.en import sentiment\n",
      "from textblob import TextBlob"
     ],
     "language": "python",
     "metadata": {},
     "outputs": [],
     "prompt_number": 6
    },
    {
     "cell_type": "code",
     "collapsed": false,
     "input": [
      "BOS_POPULATION = 645966\n",
      "NYC_POPULATION = 8406000\n",
      "SFO_POPULATION = 837442\n",
      "LA_POPULATION = 3884000\n",
      "OKL_POPULATION = 3.851*10**6\n",
      "DET_POPULATION = 688701  # Detroit\n",
      "DEN_POPULATION = 649495  # Denver\n",
      "POR_POPULATION = 609456  # Portland, Oregon\n",
      "SLK_POPULATION = 191180  # Salt Lake City\n",
      "SEA_POPULATION = 652405  # Seattle\n",
      "RMD_POPULATION = 214114  # Richmond\n",
      "KNV_POPULATION = 183270  # Knoxville\n",
      "\n",
      "all_cities = [\"Boston\", \"New York\", \"Seattle\", \"San Francisco\", \"Detroit\", \"Oklahoma City\", \"Richmond\"]\n",
      "Cities = {\n",
      "\"Boston\":        {\"state\": \"MA\", \"population\": 645966},\n",
      "\"New York\":      {\"state\": \"NY\", \"population\": 8406000},\n",
      "\"Seattle\":       {\"state\": \"WA\", \"population\": 652405},\n",
      "\"San Francisco\": {\"state\": \"CA\", \"population\": 837442},\n",
      "\"Detroit\":       {\"state\": \"MI\", \"population\": 688701},\n",
      "\"Oklahoma City\": {\"state\": \"OK\", \"population\": 3851000},\n",
      "\"Richmond\":      {\"state\": \"VA\", \"population\": 214114}on has expired on Jan 25, 2015 4:00pm. The current time is Jan 25, 2015 4:00pm.\n",
      "}"
     ],
     "language": "python",
     "metadata": {},
     "outputs": [],
     "prompt_number": 7
    },
    {
     "cell_type": "code",
     "collapsed": false,
     "input": [
      "# Get access token first\n",
      "# I have created a FB account\n",
      "#     email: urop.caring.city@gmail.com\n",
      "#     password: urop.caring.city\n",
      "# Then go to https://developers.faGracebook.com/tools/explorer/ to get access token.\n",
      "ACCESS_TOKEN = 'CAACEdEose0cBAAwzON5vkcN9nIzBWdHpagc2HOjefofWZBwdYraq6Ianz84ZAJdaMAlxV65vnenfevQpleHgKV93ZBQitZC2BGtHzbJTHGnwZAZCEJH82qAQdDNhdebeeiwWAn80zCBqprnXRJIAKZC7svzX0ZBtvFMqkAyC5r3ExpnbTjXz9xL7B8Lab8QMPy9EngQrO1JmcsWW54K6BxZBJ7kpT5RJ95wIZD'\n",
      "args = {\"access_token\": ACCESS_TOKEN}\n",
      "graph = facebook.GraphAPI(ACCESS_TOKEN)"
     ],
     "language": "python",
     "metadata": {},
     "outputs": [],
     "prompt_number": 8
    },
    {
     "cell_type": "code",
     "collapsed": false,
     "input": [
      "# A general search function\n",
      "# Execute a search given a query and an object type\n",
      "# query: string, object_type in {\"user\", \"page\", \"event\", \"group\", \"place\", \"plactopic\", \"ad_*\"}\n",
      "# Return a list of datum containing {object-name, id}\n",
      "def search_objects(query, object_type, limit=None):\n",
      "    # Search\n",
      "    print \"* query = %s, type = %s\" % (query, object_type)\n",
      "    url = \"https://graph.facebook.com/search?q=%s&type=%s\" % (query, object_type)\n",
      "    if limit:\n",
      "        url += \"&limit=%d\" % (int(limit))\n",
      "\n",
      "    print \"  url = %s\" % (url)\n",
      "    response = requests.request(\"GET\", url, params=args)\n",
      "\n",
      "    # Get all nodes of the search\n",
      "    data = response.json()[\"data\"]\n",
      "    print \"* The number of results is %d\" % len(data)\n",
      "    return data\n",
      "\n",
      "# def get sentiment analysis from texblob\n",
      "def textblob_sentiment(text):\n",
      "    blob = TextBlob(text)\n",
      "    return blob.sentiment.polarity\n",
      "\n",
      "def pattern_sentiment(text):\n",
      "    return sentiment(text)[0]\n"
     ],
     "language": "python",
     "metadata": {},
     "outputs": [],
     "prompt_number": 23
    },
    {
     "cell_type": "code",
     "collapsed": false,
     "input": [
      "# Check if a profile is in a specific category\n",
      "def is_in_category(profile, category, strict=False):\n",
      "    category = category.lower()\n",
      "    if (\"category\" in profile) \\\n",
      "    and (profile[\"category\"].lower() == category):\n",
      "        return True\n",
      "\n",
      "    if (strict) or not(\"category_list\" in profile):\n",
      "        return False\n",
      "\n",
      "    for _category in profile[\"category_list\"]:\n",
      "        if _category[\"name\"].lower() == category:\n",
      "            return True\n",
      "    return False\n",
      "\n",
      "# Check if a profile is in a specific location\n",
      "def is_in_location(profile, location):\n",
      "    if not(\"location\" in profile):\n",
      "        return False\n",
      "    object_location = profile[\"location\"]\n",
      "    for field in location:\n",
      "        if not(field in object_location) \\\n",
      "        or (object_location[field] != location[field]):\n",
      "            return False\n",
      "    return True\n",
      "\n",
      "def check_fn(profile, location=None, category=None):\n",
      "    result = True\n",
      "    if (location) and not(is_in_location(profile, location)):\n",
      "        return False\n",
      "    \"\"\"\n",
      "    if (category) and not(is_in_category(profile, category)):\n",
      "        return False\n",
      "    \"\"\"\n",
      "    return True\n",
      "    \n",
      "# Get the number of likes\n",
      "def get_topic_likes(query, object_type, check_fn=check_fn, location=None, category=None):\n",
      "    data = search_objects(query, object_type, limit=None)\n",
      "    total_likes, total_talking_about_count = 0, 0\n",
      "    num_true = 0\n",
      "    for i, node in enumerate(data):\n",
      "        # get its id\n",
      "        node_id = str(node[\"id\"])\n",
      "        if (i % 10 == 0):\n",
      "            print i,  # track\n",
      "        \n",
      "        profile = graph.get_object(node_id)\n",
      "        # pretty_print(profile)\n",
      "        # Check if this ID is matched\n",
      "        if not(check_fn(profile, location=location, category=category)):\n",
      "            continue\n",
      "            \n",
      "        num_true += 1\n",
      "            \n",
      "        # Get like count\n",
      "        likes, talking_about_count = profile[\"likes\"], profile[\"talking_about_count\"]\n",
      "        total_likes += likes\n",
      "        total_talking_about_count += talking_about_count\n",
      "    print \n",
      "    print \"* The number of matched pages = %d / %d, rate = %f\" % (num_true, len(data), float(num_true)/len(data))\n",
      "    print \"* The number of likes, talking about = %d, %d\" % (total_likes, total_talking_about_count)\n",
      "    print \"* Ratio likes/talks = %f\" % (float(total_likes)/(total_talking_about_count+0.01))\n",
      "    return total_likes, total_talking_about_count\n",
      "    \n",
      "    "
     ],
     "language": "python",
     "metadata": {},
     "outputs": [],
     "prompt_number": 24
    },
    {
     "cell_type": "code",
     "collapsed": false,
     "input": [
      "# Get all feeds in pages\n",
      "def get_feeds(page_id):\n",
      "    feeds = graph.get_connections(\"usatoday\", \"feed\")\n",
      "    return feeds[\"data\"]\n",
      "\n",
      "def get_messages_from_feed(feed):\n",
      "    field = \"comments\"\n",
      "    if field in feed:\n",
      "        comments = feed[\"comments\"][\"data\"]\n",
      "        messages = [comment[\"message\"] for comment in comments]\n",
      "    else:\n",
      "        messages = []\n",
      "    return messages\n",
      "\n",
      "def get_messages(page_id):\n",
      "    feeds = get_feeds(page_id)\n",
      "    all_messages = []\n",
      "    for feed in feeds:\n",
      "        messages = get_messages_from_feed(feed)\n",
      "        all_messages.extend(messages)\n",
      "    return all_messages\n",
      "\n",
      "def get_sentiment(query, object_type, sentiment_fn=pattern_sentiment, \\\n",
      "                  check_fn=check_fn, location=None, category=None):\n",
      "    data = search_objects(query, object_type, limit=None)\n",
      "    sentiments = []\n",
      "    num_true = 0\n",
      "    for i, node in enumerate(data):\n",
      "        # get its id\n",
      "        node_id = str(node[\"id\"])\n",
      "        if (i % 10 == 0):\n",
      "            print i,  # track\n",
      "        \n",
      "        profile = graph.get_object(node_id)\n",
      "        # pretty_print(profile)\n",
      "        # Check if this ID is matched\n",
      "        if not(check_fn(profile, location=location, category=category)):\n",
      "            continue\n",
      "            \n",
      "        num_true += 1\n",
      "            \n",
      "        # Get all messages\n",
      "        all_messages = get_messages(node_id)\n",
      "        # Get sentiment\n",
      "        for m in all_messages:\n",
      "            sentiments.append(sentiment_fn(m))\n",
      "    \n",
      "    sentiments = np.array(sentiments)\n",
      "    avg = np.mean(sentiments)\n",
      "    neutral = sum(np.abs(sentiments) < 0.1)\n",
      "    possitive = sum(sentiments >= 0.1)\n",
      "    negative = sum(sentiments <= -0.1)\n",
      "    \n",
      "    return neutral, possitive, negative, avg, sentiments\n",
      "    \n",
      "    \n",
      "#feeds = graph.get_connections(\"usatoday\", \"feed\")\n",
      "print len(get_messages(\"usatoday\"))\n"
     ],
     "language": "python",
     "metadata": {},
     "outputs": [
      {
       "output_type": "stream",
       "stream": "stdout",
       "text": [
        "535\n"
       ]
      }
     ],
     "prompt_number": 25
    },
    {
     "cell_type": "code",
     "collapsed": false,
     "input": [
      "for city in all_cities:\n",
      "    print \"CITY: %s\" % city\n",
      "    total_likes, total_talking_about_count = \\\n",
      "    get_topic_likes(\"Bus %s\" % city, \"page\", \\\n",
      "                check_fn, \\\n",
      "                location= {\"city\": city, \"state\": Cities[city][\"state\"], \"country\": \"United States\"}, \\\n",
      "                category= \"transportation\")\n",
      "    print \"* Average likes/person = %f %%\" % (100*float(total_likes)/Cities[city][\"population\"])\n",
      "    #print \"* Average talks/person = %f\" % (float(total_talking_about_count)/Cities[city][\"population\"])\n",
      "    "
     ],
     "language": "python",
     "metadata": {},
     "outputs": [
      {
       "output_type": "stream",
       "stream": "stdout",
       "text": [
        "\n"
       ]
      }
     ],
     "prompt_number": 29
    },
    {
     "cell_type": "code",
     "collapsed": false,
     "input": [
      "\"\"\"\n",
      "for city in all_cities:\n",
      "    print \"CITY: %s\" % city\n",
      "    total_likes, total_talking_about_count = \\\n",
      "    get_topic_likes(\"Uber %s\" % city, \"page\", \\\n",
      "                check_fn, \\\n",
      "                location= {\"city\": city, \"state\": Cities[city][\"state\"], \"country\": \"United States\"}, \\\n",
      "                category= \"transportation\")\n",
      "    print \"* Average likes/person = %f %%\" % (100*float(total_likes)/Cities[city][\"population\"])\n",
      "    #print \"* Average talks/person = %f\" % (float(total_talking_about_count)/Cities[city][\"population\"])\n",
      "\"\"\""
     ],
     "language": "python",
     "metadata": {},
     "outputs": [
      {
       "metadata": {},
       "output_type": "pyout",
       "prompt_number": 365,
       "text": [
        "'\\nfor city in all_cities:\\n    print \"CITY: %s\" % city\\n    total_likes, total_talking_about_count =     get_topic_likes(\"Uber %s\" % city, \"page\",                 check_fn,                 location= {\"city\": city, \"state\": Cities[city][\"state\"], \"country\": \"United States\"},                 category= \"transportation\")\\n    print \"* Average likes/person = %f %%\" % (100*float(total_likes)/Cities[city][\"population\"])\\n    #print \"* Average talks/person = %f\" % (float(total_talking_about_count)/Cities[city][\"population\"])\\n'"
       ]
      }
     ],
     "prompt_number": 365
    },
    {
     "cell_type": "code",
     "collapsed": false,
     "input": [],
     "language": "python",
     "metadata": {},
     "outputs": [],
     "prompt_number": 16
    },
    {
     "cell_type": "code",
     "collapsed": false,
     "input": [],
     "language": "python",
     "metadata": {},
     "outputs": [],
     "prompt_number": 16
    },
    {
     "cell_type": "code",
     "collapsed": false,
     "input": [],
     "language": "python",
     "metadata": {},
     "outputs": [],
     "prompt_number": 16
    },
    {
     "cell_type": "code",
     "collapsed": false,
     "input": [
      "pattern_sentiment(\"It was bad\")"
     ],
     "language": "python",
     "metadata": {},
     "outputs": [
      {
       "metadata": {},
       "output_type": "pyout",
       "prompt_number": 26,
       "text": [
        "-0.6999999999999998"
       ]
      }
     ],
     "prompt_number": 26
    },
    {
     "cell_type": "code",
     "collapsed": false,
     "input": [
      " Pytho"
     ],
     "language": "python",
     "metadata": {},
     "outputs": [],
     "prompt_number": 16
    },
    {
     "cell_type": "code",
     "collapsed": false,
     "input": [
      "# For each city, get all FB pages\n",
      "results = []\n",
      "for city in all_cities:\n",
      "    print \"CITY: %s\" % city\n",
      "    r = get_sentiment(\"Bus %s\" % city, \"page\", \\\n",
      "                      sentiment_fn Pytho=pattern_sentiment, \\\n",
      "                      check_fn=check_fn, \\\n",
      "                      location= {\"city\": city, \"state\": Cities[city][\"state\"], \"country\": \"United States\"})\n",
      "    results.append(r)\n",
      "    print\n",
      "    print r[0], r[1], r[2], r[3]\n",
      "    print r[4]"
     ],
     "language": "python",
     "metadata": {},
     "outputs": [
      {
       "output_type": "stream",
       "stream": "stdout",
       "text": [
        " CITY: Boston\n",
        "* query = Bus Boston, type = page\n",
        "  url = https://graph.facebook.com/search?q=Bus Boston&type=page\n",
        "* The number of results is 124"
       ]
      },
      {
       "output_type": "stream",
       "stream": "stdout",
       "text": [
        "\n",
        "0 "
       ]
      },
      {
       "output_type": "stream",
       "stream": "stdout",
       "text": [
        "10 "
       ]
      },
      {
       "output_type": "stream",
       "stream": "stdout",
       "text": [
        "20 "
       ]
      },
      {
       "output_type": "stream",
       "stream": "stdout",
       "text": [
        "30 "
       ]
      },
      {
       "output_type": "stream",
       "stream": "stdout",
       "text": [
        "40 "
       ]
      },
      {
       "output_type": "stream",
       "stream": "stdout",
       "text": [
        "50 "
       ]
      },
      {
       "output_type": "stream",
       "stream": "stdout",
       "text": [
        "60 "
       ]
      },
      {
       "output_type": "stream",
       "stream": "stdout",
       "text": [
        "70 "
       ]
      },
      {
       "output_type": "stream",
       "stream": "stdout",
       "text": [
        "80 "
       ]
      },
      {
       "output_type": "stream",
       "stream": "stdout",
       "text": [
        "90 "
       ]
      },
      {
       "output_type": "stream",
       "stream": "stdout",
       "text": [
        "100 "
       ]
      },
      {
       "output_type": "stream",
       "stream": "stdout",
       "text": [
        "110 "
       ]
      },
      {
       "output_type": "stream",
       "stream": "stdout",
       "text": [
        "120\n"
       ]
      },
      {
       "output_type": "stream",
       "stream": "stdout",
       "text": [
        "17131 8526 5373 0.0458826661772\n",
        "[ 0.45        0.          0.375      ...,  0.13636364  0.04545455  0.        ]\n",
        "CITY: New York\n",
        "* query = Bus New York, type = page\n",
        "  url = https://graph.facebook.com/search?q=Bus New York&type=page\n",
        "* The number of results is 257"
       ]
      },
      {
       "output_type": "stream",
       "stream": "stdout",
       "text": [
        "\n",
        "0 "
       ]
      },
      {
       "output_type": "stream",
       "stream": "stdout",
       "text": [
        "10 "
       ]
      },
      {
       "output_type": "stream",
       "stream": "stdout",
       "text": [
        "20 "
       ]
      },
      {
       "output_type": "stream",
       "stream": "stdout",
       "text": [
        "30 "
       ]
      },
      {
       "output_type": "stream",
       "stream": "stdout",
       "text": [
        "40 "
       ]
      },
      {
       "output_type": "stream",
       "stream": "stdout",
       "text": [
        "50 "
       ]
      },
      {
       "output_type": "stream",
       "stream": "stdout",
       "text": [
        "60 "
       ]
      },
      {
       "output_type": "stream",
       "stream": "stdout",
       "text": [
        "70 "
       ]
      },
      {
       "output_type": "stream",
       "stream": "stdout",
       "text": [
        "80 "
       ]
      },
      {
       "output_type": "stream",
       "stream": "stdout",
       "text": [
        "90 "
       ]
      },
      {
       "output_type": "stream",
       "stream": "stdout",
       "text": [
        "100 "
       ]
      },
      {
       "output_type": "stream",
       "stream": "stdout",
       "text": [
        "110 "
       ]
      },
      {
       "output_type": "stream",
       "stream": "stdout",
       "text": [
        "120 "
       ]
      },
      {
       "output_type": "stream",
       "stream": "stdout",
       "text": [
        "130 "
       ]
      },
      {
       "output_type": "stream",
       "stream": "stdout",
       "text": [
        "140 "
       ]
      },
      {
       "output_type": "stream",
       "stream": "stdout",
       "text": [
        "150 "
       ]
      },
      {
       "output_type": "stream",
       "stream": "stdout",
       "text": [
        "160 "
       ]
      },
      {
       "output_type": "stream",
       "stream": "stdout",
       "text": [
        "170 "
       ]
      },
      {
       "output_type": "stream",
       "stream": "stdout",
       "text": [
        "180 "
       ]
      },
      {
       "output_type": "stream",
       "stream": "stdout",
       "text": [
        "190 "
       ]
      },
      {
       "output_type": "stream",
       "stream": "stdout",
       "text": [
        "200 "
       ]
      },
      {
       "output_type": "stream",
       "stream": "stdout",
       "text": [
        "210 "
       ]
      },
      {
       "output_type": "stream",
       "stream": "stdout",
       "text": [
        "220 "
       ]
      },
      {
       "output_type": "stream",
       "stream": "stdout",
       "text": [
        "230 "
       ]
      },
      {
       "output_type": "stream",
       "stream": "stdout",
       "text": [
        "240 "
       ]
      },
      {
       "output_type": "stream",
       "stream": "stdout",
       "text": [
        "250\n"
       ]
      },
      {
       "output_type": "stream",
       "stream": "stdout",
       "text": [
        "19175 9555 6045 0.0453222700796\n",
        "[ 0.45        0.          0.375      ...,  0.13636364  0.04545455  0.        ]\n",
        "CITY: Seattle\n",
        "* query = Bus Seattle, type = page\n",
        "  url = https://graph.facebook.com/search?q=Bus Seattle&type=page\n",
        "* The number of results is 99"
       ]
      },
      {
       "output_type": "stream",
       "stream": "stdout",
       "text": [
        "\n",
        "0 "
       ]
      },
      {
       "output_type": "stream",
       "stream": "stdout",
       "text": [
        "10 "
       ]
      },
      {
       "output_type": "stream",
       "stream": "stdout",
       "text": [
        "20 "
       ]
      },
      {
       "output_type": "stream",
       "stream": "stdout",
       "text": [
        "30 "
       ]
      },
      {
       "output_type": "stream",
       "stream": "stdout",
       "text": [
        "40 "
       ]
      },
      {
       "output_type": "stream",
       "stream": "stdout",
       "text": [
        "50 "
       ]
      },
      {
       "output_type": "stream",
       "stream": "stdout",
       "text": [
        "60 "
       ]
      },
      {
       "ename": "GraphAPIError",
       "evalue": "Error validating access token: Session has expired on Jan 25, 2015 4:00pm. The current time is Jan 25, 2015 4:00pm.",
       "output_type": "pyerr",
       "traceback": [
        "\u001b[0;31m---------------------------------------------------------------------------\u001b[0m\n\u001b[0;31mGraphAPIError\u001b[0m                             Traceback (most recent call last)",
        "\u001b[0;32m<ipython-input-29-e141c74ab76c>\u001b[0m in \u001b[0;36m<module>\u001b[0;34m()\u001b[0m\n\u001b[1;32m      3\u001b[0m \u001b[0;32mfor\u001b[0m \u001b[0mcity\u001b[0m \u001b[0;32min\u001b[0m \u001b[0mall_cities\u001b[0m\u001b[0;34m:\u001b[0m\u001b[0;34m\u001b[0m\u001b[0m\n\u001b[1;32m      4\u001b[0m     \u001b[0;32mprint\u001b[0m \u001b[0;34m\"CITY: %s\"\u001b[0m \u001b[0;34m%\u001b[0m \u001b[0mcity\u001b[0m\u001b[0;34m\u001b[0m\u001b[0m\n\u001b[0;32m----> 5\u001b[0;31m     \u001b[0mr\u001b[0m \u001b[0;34m=\u001b[0m \u001b[0mget_sentiment\u001b[0m\u001b[0;34m(\u001b[0m\u001b[0;34m\"Bus %s\"\u001b[0m \u001b[0;34m%\u001b[0m \u001b[0mcity\u001b[0m\u001b[0;34m,\u001b[0m \u001b[0;34m\"page\"\u001b[0m\u001b[0;34m,\u001b[0m                       \u001b[0msentiment_fn\u001b[0m\u001b[0;34m=\u001b[0m\u001b[0mpattern_sentiment\u001b[0m\u001b[0;34m,\u001b[0m                       \u001b[0mcheck_fn\u001b[0m\u001b[0;34m=\u001b[0m\u001b[0mcheck_fn\u001b[0m\u001b[0;34m,\u001b[0m                       \u001b[0mlocation\u001b[0m\u001b[0;34m=\u001b[0m \u001b[0;34m{\u001b[0m\u001b[0;34m\"city\"\u001b[0m\u001b[0;34m:\u001b[0m \u001b[0mcity\u001b[0m\u001b[0;34m,\u001b[0m \u001b[0;34m\"state\"\u001b[0m\u001b[0;34m:\u001b[0m \u001b[0mCities\u001b[0m\u001b[0;34m[\u001b[0m\u001b[0mcity\u001b[0m\u001b[0;34m]\u001b[0m\u001b[0;34m[\u001b[0m\u001b[0;34m\"state\"\u001b[0m\u001b[0;34m]\u001b[0m\u001b[0;34m,\u001b[0m \u001b[0;34m\"country\"\u001b[0m\u001b[0;34m:\u001b[0m \u001b[0;34m\"United States\"\u001b[0m\u001b[0;34m}\u001b[0m\u001b[0;34m)\u001b[0m\u001b[0;34m\u001b[0m\u001b[0m\n\u001b[0m\u001b[1;32m      6\u001b[0m     \u001b[0mresults\u001b[0m\u001b[0;34m.\u001b[0m\u001b[0mappend\u001b[0m\u001b[0;34m(\u001b[0m\u001b[0mr\u001b[0m\u001b[0;34m)\u001b[0m\u001b[0;34m\u001b[0m\u001b[0m\n\u001b[1;32m      7\u001b[0m     \u001b[0;32mprint\u001b[0m\u001b[0;34m\u001b[0m\u001b[0m\n",
        "\u001b[0;32m<ipython-input-25-c1b6efbacad7>\u001b[0m in \u001b[0;36mget_sentiment\u001b[0;34m(query, object_type, sentiment_fn, check_fn, location, category)\u001b[0m\n\u001b[1;32m     31\u001b[0m             \u001b[0;32mprint\u001b[0m \u001b[0mi\u001b[0m\u001b[0;34m,\u001b[0m  \u001b[0;31m# track\u001b[0m\u001b[0;34m\u001b[0m\u001b[0m\n\u001b[1;32m     32\u001b[0m \u001b[0;34m\u001b[0m\u001b[0m\n\u001b[0;32m---> 33\u001b[0;31m         \u001b[0mprofile\u001b[0m \u001b[0;34m=\u001b[0m \u001b[0mgraph\u001b[0m\u001b[0;34m.\u001b[0m\u001b[0mget_object\u001b[0m\u001b[0;34m(\u001b[0m\u001b[0mnode_id\u001b[0m\u001b[0;34m)\u001b[0m\u001b[0;34m\u001b[0m\u001b[0m\n\u001b[0m\u001b[1;32m     34\u001b[0m         \u001b[0;31m# pretty_print(profile)\u001b[0m\u001b[0;34m\u001b[0m\u001b[0;34m\u001b[0m\u001b[0m\n\u001b[1;32m     35\u001b[0m         \u001b[0;31m# Check if this ID is matched\u001b[0m\u001b[0;34m\u001b[0m\u001b[0;34m\u001b[0m\u001b[0m\n",
        "\u001b[0;32m/usr/local/lib/python2.7/dist-packages/facebook.pyc\u001b[0m in \u001b[0;36mget_object\u001b[0;34m(self, id, **args)\u001b[0m\n\u001b[1;32m     97\u001b[0m     \u001b[0;32mdef\u001b[0m \u001b[0mget_object\u001b[0m\u001b[0;34m(\u001b[0m\u001b[0mself\u001b[0m\u001b[0;34m,\u001b[0m \u001b[0mid\u001b[0m\u001b[0;34m,\u001b[0m \u001b[0;34m**\u001b[0m\u001b[0margs\u001b[0m\u001b[0;34m)\u001b[0m\u001b[0;34m:\u001b[0m\u001b[0;34m\u001b[0m\u001b[0m\n\u001b[1;32m     98\u001b[0m         \u001b[0;34m\"\"\"Fetchs the given object from the graph.\"\"\"\u001b[0m\u001b[0;34m\u001b[0m\u001b[0m\n\u001b[0;32m---> 99\u001b[0;31m         \u001b[0;32mreturn\u001b[0m \u001b[0mself\u001b[0m\u001b[0;34m.\u001b[0m\u001b[0mrequest\u001b[0m\u001b[0;34m(\u001b[0m\u001b[0mid\u001b[0m\u001b[0;34m,\u001b[0m \u001b[0margs\u001b[0m\u001b[0;34m)\u001b[0m\u001b[0;34m\u001b[0m\u001b[0m\n\u001b[0m\u001b[1;32m    100\u001b[0m \u001b[0;34m\u001b[0m\u001b[0m\n\u001b[1;32m    101\u001b[0m     \u001b[0;32mdef\u001b[0m \u001b[0mget_objects\u001b[0m\u001b[0;34m(\u001b[0m\u001b[0mself\u001b[0m\u001b[0;34m,\u001b[0m \u001b[0mids\u001b[0m\u001b[0;34m,\u001b[0m \u001b[0;34m**\u001b[0m\u001b[0margs\u001b[0m\u001b[0;34m)\u001b[0m\u001b[0;34m:\u001b[0m\u001b[0;34m\u001b[0m\u001b[0m\n",
        "\u001b[0;32m/usr/local/lib/python2.7/dist-packages/facebook.pyc\u001b[0m in \u001b[0;36mrequest\u001b[0;34m(self, path, args, post_args)\u001b[0m\n\u001b[1;32m    296\u001b[0m         \u001b[0;32mexcept\u001b[0m \u001b[0murllib2\u001b[0m\u001b[0;34m.\u001b[0m\u001b[0mHTTPError\u001b[0m\u001b[0;34m,\u001b[0m \u001b[0me\u001b[0m\u001b[0;34m:\u001b[0m\u001b[0;34m\u001b[0m\u001b[0m\n\u001b[1;32m    297\u001b[0m             \u001b[0mresponse\u001b[0m \u001b[0;34m=\u001b[0m \u001b[0m_parse_json\u001b[0m\u001b[0;34m(\u001b[0m\u001b[0me\u001b[0m\u001b[0;34m.\u001b[0m\u001b[0mread\u001b[0m\u001b[0;34m(\u001b[0m\u001b[0;34m)\u001b[0m\u001b[0;34m)\u001b[0m\u001b[0;34m\u001b[0m\u001b[0m\n\u001b[0;32m--> 298\u001b[0;31m             \u001b[0;32mraise\u001b[0m \u001b[0mGraphAPIError\u001b[0m\u001b[0;34m(\u001b[0m\u001b[0mresponse\u001b[0m\u001b[0;34m)\u001b[0m\u001b[0;34m\u001b[0m\u001b[0m\n\u001b[0m\u001b[1;32m    299\u001b[0m         \u001b[0;32mexcept\u001b[0m \u001b[0mTypeError\u001b[0m\u001b[0;34m:\u001b[0m\u001b[0;34m\u001b[0m\u001b[0m\n\u001b[1;32m    300\u001b[0m             \u001b[0;31m# Timeout support for Python <2.6\u001b[0m\u001b[0;34m\u001b[0m\u001b[0;34m\u001b[0m\u001b[0m\n",
        "\u001b[0;31mGraphAPIError\u001b[0m: Error validating access token: Session has expired on Jan 25, 2015 4:00pm. The current time is Jan 25, 2015 4:00pm."
       ]
      },
      {
       "output_type": "stream",
       "stream": "stdout",
       "text": [
        "70"
       ]
      }
     ],
     "prompt_number": 29
    },
    {
     "cell_type": "code",
     "collapsed": false,
     "input": [
      "print results"
     ],
     "language": "python",
     "metadata": {},
     "outputs": []
    },
    {
     "cell_type": "code",
     "collapsed": false,
     "input": [
      "for i, r in enumerate(results):\n",
      "    neu, pos, neg, _, _ = r\n",
      "    total = neu + pos + neg\n",
      "    print all_cities[i]\n",
      "    print \"neutral = \", round(float(neu)/total*100,1)\n",
      "    print \"positive = \", round(float(pos)/total*100,1)\n",
      "    print \"negative = \", round(float(neg)/total*100,1)"
     ],
     "language": "python",
     "metadata": {},
     "outputs": []
    },
    {
     "cell_type": "code",
     "collapsed": false,
     "input": [],
     "language": "python",
     "metadata": {},
     "outputs": [],
     "prompt_number": 293
    },
    {
     "cell_type": "code",
     "collapsed": false,
     "input": [],
     "language": "python",
     "metadata": {},
     "outputs": [],
     "prompt_number": 293
    },
    {
     "cell_type": "code",
     "collapsed": false,
     "input": [],
     "language": "python",
     "metadata": {},
     "outputs": [],
     "prompt_number": 17
    },
    {
     "cell_type": "code",
     "collapsed": false,
     "input": [],
     "language": "python",
     "metadata": {},
     "outputs": [],
     "prompt_number": 387
    },
    {
     "cell_type": "code",
     "collapsed": false,
     "input": [
      "ID = \"356739894532463\""
     ],
     "language": "python",
     "metadata": {},
     "outputs": [],
     "prompt_number": 190
    },
    {
     "cell_type": "code",
     "collapsed": false,
     "input": [],
     "language": "python",
     "metadata": {},
     "outputs": []
    }
   ],
   "metadata": {}
  }
 ]
}