{
 "metadata": {
  "name": "",
  "signature": "sha256:f5305566bf316cb1cbef90db6c295f37900a70390856b3b640129c02e10e3eb9"
 },
 "nbformat": 3,
 "nbformat_minor": 0,
 "worksheets": [
  {
   "cells": [
    {
     "cell_type": "code",
     "collapsed": false,
     "input": [
      "# Create one example of getting transportation data from FB\n",
      "import requests\n",
      "import sqlite3\n",
      "import os\n",
      "from datetime import datetime\n",
      "import facebook\n",
      "import json\n",
      "from facebook_api import *\n",
      "import numpy as np\n",
      "from pattern.en import sentiment\n",
      "from textblob import TextBlob"
     ],
     "language": "python",
     "metadata": {},
     "outputs": [],
     "prompt_number": 2
    },
    {
     "cell_type": "code",
     "collapsed": false,
     "input": [
      "BOS_POPULATION = 645966\n",
      "NYC_POPULATION = 8406000\n",
      "SFO_POPULATION = 837442\n",
      "LA_POPULATION = 3884000\n",
      "OKL_POPULATION = 3.851*10**6\n",
      "DET_POPULATION = 688701  # Detroit\n",
      "DEN_POPULATION = 649495  # Denver\n",
      "POR_POPULATION = 609456  # Portland, Oregon\n",
      "SLK_POPULATION = 191180  # Salt Lake City\n",
      "SEA_POPULATION = 652405  # Seattle\n",
      "RMD_POPULATION = 214114  # Richmond\n",
      "KNV_POPULATION = 183270  # Knoxville\n",
      "\n",
      "all_cities = [\"Boston\", \"New York\", \"Seattle\", \"San Francisco\", \"Detroit\", \"Oklahoma City\", \"Richmond\", \"Denver\"]\n",
      "Cities = {\n",
      "\"Boston\":        {\"state\": \"MA\", \"population\": 645966},\n",
      "\"New York\":      {\"state\": \"NY\", \"population\": 8406000},\n",
      "\"Seattle\":       {\"state\": \"WA\", \"population\": 652405},\n",
      "\"San Francisco\": {\"state\": \"CA\", \"population\": 837442},\n",
      "\"Detroit\":       {\"state\": \"MI\", \"population\": 688701},\n",
      "\"Oklahoma City\": {\"state\": \"OK\", \"population\": 3851000},\n",
      "\"Richmond\":      {\"state\": \"VA\", \"population\": 214114},\n",
      "\"Denver\":        {\"state\": \"CO\"},\n",
      "}"
     ],
     "language": "python",
     "metadata": {},
     "outputs": [],
     "prompt_number": 3
    },
    {
     "cell_type": "code",
     "collapsed": false,
     "input": [
      "# Get access token first\n",
      "# I have created a FB account\n",
      "#     email: urop.caring.city@gmail.com\n",
      "#     password: urop.caring.city\n",
      "# Then go to https://developers.facebook.com/tools/explorer/ to get access token.\n",
      "ACCESS_TOKEN = 'CAACEdEose0cBAIRumpSlZCSYR1Cuc3HyCiNLoD6715SSuJDpshFrE44zADb6vMBveDwrwbi8ACAYQ2HvXCKOYiKo7bydCEhOMlCYNXZCdsPZBABDo40ZBUQxWOlq2wfnX4eKSTOYjm0l7qLuwn0XWy1vdAnHV9hNmjiNZAQ3UwJG5lCQ0Do2nb3XxTsHfBIrT9sMnt1J9AkAfNpL3Mo8q'\n",
      "args = {\"access_token\": ACCESS_TOKEN}\n",
      "graph = facebook.GraphAPI(ACCESS_TOKEN)"
     ],
     "language": "python",
     "metadata": {},
     "outputs": [],
     "prompt_number": 5
    },
    {
     "cell_type": "code",
     "collapsed": false,
     "input": [
      "# A general search function\n",
      "# Execute a search given a query and an object type\n",
      "# query: string, object_type in {\"user\", \"page\", \"event\", \"group\", \"place\", \"plactopic\", \"ad_*\"}\n",
      "# Return a list of datum containing {object-name, id}\n",
      "def search_objects(query, object_type, limit=None):\n",
      "    # Search\n",
      "    print \"* query = %s, type = %s\" % (query, object_type)\n",
      "    url = \"https://graph.facebook.com/search?q=%s&type=%s\" % (query, object_type)\n",
      "    if limit:\n",
      "        url += \"&limit=%d\" % (int(limit))\n",
      "\n",
      "    print \"  url = %s\" % (url)\n",
      "    response = requests.request(\"GET\", url, params=args)\n",
      "\n",
      "    # Get all nodes of the search\n",
      "    data = response.json()[\"data\"]\n",
      "    print \"* The number of results is %d\" % len(data)\n",
      "    return data\n",
      "\n",
      "def textblob_sentiment(text):\n",
      "    blob = TextBlob(text)\n",
      "    return blob.sentiment.polarity\n",
      "\n",
      "def pattern_sentiment(text):\n",
      "    return sentiment(text)[0]"
     ],
     "language": "python",
     "metadata": {},
     "outputs": [],
     "prompt_number": 6
    },
    {
     "cell_type": "code",
     "collapsed": false,
     "input": [
      "# Check if a profile is in a specific category\n",
      "def is_in_category(profile, category, strict=False):\n",
      "    category = category.lower()\n",
      "    if (\"category\" in profile) \\\n",
      "    and (profile[\"category\"].lower() == category):\n",
      "        return True\n",
      "\n",
      "    if (strict) or not(\"category_list\" in profile):\n",
      "        return False\n",
      "\n",
      "    for _category in profile[\"category_list\"]:\n",
      "        if _category[\"name\"].lower() == category:\n",
      "            return True\n",
      "    return False\n",
      "\n",
      "# Check if a profile is in a specific location\n",
      "def is_in_location(profile, location):\n",
      "    if not(\"location\" in profile):\n",
      "        return False\n",
      "    object_location = profile[\"location\"]\n",
      "    for field in location:\n",
      "        if not(field in object_location) \\\n",
      "        or (object_location[field] != location[field]):\n",
      "            return False\n",
      "    return True\n",
      "\n",
      "def check_fn(profile, location=None, category=None):\n",
      "    result = True\n",
      "    if (location) and not(is_in_location(profile, location)):\n",
      "        return False\n",
      "    \"\"\"\n",
      "    if (category) and not(is_in_category(profile, category)):\n",
      "        return False\n",
      "    \"\"\"\n",
      "    return True\n",
      "    \n",
      "# Get the number of likes\n",
      "def get_topic_likes(query, object_type, check_fn=check_fn, location=None, category=None):\n",
      "    data = search_objects(query, object_type, limit=None)\n",
      "    total_likes, total_talking_about_count = 0, 0\n",
      "    num_true = 0\n",
      "    for i, node in enumerate(data):\n",
      "        # get its id\n",
      "        node_id = str(node[\"id\"])\n",
      "        if (i % 10 == 0):\n",
      "            print i, node_id  # track\n",
      "        \n",
      "        profile = graph.get_object(node_id)\n",
      "        # pretty_print(profile)\n",
      "        # Check if this ID is matched\n",
      "        if not(check_fn(profile, location=location, category=category)):\n",
      "            continue\n",
      "            \n",
      "        num_true += 1\n",
      "            \n",
      "        # Get like count\n",
      "        likes, talking_about_count = profile[\"likes\"], profile[\"talking_about_count\"]\n",
      "        total_likes += likes\n",
      "        total_talking_about_count += talking_about_count\n",
      "    print \n",
      "    print \"* The number of matched pages = %d / %d, rate = %f\" % (num_true, len(data), float(num_true)/len(data))\n",
      "    print \"* The number of likes, talking about = %d, %d\" % (total_likes, total_talking_about_count)\n",
      "    print \"* Ratio likes/talks = %f\" % (float(total_likes)/(total_talking_about_count+0.01))\n",
      "    return total_likes, total_talking_about_count\n",
      "    \n",
      "    "
     ],
     "language": "python",
     "metadata": {},
     "outputs": [],
     "prompt_number": 7
    },
    {
     "cell_type": "code",
     "collapsed": false,
     "input": [
      "# Get all feeds in pages\n",
      "def get_feeds(page_id):\n",
      "    feeds = graph.get_connections(page_id, \"feed\")\n",
      "    return feeds[\"data\"]\n",
      "\n",
      "# Get messages from a feed\n",
      "def get_messages_from_feed(feed):\n",
      "    field = \"comments\"\n",
      "    if field in feed:\n",
      "        comments = feed[\"comments\"][\"data\"]\n",
      "        messages = [comment[\"message\"] for comment in comments]\n",
      "    else:\n",
      "        messages = []\n",
      "    return messages\n",
      "\n",
      "# page_id -> feeds -> messages\n",
      "def get_messages(page_id):\n",
      "    feeds = get_feeds(page_id)\n",
      "    all_messages = []\n",
      "    for feed in feeds:\n",
      "        messages = get_messages_from_feed(feed)\n",
      "        all_messages.extend(messages)\n",
      "    return all_messages\n",
      "\n",
      "def get_sentiment(query, object_type, sentiment_fn=pattern_sentiment, \\\n",
      "                  check_fn=check_fn, location=None, category=None):\n",
      "    data = search_objects(query, object_type, limit=None)\n",
      "    sentiments = []\n",
      "    all_messages = []\n",
      "    num_true = 0\n",
      "    for i, node in enumerate(data):\n",
      "        # get its id\n",
      "        node_id = str(node[\"id\"])\n",
      "        if (i % 10 == 0):\n",
      "            print i, # track\n",
      "        \n",
      "        #graph = facebook.GraphAPI(ACCESS_TOKEN)\n",
      "        profile = graph.get_object(node_id)\n",
      "        # pretty_print(profile)\n",
      "        # Check if this ID is matched\n",
      "        if not(check_fn(profile, location=location, category=category)):\n",
      "            continue\n",
      "            \n",
      "        num_true += 1\n",
      "            \n",
      "        # Get all messages\n",
      "        messages = [(node_id, msg) for msg in get_messages(node_id)]\n",
      "        all_messages.extend(messages)\n",
      "        # Get sentiment\n",
      "        for node_id, m in messages:\n",
      "            sentiments.append(sentiment_fn(m))\n",
      "            \n",
      "    sentiments = np.array(sentiments)\n",
      "    avg = np.mean(sentiments)\n",
      "    neutral = sum(np.abs(sentiments) < 0.1)\n",
      "    possitive = sum(sentiments >= 0.1)\n",
      "    negative = sum(sentiments <= -0.1)\n",
      "    total = len(sentiments) + 0.0001\n",
      "    print \n",
      "    print \"total = \", total\n",
      "    \n",
      "    print \"neutral = \", round(float(neutral)/total*100,1)\n",
      "    print \"positive = \", round(float(possitive)/total*100,1)\n",
      "    print \"negative = \", round(float(negative)/total*100,1)\n",
      "    \n",
      "    return all_messages, sentiments\n",
      "    \n",
      "    \n",
      "#feeds = graph.get_connections(\"usatoday\", \"feed\")\n",
      "#print len(get_messages(\"usatoday\"))\n"
     ],
     "language": "python",
     "metadata": {},
     "outputs": [],
     "prompt_number": 8
    },
    {
     "cell_type": "code",
     "collapsed": false,
     "input": [],
     "language": "python",
     "metadata": {},
     "outputs": [],
     "prompt_number": 8
    },
    {
     "cell_type": "code",
     "collapsed": false,
     "input": [],
     "language": "python",
     "metadata": {},
     "outputs": [],
     "prompt_number": 8
    },
    {
     "cell_type": "code",
     "collapsed": false,
     "input": [],
     "language": "python",
     "metadata": {},
     "outputs": [],
     "prompt_number": 8
    },
    {
     "cell_type": "code",
     "collapsed": false,
     "input": [],
     "language": "python",
     "metadata": {},
     "outputs": [],
     "prompt_number": 8
    },
    {
     "cell_type": "code",
     "collapsed": false,
     "input": [],
     "language": "python",
     "metadata": {},
     "outputs": [],
     "prompt_number": 8
    },
    {
     "cell_type": "code",
     "collapsed": false,
     "input": [],
     "language": "python",
     "metadata": {},
     "outputs": [],
     "prompt_number": 8
    },
    {
     "cell_type": "code",
     "collapsed": false,
     "input": [
      "\"\"\"\n",
      "    sentiments = np.array(sentiments)\n",
      "    avg = np.mean(sentiments)\n",
      "    neutral = sum(np.abs(sentiments) < 0.1)\n",
      "    possitive = sum(sentiments >= 0.1)\n",
      "    negative = sum(sentiments <= -0.1)\n",
      "\"\"\"\n",
      "print\n",
      "good_cities = [\"Salt Lake\", \"Seattle\", \"Portland\", \"Minnesota\", \"Boston\"]\n",
      "bad_cities = []"
     ],
     "language": "python",
     "metadata": {},
     "outputs": [
      {
       "output_type": "stream",
       "stream": "stdout",
       "text": [
        "\n"
       ]
      }
     ],
     "prompt_number": 11
    },
    {
     "cell_type": "code",
     "collapsed": false,
     "input": [
      "# For each city, get all FB pages\n",
      "results = []\n",
      "for city in all_cities:\n",
      "    print \"CITY: %s\" % city\n",
      "    messages, sentiments = get_sentiment(\"Biking %s\" % city, \"page\", \n",
      "                      sentiment_fn=textblob_sentiment, check_fn=check_fn, \\\n",
      "                      location= {\"city\": city, \"state\": Cities[city][\"state\"], \"country\": \"United States\"})\n",
      "    results.append((messages, sentiments))\n",
      "# ref: http://www.travelandleisure.com/articles/americas-best-and-worst-airports/5"
     ],
     "language": "python",
     "metadata": {},
     "outputs": [
      {
       "output_type": "stream",
       "stream": "stdout",
       "text": [
        "CITY: Boston\n",
        "* query = Biking Boston, type = page\n",
        "  url = https://graph.facebook.com/search?q=Biking Boston&type=page\n",
        "* The number of results is 46"
       ]
      },
      {
       "output_type": "stream",
       "stream": "stdout",
       "text": [
        "\n",
        "0 "
       ]
      },
      {
       "output_type": "stream",
       "stream": "stdout",
       "text": [
        "10 "
       ]
      },
      {
       "output_type": "stream",
       "stream": "stdout",
       "text": [
        "20 "
       ]
      },
      {
       "output_type": "stream",
       "stream": "stdout",
       "text": [
        "30 "
       ]
      },
      {
       "output_type": "stream",
       "stream": "stdout",
       "text": [
        "40\n"
       ]
      },
      {
       "output_type": "stream",
       "stream": "stdout",
       "text": [
        "total =  179.0001\n",
        "neutral =  40.8\n",
        "positive =  50.8\n",
        "negative =  8.4\n",
        "CITY: New York\n",
        "* query = Biking New York, type = page\n",
        "  url = https://graph.facebook.com/search?q=Biking New York&type=page\n",
        "* The number of results is 108"
       ]
      },
      {
       "output_type": "stream",
       "stream": "stdout",
       "text": [
        "\n",
        "0 "
       ]
      },
      {
       "output_type": "stream",
       "stream": "stdout",
       "text": [
        "10 "
       ]
      },
      {
       "output_type": "stream",
       "stream": "stdout",
       "text": [
        "20 "
       ]
      },
      {
       "output_type": "stream",
       "stream": "stdout",
       "text": [
        "30 "
       ]
      },
      {
       "output_type": "stream",
       "stream": "stdout",
       "text": [
        "40 "
       ]
      },
      {
       "output_type": "stream",
       "stream": "stdout",
       "text": [
        "50 "
       ]
      },
      {
       "output_type": "stream",
       "stream": "stdout",
       "text": [
        "60 "
       ]
      },
      {
       "output_type": "stream",
       "stream": "stdout",
       "text": [
        "70 "
       ]
      },
      {
       "output_type": "stream",
       "stream": "stdout",
       "text": [
        "80 "
       ]
      },
      {
       "output_type": "stream",
       "stream": "stdout",
       "text": [
        "90 "
       ]
      },
      {
       "output_type": "stream",
       "stream": "stdout",
       "text": [
        "100\n"
       ]
      },
      {
       "output_type": "stream",
       "stream": "stdout",
       "text": [
        "total =  128.0001\n",
        "neutral =  54.7\n",
        "positive =  39.1\n",
        "negative =  6.2\n",
        "CITY: Seattle\n",
        "* query = Biking Seattle, type = page\n",
        "  url = https://graph.facebook.com/search?q=Biking Seattle&type=page\n",
        "* The number of results is 63"
       ]
      },
      {
       "output_type": "stream",
       "stream": "stdout",
       "text": [
        "\n",
        "0 "
       ]
      },
      {
       "output_type": "stream",
       "stream": "stdout",
       "text": [
        "10 "
       ]
      },
      {
       "output_type": "stream",
       "stream": "stdout",
       "text": [
        "20 "
       ]
      },
      {
       "output_type": "stream",
       "stream": "stdout",
       "text": [
        "30 "
       ]
      },
      {
       "output_type": "stream",
       "stream": "stdout",
       "text": [
        "40 "
       ]
      },
      {
       "output_type": "stream",
       "stream": "stdout",
       "text": [
        "50 "
       ]
      },
      {
       "output_type": "stream",
       "stream": "stdout",
       "text": [
        "60\n"
       ]
      },
      {
       "output_type": "stream",
       "stream": "stdout",
       "text": [
        "total =  604.0001\n",
        "neutral =  44.7\n",
        "positive =  46.9\n",
        "negative =  8.4\n",
        "CITY: San Francisco\n",
        "* query = Biking San Francisco, type = page\n",
        "  url = https://graph.facebook.com/search?q=Biking San Francisco&type=page\n",
        "* The number of results is 47"
       ]
      },
      {
       "output_type": "stream",
       "stream": "stdout",
       "text": [
        "\n",
        "0 "
       ]
      },
      {
       "output_type": "stream",
       "stream": "stdout",
       "text": [
        "10 "
       ]
      },
      {
       "output_type": "stream",
       "stream": "stdout",
       "text": [
        "20 "
       ]
      },
      {
       "output_type": "stream",
       "stream": "stdout",
       "text": [
        "30 "
       ]
      },
      {
       "output_type": "stream",
       "stream": "stdout",
       "text": [
        "40\n"
       ]
      },
      {
       "output_type": "stream",
       "stream": "stdout",
       "text": [
        "total =  266.0001\n",
        "neutral =  51.1\n",
        "positive =  42.5\n",
        "negative =  6.4\n",
        "CITY: Detroit\n",
        "* query = Biking Detroit, type = page\n",
        "  url = https://graph.facebook.com/search?q=Biking Detroit&type=page\n",
        "* The number of results is 40"
       ]
      },
      {
       "output_type": "stream",
       "stream": "stdout",
       "text": [
        "\n",
        "0 "
       ]
      },
      {
       "output_type": "stream",
       "stream": "stdout",
       "text": [
        "10 "
       ]
      },
      {
       "output_type": "stream",
       "stream": "stdout",
       "text": [
        "20 "
       ]
      },
      {
       "output_type": "stream",
       "stream": "stdout",
       "text": [
        "30\n"
       ]
      },
      {
       "output_type": "stream",
       "stream": "stdout",
       "text": [
        "total =  138.0001\n",
        "neutral =  44.9\n",
        "positive =  46.4\n",
        "negative =  8.7\n",
        "CITY: Oklahoma City\n",
        "* query = Biking Oklahoma City, type = page\n",
        "  url = https://graph.facebook.com/search?q=Biking Oklahoma City&type=page\n",
        "* The number of results is 35"
       ]
      },
      {
       "output_type": "stream",
       "stream": "stdout",
       "text": [
        "\n",
        "0 "
       ]
      },
      {
       "output_type": "stream",
       "stream": "stdout",
       "text": [
        "10 "
       ]
      },
      {
       "output_type": "stream",
       "stream": "stdout",
       "text": [
        "20 "
       ]
      },
      {
       "output_type": "stream",
       "stream": "stdout",
       "text": [
        "30\n"
       ]
      },
      {
       "output_type": "stream",
       "stream": "stdout",
       "text": [
        "total =  153.0001\n",
        "neutral =  50.3\n",
        "positive =  45.8\n",
        "negative =  3.9\n",
        "CITY: Richmond\n",
        "* query = Biking Richmond, type = page\n",
        "  url = https://graph.facebook.com/search?q=Biking Richmond&type=page\n",
        "* The number of results is 41"
       ]
      },
      {
       "output_type": "stream",
       "stream": "stdout",
       "text": [
        "\n",
        "0 "
       ]
      },
      {
       "output_type": "stream",
       "stream": "stdout",
       "text": [
        "10 "
       ]
      },
      {
       "output_type": "stream",
       "stream": "stdout",
       "text": [
        "20 "
       ]
      },
      {
       "output_type": "stream",
       "stream": "stdout",
       "text": [
        "30 "
       ]
      },
      {
       "output_type": "stream",
       "stream": "stdout",
       "text": [
        "40\n"
       ]
      },
      {
       "output_type": "stream",
       "stream": "stdout",
       "text": [
        "total =  234.0001\n",
        "neutral =  44.4\n",
        "positive =  47.9\n",
        "negative =  7.7\n",
        "CITY: Denver\n",
        "* query = Biking Denver, type = page\n",
        "  url = https://graph.facebook.com/search?q=Biking Denver&type=page\n",
        "* The number of results is 59"
       ]
      },
      {
       "output_type": "stream",
       "stream": "stdout",
       "text": [
        "\n",
        "0 "
       ]
      },
      {
       "output_type": "stream",
       "stream": "stdout",
       "text": [
        "10 "
       ]
      },
      {
       "output_type": "stream",
       "stream": "stdout",
       "text": [
        "20 "
       ]
      },
      {
       "output_type": "stream",
       "stream": "stdout",
       "text": [
        "30 "
       ]
      },
      {
       "output_type": "stream",
       "stream": "stdout",
       "text": [
        "40 "
       ]
      },
      {
       "output_type": "stream",
       "stream": "stdout",
       "text": [
        "50\n"
       ]
      },
      {
       "output_type": "stream",
       "stream": "stdout",
       "text": [
        "total =  565.0001\n",
        "neutral =  52.0\n",
        "positive =  38.9\n",
        "negative =  9.0\n"
       ]
      }
     ],
     "prompt_number": 27
    },
    {
     "cell_type": "code",
     "collapsed": false,
     "input": [],
     "language": "python",
     "metadata": {},
     "outputs": [],
     "prompt_number": 19
    },
    {
     "cell_type": "code",
     "collapsed": false,
     "input": [],
     "language": "python",
     "metadata": {},
     "outputs": [],
     "prompt_number": 19
    },
    {
     "cell_type": "code",
     "collapsed": false,
     "input": [
      "results = []\n",
      "for city in all_cities:\n",
      "    print \"CITY: %s\" % city\n",
      "    messages, sentiments = get_sentiment(\"Driving %s\" % city, \"page\",\n",
      "                      sentiment_fn=textblob_sentiment, check_fn=check_fn, \\\n",
      "                      location= {\"city\": city, \"state\": Cities[city][\"state\"], \"country\": \"United States\"})\n",
      "    results.append((messages, sentiments))"
     ],
     "language": "python",
     "metadata": {},
     "outputs": [
      {
       "output_type": "stream",
       "stream": "stdout",
       "text": [
        "CITY: Boston\n",
        "* query = Driving Boston, type = page\n",
        "  url = https://graph.facebook.com/search?q=Driving Boston&type=page\n",
        "* The number of results is 61"
       ]
      },
      {
       "output_type": "stream",
       "stream": "stdout",
       "text": [
        "\n",
        "0 "
       ]
      },
      {
       "output_type": "stream",
       "stream": "stdout",
       "text": [
        "10 "
       ]
      },
      {
       "output_type": "stream",
       "stream": "stdout",
       "text": [
        "20 "
       ]
      },
      {
       "output_type": "stream",
       "stream": "stdout",
       "text": [
        "30 "
       ]
      },
      {
       "output_type": "stream",
       "stream": "stdout",
       "text": [
        "40 "
       ]
      },
      {
       "output_type": "stream",
       "stream": "stdout",
       "text": [
        "50 "
       ]
      },
      {
       "output_type": "stream",
       "stream": "stdout",
       "text": [
        "60\n"
       ]
      },
      {
       "output_type": "stream",
       "stream": "stdout",
       "text": [
        "total =  11.0001\n",
        "neutral =  36.4\n",
        "positive =  54.5\n",
        "negative =  9.1\n",
        "CITY: New York\n",
        "* query = Driving New York, type = page\n",
        "  url = https://graph.facebook.com/search?q=Driving New York&type=page\n",
        "* The number of results is 140"
       ]
      },
      {
       "output_type": "stream",
       "stream": "stdout",
       "text": [
        "\n",
        "0 "
       ]
      },
      {
       "output_type": "stream",
       "stream": "stdout",
       "text": [
        "10 "
       ]
      },
      {
       "output_type": "stream",
       "stream": "stdout",
       "text": [
        "20 "
       ]
      },
      {
       "output_type": "stream",
       "stream": "stdout",
       "text": [
        "30 "
       ]
      },
      {
       "output_type": "stream",
       "stream": "stdout",
       "text": [
        "40 "
       ]
      },
      {
       "output_type": "stream",
       "stream": "stdout",
       "text": [
        "50 "
       ]
      },
      {
       "output_type": "stream",
       "stream": "stdout",
       "text": [
        "60 "
       ]
      },
      {
       "output_type": "stream",
       "stream": "stdout",
       "text": [
        "70 "
       ]
      },
      {
       "output_type": "stream",
       "stream": "stdout",
       "text": [
        "80 "
       ]
      },
      {
       "output_type": "stream",
       "stream": "stdout",
       "text": [
        "90 "
       ]
      },
      {
       "output_type": "stream",
       "stream": "stdout",
       "text": [
        "100 "
       ]
      },
      {
       "output_type": "stream",
       "stream": "stdout",
       "text": [
        "110 "
       ]
      },
      {
       "output_type": "stream",
       "stream": "stdout",
       "text": [
        "120 "
       ]
      },
      {
       "output_type": "stream",
       "stream": "stdout",
       "text": [
        "130\n"
       ]
      },
      {
       "output_type": "stream",
       "stream": "stdout",
       "text": [
        "total =  1.0001\n",
        "neutral =  0.0\n",
        "positive =  100.0\n",
        "negative =  0.0\n",
        "CITY: Seattle\n",
        "* query = Driving Seattle, type = page\n",
        "  url = https://graph.facebook.com/search?q=Driving Seattle&type=page\n",
        "* The number of results is 55"
       ]
      },
      {
       "output_type": "stream",
       "stream": "stdout",
       "text": [
        "\n",
        "0 "
       ]
      },
      {
       "output_type": "stream",
       "stream": "stdout",
       "text": [
        "10 "
       ]
      },
      {
       "output_type": "stream",
       "stream": "stdout",
       "text": [
        "20 "
       ]
      },
      {
       "output_type": "stream",
       "stream": "stdout",
       "text": [
        "30 "
       ]
      },
      {
       "output_type": "stream",
       "stream": "stdout",
       "text": [
        "40 "
       ]
      },
      {
       "output_type": "stream",
       "stream": "stdout",
       "text": [
        "50\n"
       ]
      },
      {
       "output_type": "stream",
       "stream": "stdout",
       "text": [
        "total =  212.0001\n",
        "neutral =  53.3\n",
        "positive =  42.9\n",
        "negative =  3.8\n",
        "CITY: San Francisco\n",
        "* query = Driving San Francisco, type = page\n",
        "  url = https://graph.facebook.com/search?q=Driving San Francisco&type=page\n",
        "* The number of results is 56"
       ]
      },
      {
       "output_type": "stream",
       "stream": "stdout",
       "text": [
        "\n",
        "0 "
       ]
      },
      {
       "output_type": "stream",
       "stream": "stdout",
       "text": [
        "10 "
       ]
      },
      {
       "output_type": "stream",
       "stream": "stdout",
       "text": [
        "20 "
       ]
      },
      {
       "output_type": "stream",
       "stream": "stdout",
       "text": [
        "30 "
       ]
      },
      {
       "output_type": "stream",
       "stream": "stdout",
       "text": [
        "40 "
       ]
      },
      {
       "output_type": "stream",
       "stream": "stdout",
       "text": [
        "50\n"
       ]
      },
      {
       "output_type": "stream",
       "stream": "stdout",
       "text": [
        "total =  5.0001\n",
        "neutral =  20.0\n",
        "positive =  80.0\n",
        "negative =  0.0\n",
        "CITY: Detroit\n",
        "* query = Driving Detroit, type = page\n",
        "  url = https://graph.facebook.com/search?q=Driving Detroit&type=page\n",
        "* The number of results is 63"
       ]
      },
      {
       "output_type": "stream",
       "stream": "stdout",
       "text": [
        "\n",
        "0 "
       ]
      },
      {
       "output_type": "stream",
       "stream": "stdout",
       "text": [
        "10 "
       ]
      },
      {
       "output_type": "stream",
       "stream": "stdout",
       "text": [
        "20 "
       ]
      },
      {
       "output_type": "stream",
       "stream": "stdout",
       "text": [
        "30 "
       ]
      },
      {
       "output_type": "stream",
       "stream": "stdout",
       "text": [
        "40 "
       ]
      },
      {
       "output_type": "stream",
       "stream": "stdout",
       "text": [
        "50 "
       ]
      },
      {
       "output_type": "stream",
       "stream": "stdout",
       "text": [
        "60\n"
       ]
      },
      {
       "output_type": "stream",
       "stream": "stdout",
       "text": [
        "total =  34.0001\n",
        "neutral =  55.9\n",
        "positive =  41.2\n",
        "negative =  2.9\n",
        "CITY: Oklahoma City\n",
        "* query = Driving Oklahoma City, type = page\n",
        "  url = https://graph.facebook.com/search?q=Driving Oklahoma City&type=page\n",
        "* The number of results is 54"
       ]
      },
      {
       "output_type": "stream",
       "stream": "stdout",
       "text": [
        "\n",
        "0 "
       ]
      },
      {
       "output_type": "stream",
       "stream": "stdout",
       "text": [
        "10 "
       ]
      },
      {
       "output_type": "stream",
       "stream": "stdout",
       "text": [
        "20 "
       ]
      },
      {
       "output_type": "stream",
       "stream": "stdout",
       "text": [
        "30 "
       ]
      },
      {
       "output_type": "stream",
       "stream": "stdout",
       "text": [
        "40 "
       ]
      },
      {
       "output_type": "stream",
       "stream": "stdout",
       "text": [
        "50\n"
       ]
      },
      {
       "output_type": "stream",
       "stream": "stdout",
       "text": [
        "total =  257.0001\n",
        "neutral =  61.1\n",
        "positive =  32.7\n",
        "negative =  6.2\n",
        "CITY: Richmond\n",
        "* query = Driving Richmond, type = page\n",
        "  url = https://graph.facebook.com/search?q=Driving Richmond&type=page\n",
        "* The number of results is 68"
       ]
      },
      {
       "output_type": "stream",
       "stream": "stdout",
       "text": [
        "\n",
        "0 "
       ]
      },
      {
       "output_type": "stream",
       "stream": "stdout",
       "text": [
        "10 "
       ]
      },
      {
       "output_type": "stream",
       "stream": "stdout",
       "text": [
        "20 "
       ]
      },
      {
       "output_type": "stream",
       "stream": "stdout",
       "text": [
        "30 "
       ]
      },
      {
       "output_type": "stream",
       "stream": "stdout",
       "text": [
        "40 "
       ]
      },
      {
       "output_type": "stream",
       "stream": "stdout",
       "text": [
        "50 "
       ]
      },
      {
       "output_type": "stream",
       "stream": "stdout",
       "text": [
        "60\n"
       ]
      },
      {
       "output_type": "stream",
       "stream": "stdout",
       "text": [
        "total =  37.0001\n",
        "neutral =  48.6\n",
        "positive =  45.9\n",
        "negative =  5.4\n",
        "CITY: Denver\n",
        "* query = Driving Denver, type = page\n",
        "  url = https://graph.facebook.com/search?q=Driving Denver&type=page\n",
        "* The number of results is 53"
       ]
      },
      {
       "output_type": "stream",
       "stream": "stdout",
       "text": [
        "\n",
        "0 "
       ]
      },
      {
       "output_type": "stream",
       "stream": "stdout",
       "text": [
        "10 "
       ]
      },
      {
       "output_type": "stream",
       "stream": "stdout",
       "text": [
        "20 "
       ]
      },
      {
       "output_type": "stream",
       "stream": "stdout",
       "text": [
        "30 "
       ]
      },
      {
       "output_type": "stream",
       "stream": "stdout",
       "text": [
        "40 "
       ]
      },
      {
       "output_type": "stream",
       "stream": "stdout",
       "text": [
        "50\n"
       ]
      },
      {
       "output_type": "stream",
       "stream": "stdout",
       "text": [
        "total =  82.0001\n",
        "neutral =  62.2\n",
        "positive =  32.9\n",
        "negative =  4.9\n"
       ]
      }
     ],
     "prompt_number": 28
    },
    {
     "cell_type": "code",
     "collapsed": false,
     "input": [],
     "language": "python",
     "metadata": {},
     "outputs": [],
     "prompt_number": 20
    },
    {
     "cell_type": "code",
     "collapsed": false,
     "input": [
      "results = []\n",
      "for city in all_cities:\n",
      "    print \"CITY: %s\" % city\n",
      "    messages, sentiments = get_sentiment(\"Walking %s\" % city, \"page\", \n",
      "                      sentiment_fn=textblob_sentiment, check_fn=check_fn, \\\n",
      "                      location= {\"city\": city, \"state\": Cities[city][\"state\"], \"country\": \"United States\"})\n",
      "    results.append((messages, sentiments))"
     ],
     "language": "python",
     "metadata": {},
     "outputs": [
      {
       "output_type": "stream",
       "stream": "stdout",
       "text": [
        "CITY: Boston\n",
        "* query = Walking Boston, type = page\n",
        "  url = https://graph.facebook.com/search?q=Walking Boston&type=page\n",
        "* The number of results is 91"
       ]
      },
      {
       "output_type": "stream",
       "stream": "stdout",
       "text": [
        "\n",
        "0 "
       ]
      },
      {
       "output_type": "stream",
       "stream": "stdout",
       "text": [
        "10 "
       ]
      },
      {
       "output_type": "stream",
       "stream": "stdout",
       "text": [
        "20 "
       ]
      },
      {
       "output_type": "stream",
       "stream": "stdout",
       "text": [
        "30 "
       ]
      },
      {
       "output_type": "stream",
       "stream": "stdout",
       "text": [
        "40 "
       ]
      },
      {
       "output_type": "stream",
       "stream": "stdout",
       "text": [
        "50 "
       ]
      },
      {
       "output_type": "stream",
       "stream": "stdout",
       "text": [
        "60 "
       ]
      },
      {
       "output_type": "stream",
       "stream": "stdout",
       "text": [
        "70 "
       ]
      },
      {
       "output_type": "stream",
       "stream": "stdout",
       "text": [
        "80 "
       ]
      },
      {
       "output_type": "stream",
       "stream": "stdout",
       "text": [
        "90\n"
       ]
      },
      {
       "output_type": "stream",
       "stream": "stdout",
       "text": [
        "total =  186.0001\n",
        "neutral =  39.8\n",
        "positive =  56.5\n",
        "negative =  3.8\n",
        "CITY: New York\n",
        "* query = Walking New York, type = page\n",
        "  url = https://graph.facebook.com/search?q=Walking New York&type=page\n",
        "* The number of results is 153"
       ]
      },
      {
       "output_type": "stream",
       "stream": "stdout",
       "text": [
        "\n",
        "0 "
       ]
      },
      {
       "output_type": "stream",
       "stream": "stdout",
       "text": [
        "10 "
       ]
      },
      {
       "output_type": "stream",
       "stream": "stdout",
       "text": [
        "20 "
       ]
      },
      {
       "output_type": "stream",
       "stream": "stdout",
       "text": [
        "30 "
       ]
      },
      {
       "output_type": "stream",
       "stream": "stdout",
       "text": [
        "40 "
       ]
      },
      {
       "output_type": "stream",
       "stream": "stdout",
       "text": [
        "50 "
       ]
      },
      {
       "output_type": "stream",
       "stream": "stdout",
       "text": [
        "60 "
       ]
      },
      {
       "output_type": "stream",
       "stream": "stdout",
       "text": [
        "70 "
       ]
      },
      {
       "output_type": "stream",
       "stream": "stdout",
       "text": [
        "80 "
       ]
      },
      {
       "output_type": "stream",
       "stream": "stdout",
       "text": [
        "90 "
       ]
      },
      {
       "output_type": "stream",
       "stream": "stdout",
       "text": [
        "100 "
       ]
      },
      {
       "output_type": "stream",
       "stream": "stdout",
       "text": [
        "110 "
       ]
      },
      {
       "output_type": "stream",
       "stream": "stdout",
       "text": [
        "120 "
       ]
      },
      {
       "output_type": "stream",
       "stream": "stdout",
       "text": [
        "130 "
       ]
      },
      {
       "output_type": "stream",
       "stream": "stdout",
       "text": [
        "140 "
       ]
      },
      {
       "output_type": "stream",
       "stream": "stdout",
       "text": [
        "150\n"
       ]
      },
      {
       "output_type": "stream",
       "stream": "stdout",
       "text": [
        "total =  236.0001\n",
        "neutral =  47.0\n",
        "positive =  49.6\n",
        "negative =  3.4\n",
        "CITY: Seattle\n",
        "* query = Walking Seattle, type = page\n",
        "  url = https://graph.facebook.com/search?q=Walking Seattle&type=page\n",
        "* The number of results is 108"
       ]
      },
      {
       "output_type": "stream",
       "stream": "stdout",
       "text": [
        "\n",
        "0 "
       ]
      },
      {
       "output_type": "stream",
       "stream": "stdout",
       "text": [
        "10 "
       ]
      },
      {
       "output_type": "stream",
       "stream": "stdout",
       "text": [
        "20 "
       ]
      },
      {
       "output_type": "stream",
       "stream": "stdout",
       "text": [
        "30 "
       ]
      },
      {
       "output_type": "stream",
       "stream": "stdout",
       "text": [
        "40 "
       ]
      },
      {
       "output_type": "stream",
       "stream": "stdout",
       "text": [
        "50 "
       ]
      },
      {
       "output_type": "stream",
       "stream": "stdout",
       "text": [
        "60 "
       ]
      },
      {
       "output_type": "stream",
       "stream": "stdout",
       "text": [
        "70 "
       ]
      },
      {
       "output_type": "stream",
       "stream": "stdout",
       "text": [
        "80 "
       ]
      },
      {
       "output_type": "stream",
       "stream": "stdout",
       "text": [
        "90 "
       ]
      },
      {
       "output_type": "stream",
       "stream": "stdout",
       "text": [
        "100\n"
       ]
      },
      {
       "output_type": "stream",
       "stream": "stdout",
       "text": [
        "total =  509.0001\n",
        "neutral =  39.5\n",
        "positive =  53.6\n",
        "negative =  6.9\n",
        "CITY: San Francisco\n",
        "* query = Walking San Francisco, type = page\n",
        "  url = https://graph.facebook.com/search?q=Walking San Francisco&type=page\n",
        "* The number of results is 120"
       ]
      },
      {
       "output_type": "stream",
       "stream": "stdout",
       "text": [
        "\n",
        "0 "
       ]
      },
      {
       "output_type": "stream",
       "stream": "stdout",
       "text": [
        "10 "
       ]
      },
      {
       "output_type": "stream",
       "stream": "stdout",
       "text": [
        "20 "
       ]
      },
      {
       "output_type": "stream",
       "stream": "stdout",
       "text": [
        "30 "
       ]
      },
      {
       "output_type": "stream",
       "stream": "stdout",
       "text": [
        "40 "
       ]
      },
      {
       "output_type": "stream",
       "stream": "stdout",
       "text": [
        "50 "
       ]
      },
      {
       "output_type": "stream",
       "stream": "stdout",
       "text": [
        "60 "
       ]
      },
      {
       "output_type": "stream",
       "stream": "stdout",
       "text": [
        "70 "
       ]
      },
      {
       "output_type": "stream",
       "stream": "stdout",
       "text": [
        "80 "
       ]
      },
      {
       "output_type": "stream",
       "stream": "stdout",
       "text": [
        "90 "
       ]
      },
      {
       "output_type": "stream",
       "stream": "stdout",
       "text": [
        "100 "
       ]
      },
      {
       "output_type": "stream",
       "stream": "stdout",
       "text": [
        "110\n"
       ]
      },
      {
       "output_type": "stream",
       "stream": "stdout",
       "text": [
        "total =  507.0001\n",
        "neutral =  43.2\n",
        "positive =  48.1\n",
        "negative =  8.7\n",
        "CITY: Detroit\n",
        "* query = Walking Detroit, type = page\n",
        "  url = https://graph.facebook.com/search?q=Walking Detroit&type=page\n",
        "* The number of results is 57"
       ]
      },
      {
       "output_type": "stream",
       "stream": "stdout",
       "text": [
        "\n",
        "0 "
       ]
      },
      {
       "output_type": "stream",
       "stream": "stdout",
       "text": [
        "10 "
       ]
      },
      {
       "output_type": "stream",
       "stream": "stdout",
       "text": [
        "20 "
       ]
      },
      {
       "output_type": "stream",
       "stream": "stdout",
       "text": [
        "30 "
       ]
      },
      {
       "output_type": "stream",
       "stream": "stdout",
       "text": [
        "40 "
       ]
      },
      {
       "output_type": "stream",
       "stream": "stdout",
       "text": [
        "50\n"
       ]
      },
      {
       "output_type": "stream",
       "stream": "stdout",
       "text": [
        "total =  63.0001\n",
        "neutral =  61.9\n",
        "positive =  33.3\n",
        "negative =  4.8\n",
        "CITY: Oklahoma City\n",
        "* query = Walking Oklahoma City, type = page\n",
        "  url = https://graph.facebook.com/search?q=Walking Oklahoma City&type=page\n",
        "* The number of results is 42"
       ]
      },
      {
       "output_type": "stream",
       "stream": "stdout",
       "text": [
        "\n",
        "0 "
       ]
      },
      {
       "output_type": "stream",
       "stream": "stdout",
       "text": [
        "10 "
       ]
      },
      {
       "output_type": "stream",
       "stream": "stdout",
       "text": [
        "20 "
       ]
      },
      {
       "output_type": "stream",
       "stream": "stdout",
       "text": [
        "30 "
       ]
      },
      {
       "output_type": "stream",
       "stream": "stdout",
       "text": [
        "40\n"
       ]
      },
      {
       "output_type": "stream",
       "stream": "stdout",
       "text": [
        "total =  182.0001\n",
        "neutral =  55.5\n",
        "positive =  33.5\n",
        "negative =  11.0\n",
        "CITY: Richmond\n",
        "* query = Walking Richmond, type = page\n",
        "  url = https://graph.facebook.com/search?q=Walking Richmond&type=page\n",
        "* The number of results is 70"
       ]
      },
      {
       "output_type": "stream",
       "stream": "stdout",
       "text": [
        "\n",
        "0 "
       ]
      },
      {
       "output_type": "stream",
       "stream": "stdout",
       "text": [
        "10 "
       ]
      },
      {
       "output_type": "stream",
       "stream": "stdout",
       "text": [
        "20 "
       ]
      },
      {
       "output_type": "stream",
       "stream": "stdout",
       "text": [
        "30 "
       ]
      },
      {
       "output_type": "stream",
       "stream": "stdout",
       "text": [
        "40 "
       ]
      },
      {
       "output_type": "stream",
       "stream": "stdout",
       "text": [
        "50 "
       ]
      },
      {
       "output_type": "stream",
       "stream": "stdout",
       "text": [
        "60\n"
       ]
      },
      {
       "output_type": "stream",
       "stream": "stdout",
       "text": [
        "total =  51.0001\n",
        "neutral =  45.1\n",
        "positive =  52.9\n",
        "negative =  2.0\n",
        "CITY: Denver\n",
        "* query = Walking Denver, type = page\n",
        "  url = https://graph.facebook.com/search?q=Walking Denver&type=page\n",
        "* The number of results is 80"
       ]
      },
      {
       "output_type": "stream",
       "stream": "stdout",
       "text": [
        "\n",
        "0 "
       ]
      },
      {
       "output_type": "stream",
       "stream": "stdout",
       "text": [
        "10 "
       ]
      },
      {
       "output_type": "stream",
       "stream": "stdout",
       "text": [
        "20 "
       ]
      },
      {
       "output_type": "stream",
       "stream": "stdout",
       "text": [
        "30 "
       ]
      },
      {
       "output_type": "stream",
       "stream": "stdout",
       "text": [
        "40 "
       ]
      },
      {
       "output_type": "stream",
       "stream": "stdout",
       "text": [
        "50 "
       ]
      },
      {
       "output_type": "stream",
       "stream": "stdout",
       "text": [
        "60 "
       ]
      },
      {
       "output_type": "stream",
       "stream": "stdout",
       "text": [
        "70\n"
       ]
      },
      {
       "output_type": "stream",
       "stream": "stdout",
       "text": [
        "total =  158.0001\n",
        "neutral =  48.1\n",
        "positive =  46.8\n",
        "negative =  5.1\n"
       ]
      }
     ],
     "prompt_number": 36
    },
    {
     "cell_type": "code",
     "collapsed": false,
     "input": [],
     "language": "python",
     "metadata": {},
     "outputs": [],
     "prompt_number": 37
    },
    {
     "cell_type": "code",
     "collapsed": false,
     "input": [
      "results = []\n",
      "for city in all_cities:\n",
      "    print \"CITY: %s\" % city\n",
      "    messages, sentiments = get_sentiment(\"Transportation %s\" % city, \"page\", \n",
      "                      sentiment_fn=textblob_sentiment, check_fn=check_fn, \\\n",
      "                      location= {\"city\": city, \"state\": Cities[city][\"state\"], \"country\": \"United States\"})\n",
      "    results.append((messages, sentiments))"
     ],
     "language": "python",
     "metadata": {},
     "outputs": [
      {
       "output_type": "stream",
       "stream": "stdout",
       "text": [
        "CITY: Boston\n",
        "* query = Transportation Boston, type = page\n",
        "  url = https://graph.facebook.com/search?q=Transportation Boston&type=page\n",
        "* The number of results is 190"
       ]
      },
      {
       "output_type": "stream",
       "stream": "stdout",
       "text": [
        "\n",
        "0 "
       ]
      },
      {
       "output_type": "stream",
       "stream": "stdout",
       "text": [
        "10 "
       ]
      },
      {
       "output_type": "stream",
       "stream": "stdout",
       "text": [
        "20 "
       ]
      },
      {
       "output_type": "stream",
       "stream": "stdout",
       "text": [
        "30 "
       ]
      },
      {
       "output_type": "stream",
       "stream": "stdout",
       "text": [
        "40 "
       ]
      },
      {
       "output_type": "stream",
       "stream": "stdout",
       "text": [
        "50 "
       ]
      },
      {
       "output_type": "stream",
       "stream": "stdout",
       "text": [
        "60 "
       ]
      },
      {
       "output_type": "stream",
       "stream": "stdout",
       "text": [
        "70 "
       ]
      },
      {
       "output_type": "stream",
       "stream": "stdout",
       "text": [
        "80 "
       ]
      },
      {
       "output_type": "stream",
       "stream": "stdout",
       "text": [
        "90 "
       ]
      },
      {
       "output_type": "stream",
       "stream": "stdout",
       "text": [
        "100 "
       ]
      },
      {
       "output_type": "stream",
       "stream": "stdout",
       "text": [
        "110 "
       ]
      },
      {
       "output_type": "stream",
       "stream": "stdout",
       "text": [
        "120 "
       ]
      },
      {
       "output_type": "stream",
       "stream": "stdout",
       "text": [
        "130 "
       ]
      },
      {
       "output_type": "stream",
       "stream": "stdout",
       "text": [
        "140 "
       ]
      },
      {
       "output_type": "stream",
       "stream": "stdout",
       "text": [
        "150 "
       ]
      },
      {
       "output_type": "stream",
       "stream": "stdout",
       "text": [
        "160 "
       ]
      },
      {
       "output_type": "stream",
       "stream": "stdout",
       "text": [
        "170 "
       ]
      },
      {
       "output_type": "stream",
       "stream": "stdout",
       "text": [
        "180\n"
       ]
      },
      {
       "output_type": "stream",
       "stream": "stdout",
       "text": [
        "total =  243.0001\n",
        "neutral =  54.3\n",
        "positive =  37.9\n",
        "negative =  7.8\n",
        "CITY: New York\n",
        "* query = Transportation New York, type = page\n",
        "  url = https://graph.facebook.com/search?q=Transportation New York&type=page\n",
        "* The number of results is 341"
       ]
      },
      {
       "output_type": "stream",
       "stream": "stdout",
       "text": [
        "\n",
        "0 "
       ]
      },
      {
       "output_type": "stream",
       "stream": "stdout",
       "text": [
        "10 "
       ]
      },
      {
       "output_type": "stream",
       "stream": "stdout",
       "text": [
        "20 "
       ]
      },
      {
       "output_type": "stream",
       "stream": "stdout",
       "text": [
        "30 "
       ]
      },
      {
       "output_type": "stream",
       "stream": "stdout",
       "text": [
        "40 "
       ]
      },
      {
       "output_type": "stream",
       "stream": "stdout",
       "text": [
        "50 "
       ]
      },
      {
       "output_type": "stream",
       "stream": "stdout",
       "text": [
        "60 "
       ]
      },
      {
       "output_type": "stream",
       "stream": "stdout",
       "text": [
        "70 "
       ]
      },
      {
       "output_type": "stream",
       "stream": "stdout",
       "text": [
        "80 "
       ]
      },
      {
       "output_type": "stream",
       "stream": "stdout",
       "text": [
        "90 "
       ]
      },
      {
       "output_type": "stream",
       "stream": "stdout",
       "text": [
        "100 "
       ]
      },
      {
       "output_type": "stream",
       "stream": "stdout",
       "text": [
        "110 "
       ]
      },
      {
       "output_type": "stream",
       "stream": "stdout",
       "text": [
        "120 "
       ]
      },
      {
       "output_type": "stream",
       "stream": "stdout",
       "text": [
        "130 "
       ]
      },
      {
       "output_type": "stream",
       "stream": "stdout",
       "text": [
        "140 "
       ]
      },
      {
       "output_type": "stream",
       "stream": "stdout",
       "text": [
        "150 "
       ]
      },
      {
       "output_type": "stream",
       "stream": "stdout",
       "text": [
        "160 "
       ]
      },
      {
       "output_type": "stream",
       "stream": "stdout",
       "text": [
        "170 "
       ]
      },
      {
       "output_type": "stream",
       "stream": "stdout",
       "text": [
        "180 "
       ]
      },
      {
       "output_type": "stream",
       "stream": "stdout",
       "text": [
        "190 "
       ]
      },
      {
       "output_type": "stream",
       "stream": "stdout",
       "text": [
        "200 "
       ]
      },
      {
       "output_type": "stream",
       "stream": "stdout",
       "text": [
        "210 "
       ]
      },
      {
       "output_type": "stream",
       "stream": "stdout",
       "text": [
        "220 "
       ]
      },
      {
       "output_type": "stream",
       "stream": "stdout",
       "text": [
        "230 "
       ]
      },
      {
       "output_type": "stream",
       "stream": "stdout",
       "text": [
        "240 "
       ]
      },
      {
       "output_type": "stream",
       "stream": "stdout",
       "text": [
        "250 "
       ]
      },
      {
       "output_type": "stream",
       "stream": "stdout",
       "text": [
        "260 "
       ]
      },
      {
       "output_type": "stream",
       "stream": "stdout",
       "text": [
        "270 "
       ]
      },
      {
       "output_type": "stream",
       "stream": "stdout",
       "text": [
        "280 "
       ]
      },
      {
       "output_type": "stream",
       "stream": "stdout",
       "text": [
        "290 "
       ]
      },
      {
       "output_type": "stream",
       "stream": "stdout",
       "text": [
        "300 "
       ]
      },
      {
       "output_type": "stream",
       "stream": "stdout",
       "text": [
        "310 "
       ]
      },
      {
       "output_type": "stream",
       "stream": "stdout",
       "text": [
        "320 "
       ]
      },
      {
       "output_type": "stream",
       "stream": "stdout",
       "text": [
        "330 "
       ]
      },
      {
       "output_type": "stream",
       "stream": "stdout",
       "text": [
        "340\n"
       ]
      },
      {
       "output_type": "stream",
       "stream": "stdout",
       "text": [
        "total =  672.0001\n",
        "neutral =  51.5\n",
        "positive =  42.6\n",
        "negative =  6.0\n",
        "CITY: Seattle\n",
        "* query = Transportation Seattle, type = page\n",
        "  url = https://graph.facebook.com/search?q=Transportation Seattle&type=page\n",
        "* The number of results is 150"
       ]
      },
      {
       "output_type": "stream",
       "stream": "stdout",
       "text": [
        "\n",
        "0 "
       ]
      },
      {
       "output_type": "stream",
       "stream": "stdout",
       "text": [
        "10 "
       ]
      },
      {
       "output_type": "stream",
       "stream": "stdout",
       "text": [
        "20 "
       ]
      },
      {
       "output_type": "stream",
       "stream": "stdout",
       "text": [
        "30 "
       ]
      },
      {
       "output_type": "stream",
       "stream": "stdout",
       "text": [
        "40 "
       ]
      },
      {
       "output_type": "stream",
       "stream": "stdout",
       "text": [
        "50 "
       ]
      },
      {
       "output_type": "stream",
       "stream": "stdout",
       "text": [
        "60 "
       ]
      },
      {
       "output_type": "stream",
       "stream": "stdout",
       "text": [
        "70 "
       ]
      },
      {
       "output_type": "stream",
       "stream": "stdout",
       "text": [
        "80 "
       ]
      },
      {
       "output_type": "stream",
       "stream": "stdout",
       "text": [
        "90 "
       ]
      },
      {
       "output_type": "stream",
       "stream": "stdout",
       "text": [
        "100 "
       ]
      },
      {
       "output_type": "stream",
       "stream": "stdout",
       "text": [
        "110 "
       ]
      },
      {
       "output_type": "stream",
       "stream": "stdout",
       "text": [
        "120 "
       ]
      },
      {
       "output_type": "stream",
       "stream": "stdout",
       "text": [
        "130 "
       ]
      },
      {
       "output_type": "stream",
       "stream": "stdout",
       "text": [
        "140\n"
       ]
      },
      {
       "output_type": "stream",
       "stream": "stdout",
       "text": [
        "total =  511.0001\n",
        "neutral =  48.1\n",
        "positive =  46.0\n",
        "negative =  5.9\n",
        "CITY: San Francisco\n",
        "* query = Transportation San Francisco, type = page\n",
        "  url = https://graph.facebook.com/search?q=Transportation San Francisco&type=page\n",
        "* The number of results is 149"
       ]
      },
      {
       "output_type": "stream",
       "stream": "stdout",
       "text": [
        "\n",
        "0 "
       ]
      },
      {
       "output_type": "stream",
       "stream": "stdout",
       "text": [
        "10 "
       ]
      },
      {
       "output_type": "stream",
       "stream": "stdout",
       "text": [
        "20 "
       ]
      },
      {
       "output_type": "stream",
       "stream": "stdout",
       "text": [
        "30 "
       ]
      },
      {
       "output_type": "stream",
       "stream": "stdout",
       "text": [
        "40 "
       ]
      },
      {
       "output_type": "stream",
       "stream": "stdout",
       "text": [
        "50 "
       ]
      },
      {
       "output_type": "stream",
       "stream": "stdout",
       "text": [
        "60 "
       ]
      },
      {
       "output_type": "stream",
       "stream": "stdout",
       "text": [
        "70 "
       ]
      },
      {
       "output_type": "stream",
       "stream": "stdout",
       "text": [
        "80 "
       ]
      },
      {
       "output_type": "stream",
       "stream": "stdout",
       "text": [
        "90 "
       ]
      },
      {
       "output_type": "stream",
       "stream": "stdout",
       "text": [
        "100 "
       ]
      },
      {
       "output_type": "stream",
       "stream": "stdout",
       "text": [
        "110 "
       ]
      },
      {
       "output_type": "stream",
       "stream": "stdout",
       "text": [
        "120 "
       ]
      },
      {
       "output_type": "stream",
       "stream": "stdout",
       "text": [
        "130 "
       ]
      },
      {
       "output_type": "stream",
       "stream": "stdout",
       "text": [
        "140\n"
       ]
      },
      {
       "output_type": "stream",
       "stream": "stdout",
       "text": [
        "total =  376.0001\n",
        "neutral =  54.3\n",
        "positive =  41.0\n",
        "negative =  4.8\n",
        "CITY: Detroit\n",
        "* query = Transportation Detroit, type = page\n",
        "  url = https://graph.facebook.com/search?q=Transportation Detroit&type=page\n",
        "* The number of results is 115"
       ]
      },
      {
       "output_type": "stream",
       "stream": "stdout",
       "text": [
        "\n",
        "0 "
       ]
      },
      {
       "output_type": "stream",
       "stream": "stdout",
       "text": [
        "10 "
       ]
      },
      {
       "output_type": "stream",
       "stream": "stdout",
       "text": [
        "20 "
       ]
      },
      {
       "output_type": "stream",
       "stream": "stdout",
       "text": [
        "30 "
       ]
      },
      {
       "output_type": "stream",
       "stream": "stdout",
       "text": [
        "40 "
       ]
      },
      {
       "output_type": "stream",
       "stream": "stdout",
       "text": [
        "50 "
       ]
      },
      {
       "output_type": "stream",
       "stream": "stdout",
       "text": [
        "60 "
       ]
      },
      {
       "output_type": "stream",
       "stream": "stdout",
       "text": [
        "70 "
       ]
      },
      {
       "output_type": "stream",
       "stream": "stdout",
       "text": [
        "80 "
       ]
      },
      {
       "output_type": "stream",
       "stream": "stdout",
       "text": [
        "90 "
       ]
      },
      {
       "output_type": "stream",
       "stream": "stdout",
       "text": [
        "100 "
       ]
      },
      {
       "output_type": "stream",
       "stream": "stdout",
       "text": [
        "110\n"
       ]
      },
      {
       "output_type": "stream",
       "stream": "stdout",
       "text": [
        "total =  198.0001\n",
        "neutral =  50.0\n",
        "positive =  44.9\n",
        "negative =  5.1\n",
        "CITY: Oklahoma City\n",
        "* query = Transportation Oklahoma City, type = page\n",
        "  url = https://graph.facebook.com/search?q=Transportation Oklahoma City&type=page\n",
        "* The number of results is 100"
       ]
      },
      {
       "output_type": "stream",
       "stream": "stdout",
       "text": [
        "\n",
        "0 "
       ]
      },
      {
       "output_type": "stream",
       "stream": "stdout",
       "text": [
        "10 "
       ]
      },
      {
       "output_type": "stream",
       "stream": "stdout",
       "text": [
        "20 "
       ]
      },
      {
       "output_type": "stream",
       "stream": "stdout",
       "text": [
        "30 "
       ]
      },
      {
       "output_type": "stream",
       "stream": "stdout",
       "text": [
        "40 "
       ]
      },
      {
       "output_type": "stream",
       "stream": "stdout",
       "text": [
        "50 "
       ]
      },
      {
       "output_type": "stream",
       "stream": "stdout",
       "text": [
        "60 "
       ]
      },
      {
       "output_type": "stream",
       "stream": "stdout",
       "text": [
        "70 "
       ]
      },
      {
       "output_type": "stream",
       "stream": "stdout",
       "text": [
        "80 "
       ]
      },
      {
       "output_type": "stream",
       "stream": "stdout",
       "text": [
        "90\n"
       ]
      },
      {
       "output_type": "stream",
       "stream": "stdout",
       "text": [
        "total =  646.0001\n",
        "neutral =  52.5\n",
        "positive =  43.7\n",
        "negative =  3.9\n",
        "CITY: Richmond\n",
        "* query = Transportation Richmond, type = page\n",
        "  url = https://graph.facebook.com/search?q=Transportation Richmond&type=page\n",
        "* The number of results is 95"
       ]
      },
      {
       "output_type": "stream",
       "stream": "stdout",
       "text": [
        "\n",
        "0 "
       ]
      },
      {
       "output_type": "stream",
       "stream": "stdout",
       "text": [
        "10 "
       ]
      },
      {
       "output_type": "stream",
       "stream": "stdout",
       "text": [
        "20 "
       ]
      },
      {
       "output_type": "stream",
       "stream": "stdout",
       "text": [
        "30 "
       ]
      },
      {
       "output_type": "stream",
       "stream": "stdout",
       "text": [
        "40 "
       ]
      },
      {
       "output_type": "stream",
       "stream": "stdout",
       "text": [
        "50 "
       ]
      },
      {
       "output_type": "stream",
       "stream": "stdout",
       "text": [
        "60 "
       ]
      },
      {
       "output_type": "stream",
       "stream": "stdout",
       "text": [
        "70 "
       ]
      },
      {
       "output_type": "stream",
       "stream": "stdout",
       "text": [
        "80 "
       ]
      },
      {
       "output_type": "stream",
       "stream": "stdout",
       "text": [
        "90\n"
       ]
      },
      {
       "output_type": "stream",
       "stream": "stdout",
       "text": [
        "total =  136.0001\n",
        "neutral =  47.8\n",
        "positive =  47.1\n",
        "negative =  5.1\n",
        "CITY: Denver\n",
        "* query = Transportation Denver, type = page\n",
        "  url = https://graph.facebook.com/search?q=Transportation Denver&type=page\n",
        "* The number of results is 195"
       ]
      },
      {
       "output_type": "stream",
       "stream": "stdout",
       "text": [
        "\n",
        "0 "
       ]
      },
      {
       "output_type": "stream",
       "stream": "stdout",
       "text": [
        "10 "
       ]
      },
      {
       "output_type": "stream",
       "stream": "stdout",
       "text": [
        "20 "
       ]
      },
      {
       "output_type": "stream",
       "stream": "stdout",
       "text": [
        "30 "
       ]
      },
      {
       "output_type": "stream",
       "stream": "stdout",
       "text": [
        "40 "
       ]
      },
      {
       "output_type": "stream",
       "stream": "stdout",
       "text": [
        "50 "
       ]
      },
      {
       "output_type": "stream",
       "stream": "stdout",
       "text": [
        "60 "
       ]
      },
      {
       "output_type": "stream",
       "stream": "stdout",
       "text": [
        "70 "
       ]
      },
      {
       "output_type": "stream",
       "stream": "stdout",
       "text": [
        "80 "
       ]
      },
      {
       "output_type": "stream",
       "stream": "stdout",
       "text": [
        "90 "
       ]
      },
      {
       "output_type": "stream",
       "stream": "stdout",
       "text": [
        "100 "
       ]
      },
      {
       "output_type": "stream",
       "stream": "stdout",
       "text": [
        "110 "
       ]
      },
      {
       "output_type": "stream",
       "stream": "stdout",
       "text": [
        "120 "
       ]
      },
      {
       "output_type": "stream",
       "stream": "stdout",
       "text": [
        "130 "
       ]
      },
      {
       "output_type": "stream",
       "stream": "stdout",
       "text": [
        "140 "
       ]
      },
      {
       "output_type": "stream",
       "stream": "stdout",
       "text": [
        "150 "
       ]
      },
      {
       "output_type": "stream",
       "stream": "stdout",
       "text": [
        "160 "
       ]
      },
      {
       "output_type": "stream",
       "stream": "stdout",
       "text": [
        "170 "
       ]
      },
      {
       "output_type": "stream",
       "stream": "stdout",
       "text": [
        "180 "
       ]
      },
      {
       "output_type": "stream",
       "stream": "stdout",
       "text": [
        "190\n"
       ]
      },
      {
       "output_type": "stream",
       "stream": "stdout",
       "text": [
        "total =  654.0001\n",
        "neutral =  44.5\n",
        "positive =  48.0\n",
        "negative =  7.5\n"
       ]
      }
     ],
     "prompt_number": 38
    },
    {
     "cell_type": "code",
     "collapsed": false,
     "input": [],
     "language": "python",
     "metadata": {},
     "outputs": [],
     "prompt_number": 37
    },
    {
     "cell_type": "code",
     "collapsed": false,
     "input": [
      "results = []\n",
      "for city in all_cities:\n",
      "    print \"CITY: %s\" % city\n",
      "    messages, sentiments = get_sentiment(\"Walking %s\" % city, \"page\",\n",
      "                      sentiment_fn=textblob_sentiment, check_fn=check_fn, \\\n",
      "                      location= {\"city\": city, \"state\": Cities[city][\"state\"], \"country\": \"United States\"})\n",
      "    results.append((messages, sentiments))\n"
     ],
     "language": "python",
     "metadata": {},
     "outputs": [
      {
       "output_type": "stream",
       "stream": "stdout",
       "text": [
        " CITY: Boston\n",
        "* query = Walking Boston, type = page\n",
        "  url = https://graph.facebook.com/search?q=Walking Boston&type=page\n",
        "* The number of results is 90"
       ]
      },
      {
       "output_type": "stream",
       "stream": "stdout",
       "text": [
        "\n",
        "0 "
       ]
      },
      {
       "output_type": "stream",
       "stream": "stdout",
       "text": [
        "10 "
       ]
      },
      {
       "output_type": "stream",
       "stream": "stdout",
       "text": [
        "20 "
       ]
      },
      {
       "output_type": "stream",
       "stream": "stdout",
       "text": [
        "30 "
       ]
      },
      {
       "output_type": "stream",
       "stream": "stdout",
       "text": [
        "40 "
       ]
      },
      {
       "output_type": "stream",
       "stream": "stdout",
       "text": [
        "50 "
       ]
      },
      {
       "output_type": "stream",
       "stream": "stdout",
       "text": [
        "60 "
       ]
      },
      {
       "output_type": "stream",
       "stream": "stdout",
       "text": [
        "70 "
       ]
      },
      {
       "output_type": "stream",
       "stream": "stdout",
       "text": [
        "80\n"
       ]
      },
      {
       "output_type": "stream",
       "stream": "stdout",
       "text": [
        "total =  195.0001\n",
        "neutral =  46.7\n",
        "positive =  49.7\n",
        "negative =  3.6\n",
        "CITY: New York\n",
        "* query = Walking New York, type = page\n",
        "  url = https://graph.facebook.com/search?q=Walking New York&type=page\n",
        "* The number of results is 154"
       ]
      },
      {
       "output_type": "stream",
       "stream": "stdout",
       "text": [
        "\n",
        "0 "
       ]
      },
      {
       "output_type": "stream",
       "stream": "stdout",
       "text": [
        "10 "
       ]
      },
      {
       "output_type": "stream",
       "stream": "stdout",
       "text": [
        "20 "
       ]
      },
      {
       "output_type": "stream",
       "stream": "stdout",
       "text": [
        "30 "
       ]
      },
      {
       "output_type": "stream",
       "stream": "stdout",
       "text": [
        "40 "
       ]
      },
      {
       "output_type": "stream",
       "stream": "stdout",
       "text": [
        "50 "
       ]
      },
      {
       "output_type": "stream",
       "stream": "stdout",
       "text": [
        "60 "
       ]
      },
      {
       "output_type": "stream",
       "stream": "stdout",
       "text": [
        "70 "
       ]
      },
      {
       "output_type": "stream",
       "stream": "stdout",
       "text": [
        "80 "
       ]
      },
      {
       "output_type": "stream",
       "stream": "stdout",
       "text": [
        "90 "
       ]
      },
      {
       "output_type": "stream",
       "stream": "stdout",
       "text": [
        "100 "
       ]
      },
      {
       "output_type": "stream",
       "stream": "stdout",
       "text": [
        "110 "
       ]
      },
      {
       "output_type": "stream",
       "stream": "stdout",
       "text": [
        "120 "
       ]
      },
      {
       "output_type": "stream",
       "stream": "stdout",
       "text": [
        "130 "
       ]
      },
      {
       "output_type": "stream",
       "stream": "stdout",
       "text": [
        "140 "
       ]
      },
      {
       "output_type": "stream",
       "stream": "stdout",
       "text": [
        "150\n"
       ]
      },
      {
       "output_type": "stream",
       "stream": "stdout",
       "text": [
        "total =  292.0001\n",
        "neutral =  50.7\n",
        "positive =  45.9\n",
        "negative =  3.4\n",
        "CITY: Seattle\n",
        "* query = Walking Seattle, type = page\n",
        "  url = https://graph.facebook.com/search?q=Walking Seattle&type=page\n",
        "* The number of results is 109"
       ]
      },
      {
       "output_type": "stream",
       "stream": "stdout",
       "text": [
        "\n",
        "0 "
       ]
      },
      {
       "output_type": "stream",
       "stream": "stdout",
       "text": [
        "10 "
       ]
      },
      {
       "output_type": "stream",
       "stream": "stdout",
       "text": [
        "20 "
       ]
      },
      {
       "output_type": "stream",
       "stream": "stdout",
       "text": [
        "30 "
       ]
      },
      {
       "output_type": "stream",
       "stream": "stdout",
       "text": [
        "40 "
       ]
      },
      {
       "output_type": "stream",
       "stream": "stdout",
       "text": [
        "50 "
       ]
      },
      {
       "output_type": "stream",
       "stream": "stdout",
       "text": [
        "60 "
       ]
      },
      {
       "output_type": "stream",
       "stream": "stdout",
       "text": [
        "70 "
       ]
      },
      {
       "output_type": "stream",
       "stream": "stdout",
       "text": [
        "80 "
       ]
      },
      {
       "output_type": "stream",
       "stream": "stdout",
       "text": [
        "90 "
       ]
      },
      {
       "output_type": "stream",
       "stream": "stdout",
       "text": [
        "100\n"
       ]
      },
      {
       "output_type": "stream",
       "stream": "stdout",
       "text": [
        "total =  548.0001\n",
        "neutral =  37.6\n",
        "positive =  55.5\n",
        "negative =  6.9\n",
        "CITY: San Francisco\n",
        "* query = Walking San Francisco, type = page\n",
        "  url = https://graph.facebook.com/search?q=Walking San Francisco&type=page\n",
        "* The number of results is 119"
       ]
      },
      {
       "output_type": "stream",
       "stream": "stdout",
       "text": [
        "\n",
        "0 "
       ]
      },
      {
       "output_type": "stream",
       "stream": "stdout",
       "text": [
        "10 "
       ]
      },
      {
       "output_type": "stream",
       "stream": "stdout",
       "text": [
        "20 "
       ]
      },
      {
       "output_type": "stream",
       "stream": "stdout",
       "text": [
        "30 "
       ]
      },
      {
       "output_type": "stream",
       "stream": "stdout",
       "text": [
        "40 "
       ]
      },
      {
       "output_type": "stream",
       "stream": "stdout",
       "text": [
        "50 "
       ]
      },
      {
       "output_type": "stream",
       "stream": "stdout",
       "text": [
        "60 "
       ]
      },
      {
       "output_type": "stream",
       "stream": "stdout",
       "text": [
        "70 "
       ]
      },
      {
       "output_type": "stream",
       "stream": "stdout",
       "text": [
        "80 "
       ]
      },
      {
       "output_type": "stream",
       "stream": "stdout",
       "text": [
        "90 "
       ]
      },
      {
       "output_type": "stream",
       "stream": "stdout",
       "text": [
        "100 "
       ]
      },
      {
       "output_type": "stream",
       "stream": "stdout",
       "text": [
        "110\n"
       ]
      },
      {
       "output_type": "stream",
       "stream": "stdout",
       "text": [
        "total =  487.0001\n",
        "neutral =  43.3\n",
        "positive =  49.7\n",
        "negative =  7.0\n",
        "CITY: Detroit\n",
        "* query = Walking Detroit, type = page\n",
        "  url = https://graph.facebook.com/search?q=Walking Detroit&type=page\n",
        "* The number of results is 55"
       ]
      },
      {
       "output_type": "stream",
       "stream": "stdout",
       "text": [
        "\n",
        "0 "
       ]
      },
      {
       "output_type": "stream",
       "stream": "stdout",
       "text": [
        "10 "
       ]
      },
      {
       "output_type": "stream",
       "stream": "stdout",
       "text": [
        "20 "
       ]
      },
      {
       "output_type": "stream",
       "stream": "stdout",
       "text": [
        "30 "
       ]
      },
      {
       "output_type": "stream",
       "stream": "stdout",
       "text": [
        "40 "
       ]
      },
      {
       "output_type": "stream",
       "stream": "stdout",
       "text": [
        "50\n"
       ]
      },
      {
       "output_type": "stream",
       "stream": "stdout",
       "text": [
        "total =  61.0001\n",
        "neutral =  59.0\n",
        "positive =  36.1\n",
        "negative =  4.9\n",
        "CITY: Oklahoma City\n",
        "* query = Walking Oklahoma City, type = page\n",
        "  url = https://graph.facebook.com/search?q=Walking Oklahoma City&type=page\n",
        "* The number of results is 43"
       ]
      },
      {
       "output_type": "stream",
       "stream": "stdout",
       "text": [
        "\n",
        "0 "
       ]
      },
      {
       "output_type": "stream",
       "stream": "stdout",
       "text": [
        "10 "
       ]
      },
      {
       "output_type": "stream",
       "stream": "stdout",
       "text": [
        "20 "
       ]
      },
      {
       "output_type": "stream",
       "stream": "stdout",
       "text": [
        "30 "
       ]
      },
      {
       "output_type": "stream",
       "stream": "stdout",
       "text": [
        "40\n"
       ]
      },
      {
       "output_type": "stream",
       "stream": "stdout",
       "text": [
        "total =  183.0001\n",
        "neutral =  55.2\n",
        "positive =  33.9\n",
        "negative =  10.9\n",
        "CITY: Richmond\n",
        "* query = Walking Richmond, type = page\n",
        "  url = https://graph.facebook.com/search?q=Walking Richmond&type=page\n",
        "* The number of results is 70"
       ]
      },
      {
       "output_type": "stream",
       "stream": "stdout",
       "text": [
        "\n",
        "0 "
       ]
      },
      {
       "output_type": "stream",
       "stream": "stdout",
       "text": [
        "10 "
       ]
      },
      {
       "output_type": "stream",
       "stream": "stdout",
       "text": [
        "20 "
       ]
      },
      {
       "output_type": "stream",
       "stream": "stdout",
       "text": [
        "30 "
       ]
      },
      {
       "output_type": "stream",
       "stream": "stdout",
       "text": [
        "40 "
       ]
      },
      {
       "output_type": "stream",
       "stream": "stdout",
       "text": [
        "50 "
       ]
      },
      {
       "output_type": "stream",
       "stream": "stdout",
       "text": [
        "60\n"
       ]
      },
      {
       "output_type": "stream",
       "stream": "stdout",
       "text": [
        "total =  46.0001\n",
        "neutral =  56.5\n",
        "positive =  41.3\n",
        "negative =  2.2\n",
        "CITY: Denver\n",
        "* query = Walking Denver, type = page\n",
        "  url = https://graph.facebook.com/search?q=Walking Denver&type=page\n",
        "* The number of results is 79"
       ]
      },
      {
       "output_type": "stream",
       "stream": "stdout",
       "text": [
        "\n",
        "0 "
       ]
      },
      {
       "output_type": "stream",
       "stream": "stdout",
       "text": [
        "10 "
       ]
      },
      {
       "output_type": "stream",
       "stream": "stdout",
       "text": [
        "20 "
       ]
      },
      {
       "output_type": "stream",
       "stream": "stdout",
       "text": [
        "30 "
       ]
      },
      {
       "output_type": "stream",
       "stream": "stdout",
       "text": [
        "40 "
       ]
      },
      {
       "output_type": "stream",
       "stream": "stdout",
       "text": [
        "50 "
       ]
      },
      {
       "output_type": "stream",
       "stream": "stdout",
       "text": [
        "60 "
       ]
      },
      {
       "output_type": "stream",
       "stream": "stdout",
       "text": [
        "70\n"
       ]
      },
      {
       "output_type": "stream",
       "stream": "stdout",
       "text": [
        "total =  151.0001\n",
        "neutral =  49.0\n",
        "positive =  47.0\n",
        "negative =  4.0\n"
       ]
      }
     ],
     "prompt_number": 15
    },
    {
     "cell_type": "code",
     "collapsed": false,
     "input": [],
     "language": "python",
     "metadata": {},
     "outputs": []
    }
   ],
   "metadata": {}
  }
 ]
}