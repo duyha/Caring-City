{
 "metadata": {
  "name": "",
  "signature": "sha256:63c90985df7b4d751ffa135994ccaef172492d592b14e3e71500ef8cbc37a5f5"
 },
 "nbformat": 3,
 "nbformat_minor": 0,
 "worksheets": [
  {
   "cells": [
    {
     "cell_type": "code",
     "collapsed": false,
     "input": [
      "# Create one example of getting transportation data from FB\n",
      "import requests\n",
      "import sqlite3\n",
      "import os\n",
      "from datetime import datetime\n",
      "import facebook\n",
      "import json\n",
      "from facebook_api import *\n",
      "import numpy as np\n",
      "from pattern.en import sentiment\n",
      "from textblob import TextBlob\n",
      "from uclassify import uclassify\n",
      "import time\n",
      "import numpy as np\n",
      "import matplotlib.pyplot as plt"
     ],
     "language": "python",
     "metadata": {},
     "outputs": [],
     "prompt_number": 2
    },
    {
     "cell_type": "code",
     "collapsed": false,
     "input": [
      "BOS_POPULATION = 645966\n",
      "NYC_POPULATION = 8406000\n",
      "SFO_POPULATION = 837442\n",
      "LA_POPULATION = 3884000\n",
      "OKL_POPULATION = 3.851*10**6\n",
      "DET_POPULATION = 688701  # Detroit\n",
      "DEN_POPULATION = 649495  # Denver\n",
      "POR_POPULATION = 609456  # Portland, Oregon\n",
      "SLK_POPULATION = 191180  # Salt Lake City\n",
      "SEA_POPULATION = 652405  # Seattle\n",
      "RMD_POPULATION = 214114  # Richmond\n",
      "KNV_POPULATION = 183270  # Knoxville\n",
      "\n",
      "Cities = [\"Boston\", \"New York\", \"San Francisco\", \"Detroit\", \"Oklahoma City\"]\n",
      "Locations = {\n",
      "\"Boston\":        {\"city\": \"Boston\", \"state\": \"MA\", \"country\": \"United States\"},\n",
      "\"New York\":      {\"city\": \"New York\", \"state\": \"NY\", \"country\": \"United States\"},\n",
      "\"San Francisco\": {\"city\": \"San Francisco\", \"state\": \"CA\", \"country\": \"United States\"},\n",
      "\"Detroit\":       {\"city\": \"Detroit\", \"state\": \"MI\", \"country\": \"United States\"},\n",
      "\"Oklahoma City\": {\"city\": \"Oklahoma City\", \"state\": \"OK\", \"country\": \"United States\"},\n",
      "}\n",
      "Categories = [\"transportation\", \"transit stop\", \"public transportation\"]\n",
      "\n",
      "# Different queries\n",
      "Transportation = [\"transportation\", \"public transportation\"]\n",
      "Driving = [\"Car\", \"Drive\", \"Driving\", \"Bus\", \"Uber\", \"Lyft\"]\n",
      "Walking = [\"Walking\"]\n",
      "Biking = [\"Biking\", \"hubway\", \"citybike\", \"Bike\"]\n",
      "Subway = [\"MBTA\", \"MTA\", \"SFMTA\", \"subway\", \"train\", \"metro\"]\n",
      "Ship = [\"ferry\", \"boat\", \"ship\"]\n",
      "Airplane = [\"airport\", \"plane\"]"
     ],
     "language": "python",
     "metadata": {},
     "outputs": [],
     "prompt_number": 3
    },
    {
     "cell_type": "code",
     "collapsed": false,
     "input": [
      "# Get access token first\n",
      "# I have created a FB account\n",
      "#     email: urop.caring.city@gmail.com\n",
      "#     password: urop.caring.city\n",
      "# Then go to https://developers.facebook.com/tools/explorer/ to get access token.\n",
      "ACCESS_TOKEN = 'CAACEdEose0cBANO9WDlVKmHrBVy3u6nDXvSdtmJxDLPJkMeeYJrQzlwaDdUMkd654WyKaCUp7ZAvnjtGxXzZCePkG26PXDHES7gR6LU7pGryNDMH7f4ZArg0cg7t9uQT15nCCtAaEblQhZCVf4c136Kyr2k6GCdBgivFvrfCwXbDhk53CFYTtL9BYRg7qJ70u3VPbbR5wSG5oQf9LsLC'\n",
      "args = {\"access_token\": ACCESS_TOKEN}\n",
      "graph = facebook.GraphAPI(ACCESS_TOKEN)"
     ],
     "language": "python",
     "metadata": {},
     "outputs": [],
     "prompt_number": 4
    },
    {
     "cell_type": "code",
     "collapsed": false,
     "input": [
      "# A general search function\n",
      "# Execute a search given a query and an object type\n",
      "# query: string, object_type in {\"user\", \"page\", \"event\", \"group\", \"place\", \"plactopic\", \"ad_*\"}\n",
      "# Return a list of datum containing {object-name, id}\n",
      "def search_objects(query, object_type, limit=None):\n",
      "    # Search\n",
      "    print \"* query = %s, type = %s\" % (query, object_type)\n",
      "    url = \"https://graph.facebook.com/search?q=%s&type=%s\" % (query, object_type)\n",
      "    if limit:\n",
      "        url += \"&limit=%d\" % (int(limit))\n",
      "\n",
      "    print \"  url = %s\" % (url)\n",
      "    response = requests.request(\"GET\", url, params=args)\n",
      "\n",
      "    # Get all nodes of the search\n",
      "    data = response.json()[\"data\"]\n",
      "    print \"* The number of results is %d\" % len(data)\n",
      "    return data\n",
      "\n",
      "def textblob_sentiment(text):\n",
      "    blob = TextBlob(text)\n",
      "    return blob.sentiment.polarity\n",
      "\n",
      "def pattern_sentiment(text):\n",
      "    return sentiment(text)[0]\n",
      "\n",
      "# age\n",
      "def isMillennial(text, threshold=0.5):\n",
      "    results = clas.classify([text],\"Ageanalyzer\",\"uClassify\")\n",
      "    ages = results[0][2]\n",
      "    prob1 = float(ages[1][1])  # 18-25\n",
      "    prob2 = float(ages[2][1])  # 26-35\n",
      "    prob = prob1 + prob2\n",
      "    if (prob >= threshold):\n",
      "        return True\n",
      "    else:\n",
      "        return False\n",
      "    pass"
     ],
     "language": "python",
     "metadata": {},
     "outputs": [],
     "prompt_number": 5
    },
    {
     "cell_type": "code",
     "collapsed": false,
     "input": [
      "print textblob_sentiment(\"Oh man. That's sick.\")"
     ],
     "language": "python",
     "metadata": {},
     "outputs": [
      {
       "output_type": "stream",
       "stream": "stdout",
       "text": [
        "-0.714285714286\n"
       ]
      }
     ],
     "prompt_number": 7
    },
    {
     "cell_type": "code",
     "collapsed": false,
     "input": [
      "# Check if a profile is in a specific category\n",
      "def is_in_category(profile, category, strict=False):\n",
      "    if (\"category\" in profile) \\\n",
      "    and (profile[\"category\"].lower() in category):\n",
      "        return True\n",
      "    if (strict) or not(\"category_list\" in profile):\n",
      "        return False\n",
      "    # Check category list -- higher level\n",
      "    for _category in profile[\"category_list\"]:\n",
      "        if _category[\"name\"].lower() in category:\n",
      "            return True\n",
      "    return False\n",
      "\n",
      "# Check if a profile is in a specific location\n",
      "def is_in_location(profile, location):\n",
      "    if not(\"location\" in profile):\n",
      "        return False\n",
      "    object_location = profile[\"location\"]\n",
      "    for field in location:\n",
      "        if not(field in object_location) \\\n",
      "        or (object_location[field] != location[field]):\n",
      "            return False\n",
      "    return True\n",
      "\n",
      "def check_fn(profile, location=None, category=None):\n",
      "    # Location\n",
      "    if (location) and not(is_in_location(profile, location)):\n",
      "        return False\n",
      "    return True\n",
      "    # Category\n",
      "    if (category) and not(is_in_category(profile, category)):\n",
      "        return False\n",
      "    return True\n",
      "\n",
      "def search_objects_in_city(queries, city_name, object_type):\n",
      "    data = []\n",
      "    all_node_ids = set([])\n",
      "    for q in queries:\n",
      "        query = \"%s %s\" % (city_name, q)\n",
      "        print \"* query = %s, type = %s\" % (query, object_type)\n",
      "        url = \"https://graph.facebook.com/search?q=%s&type=%s\" % (query, object_type)\n",
      "        response = requests.request(\"GET\", url, params=args)\n",
      "        datum = response.json()[\"data\"]\n",
      "        # Filter ID\n",
      "        for node in datum:\n",
      "            if not(node['id'] in all_node_ids):\n",
      "                data.append(node)\n",
      "                all_node_ids.add(node['id'])\n",
      "    return data"
     ],
     "language": "python",
     "metadata": {},
     "outputs": [],
     "prompt_number": 8
    },
    {
     "cell_type": "code",
     "collapsed": false,
     "input": [
      "# Get all feeds in pages\n",
      "def get_feeds(page_id):\n",
      "    feeds = graph.get_connections(page_id, \"feed\")\n",
      "    return feeds[\"data\"]\n",
      "\n",
      "# Get messages from a feed\n",
      "def get_messages_from_feed(feed):\n",
      "    field = \"comments\"\n",
      "    if field in feed:\n",
      "        comments = feed[\"comments\"][\"data\"]\n",
      "        messages = [comment[\"message\"] for comment in comments]\n",
      "    else:\n",
      "        messages = []\n",
      "    return messages\n",
      "\n",
      "# page_id -> feeds -> messages\n",
      "def get_messages(page_id):\n",
      "    feeds = get_feeds(page_id)\n",
      "    all_messages = []\n",
      "    for feed in feeds:\n",
      "        messages = get_messages_from_feed(feed)\n",
      "        all_messages.extend(messages)\n",
      "    return all_messages\n",
      "\n",
      "def get_sentiment(node_id, sentiment_fn=pattern_sentiment):\n",
      "    # Get all feeds\n",
      "    messages = get_messages(node_id)\n",
      "    # Get sentiments\n",
      "    sentiments = [(node_id, msg, sentiment_fn(msg)) for msg in messages]\n",
      "    return sentiments\n",
      "\n",
      "def get_sentiment_in_city(queries, city_name, \\\n",
      "                          sentiment_fn=pattern_sentiment, \\\n",
      "                          check_fn=check_fn):\n",
      "    # Get all IDs\n",
      "    print \"***\"\n",
      "    data = search_objects_in_city(queries, city_name, \"page\")\n",
      "    print \"- There are %d nodes\" % len(data)\n",
      "    sentiments = []\n",
      "    num_nodes = 0\n",
      "    for i, node in enumerate(data):\n",
      "        # get node id\n",
      "        if (i % 10 == 0):\n",
      "            print i,\n",
      "        node_id = str(node[\"id\"])\n",
      "        # Filter\n",
      "        if is_in_category(node, Categories):\n",
      "            continue\n",
      "        profile = graph.get_object(node_id)\n",
      "        if not('location' in profile) or is_in_location(profile['location'], location=Locations[city_name]):\n",
      "            continue\n",
      "\n",
      "        num_nodes += 1\n",
      "        # Get sentiments\n",
      "        sentiments.extend(get_sentiment(node_id, sentiment_fn))\n",
      "    print\n",
      "    print \"Filtered. Considered %d nodes\" % num_nodes\n",
      "\n",
      "    return sentiments\n",
      "\n",
      "def analyze(raw_sentiments, threshold=0.1):\n",
      "    neu, pos, neg = 0, 0, 0\n",
      "    sentiments = np.array([s[2] for s in raw_sentiments])\n",
      "    neutral = sum(np.abs(sentiments) <threshold)\n",
      "    possitive = sum(sentiments >= threshold)\n",
      "    negative = sum(sentiments <= -threshold)\n",
      "    total = len(sentiments) + 0.0000001\n",
      "    print\n",
      "    print \"total = \", total\n",
      "    print \"neutral = \", round(float(neutral)/total*100,1)\n",
      "    print \"positive = \", round(float(possitive)/total*100,1)\n",
      "    print \"negative = \", round(float(negative)/total*100,1)\n",
      "    return neutral, possitive, negative\n"
     ],
     "language": "python",
     "metadata": {},
     "outputs": [],
     "prompt_number": 9
    },
    {
     "cell_type": "code",
     "collapsed": false,
     "input": [
      "a = get_feeds(\"TheBikeStopArlington\")"
     ],
     "language": "python",
     "metadata": {},
     "outputs": [],
     "prompt_number": 10
    },
    {
     "cell_type": "code",
     "collapsed": false,
     "input": [
      "print len(a)\n",
      "s = a[0]\n",
      "print s.keys()\n",
      "print s['updated_time']\n",
      "#print s['shares']\n",
      "print s['created_time']"
     ],
     "language": "python",
     "metadata": {},
     "outputs": [
      {
       "output_type": "stream",
       "stream": "stdout",
       "text": [
        "25\n",
        "['picture', 'likes', 'from', 'comments', 'privacy', 'actions', 'updated_time', 'link', 'object_id', 'created_time', 'message', 'type', 'id', 'status_type', 'icon']\n",
        "2015-03-07T20:52:44+0000\n",
        "2015-03-06T16:13:31+0000\n"
       ]
      }
     ],
     "prompt_number": 11
    },
    {
     "cell_type": "code",
     "collapsed": false,
     "input": [],
     "language": "python",
     "metadata": {},
     "outputs": [],
     "prompt_number": 6
    },
    {
     "cell_type": "code",
     "collapsed": false,
     "input": [],
     "language": "python",
     "metadata": {},
     "outputs": [],
     "prompt_number": 21
    },
    {
     "cell_type": "code",
     "collapsed": false,
     "input": [
      "driving_results = {}\n",
      "ratio = {\n",
      "\"Boston\": (51.1, 43.8, 5.1)\n",
      "}\n",
      "for city in Cities[1:]:\n",
      "    print city\n",
      "    sentiments = get_sentiment_in_city(Driving, city)\n",
      "    driving_results[city] = sentiments\n",
      "    analyze(sentiments)\n",
      "    print \"*\"*20"
     ],
     "language": "python",
     "metadata": {},
     "outputs": [
      {
       "output_type": "stream",
       "stream": "stdout",
       "text": [
        "New York\n",
        "***\n",
        "* query = New York Car, type = page\n",
        "* query = New York Drive, type = page"
       ]
      },
      {
       "output_type": "stream",
       "stream": "stdout",
       "text": [
        "\n",
        "* query = New York Driving, type = page"
       ]
      },
      {
       "output_type": "stream",
       "stream": "stdout",
       "text": [
        "\n",
        "* query = New York Bus, type = page"
       ]
      },
      {
       "output_type": "stream",
       "stream": "stdout",
       "text": [
        "\n",
        "* query = New York Uber, type = page"
       ]
      },
      {
       "output_type": "stream",
       "stream": "stdout",
       "text": [
        "\n",
        "* query = New York Lyft, type = page"
       ]
      },
      {
       "output_type": "stream",
       "stream": "stdout",
       "text": [
        "\n",
        "- There are 1332 nodes"
       ]
      },
      {
       "output_type": "stream",
       "stream": "stdout",
       "text": [
        "\n",
        "0 "
       ]
      },
      {
       "output_type": "stream",
       "stream": "stdout",
       "text": [
        "10 "
       ]
      },
      {
       "output_type": "stream",
       "stream": "stdout",
       "text": [
        "20 "
       ]
      },
      {
       "output_type": "stream",
       "stream": "stdout",
       "text": [
        "30 "
       ]
      },
      {
       "output_type": "stream",
       "stream": "stdout",
       "text": [
        "40 "
       ]
      },
      {
       "output_type": "stream",
       "stream": "stdout",
       "text": [
        "50 "
       ]
      },
      {
       "output_type": "stream",
       "stream": "stdout",
       "text": [
        "60 "
       ]
      },
      {
       "output_type": "stream",
       "stream": "stdout",
       "text": [
        "70 "
       ]
      },
      {
       "output_type": "stream",
       "stream": "stdout",
       "text": [
        "80 "
       ]
      },
      {
       "output_type": "stream",
       "stream": "stdout",
       "text": [
        "90 "
       ]
      },
      {
       "output_type": "stream",
       "stream": "stdout",
       "text": [
        "100 "
       ]
      },
      {
       "output_type": "stream",
       "stream": "stdout",
       "text": [
        "110 "
       ]
      },
      {
       "output_type": "stream",
       "stream": "stdout",
       "text": [
        "120 "
       ]
      },
      {
       "output_type": "stream",
       "stream": "stdout",
       "text": [
        "130 "
       ]
      },
      {
       "output_type": "stream",
       "stream": "stdout",
       "text": [
        "140 "
       ]
      },
      {
       "output_type": "stream",
       "stream": "stdout",
       "text": [
        "150 "
       ]
      },
      {
       "output_type": "stream",
       "stream": "stdout",
       "text": [
        "160 "
       ]
      },
      {
       "output_type": "stream",
       "stream": "stdout",
       "text": [
        "170 "
       ]
      },
      {
       "output_type": "stream",
       "stream": "stdout",
       "text": [
        "180"
       ]
      },
      {
       "ename": "URLError",
       "evalue": "<urlopen error [Errno 65] No route to host>",
       "output_type": "pyerr",
       "traceback": [
        "\u001b[0;31m---------------------------------------------------------------------------\u001b[0m\n\u001b[0;31mURLError\u001b[0m                                  Traceback (most recent call last)",
        "\u001b[0;32m<ipython-input-12-87220b8ce1a9>\u001b[0m in \u001b[0;36m<module>\u001b[0;34m()\u001b[0m\n\u001b[1;32m      5\u001b[0m \u001b[0;32mfor\u001b[0m \u001b[0mcity\u001b[0m \u001b[0;32min\u001b[0m \u001b[0mCities\u001b[0m\u001b[0;34m[\u001b[0m\u001b[0;36m1\u001b[0m\u001b[0;34m:\u001b[0m\u001b[0;34m]\u001b[0m\u001b[0;34m:\u001b[0m\u001b[0;34m\u001b[0m\u001b[0m\n\u001b[1;32m      6\u001b[0m     \u001b[0;32mprint\u001b[0m \u001b[0mcity\u001b[0m\u001b[0;34m\u001b[0m\u001b[0m\n\u001b[0;32m----> 7\u001b[0;31m     \u001b[0msentiments\u001b[0m \u001b[0;34m=\u001b[0m \u001b[0mget_sentiment_in_city\u001b[0m\u001b[0;34m(\u001b[0m\u001b[0mDriving\u001b[0m\u001b[0;34m,\u001b[0m \u001b[0mcity\u001b[0m\u001b[0;34m)\u001b[0m\u001b[0;34m\u001b[0m\u001b[0m\n\u001b[0m\u001b[1;32m      8\u001b[0m     \u001b[0mdriving_results\u001b[0m\u001b[0;34m[\u001b[0m\u001b[0mcity\u001b[0m\u001b[0;34m]\u001b[0m \u001b[0;34m=\u001b[0m \u001b[0msentiments\u001b[0m\u001b[0;34m\u001b[0m\u001b[0m\n\u001b[1;32m      9\u001b[0m     \u001b[0manalyze\u001b[0m\u001b[0;34m(\u001b[0m\u001b[0msentiments\u001b[0m\u001b[0;34m)\u001b[0m\u001b[0;34m\u001b[0m\u001b[0m\n",
        "\u001b[0;32m<ipython-input-9-7af3d1de2c1f>\u001b[0m in \u001b[0;36mget_sentiment_in_city\u001b[0;34m(queries, city_name, sentiment_fn, check_fn)\u001b[0m\n\u001b[1;32m     51\u001b[0m         \u001b[0mnum_nodes\u001b[0m \u001b[0;34m+=\u001b[0m \u001b[0;36m1\u001b[0m\u001b[0;34m\u001b[0m\u001b[0m\n\u001b[1;32m     52\u001b[0m         \u001b[0;31m# Get sentiments\u001b[0m\u001b[0;34m\u001b[0m\u001b[0;34m\u001b[0m\u001b[0m\n\u001b[0;32m---> 53\u001b[0;31m         \u001b[0msentiments\u001b[0m\u001b[0;34m.\u001b[0m\u001b[0mextend\u001b[0m\u001b[0;34m(\u001b[0m\u001b[0mget_sentiment\u001b[0m\u001b[0;34m(\u001b[0m\u001b[0mnode_id\u001b[0m\u001b[0;34m,\u001b[0m \u001b[0msentiment_fn\u001b[0m\u001b[0;34m)\u001b[0m\u001b[0;34m)\u001b[0m\u001b[0;34m\u001b[0m\u001b[0m\n\u001b[0m\u001b[1;32m     54\u001b[0m     \u001b[0;32mprint\u001b[0m\u001b[0;34m\u001b[0m\u001b[0m\n\u001b[1;32m     55\u001b[0m     \u001b[0;32mprint\u001b[0m \u001b[0;34m\"Filtered. Considered %d nodes\"\u001b[0m \u001b[0;34m%\u001b[0m \u001b[0mnum_nodes\u001b[0m\u001b[0;34m\u001b[0m\u001b[0m\n",
        "\u001b[0;32m<ipython-input-9-7af3d1de2c1f>\u001b[0m in \u001b[0;36mget_sentiment\u001b[0;34m(node_id, sentiment_fn)\u001b[0m\n\u001b[1;32m     25\u001b[0m \u001b[0;32mdef\u001b[0m \u001b[0mget_sentiment\u001b[0m\u001b[0;34m(\u001b[0m\u001b[0mnode_id\u001b[0m\u001b[0;34m,\u001b[0m \u001b[0msentiment_fn\u001b[0m\u001b[0;34m=\u001b[0m\u001b[0mpattern_sentiment\u001b[0m\u001b[0;34m)\u001b[0m\u001b[0;34m:\u001b[0m\u001b[0;34m\u001b[0m\u001b[0m\n\u001b[1;32m     26\u001b[0m     \u001b[0;31m# Get all feeds\u001b[0m\u001b[0;34m\u001b[0m\u001b[0;34m\u001b[0m\u001b[0m\n\u001b[0;32m---> 27\u001b[0;31m     \u001b[0mmessages\u001b[0m \u001b[0;34m=\u001b[0m \u001b[0mget_messages\u001b[0m\u001b[0;34m(\u001b[0m\u001b[0mnode_id\u001b[0m\u001b[0;34m)\u001b[0m\u001b[0;34m\u001b[0m\u001b[0m\n\u001b[0m\u001b[1;32m     28\u001b[0m     \u001b[0;31m# Get sentiments\u001b[0m\u001b[0;34m\u001b[0m\u001b[0;34m\u001b[0m\u001b[0m\n\u001b[1;32m     29\u001b[0m     \u001b[0msentiments\u001b[0m \u001b[0;34m=\u001b[0m \u001b[0;34m[\u001b[0m\u001b[0;34m(\u001b[0m\u001b[0mnode_id\u001b[0m\u001b[0;34m,\u001b[0m \u001b[0mmsg\u001b[0m\u001b[0;34m,\u001b[0m \u001b[0msentiment_fn\u001b[0m\u001b[0;34m(\u001b[0m\u001b[0mmsg\u001b[0m\u001b[0;34m)\u001b[0m\u001b[0;34m)\u001b[0m \u001b[0;32mfor\u001b[0m \u001b[0mmsg\u001b[0m \u001b[0;32min\u001b[0m \u001b[0mmessages\u001b[0m\u001b[0;34m]\u001b[0m\u001b[0;34m\u001b[0m\u001b[0m\n",
        "\u001b[0;32m<ipython-input-9-7af3d1de2c1f>\u001b[0m in \u001b[0;36mget_messages\u001b[0;34m(page_id)\u001b[0m\n\u001b[1;32m     16\u001b[0m \u001b[0;31m# page_id -> feeds -> messages\u001b[0m\u001b[0;34m\u001b[0m\u001b[0;34m\u001b[0m\u001b[0m\n\u001b[1;32m     17\u001b[0m \u001b[0;32mdef\u001b[0m \u001b[0mget_messages\u001b[0m\u001b[0;34m(\u001b[0m\u001b[0mpage_id\u001b[0m\u001b[0;34m)\u001b[0m\u001b[0;34m:\u001b[0m\u001b[0;34m\u001b[0m\u001b[0m\n\u001b[0;32m---> 18\u001b[0;31m     \u001b[0mfeeds\u001b[0m \u001b[0;34m=\u001b[0m \u001b[0mget_feeds\u001b[0m\u001b[0;34m(\u001b[0m\u001b[0mpage_id\u001b[0m\u001b[0;34m)\u001b[0m\u001b[0;34m\u001b[0m\u001b[0m\n\u001b[0m\u001b[1;32m     19\u001b[0m     \u001b[0mall_messages\u001b[0m \u001b[0;34m=\u001b[0m \u001b[0;34m[\u001b[0m\u001b[0;34m]\u001b[0m\u001b[0;34m\u001b[0m\u001b[0m\n\u001b[1;32m     20\u001b[0m     \u001b[0;32mfor\u001b[0m \u001b[0mfeed\u001b[0m \u001b[0;32min\u001b[0m \u001b[0mfeeds\u001b[0m\u001b[0;34m:\u001b[0m\u001b[0;34m\u001b[0m\u001b[0m\n",
        "\u001b[0;32m<ipython-input-9-7af3d1de2c1f>\u001b[0m in \u001b[0;36mget_feeds\u001b[0;34m(page_id)\u001b[0m\n\u001b[1;32m      1\u001b[0m \u001b[0;31m# Get all feeds in pages\u001b[0m\u001b[0;34m\u001b[0m\u001b[0;34m\u001b[0m\u001b[0m\n\u001b[1;32m      2\u001b[0m \u001b[0;32mdef\u001b[0m \u001b[0mget_feeds\u001b[0m\u001b[0;34m(\u001b[0m\u001b[0mpage_id\u001b[0m\u001b[0;34m)\u001b[0m\u001b[0;34m:\u001b[0m\u001b[0;34m\u001b[0m\u001b[0m\n\u001b[0;32m----> 3\u001b[0;31m     \u001b[0mfeeds\u001b[0m \u001b[0;34m=\u001b[0m \u001b[0mgraph\u001b[0m\u001b[0;34m.\u001b[0m\u001b[0mget_connections\u001b[0m\u001b[0;34m(\u001b[0m\u001b[0mpage_id\u001b[0m\u001b[0;34m,\u001b[0m \u001b[0;34m\"feed\"\u001b[0m\u001b[0;34m)\u001b[0m\u001b[0;34m\u001b[0m\u001b[0m\n\u001b[0m\u001b[1;32m      4\u001b[0m     \u001b[0;32mreturn\u001b[0m \u001b[0mfeeds\u001b[0m\u001b[0;34m[\u001b[0m\u001b[0;34m\"data\"\u001b[0m\u001b[0;34m]\u001b[0m\u001b[0;34m\u001b[0m\u001b[0m\n\u001b[1;32m      5\u001b[0m \u001b[0;34m\u001b[0m\u001b[0m\n",
        "\u001b[0;32m/usr/local/lib/python2.7/site-packages/facebook.pyc\u001b[0m in \u001b[0;36mget_connections\u001b[0;34m(self, id, connection_name, **args)\u001b[0m\n\u001b[1;32m    110\u001b[0m     \u001b[0;32mdef\u001b[0m \u001b[0mget_connections\u001b[0m\u001b[0;34m(\u001b[0m\u001b[0mself\u001b[0m\u001b[0;34m,\u001b[0m \u001b[0mid\u001b[0m\u001b[0;34m,\u001b[0m \u001b[0mconnection_name\u001b[0m\u001b[0;34m,\u001b[0m \u001b[0;34m**\u001b[0m\u001b[0margs\u001b[0m\u001b[0;34m)\u001b[0m\u001b[0;34m:\u001b[0m\u001b[0;34m\u001b[0m\u001b[0m\n\u001b[1;32m    111\u001b[0m         \u001b[0;34m\"\"\"Fetchs the connections for given object.\"\"\"\u001b[0m\u001b[0;34m\u001b[0m\u001b[0m\n\u001b[0;32m--> 112\u001b[0;31m         \u001b[0;32mreturn\u001b[0m \u001b[0mself\u001b[0m\u001b[0;34m.\u001b[0m\u001b[0mrequest\u001b[0m\u001b[0;34m(\u001b[0m\u001b[0mid\u001b[0m \u001b[0;34m+\u001b[0m \u001b[0;34m\"/\"\u001b[0m \u001b[0;34m+\u001b[0m \u001b[0mconnection_name\u001b[0m\u001b[0;34m,\u001b[0m \u001b[0margs\u001b[0m\u001b[0;34m)\u001b[0m\u001b[0;34m\u001b[0m\u001b[0m\n\u001b[0m\u001b[1;32m    113\u001b[0m \u001b[0;34m\u001b[0m\u001b[0m\n\u001b[1;32m    114\u001b[0m     \u001b[0;32mdef\u001b[0m \u001b[0mput_object\u001b[0m\u001b[0;34m(\u001b[0m\u001b[0mself\u001b[0m\u001b[0;34m,\u001b[0m \u001b[0mparent_object\u001b[0m\u001b[0;34m,\u001b[0m \u001b[0mconnection_name\u001b[0m\u001b[0;34m,\u001b[0m \u001b[0;34m**\u001b[0m\u001b[0mdata\u001b[0m\u001b[0;34m)\u001b[0m\u001b[0;34m:\u001b[0m\u001b[0;34m\u001b[0m\u001b[0m\n",
        "\u001b[0;32m/usr/local/lib/python2.7/site-packages/facebook.pyc\u001b[0m in \u001b[0;36mrequest\u001b[0;34m(self, path, args, post_args)\u001b[0m\n\u001b[1;32m    293\u001b[0m         \u001b[0;32mtry\u001b[0m\u001b[0;34m:\u001b[0m\u001b[0;34m\u001b[0m\u001b[0m\n\u001b[1;32m    294\u001b[0m             file = urllib2.urlopen(\"https://graph.facebook.com/\" + path + \"?\" +\n\u001b[0;32m--> 295\u001b[0;31m                     urllib.urlencode(args), post_data, timeout=self.timeout)\n\u001b[0m\u001b[1;32m    296\u001b[0m         \u001b[0;32mexcept\u001b[0m \u001b[0murllib2\u001b[0m\u001b[0;34m.\u001b[0m\u001b[0mHTTPError\u001b[0m\u001b[0;34m,\u001b[0m \u001b[0me\u001b[0m\u001b[0;34m:\u001b[0m\u001b[0;34m\u001b[0m\u001b[0m\n\u001b[1;32m    297\u001b[0m             \u001b[0mresponse\u001b[0m \u001b[0;34m=\u001b[0m \u001b[0m_parse_json\u001b[0m\u001b[0;34m(\u001b[0m\u001b[0me\u001b[0m\u001b[0;34m.\u001b[0m\u001b[0mread\u001b[0m\u001b[0;34m(\u001b[0m\u001b[0;34m)\u001b[0m\u001b[0;34m)\u001b[0m\u001b[0;34m\u001b[0m\u001b[0m\n",
        "\u001b[0;32m/usr/local/Cellar/python/2.7.9/Frameworks/Python.framework/Versions/2.7/lib/python2.7/urllib2.pyc\u001b[0m in \u001b[0;36murlopen\u001b[0;34m(url, data, timeout, cafile, capath, cadefault, context)\u001b[0m\n\u001b[1;32m    152\u001b[0m     \u001b[0;32melse\u001b[0m\u001b[0;34m:\u001b[0m\u001b[0;34m\u001b[0m\u001b[0m\n\u001b[1;32m    153\u001b[0m         \u001b[0mopener\u001b[0m \u001b[0;34m=\u001b[0m \u001b[0m_opener\u001b[0m\u001b[0;34m\u001b[0m\u001b[0m\n\u001b[0;32m--> 154\u001b[0;31m     \u001b[0;32mreturn\u001b[0m \u001b[0mopener\u001b[0m\u001b[0;34m.\u001b[0m\u001b[0mopen\u001b[0m\u001b[0;34m(\u001b[0m\u001b[0murl\u001b[0m\u001b[0;34m,\u001b[0m \u001b[0mdata\u001b[0m\u001b[0;34m,\u001b[0m \u001b[0mtimeout\u001b[0m\u001b[0;34m)\u001b[0m\u001b[0;34m\u001b[0m\u001b[0m\n\u001b[0m\u001b[1;32m    155\u001b[0m \u001b[0;34m\u001b[0m\u001b[0m\n\u001b[1;32m    156\u001b[0m \u001b[0;32mdef\u001b[0m \u001b[0minstall_opener\u001b[0m\u001b[0;34m(\u001b[0m\u001b[0mopener\u001b[0m\u001b[0;34m)\u001b[0m\u001b[0;34m:\u001b[0m\u001b[0;34m\u001b[0m\u001b[0m\n",
        "\u001b[0;32m/usr/local/Cellar/python/2.7.9/Frameworks/Python.framework/Versions/2.7/lib/python2.7/urllib2.pyc\u001b[0m in \u001b[0;36mopen\u001b[0;34m(self, fullurl, data, timeout)\u001b[0m\n\u001b[1;32m    429\u001b[0m             \u001b[0mreq\u001b[0m \u001b[0;34m=\u001b[0m \u001b[0mmeth\u001b[0m\u001b[0;34m(\u001b[0m\u001b[0mreq\u001b[0m\u001b[0;34m)\u001b[0m\u001b[0;34m\u001b[0m\u001b[0m\n\u001b[1;32m    430\u001b[0m \u001b[0;34m\u001b[0m\u001b[0m\n\u001b[0;32m--> 431\u001b[0;31m         \u001b[0mresponse\u001b[0m \u001b[0;34m=\u001b[0m \u001b[0mself\u001b[0m\u001b[0;34m.\u001b[0m\u001b[0m_open\u001b[0m\u001b[0;34m(\u001b[0m\u001b[0mreq\u001b[0m\u001b[0;34m,\u001b[0m \u001b[0mdata\u001b[0m\u001b[0;34m)\u001b[0m\u001b[0;34m\u001b[0m\u001b[0m\n\u001b[0m\u001b[1;32m    432\u001b[0m \u001b[0;34m\u001b[0m\u001b[0m\n\u001b[1;32m    433\u001b[0m         \u001b[0;31m# post-process response\u001b[0m\u001b[0;34m\u001b[0m\u001b[0;34m\u001b[0m\u001b[0m\n",
        "\u001b[0;32m/usr/local/Cellar/python/2.7.9/Frameworks/Python.framework/Versions/2.7/lib/python2.7/urllib2.pyc\u001b[0m in \u001b[0;36m_open\u001b[0;34m(self, req, data)\u001b[0m\n\u001b[1;32m    447\u001b[0m         \u001b[0mprotocol\u001b[0m \u001b[0;34m=\u001b[0m \u001b[0mreq\u001b[0m\u001b[0;34m.\u001b[0m\u001b[0mget_type\u001b[0m\u001b[0;34m(\u001b[0m\u001b[0;34m)\u001b[0m\u001b[0;34m\u001b[0m\u001b[0m\n\u001b[1;32m    448\u001b[0m         result = self._call_chain(self.handle_open, protocol, protocol +\n\u001b[0;32m--> 449\u001b[0;31m                                   '_open', req)\n\u001b[0m\u001b[1;32m    450\u001b[0m         \u001b[0;32mif\u001b[0m \u001b[0mresult\u001b[0m\u001b[0;34m:\u001b[0m\u001b[0;34m\u001b[0m\u001b[0m\n\u001b[1;32m    451\u001b[0m             \u001b[0;32mreturn\u001b[0m \u001b[0mresult\u001b[0m\u001b[0;34m\u001b[0m\u001b[0m\n",
        "\u001b[0;32m/usr/local/Cellar/python/2.7.9/Frameworks/Python.framework/Versions/2.7/lib/python2.7/urllib2.pyc\u001b[0m in \u001b[0;36m_call_chain\u001b[0;34m(self, chain, kind, meth_name, *args)\u001b[0m\n\u001b[1;32m    407\u001b[0m             \u001b[0mfunc\u001b[0m \u001b[0;34m=\u001b[0m \u001b[0mgetattr\u001b[0m\u001b[0;34m(\u001b[0m\u001b[0mhandler\u001b[0m\u001b[0;34m,\u001b[0m \u001b[0mmeth_name\u001b[0m\u001b[0;34m)\u001b[0m\u001b[0;34m\u001b[0m\u001b[0m\n\u001b[1;32m    408\u001b[0m \u001b[0;34m\u001b[0m\u001b[0m\n\u001b[0;32m--> 409\u001b[0;31m             \u001b[0mresult\u001b[0m \u001b[0;34m=\u001b[0m \u001b[0mfunc\u001b[0m\u001b[0;34m(\u001b[0m\u001b[0;34m*\u001b[0m\u001b[0margs\u001b[0m\u001b[0;34m)\u001b[0m\u001b[0;34m\u001b[0m\u001b[0m\n\u001b[0m\u001b[1;32m    410\u001b[0m             \u001b[0;32mif\u001b[0m \u001b[0mresult\u001b[0m \u001b[0;32mis\u001b[0m \u001b[0;32mnot\u001b[0m \u001b[0mNone\u001b[0m\u001b[0;34m:\u001b[0m\u001b[0;34m\u001b[0m\u001b[0m\n\u001b[1;32m    411\u001b[0m                 \u001b[0;32mreturn\u001b[0m \u001b[0mresult\u001b[0m\u001b[0;34m\u001b[0m\u001b[0m\n",
        "\u001b[0;32m/usr/local/Cellar/python/2.7.9/Frameworks/Python.framework/Versions/2.7/lib/python2.7/urllib2.pyc\u001b[0m in \u001b[0;36mhttps_open\u001b[0;34m(self, req)\u001b[0m\n\u001b[1;32m   1238\u001b[0m         \u001b[0;32mdef\u001b[0m \u001b[0mhttps_open\u001b[0m\u001b[0;34m(\u001b[0m\u001b[0mself\u001b[0m\u001b[0;34m,\u001b[0m \u001b[0mreq\u001b[0m\u001b[0;34m)\u001b[0m\u001b[0;34m:\u001b[0m\u001b[0;34m\u001b[0m\u001b[0m\n\u001b[1;32m   1239\u001b[0m             return self.do_open(httplib.HTTPSConnection, req,\n\u001b[0;32m-> 1240\u001b[0;31m                 context=self._context)\n\u001b[0m\u001b[1;32m   1241\u001b[0m \u001b[0;34m\u001b[0m\u001b[0m\n\u001b[1;32m   1242\u001b[0m         \u001b[0mhttps_request\u001b[0m \u001b[0;34m=\u001b[0m \u001b[0mAbstractHTTPHandler\u001b[0m\u001b[0;34m.\u001b[0m\u001b[0mdo_request_\u001b[0m\u001b[0;34m\u001b[0m\u001b[0m\n",
        "\u001b[0;32m/usr/local/Cellar/python/2.7.9/Frameworks/Python.framework/Versions/2.7/lib/python2.7/urllib2.pyc\u001b[0m in \u001b[0;36mdo_open\u001b[0;34m(self, http_class, req, **http_conn_args)\u001b[0m\n\u001b[1;32m   1195\u001b[0m         \u001b[0;32mexcept\u001b[0m \u001b[0msocket\u001b[0m\u001b[0;34m.\u001b[0m\u001b[0merror\u001b[0m\u001b[0;34m,\u001b[0m \u001b[0merr\u001b[0m\u001b[0;34m:\u001b[0m \u001b[0;31m# XXX what error?\u001b[0m\u001b[0;34m\u001b[0m\u001b[0m\n\u001b[1;32m   1196\u001b[0m             \u001b[0mh\u001b[0m\u001b[0;34m.\u001b[0m\u001b[0mclose\u001b[0m\u001b[0;34m(\u001b[0m\u001b[0;34m)\u001b[0m\u001b[0;34m\u001b[0m\u001b[0m\n\u001b[0;32m-> 1197\u001b[0;31m             \u001b[0;32mraise\u001b[0m \u001b[0mURLError\u001b[0m\u001b[0;34m(\u001b[0m\u001b[0merr\u001b[0m\u001b[0;34m)\u001b[0m\u001b[0;34m\u001b[0m\u001b[0m\n\u001b[0m\u001b[1;32m   1198\u001b[0m         \u001b[0;32melse\u001b[0m\u001b[0;34m:\u001b[0m\u001b[0;34m\u001b[0m\u001b[0m\n\u001b[1;32m   1199\u001b[0m             \u001b[0;32mtry\u001b[0m\u001b[0;34m:\u001b[0m\u001b[0;34m\u001b[0m\u001b[0m\n",
        "\u001b[0;31mURLError\u001b[0m: <urlopen error [Errno 65] No route to host>"
       ]
      }
     ],
     "prompt_number": 12
    },
    {
     "cell_type": "code",
     "collapsed": false,
     "input": [
      "subway_results = {}\n",
      "for city in Cities:\n",
      "    print city\n",
      "    sentiments = get_sentiment_in_city(Subway, city)\n",
      "    subway_results[city] = sentiments\n",
      "    analyze(sentiments)\n",
      "    print \"*\"*20"
     ],
     "language": "python",
     "metadata": {},
     "outputs": [
      {
       "output_type": "stream",
       "stream": "stdout",
       "text": [
        "Boston\n",
        "***\n",
        "* query = Boston MBTA, type = page\n",
        "* query = Boston MTA, type = page"
       ]
      },
      {
       "output_type": "stream",
       "stream": "stdout",
       "text": [
        "\n",
        "* query = Boston SFMTA, type = page"
       ]
      },
      {
       "output_type": "stream",
       "stream": "stdout",
       "text": [
        "\n",
        "* query = Boston subway, type = page"
       ]
      },
      {
       "output_type": "stream",
       "stream": "stdout",
       "text": [
        "\n",
        "* query = Boston train, type = page"
       ]
      },
      {
       "output_type": "stream",
       "stream": "stdout",
       "text": [
        "\n",
        "* query = Boston metro, type = page"
       ]
      },
      {
       "output_type": "stream",
       "stream": "stdout",
       "text": [
        "\n",
        "- There are 749 nodes"
       ]
      },
      {
       "output_type": "stream",
       "stream": "stdout",
       "text": [
        "\n",
        "0 "
       ]
      },
      {
       "output_type": "stream",
       "stream": "stdout",
       "text": [
        "10 "
       ]
      },
      {
       "output_type": "stream",
       "stream": "stdout",
       "text": [
        "20 "
       ]
      },
      {
       "output_type": "stream",
       "stream": "stdout",
       "text": [
        "30 40 "
       ]
      },
      {
       "output_type": "stream",
       "stream": "stdout",
       "text": [
        "50 "
       ]
      },
      {
       "output_type": "stream",
       "stream": "stdout",
       "text": [
        "60 "
       ]
      },
      {
       "output_type": "stream",
       "stream": "stdout",
       "text": [
        "70 "
       ]
      },
      {
       "output_type": "stream",
       "stream": "stdout",
       "text": [
        "80 "
       ]
      },
      {
       "output_type": "stream",
       "stream": "stdout",
       "text": [
        "90 "
       ]
      },
      {
       "output_type": "stream",
       "stream": "stdout",
       "text": [
        "100 "
       ]
      },
      {
       "output_type": "stream",
       "stream": "stdout",
       "text": [
        "110 "
       ]
      },
      {
       "output_type": "stream",
       "stream": "stdout",
       "text": [
        "120 "
       ]
      },
      {
       "output_type": "stream",
       "stream": "stdout",
       "text": [
        "130 "
       ]
      },
      {
       "output_type": "stream",
       "stream": "stdout",
       "text": [
        "140 "
       ]
      },
      {
       "output_type": "stream",
       "stream": "stdout",
       "text": [
        "150 "
       ]
      },
      {
       "output_type": "stream",
       "stream": "stdout",
       "text": [
        "160 "
       ]
      },
      {
       "output_type": "stream",
       "stream": "stdout",
       "text": [
        "170 "
       ]
      },
      {
       "output_type": "stream",
       "stream": "stdout",
       "text": [
        "180 "
       ]
      },
      {
       "output_type": "stream",
       "stream": "stdout",
       "text": [
        "190 "
       ]
      },
      {
       "output_type": "stream",
       "stream": "stdout",
       "text": [
        "200 "
       ]
      },
      {
       "output_type": "stream",
       "stream": "stdout",
       "text": [
        "210 "
       ]
      },
      {
       "output_type": "stream",
       "stream": "stdout",
       "text": [
        "220 "
       ]
      },
      {
       "output_type": "stream",
       "stream": "stdout",
       "text": [
        "230 "
       ]
      },
      {
       "output_type": "stream",
       "stream": "stdout",
       "text": [
        "240 "
       ]
      },
      {
       "output_type": "stream",
       "stream": "stdout",
       "text": [
        "250 "
       ]
      },
      {
       "output_type": "stream",
       "stream": "stdout",
       "text": [
        "260 "
       ]
      },
      {
       "output_type": "stream",
       "stream": "stdout",
       "text": [
        "270 "
       ]
      },
      {
       "output_type": "stream",
       "stream": "stdout",
       "text": [
        "280 "
       ]
      },
      {
       "output_type": "stream",
       "stream": "stdout",
       "text": [
        "290 "
       ]
      },
      {
       "output_type": "stream",
       "stream": "stdout",
       "text": [
        "300 "
       ]
      },
      {
       "output_type": "stream",
       "stream": "stdout",
       "text": [
        "310 "
       ]
      },
      {
       "output_type": "stream",
       "stream": "stdout",
       "text": [
        "320 "
       ]
      },
      {
       "output_type": "stream",
       "stream": "stdout",
       "text": [
        "330 "
       ]
      },
      {
       "output_type": "stream",
       "stream": "stdout",
       "text": [
        "340 "
       ]
      },
      {
       "output_type": "stream",
       "stream": "stdout",
       "text": [
        "350 "
       ]
      },
      {
       "output_type": "stream",
       "stream": "stdout",
       "text": [
        "360 "
       ]
      },
      {
       "output_type": "stream",
       "stream": "stdout",
       "text": [
        "370 "
       ]
      },
      {
       "output_type": "stream",
       "stream": "stdout",
       "text": [
        "380 "
       ]
      },
      {
       "output_type": "stream",
       "stream": "stdout",
       "text": [
        "390 "
       ]
      },
      {
       "output_type": "stream",
       "stream": "stdout",
       "text": [
        "400 "
       ]
      },
      {
       "output_type": "stream",
       "stream": "stdout",
       "text": [
        "410 "
       ]
      },
      {
       "output_type": "stream",
       "stream": "stdout",
       "text": [
        "420 "
       ]
      },
      {
       "output_type": "stream",
       "stream": "stdout",
       "text": [
        "430 "
       ]
      },
      {
       "output_type": "stream",
       "stream": "stdout",
       "text": [
        "440 "
       ]
      },
      {
       "output_type": "stream",
       "stream": "stdout",
       "text": [
        "450 "
       ]
      },
      {
       "output_type": "stream",
       "stream": "stdout",
       "text": [
        "460 "
       ]
      },
      {
       "output_type": "stream",
       "stream": "stdout",
       "text": [
        "470 "
       ]
      },
      {
       "output_type": "stream",
       "stream": "stdout",
       "text": [
        "480 "
       ]
      },
      {
       "output_type": "stream",
       "stream": "stdout",
       "text": [
        "490 "
       ]
      },
      {
       "output_type": "stream",
       "stream": "stdout",
       "text": [
        "500 "
       ]
      },
      {
       "output_type": "stream",
       "stream": "stdout",
       "text": [
        "510 "
       ]
      },
      {
       "output_type": "stream",
       "stream": "stdout",
       "text": [
        "520 "
       ]
      },
      {
       "output_type": "stream",
       "stream": "stdout",
       "text": [
        "530 "
       ]
      },
      {
       "output_type": "stream",
       "stream": "stdout",
       "text": [
        "540 "
       ]
      },
      {
       "output_type": "stream",
       "stream": "stdout",
       "text": [
        "550 "
       ]
      },
      {
       "output_type": "stream",
       "stream": "stdout",
       "text": [
        "560 "
       ]
      },
      {
       "output_type": "stream",
       "stream": "stdout",
       "text": [
        "570 "
       ]
      },
      {
       "output_type": "stream",
       "stream": "stdout",
       "text": [
        "580 "
       ]
      },
      {
       "output_type": "stream",
       "stream": "stdout",
       "text": [
        "590 "
       ]
      },
      {
       "output_type": "stream",
       "stream": "stdout",
       "text": [
        "600 "
       ]
      },
      {
       "output_type": "stream",
       "stream": "stdout",
       "text": [
        "610 "
       ]
      },
      {
       "output_type": "stream",
       "stream": "stdout",
       "text": [
        "620 "
       ]
      },
      {
       "output_type": "stream",
       "stream": "stdout",
       "text": [
        "630 "
       ]
      },
      {
       "output_type": "stream",
       "stream": "stdout",
       "text": [
        "640 "
       ]
      },
      {
       "output_type": "stream",
       "stream": "stdout",
       "text": [
        "650 "
       ]
      },
      {
       "output_type": "stream",
       "stream": "stdout",
       "text": [
        "660 "
       ]
      },
      {
       "output_type": "stream",
       "stream": "stdout",
       "text": [
        "670 "
       ]
      },
      {
       "output_type": "stream",
       "stream": "stdout",
       "text": [
        "680 "
       ]
      },
      {
       "output_type": "stream",
       "stream": "stdout",
       "text": [
        "690 "
       ]
      },
      {
       "output_type": "stream",
       "stream": "stdout",
       "text": [
        "700 "
       ]
      },
      {
       "output_type": "stream",
       "stream": "stdout",
       "text": [
        "710 "
       ]
      },
      {
       "output_type": "stream",
       "stream": "stdout",
       "text": [
        "720 "
       ]
      },
      {
       "output_type": "stream",
       "stream": "stdout",
       "text": [
        "730 "
       ]
      },
      {
       "output_type": "stream",
       "stream": "stdout",
       "text": [
        "740\n"
       ]
      },
      {
       "output_type": "stream",
       "stream": "stdout",
       "text": [
        "Filtered. Considered 557 nodes\n",
        "\n",
        "total =  1639.0000001\n",
        "neutral =  49.1\n",
        "positive =  45.1\n",
        "negative =  5.8\n",
        "********************\n",
        "New York\n",
        "***\n",
        "* query = New York MBTA, type = page\n",
        "* query = New York MTA, type = page"
       ]
      },
      {
       "output_type": "stream",
       "stream": "stdout",
       "text": [
        "\n",
        "* query = New York SFMTA, type = page"
       ]
      },
      {
       "output_type": "stream",
       "stream": "stdout",
       "text": [
        "\n",
        "* query = New York subway, type = page"
       ]
      },
      {
       "output_type": "stream",
       "stream": "stdout",
       "text": [
        "\n",
        "* query = New York train, type = page"
       ]
      },
      {
       "output_type": "stream",
       "stream": "stdout",
       "text": [
        "\n",
        "* query = New York metro, type = page"
       ]
      },
      {
       "output_type": "stream",
       "stream": "stdout",
       "text": [
        "\n",
        "- There are 1407 nodes"
       ]
      },
      {
       "output_type": "stream",
       "stream": "stdout",
       "text": [
        "\n",
        "0 "
       ]
      },
      {
       "output_type": "stream",
       "stream": "stdout",
       "text": [
        "10 "
       ]
      },
      {
       "output_type": "stream",
       "stream": "stdout",
       "text": [
        "20 "
       ]
      },
      {
       "output_type": "stream",
       "stream": "stdout",
       "text": [
        "30 "
       ]
      },
      {
       "output_type": "stream",
       "stream": "stdout",
       "text": [
        "40 "
       ]
      },
      {
       "output_type": "stream",
       "stream": "stdout",
       "text": [
        "50 "
       ]
      },
      {
       "output_type": "stream",
       "stream": "stdout",
       "text": [
        "60 "
       ]
      },
      {
       "output_type": "stream",
       "stream": "stdout",
       "text": [
        "70 "
       ]
      },
      {
       "output_type": "stream",
       "stream": "stdout",
       "text": [
        "80 "
       ]
      },
      {
       "output_type": "stream",
       "stream": "stdout",
       "text": [
        "90 "
       ]
      },
      {
       "output_type": "stream",
       "stream": "stdout",
       "text": [
        "100 "
       ]
      },
      {
       "output_type": "stream",
       "stream": "stdout",
       "text": [
        "110 "
       ]
      },
      {
       "output_type": "stream",
       "stream": "stdout",
       "text": [
        "120 "
       ]
      },
      {
       "output_type": "stream",
       "stream": "stdout",
       "text": [
        "130 "
       ]
      },
      {
       "output_type": "stream",
       "stream": "stdout",
       "text": [
        "140 "
       ]
      },
      {
       "output_type": "stream",
       "stream": "stdout",
       "text": [
        "150 "
       ]
      },
      {
       "output_type": "stream",
       "stream": "stdout",
       "text": [
        "160 "
       ]
      },
      {
       "output_type": "stream",
       "stream": "stdout",
       "text": [
        "170 "
       ]
      },
      {
       "output_type": "stream",
       "stream": "stdout",
       "text": [
        "180 "
       ]
      },
      {
       "output_type": "stream",
       "stream": "stdout",
       "text": [
        "190 "
       ]
      },
      {
       "output_type": "stream",
       "stream": "stdout",
       "text": [
        "200 "
       ]
      },
      {
       "output_type": "stream",
       "stream": "stdout",
       "text": [
        "210 "
       ]
      },
      {
       "output_type": "stream",
       "stream": "stdout",
       "text": [
        "220 "
       ]
      },
      {
       "output_type": "stream",
       "stream": "stdout",
       "text": [
        "230 "
       ]
      },
      {
       "output_type": "stream",
       "stream": "stdout",
       "text": [
        "240 "
       ]
      },
      {
       "output_type": "stream",
       "stream": "stdout",
       "text": [
        "250 "
       ]
      },
      {
       "output_type": "stream",
       "stream": "stdout",
       "text": [
        "260 "
       ]
      },
      {
       "output_type": "stream",
       "stream": "stdout",
       "text": [
        "270 "
       ]
      },
      {
       "output_type": "stream",
       "stream": "stdout",
       "text": [
        "280 "
       ]
      },
      {
       "output_type": "stream",
       "stream": "stdout",
       "text": [
        "290 "
       ]
      },
      {
       "output_type": "stream",
       "stream": "stdout",
       "text": [
        "300 "
       ]
      },
      {
       "output_type": "stream",
       "stream": "stdout",
       "text": [
        "310 "
       ]
      },
      {
       "output_type": "stream",
       "stream": "stdout",
       "text": [
        "320 "
       ]
      },
      {
       "output_type": "stream",
       "stream": "stdout",
       "text": [
        "330 "
       ]
      },
      {
       "output_type": "stream",
       "stream": "stdout",
       "text": [
        "340 "
       ]
      },
      {
       "output_type": "stream",
       "stream": "stdout",
       "text": [
        "350 "
       ]
      },
      {
       "output_type": "stream",
       "stream": "stdout",
       "text": [
        "360 "
       ]
      },
      {
       "output_type": "stream",
       "stream": "stdout",
       "text": [
        "370 "
       ]
      },
      {
       "output_type": "stream",
       "stream": "stdout",
       "text": [
        "380 "
       ]
      },
      {
       "output_type": "stream",
       "stream": "stdout",
       "text": [
        "390 "
       ]
      },
      {
       "output_type": "stream",
       "stream": "stdout",
       "text": [
        "400 "
       ]
      },
      {
       "output_type": "stream",
       "stream": "stdout",
       "text": [
        "410 "
       ]
      },
      {
       "output_type": "stream",
       "stream": "stdout",
       "text": [
        "420 "
       ]
      },
      {
       "output_type": "stream",
       "stream": "stdout",
       "text": [
        "430 "
       ]
      },
      {
       "output_type": "stream",
       "stream": "stdout",
       "text": [
        "440 "
       ]
      },
      {
       "output_type": "stream",
       "stream": "stdout",
       "text": [
        "450 "
       ]
      },
      {
       "output_type": "stream",
       "stream": "stdout",
       "text": [
        "460 "
       ]
      },
      {
       "output_type": "stream",
       "stream": "stdout",
       "text": [
        "470 "
       ]
      },
      {
       "output_type": "stream",
       "stream": "stdout",
       "text": [
        "480 "
       ]
      },
      {
       "output_type": "stream",
       "stream": "stdout",
       "text": [
        "490 "
       ]
      },
      {
       "output_type": "stream",
       "stream": "stdout",
       "text": [
        "500 "
       ]
      },
      {
       "output_type": "stream",
       "stream": "stdout",
       "text": [
        "510 "
       ]
      },
      {
       "output_type": "stream",
       "stream": "stdout",
       "text": [
        "520 "
       ]
      },
      {
       "output_type": "stream",
       "stream": "stdout",
       "text": [
        "530 "
       ]
      },
      {
       "output_type": "stream",
       "stream": "stdout",
       "text": [
        "540 "
       ]
      },
      {
       "output_type": "stream",
       "stream": "stdout",
       "text": [
        "550 "
       ]
      },
      {
       "output_type": "stream",
       "stream": "stdout",
       "text": [
        "560 "
       ]
      },
      {
       "output_type": "stream",
       "stream": "stdout",
       "text": [
        "570 "
       ]
      },
      {
       "output_type": "stream",
       "stream": "stdout",
       "text": [
        "580 "
       ]
      },
      {
       "output_type": "stream",
       "stream": "stdout",
       "text": [
        "590 "
       ]
      },
      {
       "output_type": "stream",
       "stream": "stdout",
       "text": [
        "600 "
       ]
      },
      {
       "output_type": "stream",
       "stream": "stdout",
       "text": [
        "610 "
       ]
      },
      {
       "output_type": "stream",
       "stream": "stdout",
       "text": [
        "620 "
       ]
      },
      {
       "output_type": "stream",
       "stream": "stdout",
       "text": [
        "630 "
       ]
      },
      {
       "output_type": "stream",
       "stream": "stdout",
       "text": [
        "640 "
       ]
      },
      {
       "output_type": "stream",
       "stream": "stdout",
       "text": [
        "650 "
       ]
      },
      {
       "output_type": "stream",
       "stream": "stdout",
       "text": [
        "660 "
       ]
      },
      {
       "output_type": "stream",
       "stream": "stdout",
       "text": [
        "670 "
       ]
      },
      {
       "output_type": "stream",
       "stream": "stdout",
       "text": [
        "680 "
       ]
      },
      {
       "output_type": "stream",
       "stream": "stdout",
       "text": [
        "690 "
       ]
      },
      {
       "output_type": "stream",
       "stream": "stdout",
       "text": [
        "700 "
       ]
      },
      {
       "output_type": "stream",
       "stream": "stdout",
       "text": [
        "710 "
       ]
      },
      {
       "output_type": "stream",
       "stream": "stdout",
       "text": [
        "720 "
       ]
      },
      {
       "output_type": "stream",
       "stream": "stdout",
       "text": [
        "730 "
       ]
      },
      {
       "output_type": "stream",
       "stream": "stdout",
       "text": [
        "740 "
       ]
      },
      {
       "output_type": "stream",
       "stream": "stdout",
       "text": [
        "750 "
       ]
      },
      {
       "output_type": "stream",
       "stream": "stdout",
       "text": [
        "760 "
       ]
      },
      {
       "output_type": "stream",
       "stream": "stdout",
       "text": [
        "770 "
       ]
      },
      {
       "output_type": "stream",
       "stream": "stdout",
       "text": [
        "780 "
       ]
      },
      {
       "output_type": "stream",
       "stream": "stdout",
       "text": [
        "790 "
       ]
      },
      {
       "output_type": "stream",
       "stream": "stdout",
       "text": [
        "800 "
       ]
      },
      {
       "output_type": "stream",
       "stream": "stdout",
       "text": [
        "810 "
       ]
      },
      {
       "output_type": "stream",
       "stream": "stdout",
       "text": [
        "820 "
       ]
      },
      {
       "output_type": "stream",
       "stream": "stdout",
       "text": [
        "830 "
       ]
      },
      {
       "output_type": "stream",
       "stream": "stdout",
       "text": [
        "840 "
       ]
      },
      {
       "output_type": "stream",
       "stream": "stdout",
       "text": [
        "850 "
       ]
      },
      {
       "output_type": "stream",
       "stream": "stdout",
       "text": [
        "860 "
       ]
      },
      {
       "output_type": "stream",
       "stream": "stdout",
       "text": [
        "870 "
       ]
      },
      {
       "output_type": "stream",
       "stream": "stdout",
       "text": [
        "880 "
       ]
      },
      {
       "output_type": "stream",
       "stream": "stdout",
       "text": [
        "890 "
       ]
      },
      {
       "output_type": "stream",
       "stream": "stdout",
       "text": [
        "900 "
       ]
      },
      {
       "output_type": "stream",
       "stream": "stdout",
       "text": [
        "910 "
       ]
      },
      {
       "output_type": "stream",
       "stream": "stdout",
       "text": [
        "920 "
       ]
      },
      {
       "output_type": "stream",
       "stream": "stdout",
       "text": [
        "930 "
       ]
      },
      {
       "output_type": "stream",
       "stream": "stdout",
       "text": [
        "940 "
       ]
      },
      {
       "output_type": "stream",
       "stream": "stdout",
       "text": [
        "950 "
       ]
      },
      {
       "output_type": "stream",
       "stream": "stdout",
       "text": [
        "960 "
       ]
      },
      {
       "output_type": "stream",
       "stream": "stdout",
       "text": [
        "970 "
       ]
      },
      {
       "output_type": "stream",
       "stream": "stdout",
       "text": [
        "980 "
       ]
      },
      {
       "output_type": "stream",
       "stream": "stdout",
       "text": [
        "990 "
       ]
      },
      {
       "output_type": "stream",
       "stream": "stdout",
       "text": [
        "1000 "
       ]
      },
      {
       "output_type": "stream",
       "stream": "stdout",
       "text": [
        "1010 "
       ]
      },
      {
       "output_type": "stream",
       "stream": "stdout",
       "text": [
        "1020 "
       ]
      },
      {
       "output_type": "stream",
       "stream": "stdout",
       "text": [
        "1030 "
       ]
      },
      {
       "output_type": "stream",
       "stream": "stdout",
       "text": [
        "1040 "
       ]
      },
      {
       "output_type": "stream",
       "stream": "stdout",
       "text": [
        "1050 "
       ]
      },
      {
       "output_type": "stream",
       "stream": "stdout",
       "text": [
        "1060 "
       ]
      },
      {
       "output_type": "stream",
       "stream": "stdout",
       "text": [
        "1070 "
       ]
      },
      {
       "output_type": "stream",
       "stream": "stdout",
       "text": [
        "1080 "
       ]
      },
      {
       "output_type": "stream",
       "stream": "stdout",
       "text": [
        "1090 "
       ]
      },
      {
       "output_type": "stream",
       "stream": "stdout",
       "text": [
        "1100 "
       ]
      },
      {
       "output_type": "stream",
       "stream": "stdout",
       "text": [
        "1110 "
       ]
      },
      {
       "output_type": "stream",
       "stream": "stdout",
       "text": [
        "1120 "
       ]
      },
      {
       "output_type": "stream",
       "stream": "stdout",
       "text": [
        "1130 "
       ]
      },
      {
       "output_type": "stream",
       "stream": "stdout",
       "text": [
        "1140 "
       ]
      },
      {
       "output_type": "stream",
       "stream": "stdout",
       "text": [
        "1150 "
       ]
      },
      {
       "output_type": "stream",
       "stream": "stdout",
       "text": [
        "1160 "
       ]
      },
      {
       "output_type": "stream",
       "stream": "stdout",
       "text": [
        "1170 "
       ]
      },
      {
       "output_type": "stream",
       "stream": "stdout",
       "text": [
        "1180 "
       ]
      },
      {
       "output_type": "stream",
       "stream": "stdout",
       "text": [
        "1190 "
       ]
      },
      {
       "output_type": "stream",
       "stream": "stdout",
       "text": [
        "1200 "
       ]
      },
      {
       "output_type": "stream",
       "stream": "stdout",
       "text": [
        "1210 "
       ]
      },
      {
       "output_type": "stream",
       "stream": "stdout",
       "text": [
        "1220 "
       ]
      },
      {
       "output_type": "stream",
       "stream": "stdout",
       "text": [
        "1230 "
       ]
      },
      {
       "output_type": "stream",
       "stream": "stdout",
       "text": [
        "1240 "
       ]
      },
      {
       "output_type": "stream",
       "stream": "stdout",
       "text": [
        "1250 "
       ]
      },
      {
       "output_type": "stream",
       "stream": "stdout",
       "text": [
        "1260 "
       ]
      },
      {
       "output_type": "stream",
       "stream": "stdout",
       "text": [
        "1270 "
       ]
      },
      {
       "output_type": "stream",
       "stream": "stdout",
       "text": [
        "1280 "
       ]
      },
      {
       "output_type": "stream",
       "stream": "stdout",
       "text": [
        "1290 "
       ]
      },
      {
       "output_type": "stream",
       "stream": "stdout",
       "text": [
        "1300 "
       ]
      },
      {
       "output_type": "stream",
       "stream": "stdout",
       "text": [
        "1310 "
       ]
      },
      {
       "output_type": "stream",
       "stream": "stdout",
       "text": [
        "1320 "
       ]
      },
      {
       "output_type": "stream",
       "stream": "stdout",
       "text": [
        "1330 "
       ]
      },
      {
       "output_type": "stream",
       "stream": "stdout",
       "text": [
        "1340 "
       ]
      },
      {
       "output_type": "stream",
       "stream": "stdout",
       "text": [
        "1350 "
       ]
      },
      {
       "output_type": "stream",
       "stream": "stdout",
       "text": [
        "1360 "
       ]
      },
      {
       "output_type": "stream",
       "stream": "stdout",
       "text": [
        "1370 "
       ]
      },
      {
       "output_type": "stream",
       "stream": "stdout",
       "text": [
        "1380 "
       ]
      },
      {
       "output_type": "stream",
       "stream": "stdout",
       "text": [
        "1390 "
       ]
      },
      {
       "output_type": "stream",
       "stream": "stdout",
       "text": [
        "1400\n"
       ]
      },
      {
       "output_type": "stream",
       "stream": "stdout",
       "text": [
        "Filtered. Considered 885 nodes\n",
        "\n",
        "total =  4805.0000001\n",
        "neutral =  49.9\n",
        "positive =  45.0\n",
        "negative =  5.1\n",
        "********************\n",
        "San Francisco\n",
        "***\n",
        "* query = San Francisco MBTA, type = page\n",
        "* query = San Francisco MTA, type = page"
       ]
      },
      {
       "output_type": "stream",
       "stream": "stdout",
       "text": [
        "\n",
        "* query = San Francisco SFMTA, type = page"
       ]
      },
      {
       "output_type": "stream",
       "stream": "stdout",
       "text": [
        "\n",
        "* query = San Francisco subway, type = page"
       ]
      },
      {
       "output_type": "stream",
       "stream": "stdout",
       "text": [
        "\n",
        "* query = San Francisco train, type = page"
       ]
      },
      {
       "output_type": "stream",
       "stream": "stdout",
       "text": [
        "\n",
        "* query = San Francisco metro, type = page"
       ]
      },
      {
       "output_type": "stream",
       "stream": "stdout",
       "text": [
        "\n",
        "- There are 543 nodes"
       ]
      },
      {
       "output_type": "stream",
       "stream": "stdout",
       "text": [
        "\n",
        "0 "
       ]
      },
      {
       "output_type": "stream",
       "stream": "stdout",
       "text": [
        "10 "
       ]
      },
      {
       "output_type": "stream",
       "stream": "stdout",
       "text": [
        "20 "
       ]
      },
      {
       "output_type": "stream",
       "stream": "stdout",
       "text": [
        "30 "
       ]
      },
      {
       "output_type": "stream",
       "stream": "stdout",
       "text": [
        "40 "
       ]
      },
      {
       "output_type": "stream",
       "stream": "stdout",
       "text": [
        "50 "
       ]
      },
      {
       "output_type": "stream",
       "stream": "stdout",
       "text": [
        "60 "
       ]
      },
      {
       "output_type": "stream",
       "stream": "stdout",
       "text": [
        "70 "
       ]
      },
      {
       "output_type": "stream",
       "stream": "stdout",
       "text": [
        "80 "
       ]
      },
      {
       "output_type": "stream",
       "stream": "stdout",
       "text": [
        "90 "
       ]
      },
      {
       "output_type": "stream",
       "stream": "stdout",
       "text": [
        "100 "
       ]
      },
      {
       "output_type": "stream",
       "stream": "stdout",
       "text": [
        "110 "
       ]
      },
      {
       "output_type": "stream",
       "stream": "stdout",
       "text": [
        "120 "
       ]
      },
      {
       "output_type": "stream",
       "stream": "stdout",
       "text": [
        "130 "
       ]
      },
      {
       "output_type": "stream",
       "stream": "stdout",
       "text": [
        "140 "
       ]
      },
      {
       "output_type": "stream",
       "stream": "stdout",
       "text": [
        "150 "
       ]
      },
      {
       "output_type": "stream",
       "stream": "stdout",
       "text": [
        "160 "
       ]
      },
      {
       "output_type": "stream",
       "stream": "stdout",
       "text": [
        "170 "
       ]
      },
      {
       "output_type": "stream",
       "stream": "stdout",
       "text": [
        "180 "
       ]
      },
      {
       "output_type": "stream",
       "stream": "stdout",
       "text": [
        "190 "
       ]
      },
      {
       "output_type": "stream",
       "stream": "stdout",
       "text": [
        "200 "
       ]
      },
      {
       "output_type": "stream",
       "stream": "stdout",
       "text": [
        "210 "
       ]
      },
      {
       "output_type": "stream",
       "stream": "stdout",
       "text": [
        "220 "
       ]
      },
      {
       "output_type": "stream",
       "stream": "stdout",
       "text": [
        "230 "
       ]
      },
      {
       "output_type": "stream",
       "stream": "stdout",
       "text": [
        "240 "
       ]
      },
      {
       "output_type": "stream",
       "stream": "stdout",
       "text": [
        "250 "
       ]
      },
      {
       "output_type": "stream",
       "stream": "stdout",
       "text": [
        "260 "
       ]
      },
      {
       "output_type": "stream",
       "stream": "stdout",
       "text": [
        "270 "
       ]
      },
      {
       "output_type": "stream",
       "stream": "stdout",
       "text": [
        "280 "
       ]
      },
      {
       "output_type": "stream",
       "stream": "stdout",
       "text": [
        "290 "
       ]
      },
      {
       "output_type": "stream",
       "stream": "stdout",
       "text": [
        "300 "
       ]
      },
      {
       "output_type": "stream",
       "stream": "stdout",
       "text": [
        "310 "
       ]
      },
      {
       "output_type": "stream",
       "stream": "stdout",
       "text": [
        "320 "
       ]
      },
      {
       "output_type": "stream",
       "stream": "stdout",
       "text": [
        "330 "
       ]
      },
      {
       "output_type": "stream",
       "stream": "stdout",
       "text": [
        "340 "
       ]
      },
      {
       "output_type": "stream",
       "stream": "stdout",
       "text": [
        "350 "
       ]
      },
      {
       "output_type": "stream",
       "stream": "stdout",
       "text": [
        "360 "
       ]
      },
      {
       "output_type": "stream",
       "stream": "stdout",
       "text": [
        "370 "
       ]
      },
      {
       "output_type": "stream",
       "stream": "stdout",
       "text": [
        "380 "
       ]
      },
      {
       "output_type": "stream",
       "stream": "stdout",
       "text": [
        "390 "
       ]
      },
      {
       "output_type": "stream",
       "stream": "stdout",
       "text": [
        "400 "
       ]
      },
      {
       "output_type": "stream",
       "stream": "stdout",
       "text": [
        "410 "
       ]
      },
      {
       "output_type": "stream",
       "stream": "stdout",
       "text": [
        "420 "
       ]
      },
      {
       "output_type": "stream",
       "stream": "stdout",
       "text": [
        "430 "
       ]
      },
      {
       "output_type": "stream",
       "stream": "stdout",
       "text": [
        "440 "
       ]
      },
      {
       "output_type": "stream",
       "stream": "stdout",
       "text": [
        "450 "
       ]
      },
      {
       "output_type": "stream",
       "stream": "stdout",
       "text": [
        "460 "
       ]
      },
      {
       "output_type": "stream",
       "stream": "stdout",
       "text": [
        "470 "
       ]
      },
      {
       "output_type": "stream",
       "stream": "stdout",
       "text": [
        "480 "
       ]
      },
      {
       "output_type": "stream",
       "stream": "stdout",
       "text": [
        "490 "
       ]
      },
      {
       "output_type": "stream",
       "stream": "stdout",
       "text": [
        "500 "
       ]
      },
      {
       "output_type": "stream",
       "stream": "stdout",
       "text": [
        "510 "
       ]
      },
      {
       "output_type": "stream",
       "stream": "stdout",
       "text": [
        "520 "
       ]
      },
      {
       "output_type": "stream",
       "stream": "stdout",
       "text": [
        "530 "
       ]
      },
      {
       "output_type": "stream",
       "stream": "stdout",
       "text": [
        "540\n"
       ]
      },
      {
       "output_type": "stream",
       "stream": "stdout",
       "text": [
        "Filtered. Considered 430 nodes\n",
        "\n",
        "total =  2358.0000001\n",
        "neutral =  68.6\n",
        "positive =  28.4\n",
        "negative =  3.0\n",
        "********************\n",
        "Detroit\n",
        "***\n",
        "* query = Detroit MBTA, type = page\n",
        "* query = Detroit MTA, type = page"
       ]
      },
      {
       "output_type": "stream",
       "stream": "stdout",
       "text": [
        "\n",
        "* query = Detroit SFMTA, type = page"
       ]
      },
      {
       "output_type": "stream",
       "stream": "stdout",
       "text": [
        "\n",
        "* query = Detroit subway, type = page"
       ]
      },
      {
       "output_type": "stream",
       "stream": "stdout",
       "text": [
        "\n",
        "* query = Detroit train, type = page"
       ]
      },
      {
       "output_type": "stream",
       "stream": "stdout",
       "text": [
        "\n",
        "* query = Detroit metro, type = page"
       ]
      },
      {
       "output_type": "stream",
       "stream": "stdout",
       "text": [
        "\n",
        "- There are 632 nodes"
       ]
      },
      {
       "output_type": "stream",
       "stream": "stdout",
       "text": [
        "\n",
        "0 "
       ]
      },
      {
       "output_type": "stream",
       "stream": "stdout",
       "text": [
        "10 "
       ]
      },
      {
       "output_type": "stream",
       "stream": "stdout",
       "text": [
        "20 "
       ]
      },
      {
       "output_type": "stream",
       "stream": "stdout",
       "text": [
        "30 "
       ]
      },
      {
       "output_type": "stream",
       "stream": "stdout",
       "text": [
        "40 "
       ]
      },
      {
       "output_type": "stream",
       "stream": "stdout",
       "text": [
        "50 "
       ]
      },
      {
       "output_type": "stream",
       "stream": "stdout",
       "text": [
        "60 "
       ]
      },
      {
       "output_type": "stream",
       "stream": "stdout",
       "text": [
        "70 "
       ]
      },
      {
       "output_type": "stream",
       "stream": "stdout",
       "text": [
        "80 "
       ]
      },
      {
       "output_type": "stream",
       "stream": "stdout",
       "text": [
        "90 "
       ]
      },
      {
       "output_type": "stream",
       "stream": "stdout",
       "text": [
        "100 "
       ]
      },
      {
       "output_type": "stream",
       "stream": "stdout",
       "text": [
        "110 "
       ]
      },
      {
       "output_type": "stream",
       "stream": "stdout",
       "text": [
        "120 "
       ]
      },
      {
       "output_type": "stream",
       "stream": "stdout",
       "text": [
        "130 "
       ]
      },
      {
       "output_type": "stream",
       "stream": "stdout",
       "text": [
        "140 "
       ]
      },
      {
       "output_type": "stream",
       "stream": "stdout",
       "text": [
        "150 "
       ]
      },
      {
       "output_type": "stream",
       "stream": "stdout",
       "text": [
        "160 "
       ]
      },
      {
       "output_type": "stream",
       "stream": "stdout",
       "text": [
        "170 "
       ]
      },
      {
       "output_type": "stream",
       "stream": "stdout",
       "text": [
        "180 "
       ]
      },
      {
       "output_type": "stream",
       "stream": "stdout",
       "text": [
        "190 "
       ]
      },
      {
       "output_type": "stream",
       "stream": "stdout",
       "text": [
        "200 "
       ]
      },
      {
       "output_type": "stream",
       "stream": "stdout",
       "text": [
        "210 "
       ]
      },
      {
       "output_type": "stream",
       "stream": "stdout",
       "text": [
        "220 "
       ]
      },
      {
       "output_type": "stream",
       "stream": "stdout",
       "text": [
        "230 "
       ]
      },
      {
       "output_type": "stream",
       "stream": "stdout",
       "text": [
        "240 "
       ]
      },
      {
       "output_type": "stream",
       "stream": "stdout",
       "text": [
        "250 "
       ]
      },
      {
       "output_type": "stream",
       "stream": "stdout",
       "text": [
        "260 "
       ]
      },
      {
       "output_type": "stream",
       "stream": "stdout",
       "text": [
        "270 "
       ]
      },
      {
       "output_type": "stream",
       "stream": "stdout",
       "text": [
        "280 "
       ]
      },
      {
       "output_type": "stream",
       "stream": "stdout",
       "text": [
        "290 "
       ]
      },
      {
       "output_type": "stream",
       "stream": "stdout",
       "text": [
        "300 "
       ]
      },
      {
       "output_type": "stream",
       "stream": "stdout",
       "text": [
        "310 "
       ]
      },
      {
       "output_type": "stream",
       "stream": "stdout",
       "text": [
        "320 "
       ]
      },
      {
       "output_type": "stream",
       "stream": "stdout",
       "text": [
        "330 "
       ]
      },
      {
       "output_type": "stream",
       "stream": "stdout",
       "text": [
        "340 "
       ]
      },
      {
       "output_type": "stream",
       "stream": "stdout",
       "text": [
        "350 "
       ]
      },
      {
       "output_type": "stream",
       "stream": "stdout",
       "text": [
        "360 "
       ]
      },
      {
       "output_type": "stream",
       "stream": "stdout",
       "text": [
        "370 "
       ]
      },
      {
       "output_type": "stream",
       "stream": "stdout",
       "text": [
        "380 "
       ]
      },
      {
       "output_type": "stream",
       "stream": "stdout",
       "text": [
        "390 "
       ]
      },
      {
       "output_type": "stream",
       "stream": "stdout",
       "text": [
        "400 "
       ]
      },
      {
       "output_type": "stream",
       "stream": "stdout",
       "text": [
        "410 "
       ]
      },
      {
       "output_type": "stream",
       "stream": "stdout",
       "text": [
        "420 "
       ]
      },
      {
       "output_type": "stream",
       "stream": "stdout",
       "text": [
        "430 "
       ]
      },
      {
       "output_type": "stream",
       "stream": "stdout",
       "text": [
        "440 "
       ]
      },
      {
       "output_type": "stream",
       "stream": "stdout",
       "text": [
        "450 "
       ]
      },
      {
       "output_type": "stream",
       "stream": "stdout",
       "text": [
        "460 "
       ]
      },
      {
       "output_type": "stream",
       "stream": "stdout",
       "text": [
        "470 "
       ]
      },
      {
       "output_type": "stream",
       "stream": "stdout",
       "text": [
        "480 "
       ]
      },
      {
       "output_type": "stream",
       "stream": "stdout",
       "text": [
        "490 "
       ]
      },
      {
       "output_type": "stream",
       "stream": "stdout",
       "text": [
        "500 "
       ]
      },
      {
       "output_type": "stream",
       "stream": "stdout",
       "text": [
        "510 "
       ]
      },
      {
       "output_type": "stream",
       "stream": "stdout",
       "text": [
        "520 "
       ]
      },
      {
       "output_type": "stream",
       "stream": "stdout",
       "text": [
        "530 "
       ]
      },
      {
       "output_type": "stream",
       "stream": "stdout",
       "text": [
        "540 "
       ]
      },
      {
       "output_type": "stream",
       "stream": "stdout",
       "text": [
        "550 "
       ]
      },
      {
       "output_type": "stream",
       "stream": "stdout",
       "text": [
        "560 "
       ]
      },
      {
       "output_type": "stream",
       "stream": "stdout",
       "text": [
        "570 "
       ]
      },
      {
       "output_type": "stream",
       "stream": "stdout",
       "text": [
        "580 "
       ]
      },
      {
       "output_type": "stream",
       "stream": "stdout",
       "text": [
        "590 "
       ]
      },
      {
       "output_type": "stream",
       "stream": "stdout",
       "text": [
        "600 "
       ]
      },
      {
       "output_type": "stream",
       "stream": "stdout",
       "text": [
        "610 "
       ]
      },
      {
       "output_type": "stream",
       "stream": "stdout",
       "text": [
        "620 "
       ]
      },
      {
       "output_type": "stream",
       "stream": "stdout",
       "text": [
        "630\n"
       ]
      },
      {
       "output_type": "stream",
       "stream": "stdout",
       "text": [
        "Filtered. Considered 473 nodes\n",
        "\n",
        "total =  2178.0000001\n",
        "neutral =  43.8\n",
        "positive =  50.8\n",
        "negative =  5.4\n",
        "********************\n",
        "Oklahoma City\n",
        "***\n",
        "* query = Oklahoma City MBTA, type = page\n",
        "* query = Oklahoma City MTA, type = page"
       ]
      },
      {
       "output_type": "stream",
       "stream": "stdout",
       "text": [
        "\n",
        "* query = Oklahoma City SFMTA, type = page"
       ]
      },
      {
       "output_type": "stream",
       "stream": "stdout",
       "text": [
        "\n",
        "* query = Oklahoma City subway, type = page"
       ]
      },
      {
       "output_type": "stream",
       "stream": "stdout",
       "text": [
        "\n",
        "* query = Oklahoma City train, type = page"
       ]
      },
      {
       "output_type": "stream",
       "stream": "stdout",
       "text": [
        "\n",
        "* query = Oklahoma City metro, type = page"
       ]
      },
      {
       "output_type": "stream",
       "stream": "stdout",
       "text": [
        "\n",
        "- There are 291 nodes"
       ]
      },
      {
       "output_type": "stream",
       "stream": "stdout",
       "text": [
        "\n",
        "0 "
       ]
      },
      {
       "output_type": "stream",
       "stream": "stdout",
       "text": [
        "10 "
       ]
      },
      {
       "output_type": "stream",
       "stream": "stdout",
       "text": [
        "20 "
       ]
      },
      {
       "output_type": "stream",
       "stream": "stdout",
       "text": [
        "30 "
       ]
      },
      {
       "output_type": "stream",
       "stream": "stdout",
       "text": [
        "40 "
       ]
      },
      {
       "output_type": "stream",
       "stream": "stdout",
       "text": [
        "50 "
       ]
      },
      {
       "output_type": "stream",
       "stream": "stdout",
       "text": [
        "60 "
       ]
      },
      {
       "output_type": "stream",
       "stream": "stdout",
       "text": [
        "70 "
       ]
      },
      {
       "output_type": "stream",
       "stream": "stdout",
       "text": [
        "80 "
       ]
      },
      {
       "output_type": "stream",
       "stream": "stdout",
       "text": [
        "90 "
       ]
      },
      {
       "output_type": "stream",
       "stream": "stdout",
       "text": [
        "100 "
       ]
      },
      {
       "output_type": "stream",
       "stream": "stdout",
       "text": [
        "110 "
       ]
      },
      {
       "output_type": "stream",
       "stream": "stdout",
       "text": [
        "120 "
       ]
      },
      {
       "output_type": "stream",
       "stream": "stdout",
       "text": [
        "130 "
       ]
      },
      {
       "output_type": "stream",
       "stream": "stdout",
       "text": [
        "140 "
       ]
      },
      {
       "output_type": "stream",
       "stream": "stdout",
       "text": [
        "150 "
       ]
      },
      {
       "output_type": "stream",
       "stream": "stdout",
       "text": [
        "160 "
       ]
      },
      {
       "output_type": "stream",
       "stream": "stdout",
       "text": [
        "170 "
       ]
      },
      {
       "output_type": "stream",
       "stream": "stdout",
       "text": [
        "180 "
       ]
      },
      {
       "output_type": "stream",
       "stream": "stdout",
       "text": [
        "190 "
       ]
      },
      {
       "output_type": "stream",
       "stream": "stdout",
       "text": [
        "200 "
       ]
      },
      {
       "output_type": "stream",
       "stream": "stdout",
       "text": [
        "210 "
       ]
      },
      {
       "output_type": "stream",
       "stream": "stdout",
       "text": [
        "220 "
       ]
      },
      {
       "output_type": "stream",
       "stream": "stdout",
       "text": [
        "230 "
       ]
      },
      {
       "output_type": "stream",
       "stream": "stdout",
       "text": [
        "240 "
       ]
      },
      {
       "output_type": "stream",
       "stream": "stdout",
       "text": [
        "250 "
       ]
      },
      {
       "output_type": "stream",
       "stream": "stdout",
       "text": [
        "260 "
       ]
      },
      {
       "output_type": "stream",
       "stream": "stdout",
       "text": [
        "270 "
       ]
      },
      {
       "output_type": "stream",
       "stream": "stdout",
       "text": [
        "280 "
       ]
      },
      {
       "output_type": "stream",
       "stream": "stdout",
       "text": [
        "290\n"
       ]
      },
      {
       "output_type": "stream",
       "stream": "stdout",
       "text": [
        "Filtered. Considered 270 nodes\n",
        "\n",
        "total =  1033.0000001\n",
        "neutral =  43.9\n",
        "positive =  51.6\n",
        "negative =  4.5\n",
        "********************\n"
       ]
      }
     ],
     "prompt_number": 31
    },
    {
     "cell_type": "code",
     "collapsed": false,
     "input": [],
     "language": "python",
     "metadata": {},
     "outputs": []
    },
    {
     "cell_type": "code",
     "collapsed": false,
     "input": [
      "bike_results = {}\n",
      "for city in Cities:\n",
      "    print city\n",
      "    sentiments = get_sentiment_in_city(Biking, city)\n",
      "    bike_results[city] = sentiments\n",
      "    analyze(sentiments)\n",
      "# Result: http://nces.ed.gov/nceskids/createagraph/default.aspx?ID=dead912691b84abebd07e0c5d7fe41e8"
     ],
     "language": "python",
     "metadata": {},
     "outputs": [
      {
       "output_type": "stream",
       "stream": "stdout",
       "text": [
        "Boston\n",
        "***\n",
        "* query = Boston Biking, type = page\n",
        "* query = Boston hubway, type = page"
       ]
      },
      {
       "output_type": "stream",
       "stream": "stdout",
       "text": [
        "\n",
        "* query = Boston citybike, type = page"
       ]
      },
      {
       "output_type": "stream",
       "stream": "stdout",
       "text": [
        "\n",
        "* query = Boston Bike, type = page"
       ]
      },
      {
       "output_type": "stream",
       "stream": "stdout",
       "text": [
        "\n",
        "- There are 102 nodes"
       ]
      },
      {
       "output_type": "stream",
       "stream": "stdout",
       "text": [
        "\n",
        "0 "
       ]
      },
      {
       "output_type": "stream",
       "stream": "stdout",
       "text": [
        "10 "
       ]
      },
      {
       "output_type": "stream",
       "stream": "stdout",
       "text": [
        "20 "
       ]
      },
      {
       "output_type": "stream",
       "stream": "stdout",
       "text": [
        "30 "
       ]
      },
      {
       "output_type": "stream",
       "stream": "stdout",
       "text": [
        "40 "
       ]
      },
      {
       "output_type": "stream",
       "stream": "stdout",
       "text": [
        "50 "
       ]
      },
      {
       "output_type": "stream",
       "stream": "stdout",
       "text": [
        "60 "
       ]
      },
      {
       "output_type": "stream",
       "stream": "stdout",
       "text": [
        "70 "
       ]
      },
      {
       "output_type": "stream",
       "stream": "stdout",
       "text": [
        "80 "
       ]
      },
      {
       "output_type": "stream",
       "stream": "stdout",
       "text": [
        "90 "
       ]
      },
      {
       "output_type": "stream",
       "stream": "stdout",
       "text": [
        "100\n"
       ]
      },
      {
       "output_type": "stream",
       "stream": "stdout",
       "text": [
        "Filtered. Considered 81 nodes\n",
        "\n",
        "total =  391.0000001\n",
        "neutral =  49.6\n",
        "positive =  43.7\n",
        "negative =  6.6\n",
        "New York\n",
        "***\n",
        "* query = New York Biking, type = page\n",
        "* query = New York hubway, type = page"
       ]
      },
      {
       "output_type": "stream",
       "stream": "stdout",
       "text": [
        "\n",
        "* query = New York citybike, type = page"
       ]
      },
      {
       "output_type": "stream",
       "stream": "stdout",
       "text": [
        "\n",
        "* query = New York Bike, type = page"
       ]
      },
      {
       "output_type": "stream",
       "stream": "stdout",
       "text": [
        "\n",
        "- There are 217 nodes"
       ]
      },
      {
       "output_type": "stream",
       "stream": "stdout",
       "text": [
        "\n",
        "0 "
       ]
      },
      {
       "output_type": "stream",
       "stream": "stdout",
       "text": [
        "10 "
       ]
      },
      {
       "output_type": "stream",
       "stream": "stdout",
       "text": [
        "20 "
       ]
      },
      {
       "output_type": "stream",
       "stream": "stdout",
       "text": [
        "30 "
       ]
      },
      {
       "output_type": "stream",
       "stream": "stdout",
       "text": [
        "40 "
       ]
      },
      {
       "output_type": "stream",
       "stream": "stdout",
       "text": [
        "50 "
       ]
      },
      {
       "output_type": "stream",
       "stream": "stdout",
       "text": [
        "60 "
       ]
      },
      {
       "output_type": "stream",
       "stream": "stdout",
       "text": [
        "70 "
       ]
      },
      {
       "output_type": "stream",
       "stream": "stdout",
       "text": [
        "80 "
       ]
      },
      {
       "output_type": "stream",
       "stream": "stdout",
       "text": [
        "90 "
       ]
      },
      {
       "output_type": "stream",
       "stream": "stdout",
       "text": [
        "100 "
       ]
      },
      {
       "output_type": "stream",
       "stream": "stdout",
       "text": [
        "110 "
       ]
      },
      {
       "output_type": "stream",
       "stream": "stdout",
       "text": [
        "120 "
       ]
      },
      {
       "output_type": "stream",
       "stream": "stdout",
       "text": [
        "130 "
       ]
      },
      {
       "output_type": "stream",
       "stream": "stdout",
       "text": [
        "140 "
       ]
      },
      {
       "output_type": "stream",
       "stream": "stdout",
       "text": [
        "150 "
       ]
      },
      {
       "output_type": "stream",
       "stream": "stdout",
       "text": [
        "160 "
       ]
      },
      {
       "output_type": "stream",
       "stream": "stdout",
       "text": [
        "170 "
       ]
      },
      {
       "output_type": "stream",
       "stream": "stdout",
       "text": [
        "180 "
       ]
      },
      {
       "output_type": "stream",
       "stream": "stdout",
       "text": [
        "190 "
       ]
      },
      {
       "output_type": "stream",
       "stream": "stdout",
       "text": [
        "200 "
       ]
      },
      {
       "output_type": "stream",
       "stream": "stdout",
       "text": [
        "210\n"
       ]
      },
      {
       "output_type": "stream",
       "stream": "stdout",
       "text": [
        "Filtered. Considered 193 nodes\n",
        "\n",
        "total =  1916.0000001\n",
        "neutral =  52.5\n",
        "positive =  40.3\n",
        "negative =  7.2\n",
        "San Francisco\n",
        "***\n",
        "* query = San Francisco Biking, type = page\n",
        "* query = San Francisco hubway, type = page"
       ]
      },
      {
       "output_type": "stream",
       "stream": "stdout",
       "text": [
        "\n",
        "* query = San Francisco citybike, type = page"
       ]
      },
      {
       "output_type": "stream",
       "stream": "stdout",
       "text": [
        "\n",
        "* query = San Francisco Bike, type = page"
       ]
      },
      {
       "output_type": "stream",
       "stream": "stdout",
       "text": [
        "\n",
        "- There are 142 nodes"
       ]
      },
      {
       "output_type": "stream",
       "stream": "stdout",
       "text": [
        "\n",
        "0 "
       ]
      },
      {
       "output_type": "stream",
       "stream": "stdout",
       "text": [
        "10 "
       ]
      },
      {
       "output_type": "stream",
       "stream": "stdout",
       "text": [
        "20 "
       ]
      },
      {
       "output_type": "stream",
       "stream": "stdout",
       "text": [
        "30 "
       ]
      },
      {
       "output_type": "stream",
       "stream": "stdout",
       "text": [
        "40 "
       ]
      },
      {
       "output_type": "stream",
       "stream": "stdout",
       "text": [
        "50 "
       ]
      },
      {
       "output_type": "stream",
       "stream": "stdout",
       "text": [
        "60 "
       ]
      },
      {
       "output_type": "stream",
       "stream": "stdout",
       "text": [
        "70 "
       ]
      },
      {
       "output_type": "stream",
       "stream": "stdout",
       "text": [
        "80 "
       ]
      },
      {
       "output_type": "stream",
       "stream": "stdout",
       "text": [
        "90 "
       ]
      },
      {
       "output_type": "stream",
       "stream": "stdout",
       "text": [
        "100 "
       ]
      },
      {
       "output_type": "stream",
       "stream": "stdout",
       "text": [
        "110 "
       ]
      },
      {
       "output_type": "stream",
       "stream": "stdout",
       "text": [
        "120 "
       ]
      },
      {
       "output_type": "stream",
       "stream": "stdout",
       "text": [
        "130 "
       ]
      },
      {
       "output_type": "stream",
       "stream": "stdout",
       "text": [
        "140\n"
       ]
      },
      {
       "output_type": "stream",
       "stream": "stdout",
       "text": [
        "Filtered. Considered 132 nodes\n",
        "\n",
        "total =  583.0000001\n",
        "neutral =  65.7\n",
        "positive =  30.0\n",
        "negative =  4.3\n",
        "Detroit\n",
        "***\n",
        "* query = Detroit Biking, type = page\n",
        "* query = Detroit hubway, type = page"
       ]
      },
      {
       "output_type": "stream",
       "stream": "stdout",
       "text": [
        "\n",
        "* query = Detroit citybike, type = page"
       ]
      },
      {
       "output_type": "stream",
       "stream": "stdout",
       "text": [
        "\n",
        "* query = Detroit Bike, type = page"
       ]
      },
      {
       "output_type": "stream",
       "stream": "stdout",
       "text": [
        "\n",
        "- There are 76 nodes"
       ]
      },
      {
       "output_type": "stream",
       "stream": "stdout",
       "text": [
        "\n",
        "0 "
       ]
      },
      {
       "output_type": "stream",
       "stream": "stdout",
       "text": [
        "10 "
       ]
      },
      {
       "output_type": "stream",
       "stream": "stdout",
       "text": [
        "20 "
       ]
      },
      {
       "output_type": "stream",
       "stream": "stdout",
       "text": [
        "30 "
       ]
      },
      {
       "output_type": "stream",
       "stream": "stdout",
       "text": [
        "40 "
       ]
      },
      {
       "output_type": "stream",
       "stream": "stdout",
       "text": [
        "50 "
       ]
      },
      {
       "output_type": "stream",
       "stream": "stdout",
       "text": [
        "60 "
       ]
      },
      {
       "output_type": "stream",
       "stream": "stdout",
       "text": [
        "70\n"
       ]
      },
      {
       "output_type": "stream",
       "stream": "stdout",
       "text": [
        "Filtered. Considered 61 nodes\n",
        "\n",
        "total =  241.0000001\n",
        "neutral =  44.8\n",
        "positive =  49.4\n",
        "negative =  5.8\n",
        "Oklahoma City\n",
        "***\n",
        "* query = Oklahoma City Biking, type = page\n",
        "* query = Oklahoma City hubway, type = page"
       ]
      },
      {
       "output_type": "stream",
       "stream": "stdout",
       "text": [
        "\n",
        "* query = Oklahoma City citybike, type = page"
       ]
      },
      {
       "output_type": "stream",
       "stream": "stdout",
       "text": [
        "\n",
        "* query = Oklahoma City Bike, type = page"
       ]
      },
      {
       "output_type": "stream",
       "stream": "stdout",
       "text": [
        "\n",
        "- There are 72 nodes"
       ]
      },
      {
       "output_type": "stream",
       "stream": "stdout",
       "text": [
        "\n",
        "0 "
       ]
      },
      {
       "output_type": "stream",
       "stream": "stdout",
       "text": [
        "10 "
       ]
      },
      {
       "output_type": "stream",
       "stream": "stdout",
       "text": [
        "20 "
       ]
      },
      {
       "output_type": "stream",
       "stream": "stdout",
       "text": [
        "30 "
       ]
      },
      {
       "output_type": "stream",
       "stream": "stdout",
       "text": [
        "40 "
       ]
      },
      {
       "output_type": "stream",
       "stream": "stdout",
       "text": [
        "50 "
       ]
      },
      {
       "output_type": "stream",
       "stream": "stdout",
       "text": [
        "60 "
       ]
      },
      {
       "output_type": "stream",
       "stream": "stdout",
       "text": [
        "70\n"
       ]
      },
      {
       "output_type": "stream",
       "stream": "stdout",
       "text": [
        "Filtered. Considered 69 nodes\n",
        "\n",
        "total =  268.0000001\n",
        "neutral =  53.0\n",
        "positive =  43.3\n",
        "negative =  3.7\n"
       ]
      }
     ],
     "prompt_number": 23
    },
    {
     "cell_type": "code",
     "collapsed": false,
     "input": [
      "walking_results = {}\n",
      "for city in Cities:\n",
      "    print city\n",
      "    sentiments = get_sentiment_in_city(Walking, city)\n",
      "    walking_results[city] = sentiments\n",
      "    analyze(sentiments)"
     ],
     "language": "python",
     "metadata": {},
     "outputs": [
      {
       "output_type": "stream",
       "stream": "stdout",
       "text": [
        "Boston\n",
        "***\n",
        "* query = Boston Walking, type = page\n",
        "- There are 90 nodes"
       ]
      },
      {
       "output_type": "stream",
       "stream": "stdout",
       "text": [
        "\n",
        "0 "
       ]
      },
      {
       "output_type": "stream",
       "stream": "stdout",
       "text": [
        "10 "
       ]
      },
      {
       "output_type": "stream",
       "stream": "stdout",
       "text": [
        "20 "
       ]
      },
      {
       "output_type": "stream",
       "stream": "stdout",
       "text": [
        "30 "
       ]
      },
      {
       "output_type": "stream",
       "stream": "stdout",
       "text": [
        "40 "
       ]
      },
      {
       "output_type": "stream",
       "stream": "stdout",
       "text": [
        "50 "
       ]
      },
      {
       "output_type": "stream",
       "stream": "stdout",
       "text": [
        "60 "
       ]
      },
      {
       "output_type": "stream",
       "stream": "stdout",
       "text": [
        "70 "
       ]
      },
      {
       "output_type": "stream",
       "stream": "stdout",
       "text": [
        "80\n"
       ]
      },
      {
       "output_type": "stream",
       "stream": "stdout",
       "text": [
        "Filtered. Considered 54 nodes\n",
        "\n",
        "total =  284.0001\n",
        "neutral =  39.4\n",
        "positive =  55.6\n",
        "negative =  4.9\n",
        "New York\n",
        "***\n",
        "* query = New York Walking, type = page\n",
        "- There are 156 nodes"
       ]
      },
      {
       "output_type": "stream",
       "stream": "stdout",
       "text": [
        "\n",
        "0 "
       ]
      },
      {
       "output_type": "stream",
       "stream": "stdout",
       "text": [
        "10 "
       ]
      },
      {
       "output_type": "stream",
       "stream": "stdout",
       "text": [
        "20 "
       ]
      },
      {
       "output_type": "stream",
       "stream": "stdout",
       "text": [
        "30 "
       ]
      },
      {
       "output_type": "stream",
       "stream": "stdout",
       "text": [
        "40 "
       ]
      },
      {
       "output_type": "stream",
       "stream": "stdout",
       "text": [
        "50 "
       ]
      },
      {
       "output_type": "stream",
       "stream": "stdout",
       "text": [
        "60 "
       ]
      },
      {
       "output_type": "stream",
       "stream": "stdout",
       "text": [
        "70 "
       ]
      },
      {
       "output_type": "stream",
       "stream": "stdout",
       "text": [
        "80 "
       ]
      },
      {
       "output_type": "stream",
       "stream": "stdout",
       "text": [
        "90 "
       ]
      },
      {
       "output_type": "stream",
       "stream": "stdout",
       "text": [
        "100 "
       ]
      },
      {
       "output_type": "stream",
       "stream": "stdout",
       "text": [
        "110 "
       ]
      },
      {
       "output_type": "stream",
       "stream": "stdout",
       "text": [
        "120 "
       ]
      },
      {
       "output_type": "stream",
       "stream": "stdout",
       "text": [
        "130 "
       ]
      },
      {
       "output_type": "stream",
       "stream": "stdout",
       "text": [
        "140 "
       ]
      },
      {
       "output_type": "stream",
       "stream": "stdout",
       "text": [
        "150\n"
       ]
      },
      {
       "output_type": "stream",
       "stream": "stdout",
       "text": [
        "Filtered. Considered 112 nodes\n",
        "\n",
        "total =  1539.0001\n",
        "neutral =  51.7\n",
        "positive =  39.6\n",
        "negative =  8.7\n",
        "San Francisco\n",
        "***\n",
        "* query = San Francisco Walking, type = page\n",
        "- There are 118 nodes"
       ]
      },
      {
       "output_type": "stream",
       "stream": "stdout",
       "text": [
        "\n",
        "0 "
       ]
      },
      {
       "output_type": "stream",
       "stream": "stdout",
       "text": [
        "10 "
       ]
      },
      {
       "output_type": "stream",
       "stream": "stdout",
       "text": [
        "20 "
       ]
      },
      {
       "output_type": "stream",
       "stream": "stdout",
       "text": [
        "30 "
       ]
      },
      {
       "output_type": "stream",
       "stream": "stdout",
       "text": [
        "40 "
       ]
      },
      {
       "output_type": "stream",
       "stream": "stdout",
       "text": [
        "50 "
       ]
      },
      {
       "output_type": "stream",
       "stream": "stdout",
       "text": [
        "60 "
       ]
      },
      {
       "output_type": "stream",
       "stream": "stdout",
       "text": [
        "70 "
       ]
      },
      {
       "output_type": "stream",
       "stream": "stdout",
       "text": [
        "80 "
       ]
      },
      {
       "output_type": "stream",
       "stream": "stdout",
       "text": [
        "90 "
       ]
      },
      {
       "output_type": "stream",
       "stream": "stdout",
       "text": [
        "100 "
       ]
      },
      {
       "output_type": "stream",
       "stream": "stdout",
       "text": [
        "110\n"
       ]
      },
      {
       "output_type": "stream",
       "stream": "stdout",
       "text": [
        "Filtered. Considered 96 nodes\n",
        "\n",
        "total =  504.0001\n",
        "neutral =  44.6\n",
        "positive =  51.0\n",
        "negative =  4.4\n",
        "Detroit\n",
        "***\n",
        "* query = Detroit Walking, type = page\n",
        "- There are 54 nodes"
       ]
      },
      {
       "output_type": "stream",
       "stream": "stdout",
       "text": [
        "\n",
        "0 "
       ]
      },
      {
       "output_type": "stream",
       "stream": "stdout",
       "text": [
        "10 "
       ]
      },
      {
       "output_type": "stream",
       "stream": "stdout",
       "text": [
        "20 "
       ]
      },
      {
       "output_type": "stream",
       "stream": "stdout",
       "text": [
        "30 "
       ]
      },
      {
       "output_type": "stream",
       "stream": "stdout",
       "text": [
        "40 "
       ]
      },
      {
       "output_type": "stream",
       "stream": "stdout",
       "text": [
        "50\n"
       ]
      },
      {
       "output_type": "stream",
       "stream": "stdout",
       "text": [
        "Filtered. Considered 35 nodes\n",
        "\n",
        "total =  109.0001\n",
        "neutral =  45.9\n",
        "positive =  49.5\n",
        "negative =  4.6\n",
        "Oklahoma City\n",
        "***\n",
        "* query = Oklahoma City Walking, type = page\n",
        "- There are 44 nodes"
       ]
      },
      {
       "output_type": "stream",
       "stream": "stdout",
       "text": [
        "\n",
        "0 "
       ]
      },
      {
       "output_type": "stream",
       "stream": "stdout",
       "text": [
        "10 "
       ]
      },
      {
       "output_type": "stream",
       "stream": "stdout",
       "text": [
        "20 "
       ]
      },
      {
       "output_type": "stream",
       "stream": "stdout",
       "text": [
        "30 "
       ]
      },
      {
       "output_type": "stream",
       "stream": "stdout",
       "text": [
        "40\n"
       ]
      },
      {
       "output_type": "stream",
       "stream": "stdout",
       "text": [
        "Filtered. Considered 38 nodes\n",
        "\n",
        "total =  188.0001\n",
        "neutral =  56.4\n",
        "positive =  33.0\n",
        "negative =  10.6\n"
       ]
      }
     ],
     "prompt_number": 9
    },
    {
     "cell_type": "code",
     "collapsed": false,
     "input": [
      "s = walking_results['Oklahoma City']\n",
      "scores = np.array([float(t[2]) for t in s])\n",
      "\n",
      "plt.hist(scores, bins=np.linspace(-1, 1, 6))\n",
      "plt.title(\"Gaussian Histogram\")\n",
      "plt.xlabel(\"Value\")\n",
      "plt.ylabel(\"Frequency\")\n",
      "plt.show()"
     ],
     "language": "python",
     "metadata": {},
     "outputs": [],
     "prompt_number": 47
    },
    {
     "cell_type": "code",
     "collapsed": false,
     "input": [
      "print walking_results.keys()"
     ],
     "language": "python",
     "metadata": {},
     "outputs": [
      {
       "output_type": "stream",
       "stream": "stdout",
       "text": [
        "['Boston', 'Oklahoma City', 'New York', 'Detroit', 'San Francisco']\n"
       ]
      }
     ],
     "prompt_number": 35
    },
    {
     "cell_type": "code",
     "collapsed": false,
     "input": [],
     "language": "python",
     "metadata": {},
     "outputs": [],
     "prompt_number": 33
    },
    {
     "cell_type": "code",
     "collapsed": false,
     "input": [],
     "language": "python",
     "metadata": {},
     "outputs": [],
     "prompt_number": 30
    },
    {
     "cell_type": "code",
     "collapsed": false,
     "input": [],
     "language": "python",
     "metadata": {},
     "outputs": [],
     "prompt_number": 13
    },
    {
     "cell_type": "code",
     "collapsed": false,
     "input": [],
     "language": "python",
     "metadata": {},
     "outputs": [],
     "prompt_number": 37
    },
    {
     "cell_type": "code",
     "collapsed": false,
     "input": [],
     "language": "python",
     "metadata": {},
     "outputs": [],
     "prompt_number": 13
    },
    {
     "cell_type": "code",
     "collapsed": false,
     "input": [],
     "language": "python",
     "metadata": {},
     "outputs": []
    }
   ],
   "metadata": {}
  }
 ]
}