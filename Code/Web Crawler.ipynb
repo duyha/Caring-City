{
 "metadata": {
  "name": "",
  "signature": "sha256:b64e633f9d36bee6919eda015c17d3a20aae447b562177d8ec64dc4bc9358a78"
 },
 "nbformat": 3,
 "nbformat_minor": 0,
 "worksheets": [
  {
   "cells": [
    {
     "cell_type": "code",
     "collapsed": false,
     "input": [
      "import urllib2\n",
      "import HTMLParser\n",
      "import newspaper"
     ],
     "language": "python",
     "metadata": {},
     "outputs": [],
     "prompt_number": 10
    },
    {
     "cell_type": "code",
     "collapsed": false,
     "input": [
      "response = urllib2.urlopen('http://time.com/3643558/saudi-arabia-gas-prices-opec/')\n",
      "html = response.read()\n",
      "response.close()"
     ],
     "language": "python",
     "metadata": {},
     "outputs": [],
     "prompt_number": 5
    },
    {
     "cell_type": "code",
     "collapsed": false,
     "input": [
      "parser = HTMLParser.HTMLParser()\n",
      "s = parser.feed(html)\n",
      "parser.close()"
     ],
     "language": "python",
     "metadata": {},
     "outputs": [],
     "prompt_number": 11
    },
    {
     "cell_type": "code",
     "collapsed": false,
     "input": [
      "cnn_paper = newspaper.build('http://time.com/money/3642890/new-airline-brings-business-class-comfort-to-the-back-of-the-plane/')"
     ],
     "language": "python",
     "metadata": {},
     "outputs": [],
     "prompt_number": 12
    },
    {
     "cell_type": "code",
     "collapsed": false,
     "input": [
      "print len(cnn_paper.articles)\n",
      "print len(cnn_paper.categories)"
     ],
     "language": "python",
     "metadata": {},
     "outputs": [
      {
       "output_type": "stream",
       "stream": "stdout",
       "text": [
        "35\n",
        "3\n"
       ]
      }
     ],
     "prompt_number": 13
    },
    {
     "cell_type": "code",
     "collapsed": false,
     "input": [
      "article = cnn_paper.articles[0]\n",
      "article.download()"
     ],
     "language": "python",
     "metadata": {},
     "outputs": [],
     "prompt_number": 14
    },
    {
     "cell_type": "code",
     "collapsed": false,
     "input": [
      "article.parse()"
     ],
     "language": "python",
     "metadata": {},
     "outputs": [],
     "prompt_number": 15
    },
    {
     "cell_type": "code",
     "collapsed": false,
     "input": [
      "print \"** Authors **\"\n",
      "print article.authors\n",
      "print article.url\n",
      "print \"** Text **\"\n",
      "print article.text\n",
      "print \n",
      "print article.summary\n",
      "print article.title"
     ],
     "language": "python",
     "metadata": {},
     "outputs": [
      {
       "output_type": "stream",
       "stream": "stdout",
       "text": [
        "** Authors **\n",
        "[]\n",
        "http://time.com/money/3656360/strong-us-dollar-cheap-travel-abroad/\n",
        "** Text **\n",
        "Your browser, Internet Explorer 8 or below, is out of date. It has known security flaws and may not display all features of this and other websites.\n",
        "\n",
        "\n",
        "Stronger U.S. Dollar Makes For Cheaper Travel Abroad\n"
       ]
      }
     ],
     "prompt_number": 16
    },
    {
     "cell_type": "code",
     "collapsed": false,
     "input": [],
     "language": "python",
     "metadata": {},
     "outputs": []
    }
   ],
   "metadata": {}
  }
 ]
}