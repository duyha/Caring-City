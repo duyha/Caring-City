{
 "metadata": {
  "name": ""
 },
 "nbformat": 3,
 "nbformat_minor": 0,
 "worksheets": [
  {
   "cells": [
    {
     "cell_type": "code",
     "collapsed": false,
     "input": [
      "import urllib2\n",
      "from HTMLParser import HTMLParser\n",
      "from urlparse import urlparse, urlunparse\n",
      "import newspaper"
     ],
     "language": "python",
     "metadata": {},
     "outputs": [],
     "prompt_number": 117
    },
    {
     "cell_type": "code",
     "collapsed": false,
     "input": [
      "response = urllib2.urlopen('http://time.com/3643558/saudi-arabia-gas-prices-opec/')\n",
      "html = response.read()\n",
      "response.close()"
     ],
     "language": "python",
     "metadata": {},
     "outputs": [],
     "prompt_number": 175
    },
    {
     "cell_type": "code",
     "collapsed": false,
     "input": [
      "parser = HTMLParser()\n",
      "s = parser.feed(html)\n",
      "parser.close()"
     ],
     "language": "python",
     "metadata": {},
     "outputs": [],
     "prompt_number": 176
    },
    {
     "cell_type": "code",
     "collapsed": false,
     "input": [
      "cnn_paper = newspaper.build('http://time.com/money/3642890/new-airline-brings-business-class-comfort-to-the-back-of-the-plane/')"
     ],
     "language": "python",
     "metadata": {},
     "outputs": [],
     "prompt_number": 212
    },
    {
     "cell_type": "code",
     "collapsed": false,
     "input": [
      "print len(cnn_paper.articles)\n",
      "print len(cnn_paper.categories)"
     ],
     "language": "python",
     "metadata": {},
     "outputs": [
      {
       "output_type": "stream",
       "stream": "stdout",
       "text": [
        "1\n",
        "4\n"
       ]
      }
     ],
     "prompt_number": 213
    },
    {
     "cell_type": "code",
     "collapsed": false,
     "input": [
      "article = cnn_paper.articles[0]\n",
      "article.download()"
     ],
     "language": "python",
     "metadata": {},
     "outputs": [],
     "prompt_number": 214
    },
    {
     "cell_type": "code",
     "collapsed": false,
     "input": [
      "article.parse()"
     ],
     "language": "python",
     "metadata": {},
     "outputs": [],
     "prompt_number": 215
    },
    {
     "cell_type": "code",
     "collapsed": false,
     "input": [
      "print \"** Authors **\"\n",
      "print article.authors\n",
      "print article.url\n",
      "print \"** Text **\"\n",
      "print article.text\n",
      "print \n",
      "print article.summary\n",
      "print article.title"
     ],
     "language": "python",
     "metadata": {},
     "outputs": [
      {
       "output_type": "stream",
       "stream": "stdout",
       "text": [
        "** Authors **\n",
        "[u'Olivia B']\n",
        "http://time.com/3644219/kim-kardashian-kanye-west-kiss-balmain-ad/\n",
        "** Text **\n",
        "Reality TV star Kim Kardashian and rapper Kanye West were photographed embracing and posing for a kiss in a new ad campaign for haute couture brand Balmain\u2019s spring/summer 2015 menswear collection. The fashion designer\u2019s creative director Olivier Rousteing spread the word by posting a few Instagrams of the photos by Mario Sorrenti, and wrote \u201c#itsallaboutlove\u201d in the Instagram photo of the kiss.\n",
        "\n",
        "As People StyleWatch points out, the star of E!\u2018s Keeping Up with the Kardashians, also wore a similar dress designed by Olivier Rousteing during her bachelorette party.\n",
        "\n",
        "\n",
        "Kim Kardashian and Kanye West Kiss in Balmain Ad\n"
       ]
      }
     ],
     "prompt_number": 216
    },
    {
     "cell_type": "code",
     "collapsed": false,
     "input": [],
     "language": "python",
     "metadata": {},
     "outputs": []
    }
   ],
   "metadata": {}
  }
 ]
}